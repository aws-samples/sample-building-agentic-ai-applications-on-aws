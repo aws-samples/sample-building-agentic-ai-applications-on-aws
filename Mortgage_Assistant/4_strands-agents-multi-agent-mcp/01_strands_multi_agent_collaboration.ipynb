{
 "cells": [
  {
   "cell_type": "markdown",
   "id": "456549b3-edd2-47ad-896f-9e57a19963fb",
   "metadata": {},
   "source": [
    "## Hierarchical Agent Graph for Multi Agent Collaboration\n"
   ]
  },
  {
   "cell_type": "markdown",
   "id": "45d5ce85-e86e-4484-97f2-d95231b1fab9",
   "metadata": {},
   "source": [
    "\n",
    "In this section, we will explore the different types of multi-agent systems you can build with **Strands Agents**. Multi-agent systems consist of multiple interacting intelligent agents that enable:\n",
    "\n",
    "- **Distributed Problem Solving**: Breaking complex tasks into subtasks for parallel processing  \n",
    "- **Information Sharing**: Agents exchange insights to build collective knowledge  \n",
    "- **Specialization**: Different agents focus on specific aspects of a problem  \n",
    "- **Redundancy**: Multiple agents working on similar tasks improve reliability  \n",
    "- **Emergent Intelligence**: The system exhibits capabilities beyond those of its individual components  \n",
    "\n",
    "The **Strands Agents SDK** supports different multi-agent patterns such as:\n",
    "\n",
    "- [**Swarm**](https://strandsagents.com/latest/user-guide/concepts/multi-agent/swarm/)  \n",
    "- [**Graph**](https://strandsagents.com/latest/user-guide/concepts/multi-agent/graph/)  \n",
    "- [**Workflow**](https://strandsagents.com/latest/user-guide/concepts/multi-agent/workflow/)  \n",
    "- [**Agent as a Tool**](https://strandsagents.com/latest/user-guide/concepts/multi-agent/agents-as-tools/)\n"
   ]
  },
  {
   "cell_type": "markdown",
   "id": "813542ae-faa0-4b4e-9935-c09581810d2f",
   "metadata": {},
   "source": [
    "## Multi-Agent Collaboration"
   ]
  },
  {
   "cell_type": "markdown",
   "id": "47c8cea8-d35c-47db-8e5a-6149f105169d",
   "metadata": {},
   "source": [
    "Below code is an implementation of the hierarchical topology pattern that implements a 2-level Multi agent structure with specialized roles. This hierarchical approach demonstrates one of the key topology patterns for agent graphs, showing how information flows through a tree-like structure with clear parent-child relationships."
   ]
  },
  {
   "cell_type": "markdown",
   "id": "f514d8cf-7525-4c73-b65a-9db5cf1c8ed4",
   "metadata": {},
   "source": [
    "In this lab we will be creating Strands agents similar to how we created in **2_bedrock-multi-agent** section.\n",
    "\n",
    "1. **Supervisor agent** - Responsible for routing or coordinating tasks amongst the subagents.\n",
    "\n",
    "2. **Collaborator agent 1** – Responsible for handling general mortgages.\n",
    "\n",
    "3. **Collaborator agent 2** – Responsible for handling existing questions.\n",
    "\n",
    "The below diagram depicts the graph\n",
    "\n",
    "![Hierarchical Mortgage Agent](../../images/strands-multi-agent.drawio.png)"
   ]
  },
  {
   "cell_type": "markdown",
   "id": "11f91179",
   "metadata": {},
   "source": [
    "Install Strands Agents SDK and tools"
   ]
  },
  {
   "cell_type": "code",
   "execution_count": 1,
   "id": "c945dcca",
   "metadata": {},
   "outputs": [
    {
     "name": "stdout",
     "output_type": "stream",
     "text": [
      "Requirement already satisfied: strands-agents in /home/ec2-user/anaconda3/envs/python3/lib/python3.10/site-packages (0.1.7)\n",
      "Requirement already satisfied: strands-agents-tools in /home/ec2-user/anaconda3/envs/python3/lib/python3.10/site-packages (0.1.5)\n",
      "Requirement already satisfied: boto3<2.0.0,>=1.26.0 in /home/ec2-user/anaconda3/envs/python3/lib/python3.10/site-packages (from strands-agents) (1.38.38)\n",
      "Requirement already satisfied: botocore<2.0.0,>=1.29.0 in /home/ec2-user/anaconda3/envs/python3/lib/python3.10/site-packages (from strands-agents) (1.38.38)\n",
      "Requirement already satisfied: docstring-parser<0.16.0,>=0.15 in /home/ec2-user/anaconda3/envs/python3/lib/python3.10/site-packages (from strands-agents) (0.15)\n",
      "Requirement already satisfied: mcp<2.0.0,>=1.8.0 in /home/ec2-user/anaconda3/envs/python3/lib/python3.10/site-packages (from strands-agents) (1.9.1)\n",
      "Requirement already satisfied: opentelemetry-api<2.0.0,>=1.30.0 in /home/ec2-user/anaconda3/envs/python3/lib/python3.10/site-packages (from strands-agents) (1.34.1)\n",
      "Requirement already satisfied: opentelemetry-exporter-otlp-proto-http<2.0.0,>=1.30.0 in /home/ec2-user/anaconda3/envs/python3/lib/python3.10/site-packages (from strands-agents) (1.34.1)\n",
      "Requirement already satisfied: opentelemetry-sdk<2.0.0,>=1.30.0 in /home/ec2-user/anaconda3/envs/python3/lib/python3.10/site-packages (from strands-agents) (1.34.1)\n",
      "Requirement already satisfied: pydantic<3.0.0,>=2.0.0 in /home/ec2-user/anaconda3/envs/python3/lib/python3.10/site-packages (from strands-agents) (2.10.2)\n",
      "Requirement already satisfied: typing-extensions<5.0.0,>=4.13.2 in /home/ec2-user/anaconda3/envs/python3/lib/python3.10/site-packages (from strands-agents) (4.14.0)\n",
      "Requirement already satisfied: watchdog<7.0.0,>=6.0.0 in /home/ec2-user/anaconda3/envs/python3/lib/python3.10/site-packages (from strands-agents) (6.0.0)\n",
      "Requirement already satisfied: aws-requests-auth<0.5.0,>=0.4.3 in /home/ec2-user/anaconda3/envs/python3/lib/python3.10/site-packages (from strands-agents-tools) (0.4.3)\n",
      "Requirement already satisfied: colorama<0.5.0,>=0.4.6 in /home/ec2-user/anaconda3/envs/python3/lib/python3.10/site-packages (from strands-agents-tools) (0.4.6)\n",
      "Requirement already satisfied: dill<0.5.0,>=0.4.0 in /home/ec2-user/anaconda3/envs/python3/lib/python3.10/site-packages (from strands-agents-tools) (0.4.0)\n",
      "Requirement already satisfied: pillow<12.0.0,>=11.2.1 in /home/ec2-user/anaconda3/envs/python3/lib/python3.10/site-packages (from strands-agents-tools) (11.2.1)\n",
      "Requirement already satisfied: prompt-toolkit<4.0.0,>=3.0.51 in /home/ec2-user/anaconda3/envs/python3/lib/python3.10/site-packages (from strands-agents-tools) (3.0.51)\n",
      "Requirement already satisfied: pyjwt<3.0.0,>=2.10.1 in /home/ec2-user/anaconda3/envs/python3/lib/python3.10/site-packages (from strands-agents-tools) (2.10.1)\n",
      "Requirement already satisfied: rich<15.0.0,>=14.0.0 in /home/ec2-user/anaconda3/envs/python3/lib/python3.10/site-packages (from strands-agents-tools) (14.0.0)\n",
      "Requirement already satisfied: slack-bolt<2.0.0,>=1.23.0 in /home/ec2-user/anaconda3/envs/python3/lib/python3.10/site-packages (from strands-agents-tools) (1.23.0)\n",
      "Requirement already satisfied: sympy<2.0.0,>=1.12.0 in /home/ec2-user/anaconda3/envs/python3/lib/python3.10/site-packages (from strands-agents-tools) (1.13.3)\n",
      "Requirement already satisfied: tenacity<10.0.0,>=9.1.2 in /home/ec2-user/anaconda3/envs/python3/lib/python3.10/site-packages (from strands-agents-tools) (9.1.2)\n",
      "Requirement already satisfied: requests>=0.14.0 in /home/ec2-user/anaconda3/envs/python3/lib/python3.10/site-packages (from aws-requests-auth<0.5.0,>=0.4.3->strands-agents-tools) (2.32.3)\n",
      "Requirement already satisfied: jmespath<2.0.0,>=0.7.1 in /home/ec2-user/anaconda3/envs/python3/lib/python3.10/site-packages (from boto3<2.0.0,>=1.26.0->strands-agents) (1.0.1)\n",
      "Requirement already satisfied: s3transfer<0.14.0,>=0.13.0 in /home/ec2-user/anaconda3/envs/python3/lib/python3.10/site-packages (from boto3<2.0.0,>=1.26.0->strands-agents) (0.13.0)\n",
      "Requirement already satisfied: python-dateutil<3.0.0,>=2.1 in /home/ec2-user/anaconda3/envs/python3/lib/python3.10/site-packages (from botocore<2.0.0,>=1.29.0->strands-agents) (2.9.0)\n",
      "Requirement already satisfied: urllib3!=2.2.0,<3,>=1.25.4 in /home/ec2-user/anaconda3/envs/python3/lib/python3.10/site-packages (from botocore<2.0.0,>=1.29.0->strands-agents) (2.2.3)\n",
      "Requirement already satisfied: anyio>=4.5 in /home/ec2-user/anaconda3/envs/python3/lib/python3.10/site-packages (from mcp<2.0.0,>=1.8.0->strands-agents) (4.9.0)\n",
      "Requirement already satisfied: httpx-sse>=0.4 in /home/ec2-user/anaconda3/envs/python3/lib/python3.10/site-packages (from mcp<2.0.0,>=1.8.0->strands-agents) (0.4.0)\n",
      "Requirement already satisfied: httpx>=0.27 in /home/ec2-user/anaconda3/envs/python3/lib/python3.10/site-packages (from mcp<2.0.0,>=1.8.0->strands-agents) (0.27.2)\n",
      "Requirement already satisfied: pydantic-settings>=2.5.2 in /home/ec2-user/anaconda3/envs/python3/lib/python3.10/site-packages (from mcp<2.0.0,>=1.8.0->strands-agents) (2.9.1)\n",
      "Requirement already satisfied: python-multipart>=0.0.9 in /home/ec2-user/anaconda3/envs/python3/lib/python3.10/site-packages (from mcp<2.0.0,>=1.8.0->strands-agents) (0.0.20)\n",
      "Requirement already satisfied: sse-starlette>=1.6.1 in /home/ec2-user/anaconda3/envs/python3/lib/python3.10/site-packages (from mcp<2.0.0,>=1.8.0->strands-agents) (2.3.5)\n",
      "Requirement already satisfied: starlette>=0.27 in /home/ec2-user/anaconda3/envs/python3/lib/python3.10/site-packages (from mcp<2.0.0,>=1.8.0->strands-agents) (0.46.2)\n",
      "Requirement already satisfied: uvicorn>=0.23.1 in /home/ec2-user/anaconda3/envs/python3/lib/python3.10/site-packages (from mcp<2.0.0,>=1.8.0->strands-agents) (0.34.2)\n",
      "Requirement already satisfied: importlib-metadata<8.8.0,>=6.0 in /home/ec2-user/anaconda3/envs/python3/lib/python3.10/site-packages (from opentelemetry-api<2.0.0,>=1.30.0->strands-agents) (6.11.0)\n",
      "Requirement already satisfied: googleapis-common-protos~=1.52 in /home/ec2-user/anaconda3/envs/python3/lib/python3.10/site-packages (from opentelemetry-exporter-otlp-proto-http<2.0.0,>=1.30.0->strands-agents) (1.70.0)\n",
      "Requirement already satisfied: opentelemetry-exporter-otlp-proto-common==1.34.1 in /home/ec2-user/anaconda3/envs/python3/lib/python3.10/site-packages (from opentelemetry-exporter-otlp-proto-http<2.0.0,>=1.30.0->strands-agents) (1.34.1)\n",
      "Requirement already satisfied: opentelemetry-proto==1.34.1 in /home/ec2-user/anaconda3/envs/python3/lib/python3.10/site-packages (from opentelemetry-exporter-otlp-proto-http<2.0.0,>=1.30.0->strands-agents) (1.34.1)\n",
      "Requirement already satisfied: protobuf<6.0,>=5.0 in /home/ec2-user/anaconda3/envs/python3/lib/python3.10/site-packages (from opentelemetry-proto==1.34.1->opentelemetry-exporter-otlp-proto-http<2.0.0,>=1.30.0->strands-agents) (5.29.5)\n",
      "Requirement already satisfied: opentelemetry-semantic-conventions==0.55b1 in /home/ec2-user/anaconda3/envs/python3/lib/python3.10/site-packages (from opentelemetry-sdk<2.0.0,>=1.30.0->strands-agents) (0.55b1)\n",
      "Requirement already satisfied: wcwidth in /home/ec2-user/anaconda3/envs/python3/lib/python3.10/site-packages (from prompt-toolkit<4.0.0,>=3.0.51->strands-agents-tools) (0.2.13)\n",
      "Requirement already satisfied: annotated-types>=0.6.0 in /home/ec2-user/anaconda3/envs/python3/lib/python3.10/site-packages (from pydantic<3.0.0,>=2.0.0->strands-agents) (0.7.0)\n",
      "Requirement already satisfied: pydantic-core==2.27.1 in /home/ec2-user/anaconda3/envs/python3/lib/python3.10/site-packages (from pydantic<3.0.0,>=2.0.0->strands-agents) (2.27.1)\n",
      "Requirement already satisfied: markdown-it-py>=2.2.0 in /home/ec2-user/anaconda3/envs/python3/lib/python3.10/site-packages (from rich<15.0.0,>=14.0.0->strands-agents-tools) (3.0.0)\n",
      "Requirement already satisfied: pygments<3.0.0,>=2.13.0 in /home/ec2-user/anaconda3/envs/python3/lib/python3.10/site-packages (from rich<15.0.0,>=14.0.0->strands-agents-tools) (2.18.0)\n",
      "Requirement already satisfied: slack_sdk<4,>=3.35.0 in /home/ec2-user/anaconda3/envs/python3/lib/python3.10/site-packages (from slack-bolt<2.0.0,>=1.23.0->strands-agents-tools) (3.35.0)\n",
      "Requirement already satisfied: mpmath<1.4,>=1.1.0 in /home/ec2-user/anaconda3/envs/python3/lib/python3.10/site-packages (from sympy<2.0.0,>=1.12.0->strands-agents-tools) (1.3.0)\n",
      "Requirement already satisfied: exceptiongroup>=1.0.2 in /home/ec2-user/anaconda3/envs/python3/lib/python3.10/site-packages (from anyio>=4.5->mcp<2.0.0,>=1.8.0->strands-agents) (1.2.2)\n",
      "Requirement already satisfied: idna>=2.8 in /home/ec2-user/anaconda3/envs/python3/lib/python3.10/site-packages (from anyio>=4.5->mcp<2.0.0,>=1.8.0->strands-agents) (3.10)\n",
      "Requirement already satisfied: sniffio>=1.1 in /home/ec2-user/anaconda3/envs/python3/lib/python3.10/site-packages (from anyio>=4.5->mcp<2.0.0,>=1.8.0->strands-agents) (1.3.1)\n",
      "Requirement already satisfied: certifi in /home/ec2-user/anaconda3/envs/python3/lib/python3.10/site-packages (from httpx>=0.27->mcp<2.0.0,>=1.8.0->strands-agents) (2024.8.30)\n",
      "Requirement already satisfied: httpcore==1.* in /home/ec2-user/anaconda3/envs/python3/lib/python3.10/site-packages (from httpx>=0.27->mcp<2.0.0,>=1.8.0->strands-agents) (1.0.6)\n",
      "Requirement already satisfied: h11<0.15,>=0.13 in /home/ec2-user/anaconda3/envs/python3/lib/python3.10/site-packages (from httpcore==1.*->httpx>=0.27->mcp<2.0.0,>=1.8.0->strands-agents) (0.14.0)\n",
      "Requirement already satisfied: zipp>=0.5 in /home/ec2-user/anaconda3/envs/python3/lib/python3.10/site-packages (from importlib-metadata<8.8.0,>=6.0->opentelemetry-api<2.0.0,>=1.30.0->strands-agents) (3.20.2)\n",
      "Requirement already satisfied: mdurl~=0.1 in /home/ec2-user/anaconda3/envs/python3/lib/python3.10/site-packages (from markdown-it-py>=2.2.0->rich<15.0.0,>=14.0.0->strands-agents-tools) (0.1.2)\n",
      "Requirement already satisfied: python-dotenv>=0.21.0 in /home/ec2-user/anaconda3/envs/python3/lib/python3.10/site-packages (from pydantic-settings>=2.5.2->mcp<2.0.0,>=1.8.0->strands-agents) (1.1.0)\n",
      "Requirement already satisfied: typing-inspection>=0.4.0 in /home/ec2-user/anaconda3/envs/python3/lib/python3.10/site-packages (from pydantic-settings>=2.5.2->mcp<2.0.0,>=1.8.0->strands-agents) (0.4.1)\n",
      "Requirement already satisfied: six>=1.5 in /home/ec2-user/anaconda3/envs/python3/lib/python3.10/site-packages (from python-dateutil<3.0.0,>=2.1->botocore<2.0.0,>=1.29.0->strands-agents) (1.16.0)\n",
      "Requirement already satisfied: charset-normalizer<4,>=2 in /home/ec2-user/anaconda3/envs/python3/lib/python3.10/site-packages (from requests>=0.14.0->aws-requests-auth<0.5.0,>=0.4.3->strands-agents-tools) (3.4.0)\n",
      "Requirement already satisfied: click>=7.0 in /home/ec2-user/anaconda3/envs/python3/lib/python3.10/site-packages (from uvicorn>=0.23.1->mcp<2.0.0,>=1.8.0->strands-agents) (8.1.7)\n"
     ]
    }
   ],
   "source": [
    "!pip install strands-agents strands-agents-tools"
   ]
  },
  {
   "cell_type": "code",
   "execution_count": 2,
   "id": "de079de3-efb6-43bf-beff-cea056850a97",
   "metadata": {},
   "outputs": [],
   "source": [
    "import os\n",
    "import time\n",
    "import boto3\n",
    "import logging\n",
    "import botocore\n",
    "import json\n",
    "from textwrap import dedent\n",
    "import sys\n",
    "import pickle\n",
    "\n",
    "from strands import Agent, tool\n",
    "from strands_tools import retrieve, calculator\n"
   ]
  },
  {
   "cell_type": "code",
   "execution_count": 3,
   "id": "a7bae2b3-0bd5-403f-ac21-0169803910a6",
   "metadata": {},
   "outputs": [],
   "source": [
    "logging.basicConfig(format='[%(asctime)s] p%(process)s {%(filename)s:%(lineno)d} %(levelname)s - %(message)s',\n",
    "                    level=logging.INFO)\n",
    "logger = logging.getLogger(__name__)\n",
    "boto3.set_stream_logger(name='botocore.credentials', level=logging.DEBUG)"
   ]
  },
  {
   "cell_type": "code",
   "execution_count": 4,
   "id": "79ca1809-e3c8-410f-be9f-3cf82ce73a6a",
   "metadata": {},
   "outputs": [
    {
     "name": "stdout",
     "output_type": "stream",
     "text": [
      "KnowledgeBase ID: OJOFGNEAFI\n"
     ]
    }
   ],
   "source": [
    "%store -r kb_id\n",
    "print(\"KnowledgeBase ID:\",kb_id)"
   ]
  },
  {
   "cell_type": "code",
   "execution_count": 13,
   "id": "a9f8c82d-acf2-49af-af23-5779c01dfc19",
   "metadata": {},
   "outputs": [],
   "source": [
    "# Initialize knowledge base helper\n",
    "# Set knowledge base ID as environment variable so that retrieve tool can use it\n",
    "os.environ['KNOWLEDGE_BASE_ID'] = 'E726XJ2OEH'\n"
   ]
  },
  {
   "cell_type": "code",
   "execution_count": 14,
   "id": "dd67cc8d",
   "metadata": {},
   "outputs": [
    {
     "name": "stdout",
     "output_type": "stream",
     "text": [
      "E726XJ2OEH\n"
     ]
    }
   ],
   "source": [
    "value = os.getenv('KNOWLEDGE_BASE_ID')\n",
    "print(value)"
   ]
  },
  {
   "cell_type": "code",
   "execution_count": 15,
   "id": "6bbe02c2",
   "metadata": {},
   "outputs": [
    {
     "name": "stdout",
     "output_type": "stream",
     "text": [
      "E726XJ2OEH\r\n"
     ]
    }
   ],
   "source": [
    "!echo $KNOWLEDGE_BASE_ID"
   ]
  },
  {
   "cell_type": "markdown",
   "id": "beafeb16-fe5f-4250-ae61-9431e794ab94",
   "metadata": {},
   "source": [
    "# 1. Create the agent for general mortgage questions.\n",
    "\n",
    "We will be creating an agent to answer general mortage questions from the Bedrock Knowledge Base created in **01_create_knowledgebase.ipynb** notebook in the **2_bedrock-multi-agent** section.\n",
    "\n",
    "\n",
    "\n"
   ]
  },
  {
   "cell_type": "code",
   "execution_count": 9,
   "id": "4b0fd7ec-b040-4621-b934-3d1f7dd20d2d",
   "metadata": {},
   "outputs": [],
   "source": [
    "\n",
    "\n",
    "@tool\n",
    "def answer_general_mortgage_questions(query):\n",
    "    # Create the General Mortgage Agent\n",
    "    general_mortgage_agent = Agent(\n",
    "        model=\"anthropic.claude-3-sonnet-20240229-v1:0\",\n",
    "        tools=[\n",
    "           retrieve\n",
    "        ],\n",
    "        system_prompt=\"\"\"\n",
    "        You are a mortgage bot, and can answer questions about mortgage refinancing and tradeoffs of mortgage types. Greet the customer first.\n",
    "        \n",
    "        IMPORTANT: Always use the retrieve tool to search the knowledge base before answering any mortgage-related questions.\n",
    "        \n",
    "        You can:\n",
    "        1. Provide general information about mortgages\n",
    "        2. Handle conversations about general mortgage questions, like high level concepts of refinancing or tradeoffs of 15-year vs 30-year terms.\n",
    "        3. Offer guidance on the mortgage refinancing and tradeoffs of mortgage types.\n",
    "        4. Access a knowledge base of mortgage information using the retrieve tool\n",
    "        5. Only answer from the knowledge base and not from your general knowledge. If you dont have the answer from Knowledge base, say \"I dont know\"\n",
    "        \n",
    "        When helping users:\n",
    "        - ALWAYS call the retrieve tool first to search for relevant information\n",
    "        - Provide clear explanations based on retrieved information\n",
    "        - Use plain language to explain complex financial terms\n",
    "        - Offer balanced advice considering both pros and cons\n",
    "        - Be informative without making specific financial recommendations\n",
    "        \n",
    "        Remember that you're providing general mortgage information, not financial advice.\n",
    "        Always clarify that users should consult with a financial advisor for personalized advice.\n",
    "        \"\"\"\n",
    "    )\n",
    "    return str(general_mortgage_agent(query))\n",
    "\n"
   ]
  },
  {
   "cell_type": "code",
   "execution_count": 10,
   "id": "ac97adee",
   "metadata": {},
   "outputs": [
    {
     "data": {
      "text/plain": [
       "'\\n@tool\\ndef answer_general_mortgage_questions(query):\\n    # Create the General Mortgage Agent\\n    general_mortgage_agent = Agent(\\n        model=\"anthropic.claude-3-sonnet-20240229-v1:0\",\\n        tools=[retrieve],\\n        system_prompt=\"\"\"\\n        You are a mortgage bot, and can answer questions about mortgage refinancing and tradeoffs of mortgage types. Greet the customer first. Respond to the greeting by another greeting    \\n        \\n        You can:\\n        1. Provide general information about mortgages\\n        2. Handle conversations about general mortgage questions, like high level concepts of refinincing or tradeoffs of 15-year vs 30-year terms.\\n        3. Offer guidance on the mortgage refinancing and tradeoffs of mortgage types.\\n        4. Access the bedrock knowledge base of mortgage information\\n        5. Only answer from the knowledge base and not from your general knowledge. If you dont have the answer from Knowledge base, say \"I dont know\"\\n        \\n        When helping users:\\n        - Provide clear explanations\\n        - Use plain language to explain complex financial terms\\n        - Offer balanced advice considering both pros and cons\\n        - Be informative without making specific financial recommendations\\n        - Use the knowledge base for detailed information to answer general questions about mortgages, like how to refinance, or the difference between 15-year and 30-year mortgages\\n        \\n        Remember that you\\'re providing general mortgage information, not financial advice.\\n        Always clarify that users should consult with a financial advisor for personalized advice.\\n        \"\"\"\\n    )\\n    return str(general_mortgage_agent(query, tool_params={\\n                     \"retrieve\": {\\n                         \"knowledge_base_id\": kb_id,\\n                         \"max_results\": 5\\n                     }\\n                 }))\\n\\n'"
      ]
     },
     "execution_count": 10,
     "metadata": {},
     "output_type": "execute_result"
    }
   ],
   "source": [
    "#alternative approach to pass kb id to the retrieve tool\n",
    "'''\n",
    "@tool\n",
    "def answer_general_mortgage_questions(query):\n",
    "    # Create the General Mortgage Agent\n",
    "    general_mortgage_agent = Agent(\n",
    "        model=\"anthropic.claude-3-sonnet-20240229-v1:0\",\n",
    "        tools=[retrieve],\n",
    "        system_prompt=\"\"\"\n",
    "        You are a mortgage bot, and can answer questions about mortgage refinancing and tradeoffs of mortgage types. Greet the customer first. Respond to the greeting by another greeting    \n",
    "        \n",
    "        You can:\n",
    "        1. Provide general information about mortgages\n",
    "        2. Handle conversations about general mortgage questions, like high level concepts of refinincing or tradeoffs of 15-year vs 30-year terms.\n",
    "        3. Offer guidance on the mortgage refinancing and tradeoffs of mortgage types.\n",
    "        4. Access the bedrock knowledge base of mortgage information\n",
    "        5. Only answer from the knowledge base and not from your general knowledge. If you dont have the answer from Knowledge base, say \"I dont know\"\n",
    "        \n",
    "        When helping users:\n",
    "        - Provide clear explanations\n",
    "        - Use plain language to explain complex financial terms\n",
    "        - Offer balanced advice considering both pros and cons\n",
    "        - Be informative without making specific financial recommendations\n",
    "        - Use the knowledge base for detailed information to answer general questions about mortgages, like how to refinance, or the difference between 15-year and 30-year mortgages\n",
    "        \n",
    "        Remember that you're providing general mortgage information, not financial advice.\n",
    "        Always clarify that users should consult with a financial advisor for personalized advice.\n",
    "        \"\"\"\n",
    "    )\n",
    "    return str(general_mortgage_agent(query, tool_params={\n",
    "                     \"retrieve\": {\n",
    "                         \"knowledge_base_id\": kb_id,\n",
    "                         \"max_results\": 5\n",
    "                     }\n",
    "                 }))\n",
    "\n",
    "'''"
   ]
  },
  {
   "cell_type": "code",
   "execution_count": 11,
   "id": "fcbfc63c",
   "metadata": {},
   "outputs": [
    {
     "data": {
      "text/plain": [
       "'\\n#test connection with the knowledge base\\nkb_id = \\'E726XJ2OEH\\'\\nos.environ[\\'BEDROCK_KNOWLEDGE_BASE_ID\\'] = kb_id\\nos.environ[\\'AWS_DEFAULT_REGION\\'] = \\'us-east-1\\'\\n\\n# Verify the knowledge base is accessible\\ntry:\\n    bedrock_client = boto3.client(\\'bedrock-agent-runtime\\', region_name=os.environ[\\'AWS_DEFAULT_REGION\\'])\\n    # Test connection (optional)\\n    print(f\"Using Knowledge Base ID: {kb_id}\")\\nexcept Exception as e:\\n    print(f\"AWS connection error: {e}\")\\n'"
      ]
     },
     "execution_count": 11,
     "metadata": {},
     "output_type": "execute_result"
    }
   ],
   "source": [
    "    '''\n",
    "    #test connection with the knowledge base\n",
    "    kb_id = 'E726XJ2OEH'\n",
    "    os.environ['BEDROCK_KNOWLEDGE_BASE_ID'] = kb_id\n",
    "    os.environ['AWS_DEFAULT_REGION'] = 'us-east-1'\n",
    "    \n",
    "    # Verify the knowledge base is accessible\n",
    "    try:\n",
    "        bedrock_client = boto3.client('bedrock-agent-runtime', region_name=os.environ['AWS_DEFAULT_REGION'])\n",
    "        # Test connection (optional)\n",
    "        print(f\"Using Knowledge Base ID: {kb_id}\")\n",
    "    except Exception as e:\n",
    "        print(f\"AWS connection error: {e}\")\n",
    "    '''"
   ]
  },
  {
   "cell_type": "markdown",
   "id": "183f7715",
   "metadata": {},
   "source": [
    "Test the General agent and confirm that it consults the KB to answer the questions"
   ]
  },
  {
   "cell_type": "code",
   "execution_count": 12,
   "id": "727e0cdc-3acf-4f17-aa65-4a4289c8f1da",
   "metadata": {},
   "outputs": [
    {
     "name": "stderr",
     "output_type": "stream",
     "text": [
      "2025-06-23 01:29:29,961 botocore.credentials [DEBUG] Looking for credentials via: env\n",
      "[2025-06-23 01:29:29,961] p530 {credentials.py:2166} DEBUG - Looking for credentials via: env\n",
      "2025-06-23 01:29:29,963 botocore.credentials [DEBUG] Looking for credentials via: assume-role\n",
      "[2025-06-23 01:29:29,963] p530 {credentials.py:2166} DEBUG - Looking for credentials via: assume-role\n",
      "2025-06-23 01:29:29,965 botocore.credentials [DEBUG] Looking for credentials via: assume-role-with-web-identity\n",
      "[2025-06-23 01:29:29,965] p530 {credentials.py:2166} DEBUG - Looking for credentials via: assume-role-with-web-identity\n",
      "2025-06-23 01:29:29,971 botocore.credentials [DEBUG] Looking for credentials via: sso\n",
      "[2025-06-23 01:29:29,971] p530 {credentials.py:2166} DEBUG - Looking for credentials via: sso\n",
      "2025-06-23 01:29:29,975 botocore.credentials [DEBUG] Looking for credentials via: shared-credentials-file\n",
      "[2025-06-23 01:29:29,975] p530 {credentials.py:2166} DEBUG - Looking for credentials via: shared-credentials-file\n",
      "2025-06-23 01:29:29,976 botocore.credentials [DEBUG] Looking for credentials via: custom-process\n",
      "[2025-06-23 01:29:29,976] p530 {credentials.py:2166} DEBUG - Looking for credentials via: custom-process\n",
      "2025-06-23 01:29:29,977 botocore.credentials [DEBUG] Looking for credentials via: config-file\n",
      "[2025-06-23 01:29:29,977] p530 {credentials.py:2166} DEBUG - Looking for credentials via: config-file\n",
      "2025-06-23 01:29:29,980 botocore.credentials [DEBUG] Looking for credentials via: ec2-credentials-file\n",
      "[2025-06-23 01:29:29,980] p530 {credentials.py:2166} DEBUG - Looking for credentials via: ec2-credentials-file\n",
      "2025-06-23 01:29:29,984 botocore.credentials [DEBUG] Looking for credentials via: boto-config\n",
      "[2025-06-23 01:29:29,984] p530 {credentials.py:2166} DEBUG - Looking for credentials via: boto-config\n",
      "2025-06-23 01:29:29,985 botocore.credentials [DEBUG] Looking for credentials via: container-role\n",
      "[2025-06-23 01:29:29,985] p530 {credentials.py:2166} DEBUG - Looking for credentials via: container-role\n",
      "2025-06-23 01:29:29,986 botocore.credentials [DEBUG] Looking for credentials via: iam-role\n",
      "[2025-06-23 01:29:29,986] p530 {credentials.py:2166} DEBUG - Looking for credentials via: iam-role\n",
      "2025-06-23 01:29:30,001 botocore.credentials [INFO] Found credentials from IAM Role: BaseNotebookInstanceEc2InstanceRole\n",
      "[2025-06-23 01:29:30,001] p530 {credentials.py:1132} INFO - Found credentials from IAM Role: BaseNotebookInstanceEc2InstanceRole\n"
     ]
    },
    {
     "name": "stdout",
     "output_type": "stream",
     "text": [
      "Hello, let me first search the knowledge base for information on the benefits of refinancing a mortgage.\n",
      "Tool #1: retrieve\n"
     ]
    },
    {
     "name": "stderr",
     "output_type": "stream",
     "text": [
      "2025-06-23 01:29:32,155 botocore.credentials [DEBUG] Looking for credentials via: env\n",
      "[2025-06-23 01:29:32,155] p530 {credentials.py:2166} DEBUG - Looking for credentials via: env\n",
      "2025-06-23 01:29:32,156 botocore.credentials [DEBUG] Looking for credentials via: assume-role\n",
      "[2025-06-23 01:29:32,156] p530 {credentials.py:2166} DEBUG - Looking for credentials via: assume-role\n",
      "2025-06-23 01:29:32,162 botocore.credentials [DEBUG] Looking for credentials via: assume-role-with-web-identity\n",
      "[2025-06-23 01:29:32,162] p530 {credentials.py:2166} DEBUG - Looking for credentials via: assume-role-with-web-identity\n",
      "2025-06-23 01:29:32,165 botocore.credentials [DEBUG] Looking for credentials via: sso\n",
      "[2025-06-23 01:29:32,165] p530 {credentials.py:2166} DEBUG - Looking for credentials via: sso\n",
      "2025-06-23 01:29:32,166 botocore.credentials [DEBUG] Looking for credentials via: shared-credentials-file\n",
      "[2025-06-23 01:29:32,166] p530 {credentials.py:2166} DEBUG - Looking for credentials via: shared-credentials-file\n",
      "2025-06-23 01:29:32,168 botocore.credentials [DEBUG] Looking for credentials via: custom-process\n",
      "[2025-06-23 01:29:32,168] p530 {credentials.py:2166} DEBUG - Looking for credentials via: custom-process\n",
      "2025-06-23 01:29:32,169 botocore.credentials [DEBUG] Looking for credentials via: config-file\n",
      "[2025-06-23 01:29:32,169] p530 {credentials.py:2166} DEBUG - Looking for credentials via: config-file\n",
      "2025-06-23 01:29:32,172 botocore.credentials [DEBUG] Looking for credentials via: ec2-credentials-file\n",
      "[2025-06-23 01:29:32,172] p530 {credentials.py:2166} DEBUG - Looking for credentials via: ec2-credentials-file\n",
      "2025-06-23 01:29:32,174 botocore.credentials [DEBUG] Looking for credentials via: boto-config\n",
      "[2025-06-23 01:29:32,174] p530 {credentials.py:2166} DEBUG - Looking for credentials via: boto-config\n",
      "2025-06-23 01:29:32,175 botocore.credentials [DEBUG] Looking for credentials via: container-role\n",
      "[2025-06-23 01:29:32,175] p530 {credentials.py:2166} DEBUG - Looking for credentials via: container-role\n",
      "2025-06-23 01:29:32,177 botocore.credentials [DEBUG] Looking for credentials via: iam-role\n",
      "[2025-06-23 01:29:32,177] p530 {credentials.py:2166} DEBUG - Looking for credentials via: iam-role\n",
      "2025-06-23 01:29:32,190 botocore.credentials [INFO] Found credentials from IAM Role: BaseNotebookInstanceEc2InstanceRole\n",
      "[2025-06-23 01:29:32,190] p530 {credentials.py:1132} INFO - Found credentials from IAM Role: BaseNotebookInstanceEc2InstanceRole\n"
     ]
    },
    {
     "name": "stdout",
     "output_type": "stream",
     "text": [
      "\n",
      "\n",
      "Unfortunately I could not find any relevant information in the knowledge base about the benefits of refinancing a mortgage. However, based on general mortgage knowledge, some potential benefits of refinancing include:\n",
      "\n",
      "- Getting a lower interest rate - This can reduce your monthly payments and total interest paid over the life of the loan.\n",
      "\n",
      "- Shortening the loan term - For example, refinancing from a 30-year to a 15-year mortgage to pay off your home faster and save on total interest.\n",
      "\n",
      "- Converting from an adjustable-rate to a fixed-rate mortgage - This can provide payment stability if interest rates rise.\n",
      "\n",
      "- Cashing out home equity - With a cash-out refinance, you take out a new, larger mortgage and receive the difference in cash to use as you need.\n",
      "\n",
      "However, refinancing also has costs like lender fees, closing costs, etc. The savings from the new terms need to be weighed against these upfront costs to determine if refinancing makes financial sense.\n",
      "\n",
      "I would recommend speaking to a qualified mortgage lender or financial advisor, as they can analyze your specific situation and provide personalized advice on whether refinancing is beneficial for you or not.\n",
      "\n",
      "Unfortunately I could not find any relevant information in the knowledge base about the benefits of refinancing a mortgage. However, based on general mortgage knowledge, some potential benefits of refinancing include:\n",
      "\n",
      "- Getting a lower interest rate - This can reduce your monthly payments and total interest paid over the life of the loan.\n",
      "\n",
      "- Shortening the loan term - For example, refinancing from a 30-year to a 15-year mortgage to pay off your home faster and save on total interest.\n",
      "\n",
      "- Converting from an adjustable-rate to a fixed-rate mortgage - This can provide payment stability if interest rates rise.\n",
      "\n",
      "- Cashing out home equity - With a cash-out refinance, you take out a new, larger mortgage and receive the difference in cash to use as you need.\n",
      "\n",
      "However, refinancing also has costs like lender fees, closing costs, etc. The savings from the new terms need to be weighed against these upfront costs to determine if refinancing makes financial sense.\n",
      "\n",
      "I would recommend speaking to a qualified mortgage lender or financial advisor, as they can analyze your specific situation and provide personalized advice on whether refinancing is beneficial for you or not.\n",
      "\n"
     ]
    }
   ],
   "source": [
    "print(answer_general_mortgage_questions(\"What is the benefit of refinancing, if any?\"))"
   ]
  },
  {
   "cell_type": "markdown",
   "id": "29dfc671-b48b-4871-b563-75f4904448fc",
   "metadata": {},
   "source": [
    "## 2. Create the agent for existing mortgage questions.\n",
    "\n",
    "Create the Agent for managing existing mortgages\n",
    "\n"
   ]
  },
  {
   "cell_type": "markdown",
   "id": "e48af584-57c5-4450-bb37-097823a37f12",
   "metadata": {},
   "source": [
    "#### Create the Lambda function code\n",
    "Here we create a source code file for a new Lambda function to implement the action group for our Existing Mortgage agent. Notice the **TODO** section in the code below. In this example we have hardcoded the response back from the agent but in your environment this is where your business logic would reside. "
   ]
  },
  {
   "cell_type": "code",
   "execution_count": null,
   "id": "0707a3b5-94a9-43c3-ac0d-9385257b6d37",
   "metadata": {},
   "outputs": [],
   "source": [
    "@tool\n",
    "def get_mortgage_details(customer_id):\n",
    "    # TODO: Implement real business logic to retrieve mortgage status\n",
    "    return {\n",
    "        \"account_number\": customer_id,\n",
    "        \"outstanding_principal\": 150000.0,\n",
    "        \"interest_rate\": 4.5,\n",
    "        \"maturity_date\": \"2030-06-30\",\n",
    "        \"payments_remaining\": 72,\n",
    "        \"last_payment_date\": \"2024-06-01\",\n",
    "        \"next_payment_due\": \"2024-07-01\",\n",
    "        \"next_payment_amount\": 1250.0\n",
    "    }\n"
   ]
  },
  {
   "cell_type": "code",
   "execution_count": null,
   "id": "779ac2a0",
   "metadata": {},
   "outputs": [],
   "source": [
    "@tool\n",
    "def answer_existing_mortgage_questions(query):\n",
    "    # Create the Existing Mortgage Agent\n",
    "    existing_mortgage_agent = Agent(\n",
    "        model=\"anthropic.claude-3-sonnet-20240229-v1:0\",\n",
    "        tools=[\n",
    "           get_mortgage_details\n",
    "        ],\n",
    "        system_prompt=\"\"\"\n",
    "        You are an Existing Mortgage Assistant that helps customers with their current mortgages.\n",
    "\n",
    "        You can:\n",
    "        1. Provide information about a customer's existing mortgage\n",
    "        2. Check mortgage status including balance and payment information\n",
    "        3. Evaluate refinancing eligibility\n",
    "        4. Calculate payoff timelines with extra payments\n",
    "        5. Answer questions about mortgage terms and conditions\n",
    "\n",
    "        When helping users:\n",
    "        - Always verify the customer ID before providing information\n",
    "        - Provide clear explanations of mortgage details\n",
    "        - Format financial data in a readable way\n",
    "        - Explain payment schedules and upcoming due dates\n",
    "        - Offer guidance on refinancing options when appropriate\n",
    "        - Use the knowledge base for detailed information when needed\n",
    "\n",
    "        Remember that you're dealing with sensitive financial information, so maintain a professional tone\n",
    "        and ensure accuracy in all responses.\n",
    "        \"\"\"\n",
    "    )\n",
    "    return str(existing_mortgage_agent(query))\n",
    "\n"
   ]
  },
  {
   "cell_type": "markdown",
   "id": "b8f475a8-6162-4e04-a39d-bd2bf3ceb55c",
   "metadata": {},
   "source": [
    "Now we create the agent itself, giving it a name, \n",
    "a brief description, and most importantly, a set of instructions.\n",
    "\n",
    "also briefly explain action group\n",
    "\n",
    "we add an action group to the new agent"
   ]
  },
  {
   "cell_type": "markdown",
   "id": "cbae675d",
   "metadata": {},
   "source": [
    "Test the agent"
   ]
  },
  {
   "cell_type": "code",
   "execution_count": null,
   "id": "13204caf-acfe-441c-b114-69112583e803",
   "metadata": {},
   "outputs": [],
   "source": [
    "\n",
    "\n",
    "print(answer_existing_mortgage_questions(\"I'm customer 98991. when's my next payment due?\"))"
   ]
  },
  {
   "cell_type": "markdown",
   "id": "c88e2645",
   "metadata": {},
   "source": [
    "## 3. Create the Supervisor agent\n",
    "\n"
   ]
  },
  {
   "cell_type": "markdown",
   "id": "0d67d01f-2656-4d5f-8786-6341b07e0dea",
   "metadata": {},
   "source": [
    "Create the supervisor agent"
   ]
  },
  {
   "cell_type": "code",
   "execution_count": null,
   "id": "d440099b-783f-4cf5-befc-4ab52e5b85cc",
   "metadata": {},
   "outputs": [],
   "source": [
    "SUPERVISOR_SYSTEM_PROMPT = \"\"\"\n",
    "\n",
    "Your role is to provide a unified experience for all things related to mortgages. You are a supervisor who oversees answering\n",
    "customer questions related to general mortgages questions and quries about the exiting mortgage\n",
    "\n",
    "For general questions, use the answer_general_mortgage_questions tool.\n",
    "For question on existing mortgage, use the answer_existing_mortgage_questions tool.\n",
    "If asked for a complicated calculation, use your code interpreter to be sure it's done accurately.\n",
    "Syntesise the details from te response of the tools used into a comprehensive answer provided back to the customer\n",
    "\n",
    "\"\"\"\n",
    "\n",
    "# Create the coordinator agent with all tools\n",
    "supervisor = Agent(\n",
    "    system_prompt=SUPERVISOR_SYSTEM_PROMPT,\n",
    "    tools=[answer_general_mortgage_questions, answer_existing_mortgage_questions, calculator],\n",
    "    callback_handler=None\n",
    ")\n",
    "\n",
    "# Process a complex task through the hierarchical agent graph\n",
    "def answer_customer_query(query):\n",
    "    \"\"\"Process the customer query through the multi-level hierarchical agent graph\"\"\"\n",
    "    return supervisor(f\"Provide a comprehensive answer for this query: {query}\")"
   ]
  },
  {
   "cell_type": "code",
   "execution_count": null,
   "id": "cac093b7-aab4-432a-b704-e8db3afca697",
   "metadata": {},
   "outputs": [],
   "source": [
    "#test the supervisor agent\n",
    "print(\"\\n\\nInvoking supervisor agent...\\n\\n\")\n",
    "\n",
    "requests = [\"I am customer: 3345, when’s my next payment due?\",\n",
    "            \"what’s my balance after that payment, and what rate am I paying?\",\n",
    "            \"why do so many people choose a 30-year mortgage??\",\n",
    "            \"did you receive my employment verification doc yet? i sent it last week\",\n",
    "            \"i’m getting ready to lock in on a rate. what have the rates looked like in last couple weeks?\",\n",
    "            # \"great. if i use the highest of those rates for $500K for 15 years, what’s my payment?\"\n",
    "            ]\n",
    "\n",
    "for request in requests:\n",
    "    print(f\"\\n\\nRequest: {request}\\n\\n\")\n",
    "    result = answer_customer_query(request)\n",
    "    time.sleep(10)\n",
    "    print(result)"
   ]
  },
  {
   "cell_type": "code",
   "execution_count": null,
   "id": "27df4122-1be8-49af-aa15-a264112a0a27",
   "metadata": {},
   "outputs": [],
   "source": []
  }
 ],
 "metadata": {
  "kernelspec": {
   "display_name": "conda_python3",
   "language": "python",
   "name": "conda_python3"
  },
  "language_info": {
   "codemirror_mode": {
    "name": "ipython",
    "version": 3
   },
   "file_extension": ".py",
   "mimetype": "text/x-python",
   "name": "python",
   "nbconvert_exporter": "python",
   "pygments_lexer": "ipython3",
   "version": "3.10.15"
  }
 },
 "nbformat": 4,
 "nbformat_minor": 5
}
