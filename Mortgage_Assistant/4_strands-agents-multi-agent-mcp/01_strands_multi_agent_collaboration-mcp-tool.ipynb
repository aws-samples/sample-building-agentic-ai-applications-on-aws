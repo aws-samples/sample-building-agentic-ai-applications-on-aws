{
 "cells": [
  {
   "cell_type": "markdown",
   "id": "47aaddce-1d67-407f-a360-9873be52d5a4",
   "metadata": {
    "vscode": {
     "languageId": "raw"
    }
   },
   "source": [
    "Select the Python 3 kernel if you are prompted for a kernel."
   ]
  },
  {
   "cell_type": "markdown",
   "id": "456549b3-edd2-47ad-896f-9e57a19963fb",
   "metadata": {},
   "source": [
    "### Multi-Agent Systems with Strands Agents leveraging Strands custom tools, built-in tools and MCP tools\n"
   ]
  },
  {
   "cell_type": "markdown",
   "id": "5a05483c",
   "metadata": {},
   "source": [
    "The **Strands Agents SDK** supports different multi-agent patterns such as:\n",
    "\n",
    "- [**Swarm**](https://strandsagents.com/latest/user-guide/concepts/multi-agent/swarm/)  \n",
    "- [**Graph**](https://strandsagents.com/latest/user-guide/concepts/multi-agent/graph/)  \n",
    "- [**Workflow**](https://strandsagents.com/latest/user-guide/concepts/multi-agent/workflow/)  \n",
    "- [**Agent as a Tool**](https://strandsagents.com/latest/user-guide/concepts/multi-agent/agents-as-tools/)\n",
    "\n",
    "**Note**\n",
    "In this notebook we will be using **Graph** pattern but we will not be using the **agent_graph** built-in Strands tool. Strands Agents SDK provides a built-in agent_graph tool that simplifies multi-agent system implementation. We will look at the **agent_graph** implementation in the **[02_strands_graph_coordinator_agents.ipynb](./02_strands_graph_coordinator_agents.ipynb)** notebook next. "
   ]
  },
  {
   "cell_type": "markdown",
   "id": "45d5ce85-e86e-4484-97f2-d95231b1fab9",
   "metadata": {},
   "source": [
    "### Tool Architecture Strategy\n",
    "\n",
    "#### Local Tool Integration\n",
    "- Custom tools tightly coupled to a specific agent's functionality\n",
    "- Simpler deployment with no external dependencies\n",
    "- Direct control over tool behavior and updates\n",
    "- Lower latency due to local execution\n",
    "\n",
    "#### Centralized Tool Server\n",
    "- Tools shared across multiple agents or frameworks\n",
    "- Single source of truth for tool functionality\n",
    "- Efficient scaling and maintenance\n",
    "\n",
    "#### Key Considerations:\n",
    "- **Development efficiency:** Centralized tools reduce duplicate code\n",
    "- **Maintenance:** Single update point for shared tools\n",
    "- **Scalability:** Better resource utilization across agents\n",
    "- **Consistency:** Standardized tool behavior across implementations\n"
   ]
  },
  {
   "cell_type": "markdown",
   "id": "32537cff",
   "metadata": {},
   "source": [
    "In this notebook, we will be providing the credit check functionality exposed as a tool through an MCP server and integrate with Strands custom and built-in tools."
   ]
  },
  {
   "cell_type": "markdown",
   "id": "91b6acab",
   "metadata": {},
   "source": [
    "Lets start by installing the required libraries"
   ]
  },
  {
   "cell_type": "code",
   "execution_count": 1,
   "id": "c945dcca",
   "metadata": {
    "execution": {
     "iopub.execute_input": "2025-07-15T06:01:22.024462Z",
     "iopub.status.busy": "2025-07-15T06:01:22.023712Z",
     "iopub.status.idle": "2025-07-15T06:01:24.671661Z",
     "shell.execute_reply": "2025-07-15T06:01:24.670808Z",
     "shell.execute_reply.started": "2025-07-15T06:01:22.024433Z"
    }
   },
   "outputs": [
    {
     "name": "stdout",
     "output_type": "stream",
     "text": [
      "\u001b[31mERROR: Cannot install -r ../src/requirements.txt (line 15), rich==13.9.4 and strands-agents-tools==0.1.8 because these package versions have conflicting dependencies.\u001b[0m\u001b[31m\n",
      "\u001b[0m\u001b[31mERROR: ResolutionImpossible: for help visit https://pip.pypa.io/en/latest/topics/dependency-resolution/#dealing-with-dependency-conflicts\u001b[0m\u001b[31m\n",
      "\u001b[0m"
     ]
    }
   ],
   "source": [
    "!pip install --upgrade -q -r ../src/requirements.txt"
   ]
  },
  {
   "cell_type": "code",
   "execution_count": 2,
   "id": "de079de3-efb6-43bf-beff-cea056850a97",
   "metadata": {
    "execution": {
     "iopub.execute_input": "2025-07-15T06:01:25.775384Z",
     "iopub.status.busy": "2025-07-15T06:01:25.774726Z",
     "iopub.status.idle": "2025-07-15T06:01:27.130794Z",
     "shell.execute_reply": "2025-07-15T06:01:27.130077Z",
     "shell.execute_reply.started": "2025-07-15T06:01:25.775349Z"
    }
   },
   "outputs": [],
   "source": [
    "import os\n",
    "import time\n",
    "import boto3\n",
    "import logging\n",
    "import botocore\n",
    "import json\n",
    "from textwrap import dedent\n",
    "import sys\n",
    "import logging\n",
    "from strands.tools.mcp import MCPClient\n",
    "from mcp.client.streamable_http import streamablehttp_client\n",
    "\n",
    "\n",
    "\n",
    "from strands import Agent, tool\n",
    "from strands_tools import retrieve, calculator\n",
    "\n"
   ]
  },
  {
   "cell_type": "code",
   "execution_count": 3,
   "id": "b02d669a",
   "metadata": {
    "execution": {
     "iopub.execute_input": "2025-07-15T06:01:27.281464Z",
     "iopub.status.busy": "2025-07-15T06:01:27.280662Z",
     "iopub.status.idle": "2025-07-15T06:01:27.285568Z",
     "shell.execute_reply": "2025-07-15T06:01:27.284907Z",
     "shell.execute_reply.started": "2025-07-15T06:01:27.281426Z"
    }
   },
   "outputs": [],
   "source": [
    "# Set up logging specifically for Strands components\n",
    "loggers = [\n",
    "  'strands',\n",
    "  'strands.agent',\n",
    "  'strands.tools',\n",
    "  'strands.models',\n",
    "  'strands.bedrock'\n",
    "]\n",
    "for logger_name in loggers:\n",
    "  logger = logging.getLogger(logger_name)\n",
    "  logger.setLevel(logging.INFO)\n",
    "  # Add console handler if not already present\n",
    "  if not logger.handlers:\n",
    "    handler = logging.StreamHandler()\n",
    "    formatter = logging.Formatter('%(asctime)s - %(name)s - %(levelname)s - %(message)s')\n",
    "    handler.setFormatter(formatter)\n",
    "    logger.addHandler(handler)"
   ]
  },
  {
   "cell_type": "markdown",
   "id": "4ccc6471",
   "metadata": {},
   "source": [
    "First you need to create the Knowledge base before creating an agent to answer questions on mortages. To create the Amazon Bedrock Knowledge Base, you need to run this notebook first if not done already [01_create_knowledgebase.ipynb](../2_bedrock-multi-agent/01_create_knowledgebase.ipynb). When you run the below cell you should be able to see the id of the Knowledge base that you created."
   ]
  },
  {
   "cell_type": "code",
   "execution_count": 4,
   "id": "79ca1809-e3c8-410f-be9f-3cf82ce73a6a",
   "metadata": {
    "execution": {
     "iopub.execute_input": "2025-07-15T06:01:29.182073Z",
     "iopub.status.busy": "2025-07-15T06:01:29.181722Z",
     "iopub.status.idle": "2025-07-15T06:01:29.186493Z",
     "shell.execute_reply": "2025-07-15T06:01:29.185801Z",
     "shell.execute_reply.started": "2025-07-15T06:01:29.182051Z"
    }
   },
   "outputs": [
    {
     "name": "stdout",
     "output_type": "stream",
     "text": [
      "KnowledgeBase ID: 1WSBDDOMFF\n"
     ]
    }
   ],
   "source": [
    "%store -r kb_id\n",
    "print(\"KnowledgeBase ID:\",kb_id)"
   ]
  },
  {
   "cell_type": "markdown",
   "id": "c03beb49",
   "metadata": {},
   "source": [
    "The Strands *retrieve** tool can access the Knowledge Base you have created via the **KNOWLEDGE_BASE_ID** environment variable"
   ]
  },
  {
   "cell_type": "code",
   "execution_count": 5,
   "id": "a9f8c82d-acf2-49af-af23-5779c01dfc19",
   "metadata": {
    "execution": {
     "iopub.execute_input": "2025-07-15T06:01:32.153942Z",
     "iopub.status.busy": "2025-07-15T06:01:32.153598Z",
     "iopub.status.idle": "2025-07-15T06:01:32.157521Z",
     "shell.execute_reply": "2025-07-15T06:01:32.156672Z",
     "shell.execute_reply.started": "2025-07-15T06:01:32.153918Z"
    }
   },
   "outputs": [],
   "source": [
    "# Set knowledge base ID as environment variable so that Strands retrieve tool can use it\n",
    "os.environ[\"KNOWLEDGE_BASE_ID\"] = kb_id\n"
   ]
  },
  {
   "cell_type": "markdown",
   "id": "beafeb16-fe5f-4250-ae61-9431e794ab94",
   "metadata": {},
   "source": [
    "# 1. Create the agent for general mortgage questions.\n",
    "\n",
    "We will be creating an agent to answer general mortage questions providing it the **retrieve** tool to access the Knowledge Base created earlier."
   ]
  },
  {
   "cell_type": "code",
   "execution_count": 6,
   "id": "4b0fd7ec-b040-4621-b934-3d1f7dd20d2d",
   "metadata": {
    "execution": {
     "iopub.execute_input": "2025-07-15T06:01:34.508591Z",
     "iopub.status.busy": "2025-07-15T06:01:34.508066Z",
     "iopub.status.idle": "2025-07-15T06:01:34.514180Z",
     "shell.execute_reply": "2025-07-15T06:01:34.513363Z",
     "shell.execute_reply.started": "2025-07-15T06:01:34.508560Z"
    }
   },
   "outputs": [],
   "source": [
    "@tool\n",
    "def answer_general_mortgage_questions(query):\n",
    "    # Create the General Mortgage Agent\n",
    "    general_mortgage_agent = Agent(\n",
    "        model=\"anthropic.claude-3-sonnet-20240229-v1:0\",\n",
    "        tools=[\n",
    "           retrieve\n",
    "        ],\n",
    "        system_prompt=\"\"\"\n",
    "        You are a mortgage bot, and can answer questions about mortgage refinancing and tradeoffs of mortgage types. Greet the customer first.\n",
    "        \n",
    "        IMPORTANT: Always use the retrieve tool to search the knowledge base before answering any mortgage-related questions.\n",
    "        \n",
    "        You can:\n",
    "        1. Provide general information about mortgages\n",
    "        2. Handle conversations about general mortgage questions, like high level concepts of refinancing or tradeoffs of 15-year vs 30-year terms.\n",
    "        3. Offer guidance on the mortgage refinancing and tradeoffs of mortgage types.\n",
    "        4. Access a knowledge base of mortgage information using the retrieve tool\n",
    "        5. Only answer from the knowledge base and not from your general knowledge. If you dont have the answer from Knowledge base, say \"I dont know\"\n",
    "        \n",
    "        When helping users:\n",
    "        - ALWAYS call the retrieve tool first to search for relevant information\n",
    "        - Provide clear explanations based on retrieved information\n",
    "        - Use plain language to explain complex financial terms\n",
    "        - Offer balanced advice considering both pros and cons\n",
    "        - Be informative without making specific financial recommendations\n",
    "        \n",
    "        Remember that you're providing general mortgage information, not financial advice.\n",
    "        Always clarify that users should consult with a financial advisor for personalized advice.\n",
    "        \"\"\"\n",
    "    )\n",
    "    return str(general_mortgage_agent(query))\n",
    "\n",
    "\n"
   ]
  },
  {
   "cell_type": "markdown",
   "id": "aec07509-2dc4-4607-8236-291967452cbc",
   "metadata": {},
   "source": [
    "Test the General agent and confirm that it consults the KB to answer the questions\n"
   ]
  },
  {
   "cell_type": "code",
   "execution_count": 7,
   "id": "727e0cdc-3acf-4f17-aa65-4a4289c8f1da",
   "metadata": {
    "execution": {
     "iopub.execute_input": "2025-07-15T06:01:36.180318Z",
     "iopub.status.busy": "2025-07-15T06:01:36.179535Z",
     "iopub.status.idle": "2025-07-15T06:01:55.989481Z",
     "shell.execute_reply": "2025-07-15T06:01:55.988871Z",
     "shell.execute_reply.started": "2025-07-15T06:01:36.180289Z"
    }
   },
   "outputs": [
    {
     "name": "stderr",
     "output_type": "stream",
     "text": [
      "2025-07-15 06:01:36,267 - strands.telemetry.metrics - INFO - Creating Strands MetricsClient\n"
     ]
    },
    {
     "name": "stdout",
     "output_type": "stream",
     "text": [
      "Okay, let me search the knowledge base for information on the potential benefits of refinancing a mortgage.\n",
      "Tool #1: retrieve\n",
      "\n",
      "\n",
      "Based on the information retrieved from the knowledge base, there are a few key potential benefits of refinancing a mortgage:\n",
      "\n",
      "1. Lowering the interest rate - Refinancing to a lower interest rate can significantly reduce the total interest paid over the life of the loan and lead to lower monthly payments. The general rule of thumb is that refinancing makes sense if you can reduce your rate by at least 1%.\n",
      "\n",
      "2. Shortening the loan term - When rates drop, homeowners may be able to refinance to a shorter term (e.g. from a 30-year to a 15-year mortgage) without much change to the monthly payment. This allows paying off the mortgage faster and paying less total interest.\n",
      "\n",
      "3. Switching mortgage types - Homeowners can refinance to switch from an adjustable-rate mortgage (ARM) to a fixed-rate mortgage if they want payment stability. Or switch to an ARM if rates are falling.\n",
      "\n",
      "4. Tapping home equity - Though riskier, some homeowners refinance to tap their home's equity to access cash for things like renovations, debt consolidation, etc.\n",
      "\n",
      "However, the knowledge base cautions that refinancing has upfront costs of 3-6% of the loan amount, so it may not make sense unless you plan to stay in the home long enough to recoup those costs through the monthly savings. Overall, refinancing can provide substantial interest savings but requires careful consideration of the costs and your individual financial situation.\n",
      "\n",
      "Based on the information retrieved from the knowledge base, there are a few key potential benefits of refinancing a mortgage:\n",
      "\n",
      "1. Lowering the interest rate - Refinancing to a lower interest rate can significantly reduce the total interest paid over the life of the loan and lead to lower monthly payments. The general rule of thumb is that refinancing makes sense if you can reduce your rate by at least 1%.\n",
      "\n",
      "2. Shortening the loan term - When rates drop, homeowners may be able to refinance to a shorter term (e.g. from a 30-year to a 15-year mortgage) without much change to the monthly payment. This allows paying off the mortgage faster and paying less total interest.\n",
      "\n",
      "3. Switching mortgage types - Homeowners can refinance to switch from an adjustable-rate mortgage (ARM) to a fixed-rate mortgage if they want payment stability. Or switch to an ARM if rates are falling.\n",
      "\n",
      "4. Tapping home equity - Though riskier, some homeowners refinance to tap their home's equity to access cash for things like renovations, debt consolidation, etc.\n",
      "\n",
      "However, the knowledge base cautions that refinancing has upfront costs of 3-6% of the loan amount, so it may not make sense unless you plan to stay in the home long enough to recoup those costs through the monthly savings. Overall, refinancing can provide substantial interest savings but requires careful consideration of the costs and your individual financial situation.\n",
      "\n"
     ]
    }
   ],
   "source": [
    "print(answer_general_mortgage_questions(\"What is the benefit of refinancing, if any?\"))"
   ]
  },
  {
   "cell_type": "markdown",
   "id": "29dfc671-b48b-4871-b563-75f4904448fc",
   "metadata": {},
   "source": [
    "## 2. Create the agent for existing mortgage questions.\n",
    "\n",
    "Create the Agent for managing existing mortgages, for example you can ask when is your next payment due, etc.\n",
    "\n"
   ]
  },
  {
   "cell_type": "code",
   "execution_count": 8,
   "id": "0707a3b5-94a9-43c3-ac0d-9385257b6d37",
   "metadata": {
    "execution": {
     "iopub.execute_input": "2025-07-15T06:02:09.293861Z",
     "iopub.status.busy": "2025-07-15T06:02:09.293040Z",
     "iopub.status.idle": "2025-07-15T06:02:09.298858Z",
     "shell.execute_reply": "2025-07-15T06:02:09.298257Z",
     "shell.execute_reply.started": "2025-07-15T06:02:09.293830Z"
    }
   },
   "outputs": [],
   "source": [
    "@tool\n",
    "def get_mortgage_details(customer_id):\n",
    "    # TODO: Implement real business logic to retrieve mortgage status\n",
    "    return {\n",
    "        \"account_number\": customer_id,\n",
    "        \"outstanding_principal\": 150000.0,\n",
    "        \"interest_rate\": 4.5,\n",
    "        \"maturity_date\": \"2030-06-30\",\n",
    "        \"payments_remaining\": 72,\n",
    "        \"last_payment_date\": \"2024-06-01\",\n",
    "        \"next_payment_due\": \"2024-07-01\",\n",
    "        \"next_payment_amount\": 1250.0\n",
    "    }\n"
   ]
  },
  {
   "cell_type": "code",
   "execution_count": 9,
   "id": "779ac2a0",
   "metadata": {
    "execution": {
     "iopub.execute_input": "2025-07-15T06:02:10.221970Z",
     "iopub.status.busy": "2025-07-15T06:02:10.221680Z",
     "iopub.status.idle": "2025-07-15T06:02:10.226807Z",
     "shell.execute_reply": "2025-07-15T06:02:10.226179Z",
     "shell.execute_reply.started": "2025-07-15T06:02:10.221949Z"
    }
   },
   "outputs": [],
   "source": [
    "@tool\n",
    "def answer_existing_mortgage_questions(query):\n",
    "    # Create the Existing Mortgage Agent\n",
    "    existing_mortgage_agent = Agent(\n",
    "        model=\"anthropic.claude-3-sonnet-20240229-v1:0\",\n",
    "        tools=[\n",
    "           get_mortgage_details\n",
    "        ],\n",
    "        system_prompt=\"\"\"\n",
    "        You are an Existing Mortgage Assistant that helps customers with their current mortgages.\n",
    "\n",
    "        You can:\n",
    "        1. Provide information about a customer's existing mortgage\n",
    "        2. Check mortgage status including balance and payment information\n",
    "        3. Evaluate refinancing eligibility\n",
    "        4. Calculate payoff timelines with extra payments\n",
    "        5. Answer questions about mortgage terms and conditions\n",
    "\n",
    "        When helping users:\n",
    "        - Always verify the customer ID before providing information\n",
    "        - Provide clear explanations of mortgage details\n",
    "        - Format financial data in a readable way\n",
    "        - Explain payment schedules and upcoming due dates\n",
    "        - Offer guidance on refinancing options when appropriate\n",
    "        - Use the knowledge base for detailed information when needed\n",
    "\n",
    "        Remember that you're dealing with sensitive financial information, so maintain a professional tone\n",
    "        and ensure accuracy in all responses.\n",
    "        \"\"\"\n",
    "    )\n",
    "    return str(existing_mortgage_agent(query))\n",
    "\n"
   ]
  },
  {
   "cell_type": "markdown",
   "id": "108c5cc5",
   "metadata": {},
   "source": [
    "Test the agent to check if it can answer questions about the existing mortgage."
   ]
  },
  {
   "cell_type": "code",
   "execution_count": 10,
   "id": "13204caf-acfe-441c-b114-69112583e803",
   "metadata": {
    "execution": {
     "iopub.execute_input": "2025-07-15T06:02:11.998414Z",
     "iopub.status.busy": "2025-07-15T06:02:11.997785Z",
     "iopub.status.idle": "2025-07-15T06:02:18.444377Z",
     "shell.execute_reply": "2025-07-15T06:02:18.443540Z",
     "shell.execute_reply.started": "2025-07-15T06:02:11.998385Z"
    }
   },
   "outputs": [
    {
     "name": "stdout",
     "output_type": "stream",
     "text": [
      "Okay, let me look up your mortgage details using your customer ID.\n",
      "Tool #1: get_mortgage_details\n",
      "\n",
      "\n",
      "Based on the mortgage details for your account 98991:\n",
      "\n",
      "Your next mortgage payment of $1,250 is due on July 1st, 2024.\n",
      "\n",
      "The payment frequency seems to be monthly. Your mortgage has a remaining balance of $150,000 at a 4.5% interest rate. There are still 72 payments left until the loan matures on June 30th, 2030.\n",
      "\n",
      "Please let me know if you need any other details about your current mortgage!\n",
      "\n",
      "Based on the mortgage details for your account 98991:\n",
      "\n",
      "Your next mortgage payment of $1,250 is due on July 1st, 2024.\n",
      "\n",
      "The payment frequency seems to be monthly. Your mortgage has a remaining balance of $150,000 at a 4.5% interest rate. There are still 72 payments left until the loan matures on June 30th, 2030.\n",
      "\n",
      "Please let me know if you need any other details about your current mortgage!\n",
      "\n"
     ]
    }
   ],
   "source": [
    "\n",
    "print(answer_existing_mortgage_questions(\"I'm customer 98991. when's my next payment due?\"))"
   ]
  },
  {
   "cell_type": "markdown",
   "id": "ea68e8de",
   "metadata": {},
   "source": [
    "Now let us integrate the credit check tool provided via the MCP server. Strands includes built-in support for connecting to MCP servers and using their tools.\n",
    "\n"
   ]
  },
  {
   "cell_type": "markdown",
   "id": "ab6a7ac5",
   "metadata": {},
   "source": [
    "> 🚨 **Important Note:** Before proceeding further **Run the MCP server** provided here [creditcheck_server_http.py](../3_mcp-server-client/strands_mcp/creditcheck_server_http.py). Go to the SageMaker terminal from this notebook and navigate to the **3_mcp-server-client/strands_mcp/** folder and run the below command:\n",
    "\n",
    "python creditcheck_server_http.py\n",
    "\n",
    "This will start the MCP server that can accessible through this url: \"http://0.0.0.0:8080/mcp\".\n",
    "\n",
    "We will connect to this server through Strands MCP client, list the tools provided by the MCP server and add the tools to the tool list provided the agent as shown int he cell below"
   ]
  },
  {
   "cell_type": "code",
   "execution_count": 11,
   "id": "ea6f8012",
   "metadata": {
    "execution": {
     "iopub.execute_input": "2025-07-15T06:02:21.301236Z",
     "iopub.status.busy": "2025-07-15T06:02:21.300888Z",
     "iopub.status.idle": "2025-07-15T06:02:21.305207Z",
     "shell.execute_reply": "2025-07-15T06:02:21.304243Z",
     "shell.execute_reply.started": "2025-07-15T06:02:21.301210Z"
    }
   },
   "outputs": [],
   "source": [
    "# Create MCP HTTP client\n",
    "mcp_client = MCPClient(lambda: streamablehttp_client(\n",
    "    url=\"http://0.0.0.0:8080/mcp\"  # Your MCP server URL\n",
    "    #streaming=True  # Enable streaming\n",
    "))\n"
   ]
  },
  {
   "cell_type": "markdown",
   "id": "0d67d01f-2656-4d5f-8786-6341b07e0dea",
   "metadata": {},
   "source": [
    "Create the supervisor agent and provide both custom tools as well as the MCP tools. When working with MCP tools in Strands, all agent operations must be performed within the MCP client's context manager (using a with statement). This requirement ensures that the MCP session remains active and connected while the agent is using the tools. "
   ]
  },
  {
   "cell_type": "code",
   "execution_count": 14,
   "id": "46ba7ae5",
   "metadata": {
    "execution": {
     "iopub.execute_input": "2025-07-15T06:22:50.517112Z",
     "iopub.status.busy": "2025-07-15T06:22:50.516838Z",
     "iopub.status.idle": "2025-07-15T06:22:50.523052Z",
     "shell.execute_reply": "2025-07-15T06:22:50.522304Z",
     "shell.execute_reply.started": "2025-07-15T06:22:50.517091Z"
    }
   },
   "outputs": [],
   "source": [
    "def answer_customer_query(query):\n",
    "    \"\"\"\n",
    "    Process the customer query through the multi-agent system with MCP integration\n",
    "    \n",
    "    Args:\n",
    "        query: The customer's query\n",
    "        \n",
    "    Returns:\n",
    "        str: The response from the supervisor agent\n",
    "    \"\"\"\n",
    "    # Use MCP client context manager to ensure session is active\n",
    "    with mcp_client:\n",
    "        try:\n",
    "            # Get MCP tools\n",
    "            mcp_tools = mcp_client.list_tools_sync()\n",
    "            \n",
    "            # Define supervisor system prompt\n",
    "            supervisor_system_prompt = \"\"\"\n",
    "            Your role is to provide a unified experience for all things related to mortgages. You are a supervisor who oversees answering\n",
    "            customer questions related to general mortgages questions and queries about the existing mortgage.\n",
    "            \n",
    "            For general questions, use the answer_general_mortgage_questions tool.\n",
    "            For questions on existing mortgage, use the answer_existing_mortgage_questions tool.\n",
    "            If asked for a complicated calculation, use your code interpreter to be sure it's done accurately.\n",
    "            \n",
    "            You also have access to MCP tools that can perform additional function to get the credit score of existing customer.\n",
    "            Use these tools when appropriate for the customer's query.\n",
    "            \n",
    "            IMPORTANT: When using credit check tools, return ONLY the credit score value without additional analysis or explanations.\n",
    "            For other queries, synthesize the details from the response of the tools used into a comprehensive answer provided back to the customer.\n",
    "            \"\"\"\n",
    "            \n",
    "            # Combine custom tools with MCP tools\n",
    "            all_tools = [\n",
    "                answer_general_mortgage_questions, \n",
    "                answer_existing_mortgage_questions, \n",
    "                calculator\n",
    "            ] + mcp_tools\n",
    "            \n",
    "            # Create the supervisor agent within MCP context\n",
    "            supervisor = Agent(\n",
    "                model=\"anthropic.claude-3-sonnet-20240229-v1:0\",\n",
    "                system_prompt=supervisor_system_prompt,\n",
    "                tools=all_tools\n",
    "            )\n",
    "            \n",
    "            # Process the query within the same MCP context\n",
    "            return supervisor(f\"Provide a comprehensive answer for this query: {query}\")\n",
    "            \n",
    "        except Exception as e:\n",
    "            logger.error(f\"Error processing query with MCP tools: {str(e)}\")\n",
    "            \n",
    "            # Fallback to supervisor without MCP tools\n",
    "            supervisor = Agent(\n",
    "                model=\"anthropic.claude-3-sonnet-20240229-v1:0\",\n",
    "                system_prompt=\"\"\"\n",
    "                Your role is to provide a unified experience for all things related to mortgages. You are a supervisor who oversees answering\n",
    "                customer questions related to general mortgages questions and queries about the existing mortgage.\n",
    "\n",
    "                For general questions, use the answer_general_mortgage_questions tool.\n",
    "                For questions on existing mortgage, use the answer_existing_mortgage_questions tool.\n",
    "                If asked for a complicated calculation, use your code interpreter to be sure it's done accurately.\n",
    "                \n",
    "                Synthesize the details from the response of the tools used into a comprehensive answer provided back to the customer.\n",
    "                \"\"\",\n",
    "                tools=[answer_general_mortgage_questions, answer_existing_mortgage_questions, calculator]\n",
    "            )\n",
    "            \n",
    "            return supervisor(f\"Provide a comprehensive answer for this query: {query}\")"
   ]
  },
  {
   "cell_type": "code",
   "execution_count": 15,
   "id": "cac093b7-aab4-432a-b704-e8db3afca697",
   "metadata": {
    "execution": {
     "iopub.execute_input": "2025-07-15T06:22:51.810362Z",
     "iopub.status.busy": "2025-07-15T06:22:51.809755Z",
     "iopub.status.idle": "2025-07-15T06:23:06.159423Z",
     "shell.execute_reply": "2025-07-15T06:23:06.158619Z",
     "shell.execute_reply.started": "2025-07-15T06:22:51.810335Z"
    }
   },
   "outputs": [
    {
     "name": "stdout",
     "output_type": "stream",
     "text": [
      "\n",
      "\n",
      "Invoking supervisor agent...\n",
      "\n",
      "\n",
      "\n",
      "\n",
      "Request: what is my credit score, my customer id is 1111\n",
      "\n",
      "\n",
      "\n",
      "Tool #1: credit_check\n",
      "\n",
      "\n",
      "Your credit score is 70.\n",
      "\n",
      "Your credit score is 70.\n",
      "\n"
     ]
    }
   ],
   "source": [
    "#test the supervisor agent\n",
    "print(\"\\n\\nInvoking supervisor agent...\\n\\n\")\n",
    "\n",
    "requests = [#\"I am customer: 3345, when's my next payment due?\",\n",
    "            \"what is my credit score, my customer id is 1111\"\n",
    "            #\"what's my balance after that payment, and what rate am I paying?\",\n",
    "            #\"why do so many people choose a 30-year mortgage??\",\n",
    "            #\"did you receive my employment verification doc yet? i sent it last week\",\n",
    "            #\"i'm getting ready to lock in on a rate. what have the rates looked like in last couple weeks?\",\n",
    "            # \"great. if i use the highest of those rates for $500K for 15 years, what's my payment?\"\n",
    "            ]\n",
    "\n",
    "for request in requests:\n",
    "    print(f\"\\n\\nRequest: {request}\\n\\n\")\n",
    "    result = answer_customer_query(request)\n",
    "    time.sleep(10)\n",
    "    print(result)"
   ]
  },
  {
   "cell_type": "markdown",
   "id": "27df4122-1be8-49af-aa15-a264112a0a27",
   "metadata": {},
   "source": [
    "### 🔨 Assignment\n",
    " The multi-agent application you created above, just has 2 agents: one to answer general questions on mortgage and the other to answer questions on exiting mortage. You need to add another agent to provide additional functionality to help users initiate a new home loan application by collecting relevant financial information and personal details, just you did leveraging Amazon Bedrock Agent framework in [create-new-application-agent.ipynb](../1_bedrock-single-agent/create-new-application-agent.ipynb)"
   ]
  }
 ],
 "metadata": {
  "kernelspec": {
   "display_name": "Python 3 (ipykernel)",
   "language": "python",
   "name": "python3"
  },
  "language_info": {
   "codemirror_mode": {
    "name": "ipython",
    "version": 3
   },
   "file_extension": ".py",
   "mimetype": "text/x-python",
   "name": "python",
   "nbconvert_exporter": "python",
   "pygments_lexer": "ipython3",
   "version": "3.12.9"
  }
 },
 "nbformat": 4,
 "nbformat_minor": 5
}
