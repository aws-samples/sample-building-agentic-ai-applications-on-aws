{
 "cells": [
  {
   "cell_type": "markdown",
   "id": "9ab389de",
   "metadata": {},
   "source": [
    "### Lab: Building a Single AI Agent using Strands"
   ]
  },
  {
   "cell_type": "markdown",
   "id": "a4ed3af3",
   "metadata": {},
   "source": [
    "This notebook creates a single AI agent using Strands that can guide a home buyer through a preapproval for a new home loan application.\n",
    "The agent handles creating new home loans and checking the status of existing applications using custom tools."
   ]
  },
  {
   "cell_type": "code",
   "execution_count": 1,
   "id": "6eaedd6d-a2d6-4227-87b5-18cdc10d8e8a",
   "metadata": {},
   "outputs": [
    {
     "name": "stdout",
     "output_type": "stream",
     "text": [
      "Note: you may need to restart the kernel to use updated packages.\n"
     ]
    }
   ],
   "source": [
    "%pip install -q strands-agents"
   ]
  },
  {
   "cell_type": "code",
   "execution_count": null,
   "id": "05b66abf-a9fe-4f2d-b9b6-55656aa3ba86",
   "metadata": {},
   "outputs": [],
   "source": [
    "import os\n",
    "import json\n",
    "from datetime import datetime, timedelta\n",
    "from strands import Agent, tool"
   ]
  },
  {
   "cell_type": "markdown",
   "id": "3b78e0d4",
   "metadata": {},
   "source": [
    "### Define Tools"
   ]
  },
  {
   "cell_type": "code",
   "execution_count": null,
   "id": "35e5870c-7249-4478-9c62-042568cd489f",
   "metadata": {},
   "outputs": [],
   "source": [
    "@tool\n",
    "def get_mortgage_app_doc_status(customer_id: str = None):\n",
    "    \"\"\"Retrieves the list of required documents for a mortgage application\"\"\"\n",
    "    return [\n",
    "        {\"type\": \"proof_of_income\", \"status\": \"COMPLETED\"},\n",
    "        {\"type\": \"employment_information\", \"status\": \"MISSING\"},\n",
    "        {\"type\": \"proof_of_assets\", \"status\": \"COMPLETED\"},\n",
    "        {\"type\": \"credit_information\", \"status\": \"COMPLETED\"}\n",
    "    ]\n",
    "\n",
    "@tool\n",
    "def get_application_details(customer_id: str = None):\n",
    "    \"\"\"Retrieves details about a mortgage application\"\"\"\n",
    "    return {\n",
    "        \"customer_id\": customer_id or \"123456\",\n",
    "        \"application_id\": \"998776\",\n",
    "        \"application_date\": str(datetime.today() - timedelta(days=35)),\n",
    "        \"application_status\": \"IN_PROGRESS\",\n",
    "        \"application_type\": \"NEW_MORTGAGE\",\n",
    "        \"name\": \"Mithil\"\n",
    "    }\n",
    "\n",
    "@tool\n",
    "def create_customer_id():\n",
    "    \"\"\"Creates a new customer ID\"\"\"\n",
    "    return \"123456\"\n",
    "\n",
    "@tool\n",
    "def create_loan_application(customer_id: str, name: str, age: int, annual_income: int, annual_expense: int):\n",
    "    \"\"\"Creates a new loan application\"\"\"\n",
    "    print(f\"Creating loan application for customer: {customer_id}\")\n",
    "    print(f\"Customer name: {name}\")\n",
    "    print(f\"Customer age: {age}\")\n",
    "    print(f\"Customer annual income: {annual_income}\")\n",
    "    print(f\"Customer annual expense: {annual_expense}\")\n",
    "    return f\"Loan application created successfully for {name} (ID: {customer_id})\""
   ]
  },
  {
   "cell_type": "markdown",
   "id": "0a038e1e",
   "metadata": {},
   "source": [
    "### Create the Strands Agent"
   ]
  },
  {
   "cell_type": "code",
   "execution_count": null,
   "id": "0f65b8e3",
   "metadata": {},
   "outputs": [],
   "source": [
    "mortgage_application_agent = Agent(\n",
    "    model=\"us.anthropic.claude-3-haiku-20240307-v1:0\",\n",
    "    tools=[get_mortgage_app_doc_status, get_application_details, create_customer_id, create_loan_application],\n",
    "    system_prompt=\"\"\"You are a mortgage application agent that helps customers with new mortgage applications.\n",
    "    \n",
    "    Instructions:\n",
    "    - Greet customers warmly before answering\n",
    "    - First ask for their customer ID, if they don't have one, create a new one\n",
    "    - Ask for name, age, annual income, and annual expense one question at a time\n",
    "    - Once you have all information, create the loan application\n",
    "    - Only discuss mortgage applications, not general mortgage topics\n",
    "    - Never make up information you cannot retrieve from tools\"\"\"\n",
    ")\n",
    "\n",
    "print(\"Mortgage Application Agent created successfully!\")"
   ]
  },
  {
   "cell_type": "markdown",
   "id": "b5d78bfd",
   "metadata": {},
   "source": [
    "### Test the Agent"
   ]
  },
  {
   "cell_type": "code",
   "execution_count": null,
   "id": "468bc7d5-74b1-4b66-909c-175735f1b5d2",
   "metadata": {},
   "outputs": [],
   "source": [
    "test_queries = [\n",
    "    \"Hello, I'd like to apply for a new mortgage\",\n",
    "    \"I don't have a customer ID\",\n",
    "    \"My name is John Smith\",\n",
    "    \"I'm 35 years old\",\n",
    "    \"My annual income is $80000\",\n",
    "    \"My annual expenses are $45000\"\n",
    "]\n",
    "\n",
    "print(\"Testing Mortgage Application Agent\")\n",
    "print(\"-\" * 40)\n",
    "\n",
    "for i, query in enumerate(test_queries):\n",
    "    print(f\"\\nStep {i+1}: {query}\")\n",
    "    response = mortgage_application_agent(query)\n",
    "    print(f\"Agent: {response.message}\")"
   ]
  },
  {
   "cell_type": "markdown",
   "id": "e75d3800-d6b7-4dbb-ae24-7be10c4e790f",
   "metadata": {},
   "source": [
    "### Save the Agent"
   ]
  },
  {
   "cell_type": "code",
   "execution_count": null,
   "id": "45cf0f49-db8c-471d-9e2a-c71888405bc7",
   "metadata": {},
   "outputs": [],
   "source": [
    "import pickle\n",
    "\n",
    "agent_config = {\n",
    "    'tools': [get_mortgage_app_doc_status, get_application_details, create_customer_id, create_loan_application],\n",
    "    'system_prompt': mortgage_application_agent.system_prompt,\n",
    "    'model': \"us.anthropic.claude-3-haiku-20240307-v1:0\"\n",
    "}\n",
    "\n",
    "with open('mortgage_application_agent_strands.pkl', 'wb') as f:\n",
    "    pickle.dump(agent_config, f)\n",
    "\n",
    "print(\"Agent configuration saved successfully!\")\n",
    "%store mortgage_application_agent"
   ]
  }
 ],
 "metadata": {
  "kernelspec": {
   "display_name": ".venv",
   "language": "python",
   "name": "python3"
  },
  "language_info": {
   "codemirror_mode": {
    "name": "ipython",
    "version": 3
   },
   "file_extension": ".py",
   "mimetype": "text/x-python",
   "name": "python",
   "nbconvert_exporter": "python",
   "pygments_lexer": "ipython3",
   "version": "3.12.4"
  }
 },
 "nbformat": 4,
 "nbformat_minor": 5
}
