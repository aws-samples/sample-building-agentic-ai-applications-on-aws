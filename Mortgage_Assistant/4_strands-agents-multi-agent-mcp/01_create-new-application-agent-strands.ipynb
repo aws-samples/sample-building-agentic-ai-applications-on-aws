{
 "cells": [
  {
   "cell_type": "markdown",
   "id": "9ab389de",
   "metadata": {},
   "source": [
    "### Lab: Building a Single AI Agent using Strands"
   ]
  },
  {
   "cell_type": "markdown",
   "id": "a4ed3af3",
   "metadata": {},
   "source": [
    "This notebook creates a single AI agent using Strands that can guide a home buyer through a preapproval for a new home loan application.\n",
    "The agent handles creating new home loans and checking the status of existing applications using custom tools."
   ]
  },
  {
   "cell_type": "markdown",
   "id": "57a8b6ba-13a5-4150-b1df-774c0dfacbf1",
   "metadata": {},
   "source": [
    "Step 1: Install the prequisites. Ignore errors "
   ]
  },
  {
   "cell_type": "code",
   "execution_count": 1,
   "id": "6eaedd6d-a2d6-4227-87b5-18cdc10d8e8a",
   "metadata": {
    "execution": {
     "iopub.execute_input": "2025-07-09T03:20:50.064040Z",
     "iopub.status.busy": "2025-07-09T03:20:50.063848Z",
     "iopub.status.idle": "2025-07-09T03:20:54.185799Z",
     "shell.execute_reply": "2025-07-09T03:20:54.185085Z",
     "shell.execute_reply.started": "2025-07-09T03:20:50.064020Z"
    }
   },
   "outputs": [],
   "source": [
    "!pip install --upgrade -q -r ../src/requirements.txt"
   ]
  },
  {
   "cell_type": "markdown",
   "id": "f4b4c50e-b359-4cce-a64c-d2405e1bfc74",
   "metadata": {},
   "source": [
    "Step 2: import libraries"
   ]
  },
  {
   "cell_type": "code",
   "execution_count": 2,
   "id": "05b66abf-a9fe-4f2d-b9b6-55656aa3ba86",
   "metadata": {
    "execution": {
     "iopub.execute_input": "2025-07-09T03:21:23.596893Z",
     "iopub.status.busy": "2025-07-09T03:21:23.596050Z",
     "iopub.status.idle": "2025-07-09T03:21:24.036224Z",
     "shell.execute_reply": "2025-07-09T03:21:24.035457Z",
     "shell.execute_reply.started": "2025-07-09T03:21:23.596859Z"
    }
   },
   "outputs": [],
   "source": [
    "import os\n",
    "import json\n",
    "from datetime import datetime, timedelta\n",
    "from strands import Agent, tool"
   ]
  },
  {
   "cell_type": "markdown",
   "id": "3b78e0d4",
   "metadata": {},
   "source": [
    "Step 3: Define Tools"
   ]
  },
  {
   "cell_type": "code",
   "execution_count": 3,
   "id": "35e5870c-7249-4478-9c62-042568cd489f",
   "metadata": {
    "execution": {
     "iopub.execute_input": "2025-07-09T03:21:25.379427Z",
     "iopub.status.busy": "2025-07-09T03:21:25.378836Z",
     "iopub.status.idle": "2025-07-09T03:21:25.452780Z",
     "shell.execute_reply": "2025-07-09T03:21:25.452106Z",
     "shell.execute_reply.started": "2025-07-09T03:21:25.379404Z"
    }
   },
   "outputs": [],
   "source": [
    "@tool\n",
    "def get_mortgage_app_doc_status(customer_id: str = None):\n",
    "    \"\"\"Retrieves the list of required documents for a mortgage application\"\"\"\n",
    "    return [\n",
    "        {\"type\": \"proof_of_income\", \"status\": \"COMPLETED\"},\n",
    "        {\"type\": \"employment_information\", \"status\": \"MISSING\"},\n",
    "        {\"type\": \"proof_of_assets\", \"status\": \"COMPLETED\"},\n",
    "        {\"type\": \"credit_information\", \"status\": \"COMPLETED\"}\n",
    "    ]\n",
    "\n",
    "@tool\n",
    "def get_application_details(customer_id: str = None):\n",
    "    \"\"\"Retrieves details about a mortgage application\"\"\"\n",
    "    return {\n",
    "        \"customer_id\": customer_id or \"123456\",\n",
    "        \"application_id\": \"998776\",\n",
    "        \"application_date\": str(datetime.today() - timedelta(days=35)),\n",
    "        \"application_status\": \"IN_PROGRESS\",\n",
    "        \"application_type\": \"NEW_MORTGAGE\",\n",
    "        \"name\": \"Mithil\"\n",
    "    }\n",
    "\n",
    "@tool\n",
    "def create_customer_id():\n",
    "    \"\"\"Creates a new customer ID\"\"\"\n",
    "    return \"123456\"\n",
    "\n",
    "@tool\n",
    "def create_loan_application(customer_id: str, name: str, age: int, annual_income: int, annual_expense: int):\n",
    "    \"\"\"Creates a new loan application\"\"\"\n",
    "    print(f\"Creating loan application for customer: {customer_id}\")\n",
    "    print(f\"Customer name: {name}\")\n",
    "    print(f\"Customer age: {age}\")\n",
    "    print(f\"Customer annual income: {annual_income}\")\n",
    "    print(f\"Customer annual expense: {annual_expense}\")\n",
    "    return f\"Loan application created successfully for {name} (ID: {customer_id})\""
   ]
  },
  {
   "cell_type": "markdown",
   "id": "71985909-606a-4154-a3bd-8bc76e90b801",
   "metadata": {},
   "source": [
    "Step 4 : Specify choice of foundational models"
   ]
  },
  {
   "cell_type": "code",
   "execution_count": 4,
   "id": "6ee578a9-77ab-4884-b2ed-c80bfbe3c38d",
   "metadata": {
    "execution": {
     "iopub.execute_input": "2025-07-09T03:21:26.676312Z",
     "iopub.status.busy": "2025-07-09T03:21:26.675551Z",
     "iopub.status.idle": "2025-07-09T03:21:26.679373Z",
     "shell.execute_reply": "2025-07-09T03:21:26.678738Z",
     "shell.execute_reply.started": "2025-07-09T03:21:26.676282Z"
    }
   },
   "outputs": [],
   "source": [
    "agent_foundation_models = [ \n",
    "    \"us.anthropic.claude-3-5-sonnet-20241022-v2:0\",\n",
    "    \"amazon.nova-lite-v1:0\"\n",
    "    ]"
   ]
  },
  {
   "cell_type": "markdown",
   "id": "0a038e1e",
   "metadata": {},
   "source": [
    "Step 5: Create the Strands Agent"
   ]
  },
  {
   "cell_type": "code",
   "execution_count": 5,
   "id": "0f65b8e3",
   "metadata": {
    "execution": {
     "iopub.execute_input": "2025-07-09T03:21:27.664859Z",
     "iopub.status.busy": "2025-07-09T03:21:27.664148Z",
     "iopub.status.idle": "2025-07-09T03:21:27.741483Z",
     "shell.execute_reply": "2025-07-09T03:21:27.740938Z",
     "shell.execute_reply.started": "2025-07-09T03:21:27.664827Z"
    }
   },
   "outputs": [
    {
     "name": "stdout",
     "output_type": "stream",
     "text": [
      "Mortgage Application Agent created successfully!\n"
     ]
    }
   ],
   "source": [
    "mortgage_application_agent = Agent(\n",
    "    model=agent_foundation_models[0],\n",
    "    tools=[get_mortgage_app_doc_status, get_application_details, create_customer_id, create_loan_application],\n",
    "    system_prompt=\"\"\"You are a mortgage application agent that helps customers with new mortgage applications.\n",
    "    \n",
    "    Instructions:\n",
    "    - Greet customers warmly before answering\n",
    "    - First ask for their customer ID, if they don't have one, create a new one\n",
    "    - Ask for name, age, annual income, and annual expense one question at a time\n",
    "    - Once you have all information, create the loan application\n",
    "    - Only discuss mortgage applications, not general mortgage topics\n",
    "    - Never make up information you cannot retrieve from tools\"\"\"\n",
    ")\n",
    "\n",
    "print(\"Mortgage Application Agent created successfully!\")"
   ]
  },
  {
   "cell_type": "markdown",
   "id": "b5d78bfd",
   "metadata": {},
   "source": [
    "Step 6 : Test the Agent. Try the question \"Hello, I'd like to apply for a new mortgage\""
   ]
  },
  {
   "cell_type": "code",
   "execution_count": 7,
   "id": "9ce324f7-f2d5-47a1-901c-a9a4fe781513",
   "metadata": {
    "execution": {
     "iopub.execute_input": "2025-07-09T03:21:35.998432Z",
     "iopub.status.busy": "2025-07-09T03:21:35.997835Z",
     "iopub.status.idle": "2025-07-09T03:21:40.400457Z",
     "shell.execute_reply": "2025-07-09T03:21:40.399728Z",
     "shell.execute_reply.started": "2025-07-09T03:21:35.998406Z"
    }
   },
   "outputs": [
    {
     "name": "stdout",
     "output_type": "stream",
     "text": [
      "\n",
      "MCP Chatbot Started!\n",
      "Type your queries or 'quit' to exit.\n"
     ]
    },
    {
     "name": "stdin",
     "output_type": "stream",
     "text": [
      "\n",
      "Query:  quit\n"
     ]
    }
   ],
   "source": [
    "\n",
    "def chat_loop():\n",
    "        \"\"\"Run an interactive chat loop\"\"\"\n",
    "        print(\"\\nMCP Chatbot Started!\")\n",
    "        print(\"Type your queries or 'quit' to exit.\")\n",
    "        while True:\n",
    "            try:\n",
    "                query = input(\"\\nQuery: \").strip()\n",
    "                if query.lower() == 'quit':\n",
    "                    break\n",
    "                response = mortgage_application_agent(query)\n",
    "                print(\"\\n\")\n",
    "            except Exception as e:\n",
    "                print(f\"\\nError: {str(e)}\")\n",
    "chat_loop()\n",
    "\n",
    "# In the chat window that appears below, try the question\n",
    "# \"Hello, I'd like to apply for a new mortgage\""
   ]
  },
  {
   "cell_type": "markdown",
   "id": "e75d3800-d6b7-4dbb-ae24-7be10c4e790f",
   "metadata": {},
   "source": [
    "Step 7: Save the Agent"
   ]
  },
  {
   "cell_type": "code",
   "execution_count": 8,
   "id": "45cf0f49-db8c-471d-9e2a-c71888405bc7",
   "metadata": {
    "execution": {
     "iopub.execute_input": "2025-07-09T03:21:53.878035Z",
     "iopub.status.busy": "2025-07-09T03:21:53.877428Z",
     "iopub.status.idle": "2025-07-09T03:21:54.073411Z",
     "shell.execute_reply": "2025-07-09T03:21:54.072365Z",
     "shell.execute_reply.started": "2025-07-09T03:21:53.878011Z"
    }
   },
   "outputs": [
    {
     "ename": "PicklingError",
     "evalue": "Can't pickle <function get_mortgage_app_doc_status at 0x7feed5d23420>: it's not the same object as __main__.get_mortgage_app_doc_status",
     "output_type": "error",
     "traceback": [
      "\u001b[0;31m---------------------------------------------------------------------------\u001b[0m",
      "\u001b[0;31mPicklingError\u001b[0m                             Traceback (most recent call last)",
      "Cell \u001b[0;32mIn[8], line 10\u001b[0m\n\u001b[1;32m      3\u001b[0m agent_config \u001b[38;5;241m=\u001b[39m {\n\u001b[1;32m      4\u001b[0m     \u001b[38;5;124m'\u001b[39m\u001b[38;5;124mtools\u001b[39m\u001b[38;5;124m'\u001b[39m: [get_mortgage_app_doc_status, get_application_details, create_customer_id, create_loan_application],\n\u001b[1;32m      5\u001b[0m     \u001b[38;5;124m'\u001b[39m\u001b[38;5;124msystem_prompt\u001b[39m\u001b[38;5;124m'\u001b[39m: mortgage_application_agent\u001b[38;5;241m.\u001b[39msystem_prompt,\n\u001b[1;32m      6\u001b[0m     \u001b[38;5;124m'\u001b[39m\u001b[38;5;124mmodel\u001b[39m\u001b[38;5;124m'\u001b[39m: agent_foundation_models[\u001b[38;5;241m0\u001b[39m]\n\u001b[1;32m      7\u001b[0m }\n\u001b[1;32m      9\u001b[0m \u001b[38;5;28;01mwith\u001b[39;00m \u001b[38;5;28mopen\u001b[39m(\u001b[38;5;124m'\u001b[39m\u001b[38;5;124mmortgage_application_agent_strands.pkl\u001b[39m\u001b[38;5;124m'\u001b[39m, \u001b[38;5;124m'\u001b[39m\u001b[38;5;124mwb\u001b[39m\u001b[38;5;124m'\u001b[39m) \u001b[38;5;28;01mas\u001b[39;00m f:\n\u001b[0;32m---> 10\u001b[0m     \u001b[43mpickle\u001b[49m\u001b[38;5;241;43m.\u001b[39;49m\u001b[43mdump\u001b[49m\u001b[43m(\u001b[49m\u001b[43magent_config\u001b[49m\u001b[43m,\u001b[49m\u001b[43m \u001b[49m\u001b[43mf\u001b[49m\u001b[43m)\u001b[49m\n\u001b[1;32m     12\u001b[0m \u001b[38;5;28mprint\u001b[39m(\u001b[38;5;124m\"\u001b[39m\u001b[38;5;124mAgent configuration saved successfully!\u001b[39m\u001b[38;5;124m\"\u001b[39m)\n\u001b[1;32m     13\u001b[0m get_ipython()\u001b[38;5;241m.\u001b[39mrun_line_magic(\u001b[38;5;124m'\u001b[39m\u001b[38;5;124mstore\u001b[39m\u001b[38;5;124m'\u001b[39m, \u001b[38;5;124m'\u001b[39m\u001b[38;5;124mmortgage_application_agent\u001b[39m\u001b[38;5;124m'\u001b[39m)\n",
      "\u001b[0;31mPicklingError\u001b[0m: Can't pickle <function get_mortgage_app_doc_status at 0x7feed5d23420>: it's not the same object as __main__.get_mortgage_app_doc_status"
     ]
    }
   ],
   "source": [
    "import pickle\n",
    "\n",
    "agent_config = {\n",
    "    'tools': [get_mortgage_app_doc_status, get_application_details, create_customer_id, create_loan_application],\n",
    "    'system_prompt': mortgage_application_agent.system_prompt,\n",
    "    'model': agent_foundation_models[0]\n",
    "}\n",
    "\n",
    "with open('mortgage_application_agent_strands.pkl', 'wb') as f:\n",
    "    pickle.dump(agent_config, f)\n",
    "\n",
    "print(\"Agent configuration saved successfully!\")\n",
    "%store mortgage_application_agent"
   ]
  },
  {
   "cell_type": "code",
   "execution_count": null,
   "id": "1ece8859-d0ba-45bf-be28-bd3804dc1649",
   "metadata": {},
   "outputs": [],
   "source": []
  }
 ],
 "metadata": {
  "kernelspec": {
   "display_name": "Python 3 (ipykernel)",
   "language": "python",
   "name": "python3"
  },
  "language_info": {
   "codemirror_mode": {
    "name": "ipython",
    "version": 3
   },
   "file_extension": ".py",
   "mimetype": "text/x-python",
   "name": "python",
   "nbconvert_exporter": "python",
   "pygments_lexer": "ipython3",
   "version": "3.12.9"
  }
 },
 "nbformat": 4,
 "nbformat_minor": 5
}
