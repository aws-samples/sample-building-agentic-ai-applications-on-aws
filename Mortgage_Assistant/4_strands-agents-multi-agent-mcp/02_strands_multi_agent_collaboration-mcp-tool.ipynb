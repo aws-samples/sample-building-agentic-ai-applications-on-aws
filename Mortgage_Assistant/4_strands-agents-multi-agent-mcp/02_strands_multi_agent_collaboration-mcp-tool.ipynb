{
 "cells": [
  {
   "cell_type": "markdown",
   "id": "47aaddce-1d67-407f-a360-9873be52d5a4",
   "metadata": {
    "vscode": {
     "languageId": "raw"
    }
   },
   "source": [
    "Select the Python 3 kernel if you are prompted for a kernel."
   ]
  },
  {
   "cell_type": "markdown",
   "id": "456549b3-edd2-47ad-896f-9e57a19963fb",
   "metadata": {},
   "source": [
    "### Multi-Agent Systems with Strands Agents leveraging MCP tools\n"
   ]
  },
  {
   "cell_type": "markdown",
   "id": "45d5ce85-e86e-4484-97f2-d95231b1fab9",
   "metadata": {},
   "source": [
    "\n",
    "While building agents with Strands SDK we have an option to use the custom or predefined tools such as  **retrieve** and **calculator**. However MCP protocol allows us to augment the agent functionality with additional tools that is exposed via the MCP protocol. \n"
   ]
  },
  {
   "cell_type": "markdown",
   "id": "f514d8cf-7525-4c73-b65a-9db5cf1c8ed4",
   "metadata": {},
   "source": [
    "In the first notebook, we created the agent for new mortgage application. In this lab we will be creating 2 more agents.  The three agents are similar to what you created in the Bedrock Agents lab. \n"
   ]
  },
  {
   "cell_type": "markdown",
   "id": "91b6acab",
   "metadata": {},
   "source": [
    "Step 1: We start by installing the required libraries"
   ]
  },
  {
   "cell_type": "code",
   "execution_count": 2,
   "id": "c945dcca",
   "metadata": {},
   "outputs": [
    {
     "name": "stdout",
     "output_type": "stream",
     "text": [
      "zsh:1: /Users/shamithi/work/builder_projects/workshop/.venv/bin/pip: bad interpreter: /Users/shamithi/work/builder_projects/genai-workshop/.venv/bin/python: no such file or directory\n",
      "Looking in indexes: https://pypi.org/simple, https://plugin.us-east-1.prod.workshops.aws\n",
      "Requirement already satisfied: strands-agents in /opt/homebrew/lib/python3.11/site-packages (0.2.1)\n",
      "Requirement already satisfied: strands-agents-tools in /opt/homebrew/lib/python3.11/site-packages (0.1.8)\n",
      "Requirement already satisfied: mcp in /opt/homebrew/lib/python3.11/site-packages (1.10.1)\n",
      "Requirement already satisfied: boto3<2.0.0,>=1.26.0 in /opt/homebrew/lib/python3.11/site-packages (from strands-agents) (1.39.2)\n",
      "Requirement already satisfied: botocore<2.0.0,>=1.29.0 in /opt/homebrew/lib/python3.11/site-packages (from strands-agents) (1.39.2)\n",
      "Requirement already satisfied: docstring-parser<1.0,>=0.15 in /opt/homebrew/lib/python3.11/site-packages (from strands-agents) (0.16)\n",
      "Requirement already satisfied: opentelemetry-api<2.0.0,>=1.30.0 in /opt/homebrew/lib/python3.11/site-packages (from strands-agents) (1.31.1)\n",
      "Requirement already satisfied: opentelemetry-sdk<2.0.0,>=1.30.0 in /opt/homebrew/lib/python3.11/site-packages (from strands-agents) (1.31.1)\n",
      "Requirement already satisfied: pydantic<3.0.0,>=2.0.0 in /opt/homebrew/lib/python3.11/site-packages (from strands-agents) (2.10.2)\n",
      "Requirement already satisfied: typing-extensions<5.0.0,>=4.13.2 in /opt/homebrew/lib/python3.11/site-packages (from strands-agents) (4.13.2)\n",
      "Requirement already satisfied: watchdog<7.0.0,>=6.0.0 in /opt/homebrew/lib/python3.11/site-packages (from strands-agents) (6.0.0)\n",
      "Requirement already satisfied: anyio>=4.5 in /opt/homebrew/lib/python3.11/site-packages (from mcp) (4.9.0)\n",
      "Requirement already satisfied: httpx-sse>=0.4 in /opt/homebrew/lib/python3.11/site-packages (from mcp) (0.4.0)\n",
      "Requirement already satisfied: httpx>=0.27 in /opt/homebrew/lib/python3.11/site-packages (from mcp) (0.28.1)\n",
      "Requirement already satisfied: jsonschema>=4.20.0 in /opt/homebrew/lib/python3.11/site-packages (from mcp) (4.24.0)\n",
      "Requirement already satisfied: pydantic-settings>=2.5.2 in /opt/homebrew/lib/python3.11/site-packages (from mcp) (2.8.1)\n",
      "Requirement already satisfied: python-multipart>=0.0.9 in /opt/homebrew/lib/python3.11/site-packages (from mcp) (0.0.20)\n",
      "Requirement already satisfied: sse-starlette>=1.6.1 in /opt/homebrew/lib/python3.11/site-packages (from mcp) (2.2.1)\n",
      "Requirement already satisfied: starlette>=0.27 in /opt/homebrew/lib/python3.11/site-packages (from mcp) (0.46.2)\n",
      "Requirement already satisfied: uvicorn>=0.23.1 in /opt/homebrew/lib/python3.11/site-packages (from mcp) (0.34.2)\n",
      "Requirement already satisfied: jmespath<2.0.0,>=0.7.1 in /opt/homebrew/lib/python3.11/site-packages (from boto3<2.0.0,>=1.26.0->strands-agents) (1.0.1)\n",
      "Requirement already satisfied: s3transfer<0.14.0,>=0.13.0 in /opt/homebrew/lib/python3.11/site-packages (from boto3<2.0.0,>=1.26.0->strands-agents) (0.13.0)\n",
      "Requirement already satisfied: python-dateutil<3.0.0,>=2.1 in /opt/homebrew/lib/python3.11/site-packages (from botocore<2.0.0,>=1.29.0->strands-agents) (2.8.2)\n",
      "Requirement already satisfied: urllib3!=2.2.0,<3,>=1.25.4 in /opt/homebrew/lib/python3.11/site-packages (from botocore<2.0.0,>=1.29.0->strands-agents) (2.5.0)\n",
      "Requirement already satisfied: deprecated>=1.2.6 in /opt/homebrew/lib/python3.11/site-packages (from opentelemetry-api<2.0.0,>=1.30.0->strands-agents) (1.2.18)\n",
      "Requirement already satisfied: importlib-metadata<8.7.0,>=6.0 in /opt/homebrew/lib/python3.11/site-packages (from opentelemetry-api<2.0.0,>=1.30.0->strands-agents) (6.8.0)\n",
      "Requirement already satisfied: zipp>=0.5 in /opt/homebrew/lib/python3.11/site-packages (from importlib-metadata<8.7.0,>=6.0->opentelemetry-api<2.0.0,>=1.30.0->strands-agents) (3.16.2)\n",
      "Requirement already satisfied: opentelemetry-semantic-conventions==0.52b1 in /opt/homebrew/lib/python3.11/site-packages (from opentelemetry-sdk<2.0.0,>=1.30.0->strands-agents) (0.52b1)\n",
      "Requirement already satisfied: annotated-types>=0.6.0 in /opt/homebrew/lib/python3.11/site-packages (from pydantic<3.0.0,>=2.0.0->strands-agents) (0.7.0)\n",
      "Requirement already satisfied: pydantic-core==2.27.1 in /opt/homebrew/lib/python3.11/site-packages (from pydantic<3.0.0,>=2.0.0->strands-agents) (2.27.1)\n",
      "Requirement already satisfied: six>=1.5 in /opt/homebrew/lib/python3.11/site-packages (from python-dateutil<3.0.0,>=2.1->botocore<2.0.0,>=1.29.0->strands-agents) (1.16.0)\n",
      "Requirement already satisfied: aws-requests-auth<0.5.0,>=0.4.3 in /opt/homebrew/lib/python3.11/site-packages (from strands-agents-tools) (0.4.3)\n",
      "Requirement already satisfied: colorama<0.5.0,>=0.4.6 in /opt/homebrew/lib/python3.11/site-packages (from strands-agents-tools) (0.4.6)\n",
      "Requirement already satisfied: dill<0.5.0,>=0.4.0 in /opt/homebrew/lib/python3.11/site-packages (from strands-agents-tools) (0.4.0)\n",
      "Requirement already satisfied: pillow<12.0.0,>=11.2.1 in /opt/homebrew/lib/python3.11/site-packages (from strands-agents-tools) (11.3.0)\n",
      "Requirement already satisfied: prompt-toolkit<4.0.0,>=3.0.51 in /Users/shamithi/Library/Python/3.11/lib/python/site-packages (from strands-agents-tools) (3.0.51)\n",
      "Requirement already satisfied: pyjwt<3.0.0,>=2.10.1 in /opt/homebrew/lib/python3.11/site-packages (from strands-agents-tools) (2.10.1)\n",
      "Requirement already satisfied: rich<15.0.0,>=14.0.0 in /opt/homebrew/lib/python3.11/site-packages (from strands-agents-tools) (14.0.0)\n",
      "Requirement already satisfied: slack-bolt<2.0.0,>=1.23.0 in /opt/homebrew/lib/python3.11/site-packages (from strands-agents-tools) (1.23.0)\n",
      "Requirement already satisfied: sympy<2.0.0,>=1.12.0 in /opt/homebrew/lib/python3.11/site-packages (from strands-agents-tools) (1.14.0)\n",
      "Requirement already satisfied: tenacity<10.0.0,>=9.1.2 in /opt/homebrew/lib/python3.11/site-packages (from strands-agents-tools) (9.1.2)\n",
      "Requirement already satisfied: requests>=0.14.0 in /opt/homebrew/lib/python3.11/site-packages (from aws-requests-auth<0.5.0,>=0.4.3->strands-agents-tools) (2.32.4)\n",
      "Requirement already satisfied: wcwidth in /Users/shamithi/Library/Python/3.11/lib/python/site-packages (from prompt-toolkit<4.0.0,>=3.0.51->strands-agents-tools) (0.2.13)\n",
      "Requirement already satisfied: markdown-it-py>=2.2.0 in /opt/homebrew/lib/python3.11/site-packages (from rich<15.0.0,>=14.0.0->strands-agents-tools) (3.0.0)\n",
      "Requirement already satisfied: pygments<3.0.0,>=2.13.0 in /opt/homebrew/lib/python3.11/site-packages (from rich<15.0.0,>=14.0.0->strands-agents-tools) (2.16.1)\n",
      "Requirement already satisfied: slack_sdk<4,>=3.35.0 in /opt/homebrew/lib/python3.11/site-packages (from slack-bolt<2.0.0,>=1.23.0->strands-agents-tools) (3.35.0)\n",
      "Requirement already satisfied: mpmath<1.4,>=1.1.0 in /opt/homebrew/lib/python3.11/site-packages (from sympy<2.0.0,>=1.12.0->strands-agents-tools) (1.3.0)\n",
      "Requirement already satisfied: idna>=2.8 in /opt/homebrew/lib/python3.11/site-packages (from anyio>=4.5->mcp) (3.4)\n",
      "Requirement already satisfied: sniffio>=1.1 in /opt/homebrew/lib/python3.11/site-packages (from anyio>=4.5->mcp) (1.3.0)\n",
      "Requirement already satisfied: wrapt<2,>=1.10 in /opt/homebrew/lib/python3.11/site-packages (from deprecated>=1.2.6->opentelemetry-api<2.0.0,>=1.30.0->strands-agents) (1.17.2)\n",
      "Requirement already satisfied: certifi in /opt/homebrew/lib/python3.11/site-packages (from httpx>=0.27->mcp) (2025.6.15)\n",
      "Requirement already satisfied: httpcore==1.* in /opt/homebrew/lib/python3.11/site-packages (from httpx>=0.27->mcp) (1.0.8)\n",
      "Requirement already satisfied: h11<0.15,>=0.13 in /opt/homebrew/lib/python3.11/site-packages (from httpcore==1.*->httpx>=0.27->mcp) (0.14.0)\n",
      "Requirement already satisfied: attrs>=22.2.0 in /opt/homebrew/lib/python3.11/site-packages (from jsonschema>=4.20.0->mcp) (23.1.0)\n",
      "Requirement already satisfied: jsonschema-specifications>=2023.03.6 in /opt/homebrew/lib/python3.11/site-packages (from jsonschema>=4.20.0->mcp) (2023.7.1)\n",
      "Requirement already satisfied: referencing>=0.28.4 in /opt/homebrew/lib/python3.11/site-packages (from jsonschema>=4.20.0->mcp) (0.30.2)\n",
      "Requirement already satisfied: rpds-py>=0.7.1 in /opt/homebrew/lib/python3.11/site-packages (from jsonschema>=4.20.0->mcp) (0.9.2)\n",
      "Requirement already satisfied: mdurl~=0.1 in /opt/homebrew/lib/python3.11/site-packages (from markdown-it-py>=2.2.0->rich<15.0.0,>=14.0.0->strands-agents-tools) (0.1.2)\n",
      "Requirement already satisfied: python-dotenv>=0.21.0 in /opt/homebrew/lib/python3.11/site-packages (from pydantic-settings>=2.5.2->mcp) (1.1.0)\n",
      "Requirement already satisfied: charset_normalizer<4,>=2 in /opt/homebrew/lib/python3.11/site-packages (from requests>=0.14.0->aws-requests-auth<0.5.0,>=0.4.3->strands-agents-tools) (3.2.0)\n",
      "Requirement already satisfied: click>=7.0 in /opt/homebrew/lib/python3.11/site-packages (from uvicorn>=0.23.1->mcp) (8.1.6)\n"
     ]
    }
   ],
   "source": [
    "!pip install strands-agents strands-agents-tools mcp"
   ]
  },
  {
   "cell_type": "code",
   "execution_count": null,
   "id": "de079de3-efb6-43bf-beff-cea056850a97",
   "metadata": {},
   "outputs": [],
   "source": [
    "import os\n",
    "import time\n",
    "import boto3\n",
    "import logging\n",
    "import botocore\n",
    "import json\n",
    "from textwrap import dedent\n",
    "import sys\n",
    "import pickle\n",
    "from strands.tools.mcp import MCPClient\n",
    "from mcp.client.streamable_http import streamablehttp_client\n",
    "\n",
    "\n",
    "\n",
    "from strands import Agent, tool\n",
    "from strands_tools import retrieve, calculator\n",
    "\n",
    "#from utils.kb_helper import KnowledgeBaseHelper\n",
    "\n",
    "\n",
    "sys.path.insert(0, '..') \n",
    "\n",
    "%load_ext autoreload\n",
    "%autoreload 2\n",
    "\n",
    "from src.utils.secrets_helper import SecretsHelper\n",
    "secrets_helper = SecretsHelper(region_name=\"us-east-1\")"
   ]
  },
  {
   "cell_type": "code",
   "execution_count": 1,
   "id": "a7bae2b3-0bd5-403f-ac21-0169803910a6",
   "metadata": {},
   "outputs": [
    {
     "ename": "NameError",
     "evalue": "name 'logging' is not defined",
     "output_type": "error",
     "traceback": [
      "\u001b[0;31m---------------------------------------------------------------------------\u001b[0m",
      "\u001b[0;31mNameError\u001b[0m                                 Traceback (most recent call last)",
      "Cell \u001b[0;32mIn[1], line 1\u001b[0m\n\u001b[0;32m----> 1\u001b[0m \u001b[43mlogging\u001b[49m\u001b[38;5;241m.\u001b[39mbasicConfig(\u001b[38;5;28mformat\u001b[39m\u001b[38;5;241m=\u001b[39m\u001b[38;5;124m'\u001b[39m\u001b[38;5;124m[\u001b[39m\u001b[38;5;132;01m%(asctime)s\u001b[39;00m\u001b[38;5;124m] p\u001b[39m\u001b[38;5;132;01m%(process)s\u001b[39;00m\u001b[38;5;124m \u001b[39m\u001b[38;5;124m{\u001b[39m\u001b[38;5;132;01m%(filename)s\u001b[39;00m\u001b[38;5;124m:\u001b[39m\u001b[38;5;132;01m%(lineno)d\u001b[39;00m\u001b[38;5;124m} \u001b[39m\u001b[38;5;132;01m%(levelname)s\u001b[39;00m\u001b[38;5;124m - \u001b[39m\u001b[38;5;132;01m%(message)s\u001b[39;00m\u001b[38;5;124m'\u001b[39m,\n\u001b[1;32m      2\u001b[0m                     level\u001b[38;5;241m=\u001b[39mlogging\u001b[38;5;241m.\u001b[39mINFO)\n\u001b[1;32m      3\u001b[0m logger \u001b[38;5;241m=\u001b[39m logging\u001b[38;5;241m.\u001b[39mgetLogger(\u001b[38;5;18m__name__\u001b[39m)\n\u001b[1;32m      4\u001b[0m boto3\u001b[38;5;241m.\u001b[39mset_stream_logger(name\u001b[38;5;241m=\u001b[39m\u001b[38;5;124m'\u001b[39m\u001b[38;5;124mbotocore.credentials\u001b[39m\u001b[38;5;124m'\u001b[39m, level\u001b[38;5;241m=\u001b[39mlogging\u001b[38;5;241m.\u001b[39mDEBUG)\n",
      "\u001b[0;31mNameError\u001b[0m: name 'logging' is not defined"
     ]
    }
   ],
   "source": [
    "logging.basicConfig(format='[%(asctime)s] p%(process)s {%(filename)s:%(lineno)d} %(levelname)s - %(message)s',\n",
    "                    level=logging.INFO)\n",
    "logger = logging.getLogger(__name__)\n",
    "boto3.set_stream_logger(name='botocore.credentials', level=logging.DEBUG)"
   ]
  },
  {
   "cell_type": "code",
   "execution_count": 3,
   "id": "2e79386b-d639-4894-96d1-cb5180e2fc73",
   "metadata": {},
   "outputs": [],
   "source": [
    "agent_foundation_models = [ \n",
    "    \"amazon.nova-lite-v1:0\",\n",
    "    \"us.anthropic.claude-3-5-sonnet-20241022-v2:0\"\n",
    "    ]"
   ]
  },
  {
   "cell_type": "markdown",
   "id": "086b3f2e-eacf-4aee-8d44-db6bd456c2de",
   "metadata": {},
   "source": []
  },
  {
   "cell_type": "code",
   "execution_count": 4,
   "id": "79ca1809-e3c8-410f-be9f-3cf82ce73a6a",
   "metadata": {},
   "outputs": [
    {
     "name": "stdout",
     "output_type": "stream",
     "text": [
      "KnowledgeBase ID: OJOFGNEAFI\n"
     ]
    }
   ],
   "source": [
    "%store -r kb_id\n",
    "print(\"KnowledgeBase ID:\",kb_id)"
   ]
  },
  {
   "cell_type": "code",
   "execution_count": 5,
   "id": "a9f8c82d-acf2-49af-af23-5779c01dfc19",
   "metadata": {},
   "outputs": [],
   "source": [
    "# Initialize knowledge base helper\n",
    "# Set knowledge base ID as environment variable so that retrieve tool can use it\n",
    "os.environ[\"KNOWLEDGE_BASE_ID\"] = kb_id\n",
    "\n",
    "#use the kb_id to initialise the KB helper object\n",
    "#kb_helper = KnowledgeBaseHelper(kb_id)"
   ]
  },
  {
   "cell_type": "code",
   "execution_count": 6,
   "id": "dd67cc8d",
   "metadata": {},
   "outputs": [
    {
     "name": "stdout",
     "output_type": "stream",
     "text": [
      "OJOFGNEAFI\n"
     ]
    }
   ],
   "source": [
    "value = os.getenv('KNOWLEDGE_BASE_ID')\n",
    "print(value)"
   ]
  },
  {
   "cell_type": "code",
   "execution_count": 22,
   "id": "4b3c4c08",
   "metadata": {},
   "outputs": [
    {
     "name": "stdout",
     "output_type": "stream",
     "text": [
      "OJOFGNEAFI\r\n"
     ]
    }
   ],
   "source": [
    "!echo $KNOWLEDGE_BASE_ID"
   ]
  },
  {
   "cell_type": "markdown",
   "id": "beafeb16-fe5f-4250-ae61-9431e794ab94",
   "metadata": {},
   "source": [
    "# 1. Create the agent for general mortgage questions.\n",
    "\n",
    "We will use the helper Agent class which provides methods for creating, configuring, and invoking individual Agents, including\n",
    "associating them with Guardrails, Knowledge Bases, and Tools.\n",
    "\n",
    "For this Agent we will also associate our Knowledge base created earlier. "
   ]
  },
  {
   "cell_type": "code",
   "execution_count": 23,
   "id": "4b0fd7ec-b040-4621-b934-3d1f7dd20d2d",
   "metadata": {},
   "outputs": [],
   "source": [
    "@tool\n",
    "def answer_general_mortgage_questions(query):\n",
    "    # Create the General Mortgage Agent\n",
    "    general_mortgage_agent = Agent(\n",
    "        model=\"anthropic.claude-3-sonnet-20240229-v1:0\",\n",
    "        tools=[\n",
    "           # Pass the knowledge base ID to the retrieve tool\n",
    "           lambda query, **kwargs: retrieve(query, knowledge_base_id=kb_id, **kwargs)\n",
    "        ],\n",
    "        system_prompt=\"\"\"\n",
    "        You are a mortgage bot, and can answer questions about mortgage refinancing and tradeoffs of mortgage types. Greet the customer first. Respond to the greeting by another greeting    \n",
    "        \n",
    "        You can:\n",
    "        1. Provide general information about mortgages\n",
    "        2. Handle conversations about general mortgage questions, like high level concepts of refinincing or tradeoffs of 15-year vs 30-year terms.\n",
    "        3. Offer guidance on the mortgage refinancing and tradeoffs of mortgage types.\n",
    "        4. Access a knowledge base of mortgage information\n",
    "        5. Only answer from the knowledge base and not from your general knowledge. If you dont have the answer from Knowledge base, say \"I dont know\"\n",
    "        \n",
    "        When helping users:\n",
    "        - Provide clear explanations\n",
    "        - Use plain language to explain complex financial terms\n",
    "        - Offer balanced advice considering both pros and cons\n",
    "        - Be informative without making specific financial recommendations\n",
    "        - Use the knowledge base for detailed information to answer general questions about mortgages, like how to refinance, or the difference between 15-year and 30-year mortgages\n",
    "        \n",
    "        Remember that you're providing general mortgage information, not financial advice.\n",
    "        Always clarify that users should consult with a financial advisor for personalized advice.\n",
    "        \"\"\"\n",
    "    )\n",
    "    return str(general_mortgage_agent(query))\n",
    "\n"
   ]
  },
  {
   "cell_type": "code",
   "execution_count": 24,
   "id": "ac97adee",
   "metadata": {},
   "outputs": [
    {
     "data": {
      "text/plain": [
       "'\\n@tool\\ndef answer_general_mortgage_questions(query):\\n    # Create the General Mortgage Agent\\n    general_mortgage_agent = Agent(\\n        model=\"anthropic.claude-3-sonnet-20240229-v1:0\",\\n        tools=[retrieve],\\n        system_prompt=\"\"\"\\n        You are a mortgage bot, and can answer questions about mortgage refinancing and tradeoffs of mortgage types. Greet the customer first. Respond to the greeting by another greeting    \\n        \\n        You can:\\n        1. Provide general information about mortgages\\n        2. Handle conversations about general mortgage questions, like high level concepts of refinincing or tradeoffs of 15-year vs 30-year terms.\\n        3. Offer guidance on the mortgage refinancing and tradeoffs of mortgage types.\\n        4. Access a knowledge base of mortgage information\\n        5. Only answer from the knowledge base and not from your general knowledge. If you dont have the answer from Knowledge base, say \"I dont know\"\\n        \\n        When helping users:\\n        - Provide clear explanations\\n        - Use plain language to explain complex financial terms\\n        - Offer balanced advice considering both pros and cons\\n        - Be informative without making specific financial recommendations\\n        - Use the knowledge base for detailed information to answer general questions about mortgages, like how to refinance, or the difference between 15-year and 30-year mortgages\\n        \\n        Remember that you\\'re providing general mortgage information, not financial advice.\\n        Always clarify that users should consult with a financial advisor for personalized advice.\\n        \"\"\"\\n    )\\n    return str(general_mortgage_agent(query, tool_params={\\n                     \"retrieve\": {\\n                         \"knowledge_base_id\": kb_id,\\n                         \"max_results\": 5\\n                     }\\n                 }))\\n\\n'"
      ]
     },
     "execution_count": 24,
     "metadata": {},
     "output_type": "execute_result"
    }
   ],
   "source": [
    "#alternative approach to pass kb id to the retrieve tool\n",
    "'''\n",
    "@tool\n",
    "def answer_general_mortgage_questions(query):\n",
    "    # Create the General Mortgage Agent\n",
    "    general_mortgage_agent = Agent(\n",
    "        model=\"anthropic.claude-3-sonnet-20240229-v1:0\",\n",
    "        tools=[retrieve],\n",
    "        system_prompt=\"\"\"\n",
    "        You are a mortgage bot, and can answer questions about mortgage refinancing and tradeoffs of mortgage types. Greet the customer first. Respond to the greeting by another greeting    \n",
    "        \n",
    "        You can:\n",
    "        1. Provide general information about mortgages\n",
    "        2. Handle conversations about general mortgage questions, like high level concepts of refinincing or tradeoffs of 15-year vs 30-year terms.\n",
    "        3. Offer guidance on the mortgage refinancing and tradeoffs of mortgage types.\n",
    "        4. Access a knowledge base of mortgage information\n",
    "        5. Only answer from the knowledge base and not from your general knowledge. If you dont have the answer from Knowledge base, say \"I dont know\"\n",
    "        \n",
    "        When helping users:\n",
    "        - Provide clear explanations\n",
    "        - Use plain language to explain complex financial terms\n",
    "        - Offer balanced advice considering both pros and cons\n",
    "        - Be informative without making specific financial recommendations\n",
    "        - Use the knowledge base for detailed information to answer general questions about mortgages, like how to refinance, or the difference between 15-year and 30-year mortgages\n",
    "        \n",
    "        Remember that you're providing general mortgage information, not financial advice.\n",
    "        Always clarify that users should consult with a financial advisor for personalized advice.\n",
    "        \"\"\"\n",
    "    )\n",
    "    return str(general_mortgage_agent(query, tool_params={\n",
    "                     \"retrieve\": {\n",
    "                         \"knowledge_base_id\": kb_id,\n",
    "                         \"max_results\": 5\n",
    "                     }\n",
    "                 }))\n",
    "\n",
    "'''"
   ]
  },
  {
   "cell_type": "code",
   "execution_count": 25,
   "id": "aec07509-2dc4-4607-8236-291967452cbc",
   "metadata": {},
   "outputs": [],
   "source": [
    "# Test the General agent and confirm that it consults the KB to answer the questions"
   ]
  },
  {
   "cell_type": "code",
   "execution_count": null,
   "id": "727e0cdc-3acf-4f17-aa65-4a4289c8f1da",
   "metadata": {},
   "outputs": [],
   "source": [
    "print(answer_general_mortgage_questions(\"What is the benefit of refinancing, if any?\"))"
   ]
  },
  {
   "cell_type": "markdown",
   "id": "29dfc671-b48b-4871-b563-75f4904448fc",
   "metadata": {},
   "source": [
    "## 2. Create the agent for existing mortgage questions.\n",
    "\n",
    "Create the Agent for managing existing mortgages\n",
    "\n",
    "In this section we will go through all the steps to create an Agent for Amazon Bedrock. \n",
    "\n",
    "These are the steps to complete:\n",
    "    \n",
    "1. Create the new agent (with the helper function taking care of IAM role creation)\n",
    "2. Add an action group backed by a new Lambda function (with the helper function handling IAM role creation, Lambda function creation, adding the action group to the agent, and preparing the agent)"
   ]
  },
  {
   "cell_type": "markdown",
   "id": "e48af584-57c5-4450-bb37-097823a37f12",
   "metadata": {},
   "source": [
    "#### Create the Lambda function code\n",
    "Here we create a source code file for a new Lambda function to implement the action group for our Existing Mortgage agent. Notice the **TODO** section in the code below. In this example we have hardcoded the response back from the agent but in your environment this is where your business logic would reside. "
   ]
  },
  {
   "cell_type": "code",
   "execution_count": 27,
   "id": "0707a3b5-94a9-43c3-ac0d-9385257b6d37",
   "metadata": {},
   "outputs": [],
   "source": [
    "@tool\n",
    "def get_mortgage_details(customer_id):\n",
    "    # TODO: Implement real business logic to retrieve mortgage status\n",
    "    return {\n",
    "        \"account_number\": customer_id,\n",
    "        \"outstanding_principal\": 150000.0,\n",
    "        \"interest_rate\": 4.5,\n",
    "        \"maturity_date\": \"2030-06-30\",\n",
    "        \"payments_remaining\": 72,\n",
    "        \"last_payment_date\": \"2024-06-01\",\n",
    "        \"next_payment_due\": \"2024-07-01\",\n",
    "        \"next_payment_amount\": 1250.0\n",
    "    }\n"
   ]
  },
  {
   "cell_type": "code",
   "execution_count": 28,
   "id": "779ac2a0",
   "metadata": {},
   "outputs": [],
   "source": [
    "@tool\n",
    "def answer_existing_mortgage_questions(query):\n",
    "    # Create the Existing Mortgage Agent\n",
    "    existing_mortgage_agent = Agent(\n",
    "        model=\"anthropic.claude-3-sonnet-20240229-v1:0\",\n",
    "        tools=[\n",
    "           get_mortgage_details\n",
    "        ],\n",
    "        system_prompt=\"\"\"\n",
    "        You are an Existing Mortgage Assistant that helps customers with their current mortgages.\n",
    "\n",
    "        You can:\n",
    "        1. Provide information about a customer's existing mortgage\n",
    "        2. Check mortgage status including balance and payment information\n",
    "        3. Evaluate refinancing eligibility\n",
    "        4. Calculate payoff timelines with extra payments\n",
    "        5. Answer questions about mortgage terms and conditions\n",
    "\n",
    "        When helping users:\n",
    "        - Always verify the customer ID before providing information\n",
    "        - Provide clear explanations of mortgage details\n",
    "        - Format financial data in a readable way\n",
    "        - Explain payment schedules and upcoming due dates\n",
    "        - Offer guidance on refinancing options when appropriate\n",
    "        - Use the knowledge base for detailed information when needed\n",
    "\n",
    "        Remember that you're dealing with sensitive financial information, so maintain a professional tone\n",
    "        and ensure accuracy in all responses.\n",
    "        \"\"\"\n",
    "    )\n",
    "    return str(existing_mortgage_agent(query))\n",
    "\n"
   ]
  },
  {
   "cell_type": "markdown",
   "id": "b8f475a8-6162-4e04-a39d-bd2bf3ceb55c",
   "metadata": {},
   "source": [
    "Now we create the agent itself, giving it a name, \n",
    "a brief description, and most importantly, a set of instructions.\n",
    "\n",
    "also briefly explain action group\n",
    "\n",
    "we add an action group to the new agent"
   ]
  },
  {
   "cell_type": "code",
   "execution_count": null,
   "id": "918c7f13-d1f8-43a4-9745-4a487b770589",
   "metadata": {},
   "outputs": [],
   "source": []
  },
  {
   "cell_type": "code",
   "execution_count": null,
   "id": "13204caf-acfe-441c-b114-69112583e803",
   "metadata": {},
   "outputs": [],
   "source": [
    "#test\n",
    "\n",
    "print(answer_existing_mortgage_questions(\"I'm customer 98991. when's my next payment due?\"))"
   ]
  },
  {
   "cell_type": "markdown",
   "id": "ea68e8de",
   "metadata": {},
   "source": [
    "** Install the below MCP python package before running the MCP server**"
   ]
  },
  {
   "cell_type": "code",
   "execution_count": null,
   "id": "6d668d1b",
   "metadata": {},
   "outputs": [],
   "source": [
    "!pip install mcp"
   ]
  },
  {
   "cell_type": "markdown",
   "id": "ab6a7ac5",
   "metadata": {},
   "source": [
    "**Run the MCP server** provided in the mcp_agent folder. Go to the SageMaker terminal from this notebook and navigate to the agent-mcp foler and run the below command:\n",
    "\n",
    "python creditcheck_server_http.py\n",
    "\n",
    "This will start the MCP server that can accessible through this url: \"http://0.0.0.0:8080/mcp\".\n",
    "\n",
    "We will connect to this server through Strands MCP client, list the tools provided by the MCP server and add the tools to the tool list provided the agent as shown int he cell below"
   ]
  },
  {
   "cell_type": "code",
   "execution_count": 51,
   "id": "ea6f8012",
   "metadata": {},
   "outputs": [],
   "source": [
    "# Create MCP HTTP client\n",
    "# Replace with your actual MCP server URL\n",
    "mcp_client = MCPClient(lambda: streamablehttp_client(\n",
    "    url=\"http://0.0.0.0:8080/mcp\"  # Your MCP server URL\n",
    "    #streaming=True  # Enable streaming\n",
    "))\n"
   ]
  },
  {
   "cell_type": "markdown",
   "id": "0d67d01f-2656-4d5f-8786-6341b07e0dea",
   "metadata": {},
   "source": [
    "Create the supervisor agent and provide both custom tools as well as the MCP tools"
   ]
  },
  {
   "cell_type": "code",
   "execution_count": 52,
   "id": "d440099b-783f-4cf5-befc-4ab52e5b85cc",
   "metadata": {},
   "outputs": [],
   "source": [
    "\n",
    "def create_supervisor_agent():\n",
    "    \"\"\"\n",
    "    Create a supervisor agent that coordinates between the specialized agents\n",
    "    and integrates MCP tools\n",
    "    \n",
    "    Returns:\n",
    "        Agent: The supervisor agent\n",
    "    \"\"\"\n",
    "    # Connect to MCP server and get tools\n",
    "    with mcp_client:\n",
    "        try:\n",
    "            # Get MCP tools\n",
    "            mcp_tools = mcp_client.list_tools_sync()\n",
    "            logger.info(f\"Loaded {len(mcp_tools)} MCP tools\")\n",
    "            \n",
    "            # Define supervisor system prompt\n",
    "            supervisor_system_prompt = \"\"\"\n",
    "            Your role is to provide a unified experience for all things related to mortgages. You are a supervisor who oversees answering\n",
    "            customer questions related to general mortgages questions and queries about the existing mortgage.\n",
    "\n",
    "            For general questions, use the answer_general_mortgage_questions tool.\n",
    "            For questions on existing mortgage, use the answer_existing_mortgage_questions tool.\n",
    "            If asked for a complicated calculation, use your code interpreter to be sure it's done accurately.\n",
    "            \n",
    "            You also have access to MCP tools that can perform additional function to get the credit score of existing customer.\n",
    "            Use these tools when appropriate for the customer's query.\n",
    "            \n",
    "            Synthesize the details from the response of the tools used into a comprehensive answer provided back to the customer.\n",
    "            \"\"\"\n",
    "            \n",
    "            # Combine custom tools with MCP tools\n",
    "            all_tools = [\n",
    "                answer_general_mortgage_questions, \n",
    "                answer_existing_mortgage_questions, \n",
    "                calculator\n",
    "            ] + mcp_tools\n",
    "            \n",
    "            # Create the supervisor agent\n",
    "            supervisor = Agent(\n",
    "                model=\"anthropic.claude-3-sonnet-20240229-v1:0\",\n",
    "                system_prompt=supervisor_system_prompt,\n",
    "                tools=all_tools\n",
    "            )\n",
    "            \n",
    "            return supervisor\n",
    "            \n",
    "        except Exception as e:\n",
    "            logger.error(f\"Error creating supervisor agent with MCP tools: {str(e)}\")\n",
    "            \n",
    "            # Fallback to creating supervisor without MCP tools\n",
    "            logger.info(\"Creating supervisor agent without MCP tools\")\n",
    "            supervisor = Agent(\n",
    "                model=\"anthropic.claude-3-sonnet-20240229-v1:0\",\n",
    "                system_prompt=\"\"\"\n",
    "                Your role is to provide a unified experience for all things related to mortgages. You are a supervisor who oversees answering\n",
    "                customer questions related to general mortgages questions and queries about the existing mortgage.\n",
    "\n",
    "                For general questions, use the answer_general_mortgage_questions tool.\n",
    "                For questions on existing mortgage, use the answer_existing_mortgage_questions tool.\n",
    "                If asked for a complicated calculation, use your code interpreter to be sure it's done accurately.\n",
    "                \n",
    "                Synthesize the details from the response of the tools used into a comprehensive answer provided back to the customer.\n",
    "                \"\"\",\n",
    "                tools=[answer_general_mortgage_questions, answer_existing_mortgage_questions, calculator]\n",
    "            )\n",
    "            \n",
    "            return supervisor"
   ]
  },
  {
   "cell_type": "code",
   "execution_count": 53,
   "id": "2256a031",
   "metadata": {},
   "outputs": [],
   "source": [
    "# need to run this on terminal ->python creditcheck_server_http.py"
   ]
  },
  {
   "cell_type": "code",
   "execution_count": 54,
   "id": "46ba7ae5",
   "metadata": {},
   "outputs": [],
   "source": [
    "def answer_customer_query(query):\n",
    "    \"\"\"\n",
    "    Process the customer query through the multi-agent system with MCP integration\n",
    "    \n",
    "    Args:\n",
    "        query: The customer's query\n",
    "        \n",
    "    Returns:\n",
    "        str: The response from the supervisor agent\n",
    "    \"\"\"\n",
    "    # Create supervisor agent with MCP tools\n",
    "    supervisor = create_supervisor_agent()\n",
    "    \n",
    "    # Process the query\n",
    "    return supervisor(f\"Provide a comprehensive answer for this query: {query}\")"
   ]
  },
  {
   "cell_type": "code",
   "execution_count": 55,
   "id": "cac093b7-aab4-432a-b704-e8db3afca697",
   "metadata": {},
   "outputs": [
    {
     "name": "stderr",
     "output_type": "stream",
     "text": [
      "[2025-06-18 11:46:23,850] p2743 {streamable_http.py:465} INFO - Connecting to StreamableHTTP endpoint: http://0.0.0.0:8080/mcp\n",
      "[2025-06-18 11:46:23,867] p2743 {_client.py:1786} INFO - HTTP Request: POST http://0.0.0.0:8080/mcp \"HTTP/1.1 307 Temporary Redirect\"\n",
      "[2025-06-18 11:46:23,876] p2743 {_client.py:1786} INFO - HTTP Request: POST http://0.0.0.0:8080/mcp/ \"HTTP/1.1 200 OK\"\n",
      "[2025-06-18 11:46:23,876] p2743 {streamable_http.py:140} INFO - Received session ID: d20cecb3d97546b8b8e49c1188c5d606\n",
      "[2025-06-18 11:46:23,886] p2743 {_client.py:1786} INFO - HTTP Request: POST http://0.0.0.0:8080/mcp \"HTTP/1.1 307 Temporary Redirect\"\n",
      "[2025-06-18 11:46:23,888] p2743 {_client.py:1786} INFO - HTTP Request: GET http://0.0.0.0:8080/mcp \"HTTP/1.1 307 Temporary Redirect\"\n",
      "[2025-06-18 11:46:23,892] p2743 {_client.py:1786} INFO - HTTP Request: POST http://0.0.0.0:8080/mcp/ \"HTTP/1.1 202 Accepted\"\n",
      "[2025-06-18 11:46:23,896] p2743 {_client.py:1786} INFO - HTTP Request: GET http://0.0.0.0:8080/mcp/ \"HTTP/1.1 200 OK\"\n",
      "[2025-06-18 11:46:23,898] p2743 {_client.py:1786} INFO - HTTP Request: POST http://0.0.0.0:8080/mcp \"HTTP/1.1 307 Temporary Redirect\"\n",
      "[2025-06-18 11:46:23,902] p2743 {_client.py:1786} INFO - HTTP Request: POST http://0.0.0.0:8080/mcp/ \"HTTP/1.1 200 OK\"\n",
      "[2025-06-18 11:46:23,906] p2743 {629244702.py:14} INFO - Loaded 1 MCP tools\n",
      "2025-06-18 11:46:23,917 botocore.credentials [DEBUG] Looking for credentials via: env\n",
      "[2025-06-18 11:46:23,917] p2743 {credentials.py:2166} DEBUG - Looking for credentials via: env\n",
      "2025-06-18 11:46:23,919 botocore.credentials [DEBUG] Looking for credentials via: assume-role\n",
      "[2025-06-18 11:46:23,919] p2743 {credentials.py:2166} DEBUG - Looking for credentials via: assume-role\n",
      "2025-06-18 11:46:23,922 botocore.credentials [DEBUG] Looking for credentials via: assume-role-with-web-identity\n",
      "[2025-06-18 11:46:23,922] p2743 {credentials.py:2166} DEBUG - Looking for credentials via: assume-role-with-web-identity\n",
      "2025-06-18 11:46:23,924 botocore.credentials [DEBUG] Looking for credentials via: sso\n",
      "[2025-06-18 11:46:23,924] p2743 {credentials.py:2166} DEBUG - Looking for credentials via: sso\n",
      "2025-06-18 11:46:23,925 botocore.credentials [DEBUG] Looking for credentials via: shared-credentials-file\n",
      "[2025-06-18 11:46:23,925] p2743 {credentials.py:2166} DEBUG - Looking for credentials via: shared-credentials-file\n",
      "2025-06-18 11:46:23,927 botocore.credentials [DEBUG] Looking for credentials via: custom-process\n",
      "[2025-06-18 11:46:23,927] p2743 {credentials.py:2166} DEBUG - Looking for credentials via: custom-process\n",
      "2025-06-18 11:46:23,928 botocore.credentials [DEBUG] Looking for credentials via: config-file\n",
      "[2025-06-18 11:46:23,928] p2743 {credentials.py:2166} DEBUG - Looking for credentials via: config-file\n",
      "2025-06-18 11:46:23,929 botocore.credentials [DEBUG] Looking for credentials via: ec2-credentials-file\n",
      "[2025-06-18 11:46:23,929] p2743 {credentials.py:2166} DEBUG - Looking for credentials via: ec2-credentials-file\n",
      "2025-06-18 11:46:23,930 botocore.credentials [DEBUG] Looking for credentials via: boto-config\n",
      "[2025-06-18 11:46:23,930] p2743 {credentials.py:2166} DEBUG - Looking for credentials via: boto-config\n",
      "2025-06-18 11:46:23,931 botocore.credentials [DEBUG] Looking for credentials via: container-role\n",
      "[2025-06-18 11:46:23,931] p2743 {credentials.py:2166} DEBUG - Looking for credentials via: container-role\n",
      "2025-06-18 11:46:23,932 botocore.credentials [DEBUG] Looking for credentials via: iam-role\n",
      "[2025-06-18 11:46:23,932] p2743 {credentials.py:2166} DEBUG - Looking for credentials via: iam-role\n",
      "2025-06-18 11:46:23,941 botocore.credentials [INFO] Found credentials from IAM Role: BaseNotebookInstanceEc2InstanceRole\n",
      "[2025-06-18 11:46:23,941] p2743 {credentials.py:1132} INFO - Found credentials from IAM Role: BaseNotebookInstanceEc2InstanceRole\n",
      "[2025-06-18 11:46:23,990] p2743 {_client.py:1786} INFO - HTTP Request: DELETE http://0.0.0.0:8080/mcp \"HTTP/1.1 307 Temporary Redirect\"\n",
      "[2025-06-18 11:46:23,995] p2743 {_client.py:1786} INFO - HTTP Request: DELETE http://0.0.0.0:8080/mcp/ \"HTTP/1.1 200 OK\"\n"
     ]
    },
    {
     "name": "stdout",
     "output_type": "stream",
     "text": [
      "\n",
      "\n",
      "Invoking supervisor agent...\n",
      "\n",
      "\n",
      "\n",
      "\n",
      "Request: what is my credit score, my customer id is 1111\n",
      "\n",
      "\n",
      "\n",
      "Tool #1: credit_check\n"
     ]
    },
    {
     "name": "stderr",
     "output_type": "stream",
     "text": [
      "[2025-06-18 11:46:26,688] p2743 {tool_handler.py:108} ERROR - tool_name=<credit_check> | failed to process tool\n",
      "Traceback (most recent call last):\n",
      "  File \"/home/ec2-user/anaconda3/envs/python3/lib/python3.10/site-packages/strands/handlers/tool_handler.py\", line 105, in process\n",
      "    return tool_func.invoke(tool, **kwargs)\n",
      "  File \"/home/ec2-user/anaconda3/envs/python3/lib/python3.10/site-packages/strands/tools/mcp/mcp_agent_tool.py\", line 83, in invoke\n",
      "    return self.mcp_client.call_tool_sync(\n",
      "  File \"/home/ec2-user/anaconda3/envs/python3/lib/python3.10/site-packages/strands/tools/mcp/mcp_client.py\", line 189, in call_tool_sync\n",
      "    raise MCPClientInitializationError(CLIENT_SESSION_NOT_RUNNING_ERROR_MESSAGE)\n",
      "strands.types.exceptions.MCPClientInitializationError: the client session is not running. Ensure the agent is used within the MCP client context manager. For more information see: https://strandsagents.com/latest/user-guide/concepts/tools/mcp-tools/#mcpclientinitializationerror\n"
     ]
    },
    {
     "name": "stdout",
     "output_type": "stream",
     "text": [
      "\n",
      "\n",
      "I apologize, there seems to be an issue connecting to the credit check tool to retrieve your credit score based on your customer ID 1111. As an AI assistant without direct access to real financial systems, I cannot actually look up your credit score. \n",
      "\n",
      "However, I can provide some general information about credit scores:\n",
      "\n",
      "- Credit scores range from 300-850 for FICO scores and 501-990 for VantageScore models. Higher scores indicate lower credit risk.\n",
      "\n",
      "- Factors that influence credit scores include payment history, amounts owed, length of credit history, new credit applications, and credit mix.\n",
      "\n",
      "- Checking your own credit reports and scores from the major bureaus (Experian, Equifax, TransUnion) does not negatively impact your credit.\n",
      "\n",
      "- Most lenders use credit scores as part of their criteria for approving loans and setting interest rates. Higher scores generally qualify for better rates.\n",
      "\n",
      "- You are entitled to receive free annual credit reports from each bureau at AnnualCreditReport.com to review for accuracy.\n",
      "\n",
      "Let me know if you need any other general mortgage or credit related guidance! I'd be happy to provide more details within the scope of what an AI can discuss.\n",
      "\n",
      "I apologize, there seems to be an issue connecting to the credit check tool to retrieve your credit score based on your customer ID 1111. As an AI assistant without direct access to real financial systems, I cannot actually look up your credit score. \n",
      "\n",
      "However, I can provide some general information about credit scores:\n",
      "\n",
      "- Credit scores range from 300-850 for FICO scores and 501-990 for VantageScore models. Higher scores indicate lower credit risk.\n",
      "\n",
      "- Factors that influence credit scores include payment history, amounts owed, length of credit history, new credit applications, and credit mix.\n",
      "\n",
      "- Checking your own credit reports and scores from the major bureaus (Experian, Equifax, TransUnion) does not negatively impact your credit.\n",
      "\n",
      "- Most lenders use credit scores as part of their criteria for approving loans and setting interest rates. Higher scores generally qualify for better rates.\n",
      "\n",
      "- You are entitled to receive free annual credit reports from each bureau at AnnualCreditReport.com to review for accuracy.\n",
      "\n",
      "Let me know if you need any other general mortgage or credit related guidance! I'd be happy to provide more details within the scope of what an AI can discuss.\n",
      "\n"
     ]
    }
   ],
   "source": [
    "#test the supervisor agent\n",
    "print(\"\\n\\nInvoking supervisor agent...\\n\\n\")\n",
    "\n",
    "requests = [#\"I am customer: 3345, when’s my next payment due?\",\n",
    "            \"what is my credit score, my customer id is 1111\"\n",
    "            #\"what’s my balance after that payment, and what rate am I paying?\",\n",
    "            #\"why do so many people choose a 30-year mortgage??\",\n",
    "            #\"did you receive my employment verification doc yet? i sent it last week\",\n",
    "            #\"i’m getting ready to lock in on a rate. what have the rates looked like in last couple weeks?\",\n",
    "            # \"great. if i use the highest of those rates for $500K for 15 years, what’s my payment?\"\n",
    "            ]\n",
    "\n",
    "for request in requests:\n",
    "    print(f\"\\n\\nRequest: {request}\\n\\n\")\n",
    "    result = answer_customer_query(request)\n",
    "    time.sleep(10)\n",
    "    print(result)"
   ]
  },
  {
   "cell_type": "code",
   "execution_count": null,
   "id": "27df4122-1be8-49af-aa15-a264112a0a27",
   "metadata": {},
   "outputs": [],
   "source": []
  }
 ],
 "metadata": {
  "kernelspec": {
   "display_name": ".venv",
   "language": "python",
   "name": "python3"
  },
  "language_info": {
   "codemirror_mode": {
    "name": "ipython",
    "version": 3
   },
   "file_extension": ".py",
   "mimetype": "text/x-python",
   "name": "python",
   "nbconvert_exporter": "python",
   "pygments_lexer": "ipython3",
   "version": "3.12.4"
  }
 },
 "nbformat": 4,
 "nbformat_minor": 5
}
