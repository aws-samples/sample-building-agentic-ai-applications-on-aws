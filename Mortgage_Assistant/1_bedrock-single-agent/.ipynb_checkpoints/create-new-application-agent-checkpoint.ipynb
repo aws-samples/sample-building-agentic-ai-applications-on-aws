{
 "cells": [
  {
   "cell_type": "markdown",
   "id": "9ab389de",
   "metadata": {},
   "source": [
    "### Lab1 : Building an AI Agent using Amazon Bedrock Agents"
   ]
  },
  {
   "cell_type": "markdown",
   "id": "a4ed3af3",
   "metadata": {},
   "source": [
    "This notebook demonstrates the implementation of an AI Agent designed to guide potential home buyers through the mortgage pre-approval process. The assistant serves two primary functions:\n",
    "\n",
    "1. New Loan Application: Helps users initiate a new home loan application by collecting relevant financial information and personal details\n",
    "2. Loan Status Inquiry: Enables users to check the status of their existing home loan applications\n",
    "\n",
    "The notebook showcases how AI agents can be configured to interact with external tools and APIs. While the agent architecture is fully implemented, the notebook uses simulated tool implementations rather than connecting to actual financial services."
   ]
  },
  {
   "cell_type": "markdown",
   "id": "cf0085c3",
   "metadata": {},
   "source": [
    "Step 1 : Install the pre-requisites"
   ]
  },
  {
   "cell_type": "code",
   "execution_count": null,
   "id": "6eaedd6d-a2d6-4227-87b5-18cdc10d8e8a",
   "metadata": {},
   "outputs": [],
   "source": [
    "%pip install --upgrade -q -r ../src/requirements.txt"
   ]
  },
  {
   "cell_type": "markdown",
   "id": "8a80f584",
   "metadata": {},
   "source": [
    "Step 2 : Restart the kernel. If this does not work, click Kernel -> Restart Kernel option at the top"
   ]
  },
  {
   "cell_type": "code",
   "execution_count": null,
   "id": "9ff65ffd-14e4-46da-8872-d9d4418de1a3",
   "metadata": {},
   "outputs": [],
   "source": [
    "import IPython\n",
    "IPython.Application.instance().kernel.do_shutdown(True)"
   ]
  },
  {
   "cell_type": "markdown",
   "id": "c5cd47d6",
   "metadata": {},
   "source": [
    "Step 3: Import libraries and helper functions"
   ]
  },
  {
   "cell_type": "code",
   "execution_count": null,
   "id": "05b66abf-a9fe-4f2d-b9b6-55656aa3ba86",
   "metadata": {},
   "outputs": [],
   "source": [
    "import os\n",
    "import time\n",
    "import boto3\n",
    "import logging\n",
    "import botocore\n",
    "import json\n",
    "from textwrap import dedent\n",
    "\n",
    "%load_ext autoreload\n",
    "%autoreload 2"
   ]
  },
  {
   "cell_type": "markdown",
   "id": "dd07902a-2b7a-48f9-8361-8b93920990a0",
   "metadata": {},
   "source": [
    "In the following cell, we add `bedrock_agent_helper.py` on Python path. This file contain helper classes focused on making labs experience smooth. \n",
    "\n",
    "All interactions with Bedrock will be handled by these classes.\n",
    "\n",
    "Following methods will be used in this lab:\n",
    "\n",
    "From `bedrock_agent.py`:\n",
    "- `create_agent`: Create a new agent and respective IAM roles\n",
    "- `add_action_group_with_lambda`: Create a lambda function and add it as an action group for a previous created agent\n",
    "- `create_agent_alias`: Create an alias for this agent\n",
    "- `invoke`: Execute agent"
   ]
  },
  {
   "cell_type": "code",
   "execution_count": null,
   "id": "6a392497-9794-40a4-bf49-8b84b11b7a11",
   "metadata": {},
   "outputs": [],
   "source": [
    "import sys\n",
    "sys.path.insert(0, '..') \n",
    "\n",
    "from src.utils.bedrock_agent import AgentsForAmazonBedrock"
   ]
  },
  {
   "cell_type": "markdown",
   "id": "3b78e0d4",
   "metadata": {},
   "source": [
    "Step 4: Create Agent\n",
    "\n",
    "Create the bedrock agent. Review the instructions for the model and the list of tools provided. Each tool corresponds to a method in the python file we create  above (which becomes the lambda)"
   ]
  },
  {
   "cell_type": "code",
   "execution_count": null,
   "id": "35e5870c-7249-4478-9c62-042568cd489f",
   "metadata": {},
   "outputs": [],
   "source": [
    "mortgage_application_agent_name = \"mortgage_application_agent\"\n",
    "\n",
    "mortgage_application_lambda_name = \"fn_mortgage_application\"\n",
    "\n",
    "mortgage_application_agent_role_name = f'AmazonBedrockExecutionRoleForAgents_{mortgage_application_agent_name}'\n",
    "\n",
    "agent_foundation_model = [\"anthropic.claude-3-5-haiku-20241022-v1:0\"]"
   ]
  },
  {
   "cell_type": "code",
   "execution_count": null,
   "id": "ce8a6ab6-2582-47ab-9249-8ef268a6248a",
   "metadata": {},
   "outputs": [],
   "source": [
    "agent_description = \"\"\"Handle conversations about mortgage loan application assistant and applications for new mortgages.\"\"\"\n",
    "\n",
    "agent_instruction = \"\"\"\n",
    "Instructions: \n",
    "You are a mortgage bot for creating, managing, and completing an application for a new mortgage. you greet the customer and state your function before your answer. \n",
    "First, ask customers for their customer id. If they don't have any then you use the tool to create a new customer id and tell the user that you have created a new customer id and show it to them.\n",
    "Next, you ask for their name, age, annual income and annual expense. Ask one question at a time. If they cant answer any of the questions then its fine, you just move forward. \n",
    "Once you have all the information use the tool to create a new loan application for this customer. \n",
    "After creating the loan application give the customer their newly created customer id if they didn't provide one initially.\n",
    "\n",
    "Core behaviors:\n",
    "1. Always use available information systems before asking customers for additional details\n",
    "2. Maintain a professional yet conversational tone\n",
    "3. Provide clear, direct answers without referencing internal systems or data sources\n",
    "4. Present information in an easy-to-understand manner\n",
    "5. Use code generation and interpretation capabilities for any on the fly calculation. DO NOT try to calculate things by yourself\n",
    "6. Final response should not include your internal thought process\n",
    "\n",
    "\n",
    "Response style:\n",
    "- Be helpful and solution-oriented\n",
    "- Use clear, non-technical language\n",
    "- Focus on providing actionable insights\n",
    "- Maintain natural conversation flow\n",
    "- Be concise yet informative \n",
    "- do not add extra information not required by the user\"\"\""
   ]
  },
  {
   "cell_type": "code",
   "execution_count": null,
   "id": "b0b51928-16fb-4466-9111-0023002a0a1a",
   "metadata": {},
   "outputs": [],
   "source": [
    "agents = AgentsForAmazonBedrock()\n",
    "\n",
    "mortgage_application_agent = agents.create_agent(\n",
    "    mortgage_application_agent_name,\n",
    "    agent_description,\n",
    "    agent_instruction,\n",
    "    agent_foundation_model,\n",
    "    code_interpretation=True\n",
    ")\n",
    "\n",
    "mortgage_application_agent_id = mortgage_application_agent[0]\n",
    "\n",
    "print(\"Agent created with ID: \",mortgage_application_agent_id)"
   ]
  },
  {
   "cell_type": "markdown",
   "id": "0a038e1e",
   "metadata": {},
   "source": [
    "Step 5: Creating a Lambda function\n",
    "\n",
    "In order to enable the agent to execute tasks, we will create an AWS Lambda function that implements the tasks execution. We will then provide this lambda function to the agent action group. You can find more information on how to use action groups to define actions that your agent can perform [here](https://docs.aws.amazon.com/bedrock/latest/userguide/agents-action-create.html)"
   ]
  },
  {
   "cell_type": "code",
   "execution_count": null,
   "id": "0f65b8e3",
   "metadata": {},
   "outputs": [],
   "source": [
    "%%writefile mortgage_application_function.py\n",
    "import json\n",
    "from datetime import datetime, timedelta\n",
    "import random\n",
    "\n",
    "NO_CUSTOMER_MESSAGE = \"Invalid function call, since no customer ID was provided as a parameter, and it was not passed in session state.\"\n",
    "\n",
    "def get_named_parameter(event, name):\n",
    "    if 'parameters' in event:\n",
    "        if event['parameters']:\n",
    "            for item in event['parameters']:\n",
    "                if item['name'] == name:\n",
    "                    return item['value']\n",
    "        return None\n",
    "    else:\n",
    "        return None\n",
    "    \n",
    "def populate_function_response(event, response_body):\n",
    "    return {'response': {'actionGroup': event['actionGroup'], 'function': event['function'],\n",
    "                'functionResponse': {'responseBody': {'TEXT': {'body': str(response_body)}}}}}\n",
    "\n",
    "def get_mortgage_app_doc_status(customer_id):\n",
    "    # TODO: Implement the actual logic to retrieve the document status for the given customer ID\n",
    "    return [\n",
    "        {\n",
    "            \"type\": \"proof_of_income\",\n",
    "            \"status\": \"COMPLETED\"\n",
    "        },\n",
    "        {\n",
    "            \"type\": \"employment_information\",\n",
    "            \"status\": \"MISSING\"\n",
    "        },\n",
    "        {\n",
    "            \"type\": \"proof_of_assets\",\n",
    "            \"status\": \"COMPLETED\"\n",
    "        },\n",
    "        {\n",
    "            \"type\": \"credit_information\",\n",
    "            \"status\": \"COMPLETED\"\n",
    "        }\n",
    "    ]\n",
    "\n",
    "\n",
    "def get_application_details(customer_id):\n",
    "    return {\n",
    "        \"customer_id\": customer_id,\n",
    "        \"application_id\": \"998776\",\n",
    "        \"application_date\": datetime.today() - timedelta(days=35), # simulate app started 35 days ago\n",
    "        \"application_status\": \"IN_PROGRESS\",\n",
    "        \"application_type\": \"NEW_MORTGAGE\",\n",
    "        \"name\" : \"Mithil\"\n",
    "    }\n",
    "\n",
    "def create_customer_id():\n",
    "    return \"123456\"\n",
    "\n",
    "def create_loan_application(customer_id, name, age, annual_income, annual_expense):\n",
    "    print(f\"creating loan application for customer: {customer_id}...\")\n",
    "    print(f\"customer name: {name}\")\n",
    "    print(f\"customer age: {age}\")\n",
    "    print(f\"customer annual income: {annual_income}\")\n",
    "    print(f\"customer annual expense: {annual_expense}\")\n",
    "\n",
    "    \n",
    "def lambda_handler(event, context):\n",
    "    print(event)\n",
    "    function = event['function']\n",
    "\n",
    "    if function == 'get_mortgage_app_doc_status':\n",
    "        customer_id = get_named_parameter(event, 'customer_id')\n",
    "        if not customer_id:\n",
    "            # pull customer_id from session state variables if it was not supplied\n",
    "            session_state = event['sessionAttributes']\n",
    "            if session_state is None:\n",
    "                return NO_CUSTOMER_MESSAGE\n",
    "            else:\n",
    "                if 'customer_id' in session_state:\n",
    "                    customer_id = session_state['customer_id']\n",
    "                else:\n",
    "                    # return NO_CUSTOMER_MESSAGE\n",
    "                    # for now, graceully just default, since this is just a toy example\n",
    "                    customer_id = \"123456\"\n",
    "            print(f\"customer_id was pulled from session state variable = {customer_id}\")\n",
    "        result = get_mortgage_app_doc_status(customer_id)\n",
    "\n",
    "    elif function == 'get_application_details':\n",
    "        customer_id = get_named_parameter(event, 'customer_id')\n",
    "        if not customer_id:\n",
    "            # pull customer_id from session state variables if it was not supplied\n",
    "            session_state = event['sessionAttributes']\n",
    "            if session_state is None:\n",
    "                return NO_CUSTOMER_MESSAGE\n",
    "            else:\n",
    "                if 'customer_id' in session_state:\n",
    "                    customer_id = session_state['customer_id']\n",
    "                else:\n",
    "                    # return NO_CUSTOMER_MESSAGE\n",
    "                    # for now, graceully just default, since this is just a toy example\n",
    "                    customer_id = \"123456\"\n",
    "            print(f\"customer_id was pulled from session state variable = {customer_id}\")\n",
    "        result = get_application_details(customer_id)\n",
    "    elif function == 'create_customer_id':\n",
    "        result = create_customer_id()\n",
    "\n",
    "    elif function == 'create_loan_application':\n",
    "        customer_id = get_named_parameter(event, 'customer_id')\n",
    "        if not customer_id:\n",
    "            # pull customer_id from session state variables if it was not supplied\n",
    "            session_state = event['sessionAttributes']\n",
    "            if session_state is None:\n",
    "                return NO_CUSTOMER_MESSAGE\n",
    "            else:\n",
    "                if 'customer_id' in session_state:\n",
    "                    customer_id = session_state['customer_id']\n",
    "                else:\n",
    "                    # return NO_CUSTOMER_MESSAGE\n",
    "                    # for now, graceully just default, since this is just a toy example\n",
    "                    customer_id = \"XXXXXX\"\n",
    "            print(f\"customer_id was pulled from session state variable = {customer_id}\")\n",
    "        name = get_named_parameter(event, 'name')\n",
    "        age = get_named_parameter(event, 'age')\n",
    "        annual_income = get_named_parameter(event, 'annual_income')\n",
    "        annual_expense = get_named_parameter(event, 'annual_expense')\n",
    "       \n",
    "        result = create_loan_application(customer_id, name, age, annual_income, annual_expense)\n",
    "    else:\n",
    "        raise Exception(f\"Unrecognized function: {function}\")\n",
    "\n",
    "\n",
    "    response = populate_function_response(event, result)\n",
    "    print(response)\n",
    "    return response\n"
   ]
  },
  {
   "cell_type": "markdown",
   "id": "b5d78bfd",
   "metadata": {},
   "source": [
    "Step 6 : Defining available actions\n",
    "\n",
    "Next we will define the available actions that an agent can perform using [Function Details](https://docs.aws.amazon.com/bedrock/latest/userguide/agents-action-function.html). You can also do this task using OpenAPI Schemas, which can be very useful if you already have an OpenAPI schema available for your application.\n",
    "\n",
    "When creating your function details, it is important to provide clear descriptions for the function and for its parameters, as your agent depends on them to correctly orchestrate the tasks to be executed"
   ]
  },
  {
   "cell_type": "code",
   "execution_count": null,
   "id": "b2175196-8e5a-4482-8553-5b63f2cd430b",
   "metadata": {},
   "outputs": [],
   "source": [
    "functions_def=[\n",
    "        {\n",
    "            \"name\": \"get_mortgage_app_doc_status\",\n",
    "            \"description\": \"\"\"\n",
    "Retrieves the list of required documents for a mortgage application in process, \n",
    "along with their respective statuses (COMPLETED or MISSING). \n",
    "The function takes a customer ID, but it is purely optional. The funciton\n",
    "implementation can retrieve it from session state instead.\n",
    "This function returns a list of objects, where each object represents \n",
    "a required document type. \n",
    "The required document types for a mortgage application are: proof of income, employment information, \n",
    "proof of assets, and credit information. Each object in the returned list contains the type of the \n",
    "required document and its corresponding status. \"\"\",\n",
    "            \"parameters\": {\n",
    "                \"customer_id\": {\n",
    "                    \"description\": \"\"\"\n",
    "        The unique identifier of the customer whose mortgage application document status is to be retrieved.\"\"\",\n",
    "                    \"type\": \"string\",\n",
    "                    \"required\": False\n",
    "                }\n",
    "            }\n",
    "        },\n",
    "        {\n",
    "            \"name\": \"get_application_details\",\n",
    "            \"description\": \"\"\"\n",
    "Retrieves the details about an application for a new mortgage.\n",
    "The function takes a customer ID, but it is purely optional. The funciton\n",
    "implementation can retrieve it from session state instead. Details include\n",
    "the application ID, application date, application status, application type,\n",
    "application amount, application tentative rate, and application term in years. \"\"\",\n",
    "            \"parameters\": {\n",
    "                \"customer_id\": {\n",
    "                    \"description\": \"\"\"\n",
    "        The unique identifier of the customer whose mortgage application details is to be retrieved.\"\"\",\n",
    "                    \"type\": \"string\",\n",
    "                    \"required\": False\n",
    "                }\n",
    "            }\n",
    "        },\n",
    "        {\n",
    "            \"name\": \"create_loan_application\",\n",
    "            \"description\": \"\"\"\n",
    "            Creates a new loan application using the details provided. The details include the name,\n",
    "            age, customer_id, annual_income and annual_expense\n",
    "            \"\"\",\n",
    "            \"parameters\": {\n",
    "                \"name\": {\n",
    "                    \"description\": \"\"\"\n",
    "        The name of the customer.\"\"\",\n",
    "                    \"type\": \"string\",\n",
    "                    \"required\": True\n",
    "                },\n",
    "                \"age\": {\n",
    "                    \"description\": \"\"\"\n",
    "        The age of the customer.\"\"\",\n",
    "                    \"type\": \"integer\",\n",
    "                    \"required\": True\n",
    "                },\n",
    "                \"customer_id\": {\n",
    "                    \"description\": \"\"\"\n",
    "        The unique identifier of the customer.\"\"\",\n",
    "                    \"type\": \"string\",\n",
    "                    \"required\": True\n",
    "                },\n",
    "                \"annual_income\": {\n",
    "                    \"description\": \"\"\"\n",
    "        The annual income of the customer.\"\"\",\n",
    "                    \"type\": \"integer\",\n",
    "                    \"required\": True\n",
    "                },\n",
    "                \"annual_expense\": {\n",
    "                    \"description\": \"\"\"\n",
    "        The annual expense of the customer.\"\"\",\n",
    "                    \"type\": \"integer\",\n",
    "                    \"required\": True\n",
    "                }\n",
    "            }\n",
    "        },\n",
    "        {\n",
    "          \"name\": \"create_customer_id\",\n",
    "          \"description\": \"Use this function to create a new customer id\",\n",
    "          \"parameters\": {},\n",
    "          \"requireConfirmation\": \"DISABLED\"\n",
    "        }\n",
    "    ]"
   ]
  },
  {
   "cell_type": "markdown",
   "id": "5586a251-1b62-4800-a055-14a9e84004bc",
   "metadata": {},
   "source": [
    "Step 7: Add the Lambda function and the function details as an action group for this agent and prepare it."
   ]
  },
  {
   "cell_type": "code",
   "execution_count": null,
   "id": "b64559e6-086a-4830-bb4b-b8bcab46d6be",
   "metadata": {},
   "outputs": [],
   "source": [
    "agents.add_action_group_with_lambda(\n",
    "    agent_name=mortgage_application_agent_name,\n",
    "    lambda_function_name=mortgage_application_lambda_name,\n",
    "    source_code_file=\"mortgage_application_function.py\",\n",
    "    agent_functions=functions_def,\n",
    "    agent_action_group_name=\"mortgage_application_actions\",\n",
    "    agent_action_group_description=\"Function to manage applications for a user \"\n",
    ")"
   ]
  },
  {
   "cell_type": "markdown",
   "id": "0e99a84d-46d6-4ba9-b998-cd1db035f8d4",
   "metadata": {},
   "source": [
    "Step 8: Lets do a quick test"
   ]
  },
  {
   "cell_type": "code",
   "execution_count": null,
   "id": "a04847a1-7c42-4e7c-af6a-f243097e66f3",
   "metadata": {},
   "outputs": [],
   "source": [
    "response = agents.invoke(\n",
    "    \"\"\"Hi, I am interested in getting a home loan. Can you help?\"\"\", \n",
    "    mortgage_application_agent_id, enable_trace=True\n",
    ")\n",
    "print(\"====================\")\n",
    "print(response)"
   ]
  },
  {
   "cell_type": "markdown",
   "id": "e75d3800-d6b7-4dbb-ae24-7be10c4e790f",
   "metadata": {},
   "source": [
    "Step 9 : Create alias of the agent.\n",
    "\n",
    "After you create an alias, you can use the agent in your application by invokaing the agent by its alias. This allows you to update the agent's versions without making changes in your application."
   ]
  },
  {
   "cell_type": "code",
   "execution_count": null,
   "id": "b5320496-497a-43e6-9e01-1b1bfe88efbd",
   "metadata": {},
   "outputs": [],
   "source": [
    "mortgage_application_agent_alias, mortgage_application_agent_alias_arn = agents.create_agent_alias(\n",
    "    mortgage_application_agent_id, 'mortgage_application_agent_a'\n",
    ")"
   ]
  },
  {
   "cell_type": "markdown",
   "id": "39f554d9-6dde-4839-9e4b-4fb0ba7000b6",
   "metadata": {},
   "source": [
    "Step 10 : Saving information\n",
    "\n",
    "Lets store agent information to be used in subsequent labs."
   ]
  },
  {
   "cell_type": "code",
   "execution_count": null,
   "id": "ca33a71a-68e5-40d8-a790-7c010655b880",
   "metadata": {},
   "outputs": [],
   "source": [
    "%store mortgage_application_agent_alias_arn\n"
   ]
  },
  {
   "cell_type": "markdown",
   "id": "16bf958b",
   "metadata": {},
   "source": [
    "Step 11 : Testing the agent - Bedrock Console\n",
    "\n",
    "To test the agent, follow these steps:\n",
    "1. Open the AWS console on a separate tab (right click on the aws icon on top left and click on 'open in new tab')\n",
    "2. Ensure that you are in AWS region: United States (oregon) us-west-2 (you can change the region from the drop down menu at top right)\n",
    "3. Open Amazon Bedrock (you can search for it from the search bar at the top)"
   ]
  },
  {
   "cell_type": "markdown",
   "id": "d20ef9b1-68c3-4ace-a016-12344c21a019",
   "metadata": {},
   "source": [
    "4. On the Bedrock console, expand the left navigation panel and click 'Agents' under 'Build' section (see 1 in screenshot below)\n",
    "5. Click 'mortgage_applications_agent' to open the agent details page (see 2 in screenshot below)"
   ]
  },
  {
   "cell_type": "markdown",
   "id": "113d06a0-2dd6-4216-a1eb-bc0c8142d02b",
   "metadata": {},
   "source": [
    "<img src=\"../../images/nb_1_1_bedrock_console.jpg\" width=\"500\"/>"
   ]
  },
  {
   "cell_type": "markdown",
   "id": "bd97b722-f864-405e-8be2-2af1aa1fcb9c",
   "metadata": {},
   "source": [
    "6. Click the Test button (see 3 in screenshot below)\n",
    "7. You can chat with the agent by typing in the text box in the Test panel (see 4 in screenshot below).\n",
    "8. Start with the prompt 'I need to apply for a new mortgage'"
   ]
  },
  {
   "cell_type": "markdown",
   "id": "34022c6a-7892-4e43-b53b-8aa52f8bca52",
   "metadata": {},
   "source": [
    "<img src=\"../../images/nb_1_2_agent_test.jpg\" width=\"500\"/>"
   ]
  },
  {
   "cell_type": "markdown",
   "id": "fcc8f870-43d6-444d-a3ba-3dbe7ea85bf2",
   "metadata": {},
   "source": [
    "The next section expands the single agent to a multi agent collaboration system that can address multiple types of queries.\n",
    "\n",
    "Start with the Readme.md file in 2_bedrock-multi-agent folder."
   ]
  }
 ],
 "metadata": {
  "kernelspec": {
   "display_name": "Python 3 (ipykernel)",
   "language": "python",
   "name": "python3"
  },
  "language_info": {
   "codemirror_mode": {
    "name": "ipython",
    "version": 3
   },
   "file_extension": ".py",
   "mimetype": "text/x-python",
   "name": "python",
   "nbconvert_exporter": "python",
   "pygments_lexer": "ipython3",
   "version": "3.12.7"
  }
 },
 "nbformat": 4,
 "nbformat_minor": 5
}
