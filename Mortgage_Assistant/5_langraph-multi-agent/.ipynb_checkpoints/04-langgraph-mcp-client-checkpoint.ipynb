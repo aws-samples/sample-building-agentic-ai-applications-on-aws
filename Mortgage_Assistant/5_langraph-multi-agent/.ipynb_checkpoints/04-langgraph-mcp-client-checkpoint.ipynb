{
 "cells": [
  {
   "cell_type": "markdown",
   "id": "86123e21",
   "metadata": {},
   "source": [
    "## Introduction\n",
    "Before we jump into the deep end of the MCP world, lets go through the key concepts. `Model Context Protocol (MCP)` an open standard protocol developed at Anthropic, standardises how your LLM connects to the differnt tools and data sources. MCP borrows its ideas from REST APIs (standardised how web apps interact with backend) and LSPs (standardised how IDEs interact with language specific tools).\n",
    "\n",
    "With MCP, developer responsibilities can be isolated. Developers can build LLM applications (clients) and re-use connectors (servers) as opposed to building the custom connectors\n",
    "\n",
    "MCP is built based on client - host - server architecture.  has 3 key components\n",
    "\n",
    "##### Host \n",
    "It can be any IDEs, tools that want to access the data through MCP. Each Host can run multiple clients. Think of host like a container\n",
    "##### Client\n",
    "Each client maintains 1:1 relationship with the server\n",
    "##### Server\n",
    "Servers provide context to the LLMs by exposing `tools`,`resources` and `prompts`  \n",
    "Tools are used for execution (like a `POST` request) Resources are used for `get` information\n",
    "\n",
    "MCP server has two variations, you can either use FastMCP or write the server implementation from scratch using MCPServer\n",
    "\n",
    "FastMCP - higher level construct that abstracts most of the boiler plate code of MCPServer, provides simplified APIs for tools, resources and prompts. It also handles the HTTP transports, manages authentication\n"
   ]
  },
  {
   "cell_type": "markdown",
   "id": "b8de38e0",
   "metadata": {},
   "source": [
    "Lets start the notebook by uninstalling and reinstalling some of the required packages, including LangChain for pre-built tool components, LangGraph for agent workflows, and other necessary libraries."
   ]
  },
  {
   "cell_type": "code",
   "execution_count": null,
   "id": "fdb671fd",
   "metadata": {},
   "outputs": [],
   "source": [
    "%pip uninstall boto3 botocore awscli --yes"
   ]
  },
  {
   "cell_type": "markdown",
   "id": "83eb9c3c",
   "metadata": {},
   "source": [
    "Before we begin , we will use Jupyter magic command to  handle the async context. So we don't need to explicitly use asyncio.run() to execute async functions"
   ]
  },
  {
   "cell_type": "code",
   "execution_count": null,
   "id": "d914c9ef",
   "metadata": {},
   "outputs": [],
   "source": [
    "%autoawait on"
   ]
  },
  {
   "cell_type": "code",
   "execution_count": null,
   "id": "0fc60111",
   "metadata": {},
   "outputs": [],
   "source": [
    "%pip install -r requirements.txt -q --force-reinstall"
   ]
  },
  {
   "cell_type": "code",
   "execution_count": null,
   "id": "38e0ccd8",
   "metadata": {},
   "outputs": [],
   "source": [
    "# restart kernel for packages to take effect\n",
    "import IPython\n",
    "IPython.Application.instance().kernel.do_shutdown(True)"
   ]
  },
  {
   "cell_type": "markdown",
   "id": "76c470e0",
   "metadata": {},
   "source": [
    "Open the terminal and start the MCP server by running this command\n",
    "\n",
    "```bash\n",
    "   python sample-building-agentic-ai-applications-on-aws/Mortgage_Assistant/3_mcp-server-client/strands_mcp/creditcheck_server_http.py\n",
    "\n"
   ]
  },
  {
   "cell_type": "markdown",
   "id": "b7cf6c53",
   "metadata": {},
   "source": [
    "You might see an output like this\n",
    "```bash\n",
    "% python 4_mcp-server-client/strands_mcp/creditcheck_server_http.py\n",
    "INFO:     Started server process [63536]\n",
    "INFO:     Waiting for application startup.\n",
    "StreamableHTTP session manager started\n",
    "INFO:     Application startup complete.\n",
    "INFO:     Uvicorn running on http://0.0.0.0:8080 (Press CTRL+C to quit)\n",
    "INFO:     127.0.0.1:53817 - \"POST /mcp HTTP/1.1\" 307 Temporary Redirect\n",
    "\n",
    "Copy the relevant server url and update the `mcp_server.json` file. Leave the `/mcp` in the config at the end of the URL\n",
    "\n",
    "\n"
   ]
  },
  {
   "cell_type": "markdown",
   "id": "4f9e6051",
   "metadata": {},
   "source": [
    "Import the following modules"
   ]
  },
  {
   "cell_type": "code",
   "execution_count": null,
   "id": "556cc24e",
   "metadata": {},
   "outputs": [],
   "source": [
    "from langchain.chat_models import init_chat_model\n",
    "from langgraph.prebuilt import create_react_agent\n",
    "from langgraph.graph import MessagesState\n",
    "import os\n",
    "import boto3\n",
    "from IPython.display import display,Image, HTML\n",
    "import random\n",
    "from textwrap import dedent\n",
    "from langgraph.checkpoint.memory import InMemorySaver\n",
    "import json\n",
    "from langchain_mcp_adapters.client import MultiServerMCPClient\n",
    "from langgraph_swarm import create_handoff_tool, create_swarm\n",
    "from langchain_core.messages import ToolMessage, AIMessage\n",
    "import certifi\n",
    "from datetime import datetime, timedelta\n",
    "\n"
   ]
  },
  {
   "cell_type": "markdown",
   "id": "44704617",
   "metadata": {},
   "source": [
    "Since we are building the multi-agent workflow on LangGraph, we can use `MultiServerMCPClient`. This library is  used for connecting to multiple MCP servers and  get tools, prompts and resources from the server, and automatically does the conversion from mcp specific details into langchain compatible format. \n"
   ]
  },
  {
   "cell_type": "code",
   "execution_count": null,
   "id": "cc4e9383",
   "metadata": {},
   "outputs": [],
   "source": [
    "# we will bring in mcp server configuration\n",
    "with open('config/mcp_server.json', 'r') as f:\n",
    "    mcp_server = json.load(f) "
   ]
  },
  {
   "cell_type": "markdown",
   "id": "b78d7ae8",
   "metadata": {},
   "source": [
    "We will initiate the client and use the `get_tools()`"
   ]
  },
  {
   "cell_type": "code",
   "execution_count": null,
   "id": "2e80b59d",
   "metadata": {},
   "outputs": [],
   "source": [
    "client =  MultiServerMCPClient(mcp_server)\n",
    "tools = await client.get_tools()\n"
   ]
  },
  {
   "cell_type": "markdown",
   "id": "e41e5ca4",
   "metadata": {},
   "source": [
    "Unblock the code in the below cell and run to get more info about the tools\n"
   ]
  },
  {
   "cell_type": "code",
   "execution_count": null,
   "id": "1b7f0bf8",
   "metadata": {},
   "outputs": [],
   "source": [
    "# for tool in tools:\n",
    "#     print(f\"Name: {tool.name}\")\n",
    "#     print(f\"Description: {tool.description}\")\n",
    "#     print(f\"Schema: {tool.args_schema}\")"
   ]
  },
  {
   "cell_type": "markdown",
   "id": "9ca20a48",
   "metadata": {},
   "source": [
    "If you're running this notebook locally, set the AWS_PROFILE"
   ]
  },
  {
   "cell_type": "code",
   "execution_count": null,
   "id": "99cb85e3",
   "metadata": {},
   "outputs": [],
   "source": [
    "# os.environ['AWS_PROFILE']='stcgenai'"
   ]
  },
  {
   "cell_type": "markdown",
   "id": "4266e1ad",
   "metadata": {},
   "source": [
    "If you run into SSL certificate issues, run the following code block in Python cell"
   ]
  },
  {
   "cell_type": "code",
   "execution_count": null,
   "id": "6fab036b",
   "metadata": {},
   "outputs": [],
   "source": [
    "# cert_path = certifi.where()\n",
    "# print(f\"Using certificate bundle at: {cert_path}\")\n",
    "\n",
    "# # Set environment variable\n",
    "# os.environ['AWS_CA_BUNDLE'] = cert_path"
   ]
  },
  {
   "cell_type": "markdown",
   "id": "dae3f9a2",
   "metadata": {},
   "source": [
    "Next, we will continue on initiating the AgentState, LLM and memory respectively. \n",
    "\n",
    "Depending on the model availability and the region  you are running this lab, change the agent_foundation_model[] and region_name before instantiating the boto client"
   ]
  },
  {
   "cell_type": "code",
   "execution_count": null,
   "id": "90c91398",
   "metadata": {},
   "outputs": [],
   "source": [
    "class AgentState(MessagesState):\n",
    "    pass\n",
    "\n",
    "agent_foundation_model = [\n",
    "    'anthropic.claude-3-5-haiku-20241022-v1:0'\n",
    "    ]\n",
    "\n",
    "bedrock_client = boto3.client('bedrock-runtime',region_name='us-west-2')\n",
    "\n",
    "model = init_chat_model(\n",
    "    agent_foundation_model[0],\n",
    "    model_provider=\"bedrock_converse\",\n",
    "    temperature=0.7,\n",
    "    client=bedrock_client\n",
    ")\n",
    "\n",
    "memory = InMemorySaver()"
   ]
  },
  {
   "cell_type": "markdown",
   "id": "65e7a74e",
   "metadata": {},
   "source": [
    "We will define the same tools we used in the LangGraph multi agent notebook"
   ]
  },
  {
   "cell_type": "code",
   "execution_count": null,
   "id": "92240086",
   "metadata": {},
   "outputs": [],
   "source": [
    "def get_mortgage_details(customer_id: str) -> str:\n",
    "    \"\"\"\n",
    "Retrieves the mortgage status for a given customer ID. Returns an object containing \n",
    "details like the account number, \n",
    "outstanding principal, interest rate, maturity date, number of payments remaining, due date of next payment, \n",
    "and amount of next payment.\"\"\"\n",
    "    return {\n",
    "        \"account_number\": customer_id,\n",
    "        \"outstanding_principal\": 150599.25,\n",
    "        \"interest_rate\": 8.5,\n",
    "        \"maturity_date\": \"2030-06-30\",\n",
    "        \"original_issue_date\": \"2021-05-30\",\n",
    "        \"payments_remaining\": 72,\n",
    "        \"last_payment_date\": str(datetime.today() - timedelta(days=14)).split(' ')[0],\n",
    "        \"next_payment_due\": str(datetime.today() + timedelta(days=14)).split(' ')[0],\n",
    "        \"next_payment_amount\": 1579.63\n",
    "    }\n",
    "\n",
    "\n",
    "def get_application_details(customer_id: str) -> str:\n",
    "    \"\"\"Retrieves the details about an application for a new mortgage. The function takes a customer ID, but it is purely optional. \n",
    "    The function implementation can retrieve it from session state instead. \n",
    "    Details include the application ID, application date, application status, application type, application amount, application tentative rate, and application term in years.\"\"\"\n",
    "    return {\n",
    "        \"customer_id\": customer_id,\n",
    "        \"application_id\": \"998776\",\n",
    "        \"application_date\": datetime.today() - timedelta(days=35), # simulate app started 35 days ago\n",
    "        \"application_status\": \"IN_PROGRESS\",\n",
    "        \"application_type\": \"NEW_MORTGAGE\",\n",
    "        \"application_amount\": 750000,\n",
    "        \"application_tentative_rate\": 5.5,\n",
    "        \"application_term_years\": 30,\n",
    "        \"application_rate_type\": \"fixed\"\n",
    "    }\n",
    "\n",
    "\n",
    "def get_mortgage_rate_history(day_count: int=30, type: str=\"15-year-fixed\"):\n",
    "    \"\"\"Retrieves the history of mortgage interest rates going back a given number of days, defaults to 30. History is returned as a list of objects, where each object contains the date and the interest rate to 2 decimal places.\"\"\"\n",
    "    BASE_RATE=6.00\n",
    "\n",
    "    RATE_MIN_15=38\n",
    "    RATE_MAX_15=48\n",
    "\n",
    "    RATE_MIN_30=RATE_MIN_15 + 80\n",
    "    RATE_MAX_30=RATE_MAX_15 + 80\n",
    "    \n",
    "    # print(f\"getting rate history for: {day_count} days, for type: {type}...\")\n",
    "    # generate the last 7 working day dates starting with yesterday\n",
    "    today = datetime.today()\n",
    "    history_count = 0\n",
    "    rate_history = []\n",
    "\n",
    "    if type == \"30-year-fixed\":\n",
    "        RATE_MIN = RATE_MIN_30\n",
    "        RATE_MAX = RATE_MAX_30\n",
    "    else:\n",
    "        RATE_MIN = RATE_MIN_15\n",
    "        RATE_MAX = RATE_MAX_15\n",
    "\n",
    "    for i in range(int(day_count*1.4)):\n",
    "        if history_count >= day_count:\n",
    "            break\n",
    "        else:\n",
    "            day = today - timedelta(days=i+1)\n",
    "            which_day_of_week = day.weekday()\n",
    "            if which_day_of_week < 5:\n",
    "                history_count += 1\n",
    "                _date = str(day.strftime(\"%Y-%m-%d\"))\n",
    "                _rate = f\"{BASE_RATE + ((random.randrange(RATE_MIN, RATE_MAX))/100):.2f}\"\n",
    "                rate_history.append({\"date\": _date, \"rate\": _rate})\n",
    "\n",
    "    return rate_history\n",
    "\n",
    "\n",
    "def get_mortgage_app_doc_status(customer_id: str):\n",
    "    \"\"\"\n",
    "    Retrieves the list of required documents for a mortgage application in process, along with their respectiv statuses (COMPLETED or MISSING).\n",
    "    The function takes a customer ID, but it is purely optional. The funciton implementation can retrieve it from session state instead. \n",
    "    This function returns a list of objects, where each object represents a required document type. \n",
    "    The required document types for a mortgage application are: proof of income, employment information, proof of assets, and credit information. Each object in the returned list contains the type of the required document and its corresponding status.\"\"\"\n",
    "    return [\n",
    "        {\n",
    "            \"type\": \"proof_of_income\",\n",
    "            \"status\": \"COMPLETED\"\n",
    "        },\n",
    "        {\n",
    "            \"type\": \"employment_information\",\n",
    "            \"status\": \"MISSING\"\n",
    "        },\n",
    "        {\n",
    "            \"type\": \"proof_of_assets\",\n",
    "            \"status\": \"COMPLETED\"\n",
    "        },\n",
    "        {\n",
    "            \"type\": \"credit_information\",\n",
    "            \"status\": \"COMPLETED\"\n",
    "        }\n",
    "    ]"
   ]
  },
  {
   "cell_type": "markdown",
   "id": "d09780d6",
   "metadata": {},
   "source": [
    " Lets add a RAG and add to the graph. We shall use Bedrock's Knowledge Base , the managed RAG offering. Replace the `knowledge_base_id` with the KB you created in the previous labs\n",
    "\n",
    "For this scenario we will use  `AmazonKnowledgeBasesRetriever` class from  the langchain_aws module. "
   ]
  },
  {
   "cell_type": "code",
   "execution_count": null,
   "id": "96481700-61b0-4f27-8e67-4fbb159c0433",
   "metadata": {},
   "outputs": [],
   "source": [
    "%store -r kb_id\n",
    "print(\"KnowledgeBase ID:\",kb_id)"
   ]
  },
  {
   "cell_type": "code",
   "execution_count": null,
   "id": "da18e564",
   "metadata": {},
   "outputs": [],
   "source": [
    "from langchain_aws.retrievers import AmazonKnowledgeBasesRetriever\n",
    "\n",
    "retriever = AmazonKnowledgeBasesRetriever(\n",
    "                knowledge_base_id=kb_id,\n",
    "                retrieval_config={\n",
    "                    \"vectorSearchConfiguration\": {\n",
    "                        \"numberOfResults\": 4\n",
    "                    }\n",
    "                \n",
    "                },\n",
    "            )\n"
   ]
  },
  {
   "cell_type": "markdown",
   "id": "0fb76b20",
   "metadata": {},
   "source": [
    "Now, we test to see if the KB is working as expected"
   ]
  },
  {
   "cell_type": "code",
   "execution_count": null,
   "id": "f50b174e",
   "metadata": {},
   "outputs": [],
   "source": [
    "retriever.invoke(\"What is the benefit of refinancing, if any?\")\n"
   ]
  },
  {
   "cell_type": "markdown",
   "id": "d6fd3d7c",
   "metadata": {},
   "source": [
    "Once we create the retriever and tested it, lets wrap it using the langchain `Tool` and use the `retrieve.invoke()` function "
   ]
  },
  {
   "cell_type": "code",
   "execution_count": null,
   "id": "fc19f158",
   "metadata": {},
   "outputs": [],
   "source": [
    "from langchain.tools import Tool\n",
    "\n",
    "retriever_tool = Tool(\n",
    "    name=\"amazon_knowledge_base\",\n",
    "    description=\"Use this knowledge base to answer general questions about mortgages, like how to refinnance, or the difference between 15-year and 30-year mortgages.\",\n",
    "    func=lambda query: \"\\n\\n\".join([doc.page_content for doc in retriever.invoke(query)])\n",
    ")"
   ]
  },
  {
   "cell_type": "markdown",
   "id": "e6f8cd8e",
   "metadata": {},
   "source": [
    "Load the system prompt files before invoking them"
   ]
  },
  {
   "cell_type": "code",
   "execution_count": null,
   "id": "cdefb3dd",
   "metadata": {},
   "outputs": [],
   "source": [
    "def load_system_prompt(filename):\n",
    "    \"\"\"Load system prompt from markdown file\"\"\"\n",
    "    with open(f'config/{filename}', 'r') as f:\n",
    "        return f.read()"
   ]
  },
  {
   "cell_type": "markdown",
   "id": "ecbc936a",
   "metadata": {},
   "source": [
    "Create the hand off tools and react agents"
   ]
  },
  {
   "cell_type": "code",
   "execution_count": null,
   "id": "1c6b833c",
   "metadata": {},
   "outputs": [],
   "source": [
    "# Define handoff tool\n",
    "transfer_to_existing_assistant = create_handoff_tool(\n",
    "    agent_name=\"existing_mortgage_agent\",\n",
    "    description=\"Transfer user to the existing mortgage agent to provide information about current mortgage  details including outstanding principal, interest rates, maturity dates, payment schedules, and upcoming payment information. Use this when the user is asking about their existing mortgage account, payment details, or loan status. \"\n",
    ")\n",
    "\n",
    "# Define handoff tool\n",
    "transfer_to_application_assistant = create_handoff_tool(\n",
    "    agent_name=\"mortgage_application_agent\",\n",
    "    description=\"Transfer user to the mortgage application agent to provide assistance with new mortgage applications, document status tracking, application details, and historical mortgage rate information. Use this when the user is asking about applying for a new mortgage, checking application status, or needs information about current mortgage rates.\"\n",
    ")\n",
    "\n",
    "# Define handoff tool\n",
    "transfer_to_general_mortgage_agent = create_handoff_tool(\n",
    "    agent_name=\"general_mortgage_agent\",\n",
    "    description=\"Transfer user to the general mortgage agent to use knowledge base to answer general questions about mortgages, like how to refinnance, or the difference between 15-year and 30-year mortgages.\"\n",
    "\n",
    ")\n",
    "\n",
    "# Define the Agent\n",
    "general_mortgage_agent = create_react_agent(\n",
    "    model=model,\n",
    "    tools=[retriever_tool,transfer_to_existing_assistant,transfer_to_application_assistant],\n",
    "    prompt=dedent(load_system_prompt(\"general_assistant_system.md\")),\n",
    "    name=\"general_mortgage_agent\")\n",
    "\n",
    "# Define the Agent\n",
    "existing_mortgage_agent = create_react_agent(\n",
    "    model=model,\n",
    "    tools=[get_mortgage_details,transfer_to_application_assistant, transfer_to_general_mortgage_agent],\n",
    "    prompt=dedent(load_system_prompt(\"existing_mortgage_system.md\")),\n",
    "    name=\"existing_mortgage_agent\"\n",
    ")\n",
    "\n",
    "# Define the Agent\n",
    "mortgage_application_agent = create_react_agent(\n",
    "    model=model,\n",
    "    tools=[get_application_details,get_mortgage_rate_history,get_mortgage_app_doc_status,transfer_to_existing_assistant,transfer_to_general_mortgage_agent],\n",
    "    prompt=dedent(\"mortgage_application_system.md\"),\n",
    "    name=\"mortgage_application_agent\")\n",
    "\n",
    "graph = create_swarm([existing_mortgage_agent,mortgage_application_agent,general_mortgage_agent],default_active_agent=\"general_mortgage_agent\")\n",
    "\n",
    "app = graph.compile(checkpointer=memory)\n",
    "config = {\"configurable\": {\"thread_id\": random.randint(1,10000)}}\n",
    "\n",
    "display(Image(app.get_graph().draw_mermaid_png()))"
   ]
  },
  {
   "cell_type": "markdown",
   "id": "f883c9b4",
   "metadata": {},
   "source": [
    "Firstly, we test the multi agent functionality"
   ]
  },
  {
   "cell_type": "code",
   "execution_count": null,
   "id": "7b2745ed",
   "metadata": {},
   "outputs": [],
   "source": [
    "response = app.invoke(\n",
    "    {\"messages\": \"I need a complete mortgage consultation. First, I want to check my existing mortgage details for customer ID xyz to see my current situation. Then I need to understand the market by showing me the 30-year fixed mortgage rate history for the past 30 days to compare with my current rate. Finally, I have a general question about mortgage refinancing - what are the key factors I should consider when deciding whether to refinance my mortgage, and what's the difference between a 15-year and 30-year mortgage in terms of total cost\"},\n",
    "    config\n",
    ")\n",
    "\n",
    "for message in response[\"messages\"]:\n",
    "    message.pretty_print()"
   ]
  },
  {
   "cell_type": "markdown",
   "id": "575f96c6",
   "metadata": {},
   "source": [
    "Great, now that the multi agent system works. Now we add the MCP agent to it. First we create a new hand off tool"
   ]
  },
  {
   "cell_type": "code",
   "execution_count": null,
   "id": "babb7682",
   "metadata": {},
   "outputs": [],
   "source": [
    "transfer_to_credit_check_agent = create_handoff_tool(\n",
    "    agent_name=\"credit_check_agent\",\n",
    "    description=\"Transfer user to the credit check agent to check credit score for the customer id\"\n",
    ")"
   ]
  },
  {
   "cell_type": "markdown",
   "id": "9ae32ca0",
   "metadata": {},
   "source": [
    "Since the MCP invocation `list_tools()` returns a list of tools, ideally we would iterate through the list, but in this scenario, we only have one tool so we directly attach the first object"
   ]
  },
  {
   "cell_type": "code",
   "execution_count": null,
   "id": "95ff0721",
   "metadata": {},
   "outputs": [],
   "source": [
    "mcp_tool = tools[0]"
   ]
  },
  {
   "cell_type": "markdown",
   "id": "ed9e36a7",
   "metadata": {},
   "source": [
    "Let's create a new agent and test out the credit score"
   ]
  },
  {
   "cell_type": "code",
   "execution_count": null,
   "id": "e6ec36dc",
   "metadata": {},
   "outputs": [],
   "source": [
    "credit_check_agent = create_react_agent(\n",
    "    model=model,\n",
    "    tools=[mcp_tool,transfer_to_existing_assistant,transfer_to_general_mortgage_agent,transfer_to_application_assistant],\n",
    "    prompt=dedent(mcp_tool.description),\n",
    "    name=\"credit_check_agent\")"
   ]
  },
  {
   "cell_type": "code",
   "execution_count": null,
   "id": "f353f6b3",
   "metadata": {},
   "outputs": [],
   "source": [
    "response = await credit_check_agent.ainvoke({\"messages\": \"what is my credit score, here is my id 1111\"})\n",
    "\n",
    "for message in response[\"messages\"]:\n",
    "    message.pretty_print()"
   ]
  },
  {
   "cell_type": "markdown",
   "id": "84455bd6",
   "metadata": {},
   "source": [
    "Lets update the existing agents by adding the newly created hand off tool for `credit_check`"
   ]
  },
  {
   "cell_type": "code",
   "execution_count": null,
   "id": "a70f00d2",
   "metadata": {},
   "outputs": [],
   "source": [
    "# Recreate the Agent with new hand off tool\n",
    "general_mortgage_agent = create_react_agent(\n",
    "    model=model,\n",
    "    tools=[retriever_tool,transfer_to_existing_assistant,transfer_to_application_assistant,transfer_to_credit_check_agent],\n",
    "    prompt=dedent(load_system_prompt(\"general_assistant_system.md\")),\n",
    "    name=\"general_mortgage_agent\")\n",
    "\n",
    "# Recreate the Agent with new hand off tool\n",
    "existing_mortgage_agent = create_react_agent(\n",
    "    model=model,\n",
    "    tools=[get_mortgage_details,transfer_to_application_assistant, transfer_to_general_mortgage_agent,transfer_to_credit_check_agent],\n",
    "    prompt=dedent(load_system_prompt(\"existing_mortgage_system.md\")),\n",
    "    name=\"existing_mortgage_agent\"\n",
    ")\n",
    "\n",
    "# Recreate the Agent with new hand off tool\n",
    "mortgage_application_agent = create_react_agent(\n",
    "    model=model,\n",
    "    tools=[get_application_details,get_mortgage_rate_history,get_mortgage_app_doc_status,transfer_to_existing_assistant,transfer_to_general_mortgage_agent,transfer_to_credit_check_agent],\n",
    "    prompt=dedent(\"mortgage_application_system.md\"),\n",
    "    name=\"mortgage_application_agent\")\n"
   ]
  },
  {
   "cell_type": "markdown",
   "id": "8acf1b5f",
   "metadata": {},
   "source": [
    "Finally, we recreate the swarm application by add the `credit_check_agent` and test it"
   ]
  },
  {
   "cell_type": "code",
   "execution_count": null,
   "id": "3d350d6a",
   "metadata": {},
   "outputs": [],
   "source": [
    "graph = create_swarm([existing_mortgage_agent,mortgage_application_agent,general_mortgage_agent,credit_check_agent],default_active_agent=\"general_mortgage_agent\")\n",
    "\n",
    "app = graph.compile(checkpointer=memory)\n",
    "\n",
    "display(Image(app.get_graph().draw_mermaid_png()))"
   ]
  },
  {
   "cell_type": "markdown",
   "id": "443f34a2",
   "metadata": {},
   "source": [
    "We are ready to test, yay!"
   ]
  },
  {
   "cell_type": "code",
   "execution_count": null,
   "id": "d4dd641a",
   "metadata": {},
   "outputs": [],
   "source": [
    "thread_id = {\"configurable\": {\"thread_id\": random.randint(1,10000)}}\n",
    "response = await app.ainvoke({\"messages\": \"Can you show me my current mortgage details and recent rate trends. Here is my id : 12345\"},config=thread_id)\n",
    "for message in response[\"messages\"]:\n",
    "    message.pretty_print()"
   ]
  },
  {
   "cell_type": "markdown",
   "id": "50ee54dc",
   "metadata": {},
   "source": [
    "Lets try a more complicated prompt and see if the hand off between agents is working"
   ]
  },
  {
   "cell_type": "code",
   "execution_count": null,
   "id": "e203b78c",
   "metadata": {},
   "outputs": [],
   "source": [
    "prompt = \"\"\"I need a complete mortgage portfolio analysis. Here's what I need:\n",
    "\n",
    "1. First, pull up my existing mortgage details for customer ID '1111' to see my current situation\n",
    "2. Check my credit score to understand my refinancing eligibility \n",
    "3. I also have a new mortgage application in progress for a second property - can you check the application status and show me what documents are still needed?\n",
    "4. Show me the 30-year fixed mortgage rate history for the past 45 days to compare with my current 8.5% rate\n",
    "5. Finally, I have some general questions: What are the key benefits of refinancing from a 30-year to a 15-year mortgage, and what factors should I consider when deciding if refinancing makes financial sense?\n",
    "\n",
    "Please provide a comprehensive analysis covering all these aspects.\"\"\""
   ]
  },
  {
   "cell_type": "code",
   "execution_count": null,
   "id": "930928da",
   "metadata": {},
   "outputs": [],
   "source": [
    "thread_id = {\"configurable\": {\"thread_id\": random.randint(1,10000)}}\n",
    "response = await app.ainvoke({\n",
    "    \"messages\": prompt}, config=thread_id)"
   ]
  },
  {
   "cell_type": "code",
   "execution_count": null,
   "id": "7ad233a0",
   "metadata": {},
   "outputs": [],
   "source": [
    "for message in response['messages']:\n",
    "    message.pretty_print()"
   ]
  },
  {
   "cell_type": "markdown",
   "id": "9df5c006",
   "metadata": {},
   "source": [
    "Optionally, you could track the ai_messages and tool_messages separately\n",
    "\n",
    "```\n",
    "ai_messages = [msg for msg in response[\"messages\"] if isinstance(msg, AIMessage)]\n",
    "tool_messages = [msg for msg in response[\"messages\"] if isinstance(msg, ToolMessage)]\n",
    "\n",
    "for message in ai_messages:\n",
    "    message.pretty_print()\n",
    "```\n"
   ]
  },
  {
   "cell_type": "markdown",
   "id": "b901522e",
   "metadata": {},
   "source": [
    "## Summary\n",
    "\n",
    "In this lab, we covered\n",
    "- Introduction to Model Context Protocol as an open standard for connecting LLMs to tools and data sources\n",
    "- How to use MultiServerMCPClient to connect to MCP servers and retrieve tools\n",
    "- Showcased Config-driven approach to create specialized agents (existing mortgage, mortgage application, and general assistant)\n",
    "- Using LangGraph Swarm to coordinate between agents with handoff capabilities\n",
    "- Converting MCP tools to LangChain-compatible format for use in the agentic workflow"
   ]
  }
 ],
 "metadata": {
  "kernelspec": {
   "display_name": "Python 3 (ipykernel)",
   "language": "python",
   "name": "python3"
  },
  "language_info": {
   "codemirror_mode": {
    "name": "ipython",
    "version": 3
   },
   "file_extension": ".py",
   "mimetype": "text/x-python",
   "name": "python",
   "nbconvert_exporter": "python",
   "pygments_lexer": "ipython3",
   "version": "3.12.7"
  }
 },
 "nbformat": 4,
 "nbformat_minor": 5
}
