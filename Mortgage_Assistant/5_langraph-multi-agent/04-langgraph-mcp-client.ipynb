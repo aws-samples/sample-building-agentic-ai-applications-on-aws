{
 "cells": [
  {
   "cell_type": "markdown",
   "id": "86123e21",
   "metadata": {},
   "source": [
    "## Introduction\n",
    "Before we jump into the deep end of the MCP world, lets go through the key concepts. `Model Context Protocol (MCP)` an open standard protocol developed at Anthropic, standardises how your LLM connects to the differnt tools and data sources. MCP borrows its ideas from REST APIs (standardised how web apps interact with backend) and LSPs (standardised how IDEs interact with language specific tools).\n",
    "\n",
    "With MCP, developer responsibilities can be isolated. Developers can build LLM applications (clients) and re-use connectors (servers) as opposed to building the custom connectors\n",
    "\n",
    "MCP is built based on client - host - server architecture.  has 3 key components\n",
    "\n",
    "##### Host \n",
    "It can be any IDEs, tools that want to access the data through MCP. Each Host can run multiple clients. Think of host like a container\n",
    "##### Client\n",
    "Each client maintains 1:1 relationship with the server\n",
    "##### Server\n",
    "Servers provide context to the LLMs by exposing `tools`,`resources` and `prompts`  \n",
    "Tools are used for execution (like a `POST` request) Resources are used for `get` information\n",
    "\n",
    "MCP server has two variations, you can either use FastMCP or write the server implementation from scratch using MCPServer\n",
    "\n",
    "FastMCP - higher level construct that abstracts most of the boiler plate code of MCPServer, provides simplified APIs for tools, resources and prompts. It also handles the HTTP transports, manages authentication\n"
   ]
  },
  {
   "cell_type": "markdown",
   "id": "b8de38e0",
   "metadata": {},
   "source": [
    "Lets start the notebook by uninstalling and reinstalling some of the required packages, including LangChain for pre-built tool components, LangGraph for agent workflows, and other necessary libraries."
   ]
  },
  {
   "cell_type": "code",
   "execution_count": 16,
   "id": "fdb671fd",
   "metadata": {
    "execution": {
     "iopub.execute_input": "2025-08-05T23:15:10.438074Z",
     "iopub.status.busy": "2025-08-05T23:15:10.437584Z",
     "iopub.status.idle": "2025-08-05T23:15:11.763625Z",
     "shell.execute_reply": "2025-08-05T23:15:11.762397Z",
     "shell.execute_reply.started": "2025-08-05T23:15:10.438041Z"
    }
   },
   "outputs": [
    {
     "name": "stdout",
     "output_type": "stream",
     "text": [
      "Found existing installation: boto3 1.40.3\n",
      "Uninstalling boto3-1.40.3:\n",
      "  Successfully uninstalled boto3-1.40.3\n",
      "Found existing installation: botocore 1.40.3\n",
      "Uninstalling botocore-1.40.3:\n",
      "  Successfully uninstalled botocore-1.40.3\n",
      "Found existing installation: awscli 1.42.3\n",
      "Uninstalling awscli-1.42.3:\n",
      "  Successfully uninstalled awscli-1.42.3\n",
      "Note: you may need to restart the kernel to use updated packages.\n"
     ]
    }
   ],
   "source": [
    "%pip uninstall boto3 botocore awscli --yes"
   ]
  },
  {
   "cell_type": "markdown",
   "id": "83eb9c3c",
   "metadata": {},
   "source": [
    "Before we begin , we will use Jupyter magic command to  handle the async context. So we don't need to explicitly use asyncio.run() to execute async functions"
   ]
  },
  {
   "cell_type": "code",
   "execution_count": 17,
   "id": "d914c9ef",
   "metadata": {
    "execution": {
     "iopub.execute_input": "2025-08-05T23:15:12.600565Z",
     "iopub.status.busy": "2025-08-05T23:15:12.599985Z",
     "iopub.status.idle": "2025-08-05T23:15:12.605447Z",
     "shell.execute_reply": "2025-08-05T23:15:12.604111Z",
     "shell.execute_reply.started": "2025-08-05T23:15:12.600535Z"
    }
   },
   "outputs": [],
   "source": [
    "%autoawait on"
   ]
  },
  {
   "cell_type": "code",
   "execution_count": 18,
   "id": "0fc60111",
   "metadata": {
    "execution": {
     "iopub.execute_input": "2025-08-05T23:15:13.268088Z",
     "iopub.status.busy": "2025-08-05T23:15:13.267735Z",
     "iopub.status.idle": "2025-08-05T23:15:59.913336Z",
     "shell.execute_reply": "2025-08-05T23:15:59.912088Z",
     "shell.execute_reply.started": "2025-08-05T23:15:13.268065Z"
    }
   },
   "outputs": [
    {
     "name": "stdout",
     "output_type": "stream",
     "text": [
      "\u001b[31mERROR: pip's dependency resolver does not currently take into account all the packages that are installed. This behaviour is the source of the following dependency conflicts.\n",
      "autogluon-multimodal 1.3.1 requires nvidia-ml-py3<8.0,>=7.352.0, which is not installed.\n",
      "dash 2.18.1 requires dash-core-components==2.0.0, which is not installed.\n",
      "dash 2.18.1 requires dash-html-components==2.0.0, which is not installed.\n",
      "dash 2.18.1 requires dash-table==5.0.0, which is not installed.\n",
      "jupyter-ai 2.31.5 requires faiss-cpu!=1.8.0.post0,<2.0.0,>=1.8.0, which is not installed.\n",
      "aiobotocore 2.21.1 requires botocore<1.37.2,>=1.37.0, but you have botocore 1.40.3 which is incompatible.\n",
      "amazon-sagemaker-jupyter-ai-q-developer 1.2.7 requires ipython<9,>=8.33.0, but you have ipython 8.29.0 which is incompatible.\n",
      "autogluon-multimodal 1.3.1 requires jsonschema<4.24,>=4.18, but you have jsonschema 4.25.0 which is incompatible.\n",
      "autogluon-multimodal 1.3.1 requires nltk<3.9,>=3.4.5, but you have nltk 3.9.1 which is incompatible.\n",
      "autogluon-multimodal 1.3.1 requires transformers[sentencepiece]<4.50,>=4.38.0, but you have transformers 4.53.1 which is incompatible.\n",
      "autogluon-timeseries 1.3.1 requires transformers[sentencepiece]<4.50,>=4.38.0, but you have transformers 4.53.1 which is incompatible.\n",
      "dash 2.18.1 requires Flask<3.1,>=1.0.4, but you have flask 3.1.1 which is incompatible.\n",
      "dash 2.18.1 requires Werkzeug<3.1, but you have werkzeug 3.1.3 which is incompatible.\n",
      "fastapi 0.115.14 requires starlette<0.47.0,>=0.40.0, but you have starlette 0.47.2 which is incompatible.\n",
      "jupyter-scheduler 2.11.0 requires pytz<=2024.2,>=2023.3, but you have pytz 2025.2 which is incompatible.\n",
      "sagemaker 2.245.0 requires attrs<24,>=23.1.0, but you have attrs 25.3.0 which is incompatible.\n",
      "sagemaker 2.245.0 requires importlib-metadata<7.0,>=1.4.0, but you have importlib-metadata 8.7.0 which is incompatible.\n",
      "sagemaker 2.245.0 requires protobuf<6.0,>=3.12, but you have protobuf 6.31.1 which is incompatible.\n",
      "sagemaker-core 1.0.32 requires importlib-metadata<7.0,>=1.4.0, but you have importlib-metadata 8.7.0 which is incompatible.\n",
      "sagemaker-core 1.0.32 requires rich<14.0.0,>=13.0.0, but you have rich 14.1.0 which is incompatible.\n",
      "sagemaker-studio-analytics-extension 0.2.0 requires sparkmagic==0.22.0, but you have sparkmagic 0.21.0 which is incompatible.\n",
      "sparkmagic 0.21.0 requires pandas<2.0.0,>=0.17.1, but you have pandas 2.1.3 which is incompatible.\n",
      "tensorflow 2.18.0 requires protobuf!=4.21.0,!=4.21.1,!=4.21.2,!=4.21.3,!=4.21.4,!=4.21.5,<6.0.0dev,>=3.20.3, but you have protobuf 6.31.1 which is incompatible.\n",
      "thinc 8.3.6 requires numpy<3.0.0,>=2.0.0, but you have numpy 1.26.4 which is incompatible.\n",
      "weasel 0.4.1 requires smart-open<8.0.0,>=5.2.1, but you have smart-open 0.0.0 which is incompatible.\u001b[0m\u001b[31m\n",
      "\u001b[0mNote: you may need to restart the kernel to use updated packages.\n"
     ]
    }
   ],
   "source": [
    "%pip install -r requirements.txt -q --force-reinstall"
   ]
  },
  {
   "cell_type": "code",
   "execution_count": 19,
   "id": "38e0ccd8",
   "metadata": {
    "execution": {
     "iopub.execute_input": "2025-08-05T23:16:11.157410Z",
     "iopub.status.busy": "2025-08-05T23:16:11.156752Z",
     "iopub.status.idle": "2025-08-05T23:16:11.168236Z",
     "shell.execute_reply": "2025-08-05T23:16:11.167359Z",
     "shell.execute_reply.started": "2025-08-05T23:16:11.157377Z"
    }
   },
   "outputs": [
    {
     "data": {
      "text/html": [
       "<script>Jupyter.notebook.kernel.restart()</script>"
      ],
      "text/plain": [
       "<IPython.core.display.HTML object>"
      ]
     },
     "execution_count": 19,
     "metadata": {},
     "output_type": "execute_result"
    }
   ],
   "source": [
    "# restart kernel for packages to take effect\n",
    "from IPython.core.display import HTML\n",
    "HTML(\"<script>Jupyter.notebook.kernel.restart()</script>\")"
   ]
  },
  {
   "cell_type": "markdown",
   "id": "76c470e0",
   "metadata": {},
   "source": [
    "Open the terminal and start the MCP server by running this command\n",
    "\n",
    "```bash\n",
    "python Mortgage_Assistant/3_mcp-server-client/strands_mcp/creditcheck_server_http.py\n",
    "\n"
   ]
  },
  {
   "cell_type": "markdown",
   "id": "b7cf6c53",
   "metadata": {},
   "source": [
    "You might see an output like this\n",
    "```bash\n",
    "% python 4_mcp-server-client/strands_mcp/creditcheck_server_http.py\n",
    "INFO:     Started server process [63536]\n",
    "INFO:     Waiting for application startup.\n",
    "StreamableHTTP session manager started\n",
    "INFO:     Application startup complete.\n",
    "INFO:     Uvicorn running on http://0.0.0.0:8080 (Press CTRL+C to quit)\n",
    "INFO:     127.0.0.1:53817 - \"POST /mcp HTTP/1.1\" 307 Temporary Redirect\n",
    "\n",
    "Copy the relevant server url and update the `mcp_server.json` file. Leave the `/mcp` in the config at the end of the URL\n",
    "\n",
    "\n"
   ]
  },
  {
   "cell_type": "markdown",
   "id": "4f9e6051",
   "metadata": {},
   "source": [
    "Import the following modules"
   ]
  },
  {
   "cell_type": "code",
   "execution_count": 1,
   "id": "556cc24e",
   "metadata": {
    "execution": {
     "iopub.execute_input": "2025-08-05T23:16:24.988313Z",
     "iopub.status.busy": "2025-08-05T23:16:24.988101Z",
     "iopub.status.idle": "2025-08-05T23:16:26.235694Z",
     "shell.execute_reply": "2025-08-05T23:16:26.234867Z",
     "shell.execute_reply.started": "2025-08-05T23:16:24.988292Z"
    }
   },
   "outputs": [],
   "source": [
    "from langchain.chat_models import init_chat_model\n",
    "from langgraph.prebuilt import create_react_agent\n",
    "from langgraph.graph import MessagesState\n",
    "import os\n",
    "import boto3\n",
    "from IPython.display import display,Image, HTML\n",
    "import random\n",
    "from textwrap import dedent\n",
    "from langgraph.checkpoint.memory import InMemorySaver\n",
    "import json\n",
    "from langchain_mcp_adapters.client import MultiServerMCPClient\n",
    "from langgraph_swarm import create_handoff_tool, create_swarm\n",
    "from langchain_core.messages import ToolMessage, AIMessage\n",
    "import certifi\n",
    "from datetime import datetime, timedelta\n",
    "\n"
   ]
  },
  {
   "cell_type": "markdown",
   "id": "44704617",
   "metadata": {},
   "source": [
    "Since we are building the multi-agent workflow on LangGraph, we can use `MultiServerMCPClient`. This library is  used for connecting to multiple MCP servers and  get tools, prompts and resources from the server, and automatically does the conversion from mcp specific details into langchain compatible format. \n"
   ]
  },
  {
   "cell_type": "code",
   "execution_count": 2,
   "id": "cc4e9383",
   "metadata": {
    "execution": {
     "iopub.execute_input": "2025-08-05T23:16:27.336589Z",
     "iopub.status.busy": "2025-08-05T23:16:27.336235Z",
     "iopub.status.idle": "2025-08-05T23:16:27.341357Z",
     "shell.execute_reply": "2025-08-05T23:16:27.340468Z",
     "shell.execute_reply.started": "2025-08-05T23:16:27.336563Z"
    }
   },
   "outputs": [],
   "source": [
    "# we will bring in mcp server configuration\n",
    "with open('config/mcp_server.json', 'r') as f:\n",
    "    mcp_server = json.load(f) "
   ]
  },
  {
   "cell_type": "markdown",
   "id": "b78d7ae8",
   "metadata": {},
   "source": [
    "We will initiate the client and use the `get_tools()`"
   ]
  },
  {
   "cell_type": "code",
   "execution_count": 3,
   "id": "2e80b59d",
   "metadata": {
    "execution": {
     "iopub.execute_input": "2025-08-05T23:16:28.239230Z",
     "iopub.status.busy": "2025-08-05T23:16:28.238615Z",
     "iopub.status.idle": "2025-08-05T23:16:28.350945Z",
     "shell.execute_reply": "2025-08-05T23:16:28.350235Z",
     "shell.execute_reply.started": "2025-08-05T23:16:28.239174Z"
    }
   },
   "outputs": [],
   "source": [
    "client =  MultiServerMCPClient(mcp_server)\n",
    "tools = await client.get_tools()\n"
   ]
  },
  {
   "cell_type": "markdown",
   "id": "e41e5ca4",
   "metadata": {},
   "source": [
    "Unblock the code in the below cell and run to get more info about the tools\n"
   ]
  },
  {
   "cell_type": "code",
   "execution_count": 4,
   "id": "1b7f0bf8",
   "metadata": {
    "execution": {
     "iopub.execute_input": "2025-08-05T23:16:29.709477Z",
     "iopub.status.busy": "2025-08-05T23:16:29.709196Z",
     "iopub.status.idle": "2025-08-05T23:16:29.713477Z",
     "shell.execute_reply": "2025-08-05T23:16:29.712416Z",
     "shell.execute_reply.started": "2025-08-05T23:16:29.709456Z"
    }
   },
   "outputs": [],
   "source": [
    "# for tool in tools:\n",
    "#     print(f\"Name: {tool.name}\")\n",
    "#     print(f\"Description: {tool.description}\")\n",
    "#     print(f\"Schema: {tool.args_schema}\")"
   ]
  },
  {
   "cell_type": "markdown",
   "id": "9ca20a48",
   "metadata": {},
   "source": [
    "If you're running this notebook locally, set the AWS_PROFILE"
   ]
  },
  {
   "cell_type": "code",
   "execution_count": 5,
   "id": "99cb85e3",
   "metadata": {
    "execution": {
     "iopub.execute_input": "2025-08-05T23:16:30.085157Z",
     "iopub.status.busy": "2025-08-05T23:16:30.084594Z",
     "iopub.status.idle": "2025-08-05T23:16:30.088567Z",
     "shell.execute_reply": "2025-08-05T23:16:30.087827Z",
     "shell.execute_reply.started": "2025-08-05T23:16:30.085127Z"
    }
   },
   "outputs": [],
   "source": [
    "# os.environ['AWS_PROFILE']='stcgenai'"
   ]
  },
  {
   "cell_type": "markdown",
   "id": "4266e1ad",
   "metadata": {},
   "source": [
    "If you run into SSL certificate issues, run the following code block in Python cell"
   ]
  },
  {
   "cell_type": "code",
   "execution_count": 6,
   "id": "6fab036b",
   "metadata": {
    "execution": {
     "iopub.execute_input": "2025-08-05T23:16:30.421782Z",
     "iopub.status.busy": "2025-08-05T23:16:30.421062Z",
     "iopub.status.idle": "2025-08-05T23:16:30.425265Z",
     "shell.execute_reply": "2025-08-05T23:16:30.424334Z",
     "shell.execute_reply.started": "2025-08-05T23:16:30.421719Z"
    }
   },
   "outputs": [],
   "source": [
    "# cert_path = certifi.where()\n",
    "# print(f\"Using certificate bundle at: {cert_path}\")\n",
    "\n",
    "# # Set environment variable\n",
    "# os.environ['AWS_CA_BUNDLE'] = cert_path"
   ]
  },
  {
   "cell_type": "markdown",
   "id": "dae3f9a2",
   "metadata": {},
   "source": [
    "Next, we will continue on initiating the AgentState, LLM and memory respectively. \n",
    "\n",
    "Depending on the model availability and the region  you are running this lab, change the agent_foundation_model[] and region_name before instantiating the boto client"
   ]
  },
  {
   "cell_type": "code",
   "execution_count": 51,
   "id": "90c91398",
   "metadata": {
    "execution": {
     "iopub.execute_input": "2025-08-05T23:47:56.446696Z",
     "iopub.status.busy": "2025-08-05T23:47:56.446346Z",
     "iopub.status.idle": "2025-08-05T23:47:56.453975Z",
     "shell.execute_reply": "2025-08-05T23:47:56.453094Z",
     "shell.execute_reply.started": "2025-08-05T23:47:56.446673Z"
    }
   },
   "outputs": [],
   "source": [
    "class AgentState(MessagesState):\n",
    "    pass\n",
    "\n",
    "agent_foundation_model = [\n",
    "    'us.anthropic.claude-3-5-haiku-20241022-v1:0'\n",
    "    ]\n",
    "\n",
    "bedrock_client = boto3.client('bedrock-runtime')\n",
    "\n",
    "model = init_chat_model(\n",
    "    agent_foundation_model[0],\n",
    "    model_provider=\"bedrock_converse\",\n",
    "    temperature=0.7,\n",
    "    client=bedrock_client\n",
    ")\n",
    "\n",
    "memory = InMemorySaver()"
   ]
  },
  {
   "cell_type": "markdown",
   "id": "65e7a74e",
   "metadata": {},
   "source": [
    "We will define the same tools we used in the LangGraph multi agent notebook"
   ]
  },
  {
   "cell_type": "code",
   "execution_count": 52,
   "id": "92240086",
   "metadata": {
    "execution": {
     "iopub.execute_input": "2025-08-05T23:47:56.848061Z",
     "iopub.status.busy": "2025-08-05T23:47:56.847687Z",
     "iopub.status.idle": "2025-08-05T23:47:56.859181Z",
     "shell.execute_reply": "2025-08-05T23:47:56.858360Z",
     "shell.execute_reply.started": "2025-08-05T23:47:56.848034Z"
    }
   },
   "outputs": [],
   "source": [
    "def get_mortgage_details(customer_id: str) -> str:\n",
    "    \"\"\"\n",
    "Retrieves the mortgage status for a given customer ID. Returns an object containing \n",
    "details like the account number, \n",
    "outstanding principal, interest rate, maturity date, number of payments remaining, due date of next payment, \n",
    "and amount of next payment.\"\"\"\n",
    "    return {\n",
    "        \"account_number\": customer_id,\n",
    "        \"outstanding_principal\": 150599.25,\n",
    "        \"interest_rate\": 8.5,\n",
    "        \"maturity_date\": \"2030-06-30\",\n",
    "        \"original_issue_date\": \"2021-05-30\",\n",
    "        \"payments_remaining\": 72,\n",
    "        \"last_payment_date\": str(datetime.today() - timedelta(days=14)).split(' ')[0],\n",
    "        \"next_payment_due\": str(datetime.today() + timedelta(days=14)).split(' ')[0],\n",
    "        \"next_payment_amount\": 1579.63\n",
    "    }\n",
    "\n",
    "\n",
    "def get_application_details(customer_id: str) -> str:\n",
    "    \"\"\"Retrieves the details about an application for a new mortgage. The function takes a customer ID, but it is purely optional. \n",
    "    The function implementation can retrieve it from session state instead. \n",
    "    Details include the application ID, application date, application status, application type, application amount, application tentative rate, and application term in years.\"\"\"\n",
    "    return {\n",
    "        \"customer_id\": customer_id,\n",
    "        \"application_id\": \"998776\",\n",
    "        \"application_date\": datetime.today() - timedelta(days=35), # simulate app started 35 days ago\n",
    "        \"application_status\": \"IN_PROGRESS\",\n",
    "        \"application_type\": \"NEW_MORTGAGE\",\n",
    "        \"application_amount\": 750000,\n",
    "        \"application_tentative_rate\": 5.5,\n",
    "        \"application_term_years\": 30,\n",
    "        \"application_rate_type\": \"fixed\"\n",
    "    }\n",
    "\n",
    "\n",
    "def get_mortgage_rate_history(day_count: int=30, type: str=\"15-year-fixed\"):\n",
    "    \"\"\"Retrieves the history of mortgage interest rates going back a given number of days, defaults to 30. History is returned as a list of objects, where each object contains the date and the interest rate to 2 decimal places.\"\"\"\n",
    "    BASE_RATE=6.00\n",
    "\n",
    "    RATE_MIN_15=38\n",
    "    RATE_MAX_15=48\n",
    "\n",
    "    RATE_MIN_30=RATE_MIN_15 + 80\n",
    "    RATE_MAX_30=RATE_MAX_15 + 80\n",
    "    \n",
    "    # print(f\"getting rate history for: {day_count} days, for type: {type}...\")\n",
    "    # generate the last 7 working day dates starting with yesterday\n",
    "    today = datetime.today()\n",
    "    history_count = 0\n",
    "    rate_history = []\n",
    "\n",
    "    if type == \"30-year-fixed\":\n",
    "        RATE_MIN = RATE_MIN_30\n",
    "        RATE_MAX = RATE_MAX_30\n",
    "    else:\n",
    "        RATE_MIN = RATE_MIN_15\n",
    "        RATE_MAX = RATE_MAX_15\n",
    "\n",
    "    for i in range(int(day_count*1.4)):\n",
    "        if history_count >= day_count:\n",
    "            break\n",
    "        else:\n",
    "            day = today - timedelta(days=i+1)\n",
    "            which_day_of_week = day.weekday()\n",
    "            if which_day_of_week < 5:\n",
    "                history_count += 1\n",
    "                _date = str(day.strftime(\"%Y-%m-%d\"))\n",
    "                _rate = f\"{BASE_RATE + ((random.randrange(RATE_MIN, RATE_MAX))/100):.2f}\"\n",
    "                rate_history.append({\"date\": _date, \"rate\": _rate})\n",
    "\n",
    "    return rate_history\n",
    "\n",
    "\n",
    "def get_mortgage_app_doc_status(customer_id: str):\n",
    "    \"\"\"\n",
    "    Retrieves the list of required documents for a mortgage application in process, along with their respectiv statuses (COMPLETED or MISSING).\n",
    "    The function takes a customer ID, but it is purely optional. The funciton implementation can retrieve it from session state instead. \n",
    "    This function returns a list of objects, where each object represents a required document type. \n",
    "    The required document types for a mortgage application are: proof of income, employment information, proof of assets, and credit information. Each object in the returned list contains the type of the required document and its corresponding status.\"\"\"\n",
    "    return [\n",
    "        {\n",
    "            \"type\": \"proof_of_income\",\n",
    "            \"status\": \"COMPLETED\"\n",
    "        },\n",
    "        {\n",
    "            \"type\": \"employment_information\",\n",
    "            \"status\": \"MISSING\"\n",
    "        },\n",
    "        {\n",
    "            \"type\": \"proof_of_assets\",\n",
    "            \"status\": \"COMPLETED\"\n",
    "        },\n",
    "        {\n",
    "            \"type\": \"credit_information\",\n",
    "            \"status\": \"COMPLETED\"\n",
    "        }\n",
    "    ]"
   ]
  },
  {
   "cell_type": "code",
   "execution_count": 53,
   "id": "68e894b7-c69e-46b7-b309-62a76a5182d6",
   "metadata": {
    "execution": {
     "iopub.execute_input": "2025-08-05T23:47:57.005526Z",
     "iopub.status.busy": "2025-08-05T23:47:57.004554Z",
     "iopub.status.idle": "2025-08-05T23:47:57.010993Z",
     "shell.execute_reply": "2025-08-05T23:47:57.010087Z",
     "shell.execute_reply.started": "2025-08-05T23:47:57.005487Z"
    }
   },
   "outputs": [
    {
     "name": "stdout",
     "output_type": "stream",
     "text": [
      "Knowledge Base ID: GO3CLYUJPK\n"
     ]
    }
   ],
   "source": [
    "# Retrieve knowledge base ID from previous notebook\n",
    "%store -r kb_id\n",
    "os.environ[\"KNOWLEDGE_BASE_ID\"] = kb_id\n",
    "print(\"Knowledge Base ID:\", kb_id)"
   ]
  },
  {
   "cell_type": "markdown",
   "id": "d09780d6",
   "metadata": {},
   "source": [
    " Lets add a RAG and add to the graph. We shall use Bedrock's Knowledge Base , the managed RAG offering. Replace the `knowledge_base_id` with the KB you created in the previous labs\n",
    "\n",
    "For this scenario we will use  `AmazonKnowledgeBasesRetriever` class from  the langchain_aws module. \n",
    "\n",
    "<div class=\"alert alert-block alert-info\">\n",
    "Replace the KB id from the Bedrock modules\n",
    "</div>"
   ]
  },
  {
   "cell_type": "code",
   "execution_count": 54,
   "id": "da18e564",
   "metadata": {
    "execution": {
     "iopub.execute_input": "2025-08-05T23:47:57.343950Z",
     "iopub.status.busy": "2025-08-05T23:47:57.343583Z",
     "iopub.status.idle": "2025-08-05T23:47:57.353637Z",
     "shell.execute_reply": "2025-08-05T23:47:57.352869Z",
     "shell.execute_reply.started": "2025-08-05T23:47:57.343927Z"
    }
   },
   "outputs": [],
   "source": [
    "from langchain_aws.retrievers import AmazonKnowledgeBasesRetriever\n",
    "\n",
    "retriever = AmazonKnowledgeBasesRetriever(\n",
    "                knowledge_base_id=kb_id,\n",
    "                retrieval_config={\n",
    "                    \"vectorSearchConfiguration\": {\n",
    "                        \"numberOfResults\": 4\n",
    "                    }\n",
    "                \n",
    "                },\n",
    "            )\n"
   ]
  },
  {
   "cell_type": "markdown",
   "id": "0fb76b20",
   "metadata": {},
   "source": [
    "Now, we test to see if the KB is working as expected"
   ]
  },
  {
   "cell_type": "code",
   "execution_count": 55,
   "id": "f50b174e",
   "metadata": {
    "execution": {
     "iopub.execute_input": "2025-08-05T23:47:57.690230Z",
     "iopub.status.busy": "2025-08-05T23:47:57.689460Z",
     "iopub.status.idle": "2025-08-05T23:47:58.069691Z",
     "shell.execute_reply": "2025-08-05T23:47:58.068910Z",
     "shell.execute_reply.started": "2025-08-05T23:47:57.690203Z"
    }
   },
   "outputs": [
    {
     "data": {
      "text/plain": [
       "[Document(metadata={'location': {'s3Location': {'uri': 's3://mac-workshop-us-west-2-706316750687/Mortgage Refinancing When Does It Make Sense .html'}, 'type': 'S3'}, 'score': 0.5549688, 'type': 'TEXT', 'source_metadata': {'x-amz-bedrock-kb-source-uri': 's3://mac-workshop-us-west-2-706316750687/Mortgage Refinancing When Does It Make Sense .html', 'x-amz-bedrock-kb-chunk-id': '1%3A0%3AmcTJcpgB0iBd7qYqNAek', 'x-amz-bedrock-kb-data-source-id': 'UEGSCQYJW0'}}, page_content=\"More to the point, consider whether the monthly savings is enough to make a positive change in your life, or whether the overall savings over the life of the loan will benefit you substantially. ## Refinancing to Secure a Lower Interest Rate One of the best reasons to refinance is to lower the interest rate](https://www.investopedia.com/articles/investing/080713/how-banks-set-interest-rates-your-loans.asp) on your existing loan. Historically, the rule of thumb is that refinancing is a good idea if you can reduce your interest rate by at least 2%. However, many lenders say 1% savings is enough of an incentive to refinance. Using a [mortgage calculator is a good resource to budget some of the costs. Reducing your interest rate not only helps you save money, but it also increases the rate at which you build equity in your home, and it can decrease the size of your monthly payment. For example, a 30-year fixed-rate mortgage with an interest rate of 5.5% on a $100,000 home has a principal and interest payment of $568. That same loan at 4.1% reduces your payment to $477. ### Mortgage lending discrimination is illegal. If you think you've been discriminated against](https://www.investopedia.com/housing-discrimination-what-can-you-do-5074478) based on race, religion, sex, marital status, use of public assistance, national origin, disability, or age, there are steps you can take. One such step is to file a report to the [Consumer Financial Protection Bureau](https://www.consumerfinance.gov/complaint/) or with the [U.S. Department of Housing and Urban Development. ## Refinancing to Shorten the Loan's Term When interest rates fall, homeowners sometimes have the opportunity to refinance an existing loan for another loan that, without much change in the monthly payment, has a significantly shorter term. For a 30-year fixed-rate mortgage on a $100,000 home, refinancing from 9% to 5.5% can cut the term in half to 15 years with only a slight change in the monthly payment from $805 to $817. However, if you're already at 5.5% for 30 years ($568), getting, a 3.5% mortgage for 15 years would raise your payment to $715.\"),\n",
       " Document(metadata={'location': {'s3Location': {'uri': 's3://mac-workshop-us-west-2-706316750687/Mortgage Refinancing When Does It Make Sense .html'}, 'type': 'S3'}, 'score': 0.50089234, 'type': 'TEXT', 'source_metadata': {'x-amz-bedrock-kb-source-uri': 's3://mac-workshop-us-west-2-706316750687/Mortgage Refinancing When Does It Make Sense .html', 'x-amz-bedrock-kb-chunk-id': '1%3A0%3Am8TJcpgB0iBd7qYqNAel', 'x-amz-bedrock-kb-data-source-id': 'UEGSCQYJW0'}}, page_content=\"Another justification is that the interest on mortgages is tax-deductible. While these arguments may be true, increasing the number of years that you owe on your mortgage is rarely a smart financial decision nor is spending a dollar on interest to get a 30-cent tax deduction. Also note that since the Tax Cut and Jobs Act went into effect, the size of the loan on which you can deduct interest has dropped from $1 million to $750,000 if you bought your house after Dec. 15, 2017. Many homeowners refinance to consolidate their debt. At face value, replacing high-interest debt with a low-interest mortgage is a good idea. Unfortunately, refinancing does not bring automatic financial prudence. Take this step only if you are convinced you can resist the temptation to spend once the refinancing relieves you from debt. Be aware that a large percentage of people who once generated high-interest debt on credit cards, cars, and other purchases will simply do it again after the mortgage refinancing gives them the available credit to do so. This creates an instant quadruple loss composed of wasted fees on the refinancing, lost equity in the house, additional years of increased interest payments on the new mortgage, and the return of high-interest debt once the credit cards are maxed out again---the possible result is an endless perpetuation of the debt cycle and eventual bankruptcy. Another reason to refinance can be a serious financial emergency. If that is the case, carefully research all your options](https://www.investopedia.com/articles/personal-finance/101315/7-smart-ways-raise-cash-fast.asp) for raising funds before you take this step. If you do a cash-out refinance, you may be [charged a higher interest rate on the new mortgage than for a rate-and-term refinance, in which you don't take out money. ## The Bottom Line Refinancing can be a great financial move if it reduces your mortgage payment, shortens the term of your loan, or helps you build equity more quickly. When used carefully, it can also be a valuable tool for bringing debt under control. Before you refinance, take a careful look at your financial situation and ask yourself: How long do I plan to continue living in the house? How much money will I save by refinancing? Again, keep in mind that refinancing costs 3% to 6% of the loan's principal.\"),\n",
       " Document(metadata={'location': {'s3Location': {'uri': 's3://mac-workshop-us-west-2-706316750687/Mortgage Refinancing When Does It Make Sense .html'}, 'type': 'S3'}, 'score': 0.4999864, 'type': 'TEXT', 'source_metadata': {'x-amz-bedrock-kb-source-uri': 's3://mac-workshop-us-west-2-706316750687/Mortgage Refinancing When Does It Make Sense .html', 'x-amz-bedrock-kb-chunk-id': '1%3A0%3AmMTJcpgB0iBd7qYqNAek', 'x-amz-bedrock-kb-data-source-id': 'UEGSCQYJW0'}}, page_content='Mortgage Refinancing: When Does It Make Sense? By clicking \"Accept All Cookies\", you agree to the storing of cookies on your device to enhance site navigation, analyze site usage, and assist in our marketing efforts. Cookies Settings Accept All Cookies Table of Contents Expand Table of Contents * Refinancing to Lower Rate * Refinancing to Shorten Term * Refinancing to an ARM or Fixed * Refinancing to Tap Equity * The Bottom Line * Mortgage * Refinancing a Home Refinancing a mortgage means paying off an existing loan and replacing it with a new one. There are many reasons why homeowners refinance: * To obtain a lower interest rate * To shorten the term of their mortgage * To convert from an adjustable-rate mortgage](https://www.investopedia.com/terms/a/arm.asp) (ARM) to a [fixed-rate mortgage, or vice versa * To tap into home equity to raise funds to deal with a financial emergency, finance a large purchase, or consolidate debt Since refinancing can cost between 3% and 6% of a loan\\'s principal and---as with an original mortgage---requires an appraisal, title search, and application fees, it\\'s important for a homeowner to determine whether refinancing is a wise financial decision. ### Key Takeaways * Getting a mortgage with a lower interest rate is one of the best reasons to refinance. * When interest rates drop, consider refinancing to shorten the term of your mortgage and pay significantly less in interest payments. * Switching to a fixed-rate mortgage---or to an adjustable-rate one---can make sense depending on the rates and how long you plan to remain in your current home. * Tapping equity or consolidating debt are other reasons to refinance---but beware, doing so can sometimes worsen debt problems. ### Is Refinancing Worth It? A rule of thumb says that you\\'ll benefit from refinancing if the new rate is at least 1% lower than the rate you have. More to the point, consider whether the monthly savings is enough to make a positive change in your life, or whether the overall savings over the life of the loan will benefit you substantially. ## Refinancing to Secure a Lower Interest Rate One of the best reasons to refinance is to lower the interest rate](https://www.investopedia.com/articles/investing/080713/how-banks-set-interest-rates-your-loans.asp) on your existing loan.'),\n",
       " Document(metadata={'location': {'s3Location': {'uri': 's3://mac-workshop-us-west-2-706316750687/Mortgage Refinancing When Does It Make Sense .html'}, 'type': 'S3'}, 'score': 0.48521003, 'type': 'TEXT', 'source_metadata': {'x-amz-bedrock-kb-source-uri': 's3://mac-workshop-us-west-2-706316750687/Mortgage Refinancing When Does It Make Sense .html', 'x-amz-bedrock-kb-chunk-id': '1%3A0%3AmsTJcpgB0iBd7qYqNAel', 'x-amz-bedrock-kb-data-source-id': 'UEGSCQYJW0'}}, page_content=\"For a 30-year fixed-rate mortgage on a $100,000 home, refinancing from 9% to 5.5% can cut the term in half to 15 years with only a slight change in the monthly payment from $805 to $817. However, if you're already at 5.5% for 30 years ($568), getting, a 3.5% mortgage for 15 years would raise your payment to $715. So do the math and see what works. ## Refinancing to Convert to an ARM or Fixed-Rate Mortgage While ARMs often start out offering lower rates than fixed-rate mortgages, periodic adjustments can result in rate increases that are higher than the rate available through a fixed-rate mortgage. When this occurs, converting to fixed-rate mortgage results in a lower interest rate and eliminates concern over future interest rate hikes. Conversely, converting from a fixed-rate loan to an ARM---which often has a lower monthly payment than a fixed-term mortgage---can be a sound financial strategy if interest rates are falling, especially for homeowners who do not play to stay in their homes for more than a few years. These homeowners can reduce their loan's interest rate and monthly payment, but they will not have to worry about how higher rates go 30 years in the future. If rates continue to fall, the periodic rate adjustments on an ARM result in decreasing rates and smaller monthly mortgage payments eliminating the need to refinance every time rates drop. When mortgage interest rates rise, on the other hand, this would be an unwise strategy. ## Refinancing to Tap Equity or Consolidate Debt While the previously mentioned reasons to refinance are all financially sound, mortgage refinancing can be a slippery slope to never-ending debt. Homeowners often access the equity in their homes to cover major expenses, such as the costs of home remodeling or a child's college education. These homeowners may justify the refinancing by the fact that remodeling adds value to the home or that the interest rate on the mortgage loan is less than the rate on money borrowed from another source. Another justification is that the interest on mortgages is tax-deductible. While these arguments may be true, increasing the number of years that you owe on your mortgage is rarely a smart financial decision nor is spending a dollar on interest to get a 30-cent tax deduction.\")]"
      ]
     },
     "execution_count": 55,
     "metadata": {},
     "output_type": "execute_result"
    }
   ],
   "source": [
    "retriever.invoke(\"What is the benefit of refinancing, if any?\")\n"
   ]
  },
  {
   "cell_type": "markdown",
   "id": "d6fd3d7c",
   "metadata": {},
   "source": [
    "Once we create the retriever and tested it, lets wrap it using the langchain `Tool` and use the `retrieve.invoke()` function "
   ]
  },
  {
   "cell_type": "code",
   "execution_count": 56,
   "id": "fc19f158",
   "metadata": {
    "execution": {
     "iopub.execute_input": "2025-08-05T23:47:58.330830Z",
     "iopub.status.busy": "2025-08-05T23:47:58.330450Z",
     "iopub.status.idle": "2025-08-05T23:47:58.335401Z",
     "shell.execute_reply": "2025-08-05T23:47:58.334213Z",
     "shell.execute_reply.started": "2025-08-05T23:47:58.330803Z"
    }
   },
   "outputs": [],
   "source": [
    "from langchain.tools import Tool\n",
    "\n",
    "retriever_tool = Tool(\n",
    "    name=\"amazon_knowledge_base\",\n",
    "    description=\"Use this knowledge base to answer general questions about mortgages, like how to refinnance, or the difference between 15-year and 30-year mortgages.\",\n",
    "    func=lambda query: \"\\n\\n\".join([doc.page_content for doc in retriever.invoke(query)])\n",
    ")"
   ]
  },
  {
   "cell_type": "markdown",
   "id": "e6f8cd8e",
   "metadata": {},
   "source": [
    "Load the system prompt files before invoking them"
   ]
  },
  {
   "cell_type": "code",
   "execution_count": 57,
   "id": "cdefb3dd",
   "metadata": {
    "execution": {
     "iopub.execute_input": "2025-08-05T23:47:58.992005Z",
     "iopub.status.busy": "2025-08-05T23:47:58.990550Z",
     "iopub.status.idle": "2025-08-05T23:47:58.995995Z",
     "shell.execute_reply": "2025-08-05T23:47:58.995290Z",
     "shell.execute_reply.started": "2025-08-05T23:47:58.991972Z"
    }
   },
   "outputs": [],
   "source": [
    "def load_system_prompt(filename):\n",
    "    \"\"\"Load system prompt from markdown file\"\"\"\n",
    "    with open(f'config/{filename}', 'r') as f:\n",
    "        return f.read()"
   ]
  },
  {
   "cell_type": "markdown",
   "id": "ecbc936a",
   "metadata": {},
   "source": [
    "Create the hand off tools and react agents"
   ]
  },
  {
   "cell_type": "code",
   "execution_count": 58,
   "id": "1c6b833c",
   "metadata": {
    "execution": {
     "iopub.execute_input": "2025-08-05T23:47:59.448032Z",
     "iopub.status.busy": "2025-08-05T23:47:59.447751Z",
     "iopub.status.idle": "2025-08-05T23:47:59.560756Z",
     "shell.execute_reply": "2025-08-05T23:47:59.559878Z",
     "shell.execute_reply.started": "2025-08-05T23:47:59.448012Z"
    }
   },
   "outputs": [
    {
     "data": {
      "image/png": "[encoded data removed]",
      "text/plain": [
       "<IPython.core.display.Image object>"
      ]
     },
     "metadata": {},
     "output_type": "display_data"
    }
   ],
   "source": [
    "# Define handoff tool\n",
    "transfer_to_existing_assistant = create_handoff_tool(\n",
    "    agent_name=\"existing_mortgage_agent\",\n",
    "    description=\"Transfer user to the existing mortgage agent to provide information about current mortgage  details including outstanding principal, interest rates, maturity dates, payment schedules, and upcoming payment information. Use this when the user is asking about their existing mortgage account, payment details, or loan status. \"\n",
    ")\n",
    "\n",
    "# Define handoff tool\n",
    "transfer_to_application_assistant = create_handoff_tool(\n",
    "    agent_name=\"mortgage_application_agent\",\n",
    "    description=\"Transfer user to the mortgage application agent to provide assistance with new mortgage applications, document status tracking, application details, and historical mortgage rate information. Use this when the user is asking about applying for a new mortgage, checking application status, or needs information about current mortgage rates.\"\n",
    ")\n",
    "\n",
    "# Define handoff tool\n",
    "transfer_to_general_mortgage_agent = create_handoff_tool(\n",
    "    agent_name=\"general_mortgage_agent\",\n",
    "    description=\"Transfer user to the general mortgage agent to use knowledge base to answer general questions about mortgages, like how to refinnance, or the difference between 15-year and 30-year mortgages.\"\n",
    "\n",
    ")\n",
    "\n",
    "# Define the Agent\n",
    "general_mortgage_agent = create_react_agent(\n",
    "    model=model,\n",
    "    tools=[retriever_tool,transfer_to_existing_assistant,transfer_to_application_assistant],\n",
    "    prompt=dedent(load_system_prompt(\"general_assistant_system.md\")),\n",
    "    name=\"general_mortgage_agent\")\n",
    "\n",
    "# Define the Agent\n",
    "existing_mortgage_agent = create_react_agent(\n",
    "    model=model,\n",
    "    tools=[get_mortgage_details,transfer_to_application_assistant, transfer_to_general_mortgage_agent],\n",
    "    prompt=dedent(load_system_prompt(\"existing_mortgage_system.md\")),\n",
    "    name=\"existing_mortgage_agent\"\n",
    ")\n",
    "\n",
    "# Define the Agent\n",
    "mortgage_application_agent = create_react_agent(\n",
    "    model=model,\n",
    "    tools=[get_application_details,get_mortgage_rate_history,get_mortgage_app_doc_status,transfer_to_existing_assistant,transfer_to_general_mortgage_agent],\n",
    "    prompt=dedent(\"mortgage_application_system.md\"),\n",
    "    name=\"mortgage_application_agent\")\n",
    "\n",
    "graph = create_swarm([existing_mortgage_agent,mortgage_application_agent,general_mortgage_agent],default_active_agent=\"general_mortgage_agent\")\n",
    "\n",
    "app = graph.compile(checkpointer=memory)\n",
    "config = {\"configurable\": {\"thread_id\": random.randint(1,10000)}}\n",
    "\n",
    "display(Image(app.get_graph().draw_mermaid_png()))"
   ]
  },
  {
   "cell_type": "markdown",
   "id": "f883c9b4",
   "metadata": {},
   "source": [
    "Firstly, we test the multi agent functionality"
   ]
  },
  {
   "cell_type": "code",
   "execution_count": 59,
   "id": "7b2745ed",
   "metadata": {
    "execution": {
     "iopub.execute_input": "2025-08-05T23:48:00.646942Z",
     "iopub.status.busy": "2025-08-05T23:48:00.646590Z",
     "iopub.status.idle": "2025-08-05T23:48:13.707279Z",
     "shell.execute_reply": "2025-08-05T23:48:13.704285Z",
     "shell.execute_reply.started": "2025-08-05T23:48:00.646914Z"
    }
   },
   "outputs": [
    {
     "name": "stdout",
     "output_type": "stream",
     "text": [
      "================================\u001b[1m Human Message \u001b[0m=================================\n",
      "\n",
      "I need a complete mortgage consultation. First, I want to check my existing mortgage details for customer ID xyz to see my current situation. Then I need to understand the market by showing me the 30-year fixed mortgage rate history for the past 30 days to compare with my current rate. Finally, I have a general question about mortgage refinancing - what are the key factors I should consider when deciding whether to refinance my mortgage, and what's the difference between a 15-year and 30-year mortgage in terms of total cost\n",
      "==================================\u001b[1m Ai Message \u001b[0m==================================\n",
      "Name: general_mortgage_agent\n",
      "\n",
      "[{'type': 'text', 'text': \"I'll help you through this comprehensive mortgage consultation step by step.\\n\\n1. First, let's check your existing mortgage details:\"}, {'type': 'tool_use', 'name': 'transfer_to_existing_mortgage_agent', 'input': {}, 'id': 'tooluse_FxEm_J1sSYKNKtbDv1SX7A'}]\n",
      "Tool Calls:\n",
      "  transfer_to_existing_mortgage_agent (tooluse_FxEm_J1sSYKNKtbDv1SX7A)\n",
      " Call ID: tooluse_FxEm_J1sSYKNKtbDv1SX7A\n",
      "  Args:\n",
      "=================================\u001b[1m Tool Message \u001b[0m=================================\n",
      "Name: transfer_to_existing_mortgage_agent\n",
      "\n",
      "Successfully transferred to existing_mortgage_agent\n",
      "==================================\u001b[1m Ai Message \u001b[0m==================================\n",
      "Name: existing_mortgage_agent\n",
      "\n",
      "[{'type': 'tool_use', 'name': 'get_mortgage_details', 'input': {'customer_id': 'xyz'}, 'id': 'tooluse_L8fsMUheSKC30gT_DkhpRA'}]\n",
      "Tool Calls:\n",
      "  get_mortgage_details (tooluse_L8fsMUheSKC30gT_DkhpRA)\n",
      " Call ID: tooluse_L8fsMUheSKC30gT_DkhpRA\n",
      "  Args:\n",
      "    customer_id: xyz\n",
      "=================================\u001b[1m Tool Message \u001b[0m=================================\n",
      "Name: get_mortgage_details\n",
      "\n",
      "{\"account_number\": \"xyz\", \"outstanding_principal\": 150599.25, \"interest_rate\": 8.5, \"maturity_date\": \"2030-06-30\", \"original_issue_date\": \"2021-05-30\", \"payments_remaining\": 72, \"last_payment_date\": \"2025-07-22\", \"next_payment_due\": \"2025-08-19\", \"next_payment_amount\": 1579.63}\n",
      "==================================\u001b[1m Ai Message \u001b[0m==================================\n",
      "Name: existing_mortgage_agent\n",
      "\n",
      "[{'type': 'text', 'text': \"2. For market information and general mortgage advice, I'll transfer you to our general mortgage agent:\"}, {'type': 'tool_use', 'name': 'transfer_to_general_mortgage_agent', 'input': {}, 'id': 'tooluse_pwMpy3n1RB69DUAlsySpBw'}]\n",
      "Tool Calls:\n",
      "  transfer_to_general_mortgage_agent (tooluse_pwMpy3n1RB69DUAlsySpBw)\n",
      " Call ID: tooluse_pwMpy3n1RB69DUAlsySpBw\n",
      "  Args:\n",
      "=================================\u001b[1m Tool Message \u001b[0m=================================\n",
      "Name: transfer_to_general_mortgage_agent\n",
      "\n",
      "Successfully transferred to general_mortgage_agent\n",
      "==================================\u001b[1m Ai Message \u001b[0m==================================\n",
      "Name: general_mortgage_agent\n",
      "\n",
      "[{'type': 'text', 'text': \"Now, I'll use our knowledge base to provide insights about refinancing and mortgage types:\"}, {'type': 'tool_use', 'name': 'amazon_knowledge_base', 'input': {'__arg1': 'What are the key factors to consider when refinancing a mortgage, and what are the differences between 15-year and 30-year mortgages?'}, 'id': 'tooluse_dWZAYk_yQb2WmWVJvmUuFg'}]\n",
      "Tool Calls:\n",
      "  amazon_knowledge_base (tooluse_dWZAYk_yQb2WmWVJvmUuFg)\n",
      " Call ID: tooluse_dWZAYk_yQb2WmWVJvmUuFg\n",
      "  Args:\n",
      "    __arg1: What are the key factors to consider when refinancing a mortgage, and what are the differences between 15-year and 30-year mortgages?\n",
      "=================================\u001b[1m Tool Message \u001b[0m=================================\n",
      "Name: amazon_knowledge_base\n",
      "\n",
      "15-Year vs. 30-Year Mortgage: What's the Difference? By clicking \"Accept All Cookies\", you agree to the storing of cookies on your device to enhance site navigation, analyze site usage, and assist in our marketing efforts. Cookies Settings Accept All Cookies Table of Contents Expand Table of Contents * An Overview * How Mortgage Terms Impact Cost * 30-Year Mortgage * 15-Year Mortgage * Special Considerations * A Best-of-Both-Worlds Option * FAQs * The Bottom Line * Personal Finance * Mortgage ## 15-Year vs. 30-Year Mortgage: An Overview Fifteen-year and 30-year mortgages are structurally similar---the main difference is the term. While a 30-year mortgage can make your monthly payments more affordable, a 15-year mortgage generally costs less in the long run. Most homebuyers choose a 30-year home loan. The 30-year fixed-rate mortgage is practically an American archetype, the apple pie of financial instruments. It is the path that generations of Americans have taken to first-time homeownership. But many of those buyers might have been better served if they had opted for a 15-year fixed-rate mortgage instead. Though the monthly payments might be higher, they could save thousands in interest. ### Key Takeaways * Most homebuyers choose a 30-year fixed-rate mortgage, but a 15-year mortgage can be a good choice for some. * A 30-year mortgage can make your monthly payments more affordable. * While monthly payments on a 15-year mortgage are higher, the cost of the loan is less in the long run. ## How Mortgage Terms Affect Cost A mortgage](https://www.investopedia.com/terms/m/mortgage.asp) is simply a particular type of term loan---one secured by real property. For a term loan, the borrower pays interest calculated on an annual basis against the outstanding balance of the loan. Both the [interest rate and monthly payment are fixed. Because the monthly payment is fixed, the portion going to pay interest and the portion going to pay principal change over time. In the beginning, because the loan balance is so high, most of the payment is interest. But as the balance gets smaller, the interest share of the payment declines, and the share going to principal increases. A shorter-term loan means a higher monthly payment, which makes the 15-year mortgage seem less affordable. But the shorter term makes the loan cheaper on several fronts.\n",
      "\n",
      "The better choice is the one that works best with your finances and long-term goals. ## Is It Better to Get a 15-Year Mortgage or Make Extra Payments on a 30-Year Mortgage? Applying extra payments toward your principal can help you pay down a 30-year mortgage faster without being locked in to a 15-year time frame. Run the numbers to decide whether the flexibility will be worth it, since 30-year loans often come with higher interest rates. ## Is It Worth It to Switch From a 30-Year Fixed-Rate Mortgage to a 15-Year? If you already have a 30-year fixed-rate mortgage and are interested in refinancing to a 15-year mortgage, there are a couple key points to keep in mind. First, consider whether your budget can accommodate the higher mortgage payment of a 15-year loan. Then, compare your existing interest rate with the rates you qualify for on a 15-year mortgage. If you can get a lower interest rate, that could save you money. But with a refinance, you also have to consider the costs of the new loan, which could include origination fees, closing costs, and other expenses. If you don't come out ahead after factoring in the new interest rate as well as the costs of the new loan, you might choose to make extra payments on your existing loan instead. ## The Bottom Line The decision between a 30-year or 15-year mortgage is one that will impact your finances for decades to come, so be sure to crunch the numbers before deciding which is best. If your aim is to pay off the mortgage sooner and you can afford higher monthly payments, a 15-year loan might be a better choice. The lower monthly payment of a 30-year loan, on the other hand, may allow you to buy more house or free up funds for other financial goals. Article Sources Investopedia requires writers to use primary sources to support their work. These include white papers, government data, original reporting, and interviews with industry experts. We also reference original research from other reputable publishers where appropriate. You can learn more about the standards we follow in producing accurate, unbiased content in our editorial policy. 1. Freddie Mac. \"Finding the Right Loan.\" 2. Quicken Loans. \"What Is A Mortgage?\" 3. Rocket Mortgage. \"15-Year vs. 30-Year Mortgages.\" 4. Fannie Mae. \"Loan-Level Price Adjustment Matrix.\" 5. Quicken Loans.\n",
      "\n",
      "But as the balance gets smaller, the interest share of the payment declines, and the share going to principal increases. A shorter-term loan means a higher monthly payment, which makes the 15-year mortgage seem less affordable. But the shorter term makes the loan cheaper on several fronts. In fact, over the full life of a loan, a 30-year mortgage will end up costing more than double the 15-year option. ### Because 15-year loans are less risky for banks than 30-year loans---and because it costs banks less to make shorter-term loans than longer-term loans---a 30-year mortgage typically comes with a higher interest rate. ## 30-Year Mortgage In a 30-year mortgage, of course, that balance shrinks much more slowly---effectively, the homebuyer is borrowing the same amount of money for more than twice as long. In fact, it's more than twice as long rather than just twice as long because, for a 30-year mortgage, the principal balance does not decline as fast as it does for a 15-year loan. The higher the interest rate, the greater the gap between the two mortgages. When the interest rate is 4%, for example, the borrower actually pays almost 2.2 times more interest to borrow the same amount of principal over 30 years compared with a 15-year loan. The chief advantage of a 30-year mortgage is the relatively low monthly payment. And even if affordability isn't an issue, there are other advantages: * The lower payment may allow a borrower to buy more house than they would be able to afford with a 15-year loan since the same monthly payment would allow the borrower to take out a larger loan over 30 years. * The lower payment allows a borrower to build up savings. * The lower payment frees up funds for other goals. Comparison shopping among the best mortgage lenders can help you narrow your options. ## 15-Year Mortgage Consumers pay less on a 15-year mortgage---anywhere from a quarter of a percent to a full percent (or point) less, and over the decades that can really add up. The government-supported agencies that back most mortgages, such as Fannie Mae ](https://www.investopedia.com/mortgage/fannie-mae-loans/)and [Freddie Mac, impose additional fees, called loan-level price adjustments, which make 30-year mortgages more expensive.\n",
      "\n",
      "\"Currently there are no fixed-income investments that would yield a high enough return to make this work,\" says Shah. Rising mortgage rates can make this method even more difficult. The risk might not always pay off if it coincides with the kind of sharp stock market drops that occurred during the downturn of 2020. It also requires the discipline to systematically invest the equivalent of those monthly differentials and the time to focus on the investments, which, he adds, most people lack. ### Private mortgage insurance is required by lenders when you put a down payment that's less than 20% of the value of the home. ## A Best-of-Both-Worlds Option Most borrowers evidently also lack---or at least think they lack---the wherewithal to make the higher payments required by a 15-year mortgage. But there is a simple solution to capture much of the savings of the shorter mortgage: Simply make the larger payments of a 15-year schedule on your 30-year mortgage, assuming the mortgage has no prepayment penalty. A borrower is entitled to direct the extra payments to the principal, and if the payments are consistent, the mortgage will be paid off in 15 years. If times get tight, the borrower can always fall back to the normal, lower payments of the 30-year schedule. However, a borrower accelerating payments will also have their interest subject to the relatively higher 30-year rate when they may have been better off paying the mortgage off in 15 years anyhow at the lower rate offered on the shorter loan. ## Which Is Better, a 30-Year Mortgage or a 15-Year Mortgage? When deciding between a 30-year and a 15-year mortgage, consider your circumstances. Do you need the flexibility of smaller payments, such as what you'd get with a 30-year loan? Or are you focused on the bottom line, and the interest savings you could get with a 15-year loan? Can you afford to make bigger monthly payments, or do you need room in your budget for other goals? The better choice is the one that works best with your finances and long-term goals. ## Is It Better to Get a 15-Year Mortgage or Make Extra Payments on a 30-Year Mortgage? Applying extra payments toward your principal can help you pay down a 30-year mortgage faster without being locked in to a 15-year time frame.\n",
      "==================================\u001b[1m Ai Message \u001b[0m==================================\n",
      "Name: general_mortgage_agent\n",
      "\n",
      "Let me summarize the key insights for you:\n",
      "\n",
      "1. Existing Mortgage Details:\n",
      "   - Outstanding Principal: $150,599.25\n",
      "   - Current Interest Rate: 8.5%\n",
      "   - Maturity Date: June 30, 2030\n",
      "   - Remaining Payments: 72\n",
      "   - Next Payment Due: August 19, 2025\n",
      "   - Next Payment Amount: $1,579.63\n",
      "\n",
      "2. Refinancing Considerations:\n",
      "Key factors to consider when deciding to refinance:\n",
      "   - Current interest rate\n",
      "   - Remaining loan term\n",
      "   - Closing costs and fees\n",
      "   - Your long-term financial goals\n",
      "   - Potential monthly payment savings\n",
      "\n",
      "3. 15-Year vs. 30-Year Mortgage Differences:\n",
      "   - 15-Year Mortgage:\n",
      "     * Lower total interest paid\n",
      "     * Higher monthly payments\n",
      "     * Faster equity building\n",
      "     * Lower interest rate typically\n",
      "   \n",
      "   - 30-Year Mortgage:\n",
      "     * Lower monthly payments\n",
      "     * More flexibility in budget\n",
      "     * Allows buying a more expensive home\n",
      "     * Higher total interest paid over loan life\n",
      "\n",
      "A unique strategy to consider: If you can't commit to a 15-year mortgage, you can make extra payments on a 30-year mortgage to reduce the principal faster.\n",
      "\n",
      "Would you like me to help you explore refinancing options or discuss these details further?\n"
     ]
    }
   ],
   "source": [
    "response = app.invoke(\n",
    "    {\"messages\": \"I need a complete mortgage consultation. First, I want to check my existing mortgage details for customer ID xyz to see my current situation. Then I need to understand the market by showing me the 30-year fixed mortgage rate history for the past 30 days to compare with my current rate. Finally, I have a general question about mortgage refinancing - what are the key factors I should consider when deciding whether to refinance my mortgage, and what's the difference between a 15-year and 30-year mortgage in terms of total cost\"},\n",
    "    config\n",
    ")\n",
    "\n",
    "for message in response[\"messages\"]:\n",
    "    message.pretty_print()"
   ]
  },
  {
   "cell_type": "markdown",
   "id": "575f96c6",
   "metadata": {},
   "source": [
    "Great, now that the multi agent system works. Now we add the MCP agent to it. First we create a new hand off tool"
   ]
  },
  {
   "cell_type": "code",
   "execution_count": 32,
   "id": "babb7682",
   "metadata": {
    "execution": {
     "iopub.execute_input": "2025-08-05T23:19:13.486947Z",
     "iopub.status.busy": "2025-08-05T23:19:13.486586Z",
     "iopub.status.idle": "2025-08-05T23:19:13.494547Z",
     "shell.execute_reply": "2025-08-05T23:19:13.493043Z",
     "shell.execute_reply.started": "2025-08-05T23:19:13.486923Z"
    }
   },
   "outputs": [],
   "source": [
    "transfer_to_credit_check_agent = create_handoff_tool(\n",
    "    agent_name=\"credit_check_agent\",\n",
    "    description=\"Transfer user to the credit check agent to check credit score for the customer id\"\n",
    ")"
   ]
  },
  {
   "cell_type": "markdown",
   "id": "9ae32ca0",
   "metadata": {},
   "source": [
    "Since the MCP invocation `list_tools()` returns a list of tools, ideally we would iterate through the list, but in this scenario, we only have one tool so we directly attach the first object"
   ]
  },
  {
   "cell_type": "code",
   "execution_count": 33,
   "id": "95ff0721",
   "metadata": {
    "execution": {
     "iopub.execute_input": "2025-08-05T23:19:14.851133Z",
     "iopub.status.busy": "2025-08-05T23:19:14.850347Z",
     "iopub.status.idle": "2025-08-05T23:19:14.854911Z",
     "shell.execute_reply": "2025-08-05T23:19:14.853912Z",
     "shell.execute_reply.started": "2025-08-05T23:19:14.850964Z"
    }
   },
   "outputs": [],
   "source": [
    "mcp_tool = tools[0]"
   ]
  },
  {
   "cell_type": "markdown",
   "id": "ed9e36a7",
   "metadata": {},
   "source": [
    "Let's create a new agent and test out the credit score"
   ]
  },
  {
   "cell_type": "code",
   "execution_count": 34,
   "id": "e6ec36dc",
   "metadata": {
    "execution": {
     "iopub.execute_input": "2025-08-05T23:19:15.933679Z",
     "iopub.status.busy": "2025-08-05T23:19:15.933382Z",
     "iopub.status.idle": "2025-08-05T23:19:15.948588Z",
     "shell.execute_reply": "2025-08-05T23:19:15.947923Z",
     "shell.execute_reply.started": "2025-08-05T23:19:15.933637Z"
    }
   },
   "outputs": [],
   "source": [
    "credit_check_agent = create_react_agent(\n",
    "    model=model,\n",
    "    tools=[mcp_tool,transfer_to_existing_assistant,transfer_to_general_mortgage_agent,transfer_to_application_assistant],\n",
    "    prompt=dedent(mcp_tool.description),\n",
    "    name=\"credit_check_agent\")"
   ]
  },
  {
   "cell_type": "code",
   "execution_count": 35,
   "id": "f353f6b3",
   "metadata": {
    "execution": {
     "iopub.execute_input": "2025-08-05T23:19:16.695801Z",
     "iopub.status.busy": "2025-08-05T23:19:16.695519Z",
     "iopub.status.idle": "2025-08-05T23:19:21.021975Z",
     "shell.execute_reply": "2025-08-05T23:19:21.021222Z",
     "shell.execute_reply.started": "2025-08-05T23:19:16.695779Z"
    }
   },
   "outputs": [
    {
     "name": "stdout",
     "output_type": "stream",
     "text": [
      "================================\u001b[1m Human Message \u001b[0m=================================\n",
      "\n",
      "what is my credit score, here is my id 1111\n",
      "==================================\u001b[1m Ai Message \u001b[0m==================================\n",
      "Name: credit_check_agent\n",
      "\n",
      "[{'type': 'text', 'text': \"I'll help you check your credit score using the provided customer ID.\"}, {'type': 'tool_use', 'name': 'credit_check', 'input': {'customer_id': 1111}, 'id': 'tooluse_GBX56Ho_TeSoU9r4_LeEqw'}]\n",
      "Tool Calls:\n",
      "  credit_check (tooluse_GBX56Ho_TeSoU9r4_LeEqw)\n",
      " Call ID: tooluse_GBX56Ho_TeSoU9r4_LeEqw\n",
      "  Args:\n",
      "    customer_id: 1111\n",
      "=================================\u001b[1m Tool Message \u001b[0m=================================\n",
      "Name: credit_check\n",
      "\n",
      "70\n",
      "==================================\u001b[1m Ai Message \u001b[0m==================================\n",
      "Name: credit_check_agent\n",
      "\n",
      "Your credit score is 70. This is considered a relatively low credit score. Credit scores typically range from 300 to 850, with higher scores indicating better creditworthiness. A score of 70 suggests you might face challenges when applying for loans or credit cards, and you may be offered less favorable interest rates.\n",
      "\n",
      "To improve your credit score, you might want to:\n",
      "1. Pay bills on time\n",
      "2. Reduce credit card balances\n",
      "3. Avoid opening too many new credit accounts\n",
      "4. Check your credit report for any errors\n",
      "5. Maintain a mix of credit types\n",
      "\n",
      "Would you like to discuss ways to improve your credit score or explore your mortgage options?\n"
     ]
    }
   ],
   "source": [
    "response = await credit_check_agent.ainvoke({\"messages\": \"what is my credit score, here is my id 1111\"})\n",
    "\n",
    "for message in response[\"messages\"]:\n",
    "    message.pretty_print()"
   ]
  },
  {
   "cell_type": "markdown",
   "id": "84455bd6",
   "metadata": {},
   "source": [
    "Lets update the existing agents by adding the newly created hand off tool for `credit_check`"
   ]
  },
  {
   "cell_type": "code",
   "execution_count": 36,
   "id": "a70f00d2",
   "metadata": {
    "execution": {
     "iopub.execute_input": "2025-08-05T23:19:24.281811Z",
     "iopub.status.busy": "2025-08-05T23:19:24.281488Z",
     "iopub.status.idle": "2025-08-05T23:19:24.347803Z",
     "shell.execute_reply": "2025-08-05T23:19:24.347033Z",
     "shell.execute_reply.started": "2025-08-05T23:19:24.281789Z"
    }
   },
   "outputs": [],
   "source": [
    "# Recreate the Agent with new hand off tool\n",
    "general_mortgage_agent = create_react_agent(\n",
    "    model=model,\n",
    "    tools=[retriever_tool,transfer_to_existing_assistant,transfer_to_application_assistant,transfer_to_credit_check_agent],\n",
    "    prompt=dedent(load_system_prompt(\"general_assistant_system.md\")),\n",
    "    name=\"general_mortgage_agent\")\n",
    "\n",
    "# Recreate the Agent with new hand off tool\n",
    "existing_mortgage_agent = create_react_agent(\n",
    "    model=model,\n",
    "    tools=[get_mortgage_details,transfer_to_application_assistant, transfer_to_general_mortgage_agent,transfer_to_credit_check_agent],\n",
    "    prompt=dedent(load_system_prompt(\"existing_mortgage_system.md\")),\n",
    "    name=\"existing_mortgage_agent\"\n",
    ")\n",
    "\n",
    "# Recreate the Agent with new hand off tool\n",
    "mortgage_application_agent = create_react_agent(\n",
    "    model=model,\n",
    "    tools=[get_application_details,get_mortgage_rate_history,get_mortgage_app_doc_status,transfer_to_existing_assistant,transfer_to_general_mortgage_agent,transfer_to_credit_check_agent],\n",
    "    prompt=dedent(\"mortgage_application_system.md\"),\n",
    "    name=\"mortgage_application_agent\")\n"
   ]
  },
  {
   "cell_type": "markdown",
   "id": "8acf1b5f",
   "metadata": {},
   "source": [
    "Finally, we recreate the swarm application by add the `credit_check_agent` and test it"
   ]
  },
  {
   "cell_type": "code",
   "execution_count": 37,
   "id": "3d350d6a",
   "metadata": {
    "execution": {
     "iopub.execute_input": "2025-08-05T23:19:25.484983Z",
     "iopub.status.busy": "2025-08-05T23:19:25.484583Z",
     "iopub.status.idle": "2025-08-05T23:19:26.221295Z",
     "shell.execute_reply": "2025-08-05T23:19:26.220693Z",
     "shell.execute_reply.started": "2025-08-05T23:19:25.484959Z"
    }
   },
   "outputs": [
    {
     "data": {
      "image/png": "[encoded data removed]",
      "text/plain": [
       "<IPython.core.display.Image object>"
      ]
     },
     "metadata": {},
     "output_type": "display_data"
    }
   ],
   "source": [
    "graph = create_swarm([existing_mortgage_agent,mortgage_application_agent,general_mortgage_agent,credit_check_agent],default_active_agent=\"general_mortgage_agent\")\n",
    "\n",
    "app = graph.compile(checkpointer=memory)\n",
    "\n",
    "display(Image(app.get_graph().draw_mermaid_png()))"
   ]
  },
  {
   "cell_type": "markdown",
   "id": "443f34a2",
   "metadata": {},
   "source": [
    "We are ready to test, yay!"
   ]
  },
  {
   "cell_type": "code",
   "execution_count": 38,
   "id": "d4dd641a",
   "metadata": {
    "execution": {
     "iopub.execute_input": "2025-08-05T23:19:28.973828Z",
     "iopub.status.busy": "2025-08-05T23:19:28.973426Z",
     "iopub.status.idle": "2025-08-05T23:19:42.041962Z",
     "shell.execute_reply": "2025-08-05T23:19:42.040997Z",
     "shell.execute_reply.started": "2025-08-05T23:19:28.973803Z"
    }
   },
   "outputs": [
    {
     "name": "stdout",
     "output_type": "stream",
     "text": [
      "================================\u001b[1m Human Message \u001b[0m=================================\n",
      "\n",
      "Can you show me my current mortgage details and recent rate trends. Here is my id : 12345\n",
      "==================================\u001b[1m Ai Message \u001b[0m==================================\n",
      "Name: general_mortgage_agent\n",
      "\n",
      "[{'type': 'text', 'text': \"I'll help you retrieve your mortgage details and provide some insights. I'll first transfer you to the existing mortgage agent to get your specific account information.\"}, {'type': 'tool_use', 'name': 'transfer_to_existing_mortgage_agent', 'input': {}, 'id': 'tooluse_PS4yuzppTHmbb7zrZ3Jfsg'}]\n",
      "Tool Calls:\n",
      "  transfer_to_existing_mortgage_agent (tooluse_PS4yuzppTHmbb7zrZ3Jfsg)\n",
      " Call ID: tooluse_PS4yuzppTHmbb7zrZ3Jfsg\n",
      "  Args:\n",
      "=================================\u001b[1m Tool Message \u001b[0m=================================\n",
      "Name: transfer_to_existing_mortgage_agent\n",
      "\n",
      "Successfully transferred to existing_mortgage_agent\n",
      "==================================\u001b[1m Ai Message \u001b[0m==================================\n",
      "Name: existing_mortgage_agent\n",
      "\n",
      "[{'type': 'text', 'text': \"Now, I'll retrieve your mortgage details using your provided customer ID:\"}, {'type': 'tool_use', 'name': 'get_mortgage_details', 'input': {'customer_id': '12345'}, 'id': 'tooluse_9vuiqwapR2qYY4LxO09YYQ'}]\n",
      "Tool Calls:\n",
      "  get_mortgage_details (tooluse_9vuiqwapR2qYY4LxO09YYQ)\n",
      " Call ID: tooluse_9vuiqwapR2qYY4LxO09YYQ\n",
      "  Args:\n",
      "    customer_id: 12345\n",
      "=================================\u001b[1m Tool Message \u001b[0m=================================\n",
      "Name: get_mortgage_details\n",
      "\n",
      "{\"account_number\": \"12345\", \"outstanding_principal\": 150599.25, \"interest_rate\": 8.5, \"maturity_date\": \"2030-06-30\", \"original_issue_date\": \"2021-05-30\", \"payments_remaining\": 72, \"last_payment_date\": \"2025-07-22\", \"next_payment_due\": \"2025-08-19\", \"next_payment_amount\": 1579.63}\n",
      "==================================\u001b[1m Ai Message \u001b[0m==================================\n",
      "Name: existing_mortgage_agent\n",
      "\n",
      "[{'type': 'text', 'text': \"Let me break down your mortgage details:\\n\\n📊 Mortgage Account Overview:\\n- Account Number: 12345\\n- Outstanding Principal: $150,599.25\\n- Current Interest Rate: 8.5%\\n- Maturity Date: June 30, 2030\\n- Payments Remaining: 72\\n- Next Payment Due: August 19, 2025\\n- Next Payment Amount: $1,579.63\\n\\nRegarding recent rate trends, I'll transfer you to our general mortgage agent who can provide more comprehensive market insights:\"}, {'type': 'tool_use', 'name': 'transfer_to_general_mortgage_agent', 'input': {}, 'id': 'tooluse_k_GX15GkRXelAciBqepqvw'}]\n",
      "Tool Calls:\n",
      "  transfer_to_general_mortgage_agent (tooluse_k_GX15GkRXelAciBqepqvw)\n",
      " Call ID: tooluse_k_GX15GkRXelAciBqepqvw\n",
      "  Args:\n",
      "=================================\u001b[1m Tool Message \u001b[0m=================================\n",
      "Name: transfer_to_general_mortgage_agent\n",
      "\n",
      "Successfully transferred to general_mortgage_agent\n",
      "==================================\u001b[1m Ai Message \u001b[0m==================================\n",
      "Name: general_mortgage_agent\n",
      "\n",
      "[{'type': 'text', 'text': \"To get more detailed information about current mortgage rate trends, I'll use our knowledge base:\"}, {'type': 'tool_use', 'name': 'amazon_knowledge_base', 'input': {'__arg1': 'current mortgage rate trends'}, 'id': 'tooluse_RgdLdIaMTJCjbcEAD5nMkw'}]\n",
      "Tool Calls:\n",
      "  amazon_knowledge_base (tooluse_RgdLdIaMTJCjbcEAD5nMkw)\n",
      " Call ID: tooluse_RgdLdIaMTJCjbcEAD5nMkw\n",
      "  Args:\n",
      "    __arg1: current mortgage rate trends\n",
      "=================================\u001b[1m Tool Message \u001b[0m=================================\n",
      "Name: amazon_knowledge_base\n",
      "\n",
      "Rocket Mortgage. \"15-Year vs. 30-Year Mortgages.\" 4. Fannie Mae. \"Loan-Level Price Adjustment Matrix.\" 5. Quicken Loans. \"Should I Buy Now or Wait Until I Have 20% for a Down Payment?\" 6. Fannie Mae. \"Loan-Level Price Adjustment Matrix,\" Page 2. Compare Mortgage Lenders Advertiser Disclosure × The offers that appear in this table are from partnerships from which Investopedia receives compensation. This compensation may impact how and where listings appear. Investopedia does not include all offers available in the marketplace. Related Articles ![Custom gif shows three columns with little icons on top: the left one has a house, the middle has a stack of dollar bills, and the third one has a percent sign. All three bounce up and down. The title says \"Best Mortgage Rates Today\" Compare the Best Mortgage Rates Today - May 16, 2024](https://www.investopedia.com/mortgage-rates-5094943) ![A woman holds a baby on her lap while sitting on a couch and working on a laptop How to Choose the Best Mortgage for You](https://www.investopedia.com/mortgage/mortgage-guide/how-to-choose-best-mortgage/) ![Custom GIF shows an orange background with a white and blue grid and a trend line that is moving over the grid so it looks like a graph. On the bottom right there is a calendar, a stack of cash, and a house. The top right shows a title that says \"Best Mortgage Refinance Rates Today.\" Compare Today's Best Mortgage Refinance Rates](https://www.investopedia.com/best-mortgage-refinance-rates-5112578) ![Mortgage What Is a Mortgage? Types, How They Work, and Examples](https://www.investopedia.com/terms/m/mortgage.asp) ![Custom gif shows a column with a blue house and two large coins with dollar signs rotating. Title reads \"Best Jumbo Mortgage Rates.\" Compare the Best Jumbo Mortgage Rates for 2024](https://www.investopedia.com/best-jumbo-mortgage-rates-5101581) ![Family at FHE The Pros and Cons of a 15-Year Mortgage](https://www.investopedia.com/articles/personal-finance/042015/pros-and-cons-15year-mortgage.asp) Partner Links Related Terms What Is a Mortgage?\n",
      "\n",
      "Comparison shopping among the best mortgage lenders can help you narrow your options. ## 15-Year Mortgage Consumers pay less on a 15-year mortgage---anywhere from a quarter of a percent to a full percent (or point) less, and over the decades that can really add up. The government-supported agencies that back most mortgages, such as Fannie Mae ](https://www.investopedia.com/mortgage/fannie-mae-loans/)and [Freddie Mac, impose additional fees, called loan-level price adjustments, which make 30-year mortgages more expensive. These fees typically apply to borrowers with lower credit scores](https://www.investopedia.com/terms/c/credit_score.asp), smaller down payments, or both. The [Federal Housing Administration also charges higher mortgage insurance premiums to 30-year borrowers. ### Important Upfront fees on Fannie Mae and Freddie Mac home loans changed in May 2023. Fees were increased for homebuyers with higher credit scores, such as 740 or higher, while they were decreased for homebuyers with lower credit scores, such as those below 640. Another change: Your down payment will influence what your fee is. The higher your down payment, the lower your fees, though it will still depend on your credit score. Fannie Mae provides the Loan-Level Price Adjustments on its website. \"Some of the loan-level price adjustments that exist on a 30-year do not exist on a 15-year,\" says James Morin, senior vice president of retail lending at Norcom Mortgage in Avon, Conn. Most people, according to Morin, roll these costs into their mortgage as part of a higher rate, rather than paying them outright. Imagine, then, a $300,000 loan, available at 4% for 30 years or at 3.25% for 15 years. The combined effect of the faster amortization and the lower interest rate means that borrowing the money for just 15 years would cost $79,441, compared to $215,609 over 30 years, or nearly two-thirds less. Of course, there's a catch. The price for saving so much money over the long run is a much higher monthly outlay---the payment on the hypothetical 15-year loan is $2,108, $676 (or about 38%) more than the monthly payment for the 30-year loan ($1,432).\n",
      "\n",
      "For a 30-year fixed-rate mortgage on a $100,000 home, refinancing from 9% to 5.5% can cut the term in half to 15 years with only a slight change in the monthly payment from $805 to $817. However, if you're already at 5.5% for 30 years ($568), getting, a 3.5% mortgage for 15 years would raise your payment to $715. So do the math and see what works. ## Refinancing to Convert to an ARM or Fixed-Rate Mortgage While ARMs often start out offering lower rates than fixed-rate mortgages, periodic adjustments can result in rate increases that are higher than the rate available through a fixed-rate mortgage. When this occurs, converting to fixed-rate mortgage results in a lower interest rate and eliminates concern over future interest rate hikes. Conversely, converting from a fixed-rate loan to an ARM---which often has a lower monthly payment than a fixed-term mortgage---can be a sound financial strategy if interest rates are falling, especially for homeowners who do not play to stay in their homes for more than a few years. These homeowners can reduce their loan's interest rate and monthly payment, but they will not have to worry about how higher rates go 30 years in the future. If rates continue to fall, the periodic rate adjustments on an ARM result in decreasing rates and smaller monthly mortgage payments eliminating the need to refinance every time rates drop. When mortgage interest rates rise, on the other hand, this would be an unwise strategy. ## Refinancing to Tap Equity or Consolidate Debt While the previously mentioned reasons to refinance are all financially sound, mortgage refinancing can be a slippery slope to never-ending debt. Homeowners often access the equity in their homes to cover major expenses, such as the costs of home remodeling or a child's college education. These homeowners may justify the refinancing by the fact that remodeling adds value to the home or that the interest rate on the mortgage loan is less than the rate on money borrowed from another source. Another justification is that the interest on mortgages is tax-deductible. While these arguments may be true, increasing the number of years that you owe on your mortgage is rarely a smart financial decision nor is spending a dollar on interest to get a 30-cent tax deduction.\n",
      "\n",
      "15-Year vs. 30-Year Mortgage: What's the Difference? By clicking \"Accept All Cookies\", you agree to the storing of cookies on your device to enhance site navigation, analyze site usage, and assist in our marketing efforts. Cookies Settings Accept All Cookies Table of Contents Expand Table of Contents * An Overview * How Mortgage Terms Impact Cost * 30-Year Mortgage * 15-Year Mortgage * Special Considerations * A Best-of-Both-Worlds Option * FAQs * The Bottom Line * Personal Finance * Mortgage ## 15-Year vs. 30-Year Mortgage: An Overview Fifteen-year and 30-year mortgages are structurally similar---the main difference is the term. While a 30-year mortgage can make your monthly payments more affordable, a 15-year mortgage generally costs less in the long run. Most homebuyers choose a 30-year home loan. The 30-year fixed-rate mortgage is practically an American archetype, the apple pie of financial instruments. It is the path that generations of Americans have taken to first-time homeownership. But many of those buyers might have been better served if they had opted for a 15-year fixed-rate mortgage instead. Though the monthly payments might be higher, they could save thousands in interest. ### Key Takeaways * Most homebuyers choose a 30-year fixed-rate mortgage, but a 15-year mortgage can be a good choice for some. * A 30-year mortgage can make your monthly payments more affordable. * While monthly payments on a 15-year mortgage are higher, the cost of the loan is less in the long run. ## How Mortgage Terms Affect Cost A mortgage](https://www.investopedia.com/terms/m/mortgage.asp) is simply a particular type of term loan---one secured by real property. For a term loan, the borrower pays interest calculated on an annual basis against the outstanding balance of the loan. Both the [interest rate and monthly payment are fixed. Because the monthly payment is fixed, the portion going to pay interest and the portion going to pay principal change over time. In the beginning, because the loan balance is so high, most of the payment is interest. But as the balance gets smaller, the interest share of the payment declines, and the share going to principal increases. A shorter-term loan means a higher monthly payment, which makes the 15-year mortgage seem less affordable. But the shorter term makes the loan cheaper on several fronts.\n",
      "==================================\u001b[1m Ai Message \u001b[0m==================================\n",
      "Name: general_mortgage_agent\n",
      "\n",
      "Based on the knowledge base insights, here are some current mortgage rate trends:\n",
      "\n",
      "📈 Mortgage Rate Trends:\n",
      "- Interest rates have been fluctuating\n",
      "- 15-year mortgages typically offer lower rates compared to 30-year mortgages\n",
      "- Recent changes in Fannie Mae and Freddie Mac fees affect mortgage pricing\n",
      "- Rates can vary based on credit score and down payment\n",
      "\n",
      "Your current rate of 8.5% seems to be on the higher side of current market trends. You might want to explore refinancing options to potentially lower your interest rate.\n",
      "\n",
      "Would you like me to transfer you to our mortgage application agent to discuss potential refinancing strategies?\n"
     ]
    }
   ],
   "source": [
    "thread_id = {\"configurable\": {\"thread_id\": random.randint(1,10000)}}\n",
    "response = await app.ainvoke({\"messages\": \"Can you show me my current mortgage details and recent rate trends. Here is my id : 12345\"},config=thread_id)\n",
    "for message in response[\"messages\"]:\n",
    "    message.pretty_print()"
   ]
  },
  {
   "cell_type": "markdown",
   "id": "50ee54dc",
   "metadata": {},
   "source": [
    "Lets try a more complicated prompt and see if the hand off between agents is working"
   ]
  },
  {
   "cell_type": "code",
   "execution_count": 39,
   "id": "e203b78c",
   "metadata": {
    "execution": {
     "iopub.execute_input": "2025-08-05T23:19:43.464124Z",
     "iopub.status.busy": "2025-08-05T23:19:43.463846Z",
     "iopub.status.idle": "2025-08-05T23:19:43.467384Z",
     "shell.execute_reply": "2025-08-05T23:19:43.466670Z",
     "shell.execute_reply.started": "2025-08-05T23:19:43.464103Z"
    }
   },
   "outputs": [],
   "source": [
    "prompt = \"\"\"I need a complete mortgage portfolio analysis. Here's what I need:\n",
    "\n",
    "1. First, pull up my existing mortgage details for customer ID '1111' to see my current situation\n",
    "2. Check my credit score to understand my refinancing eligibility \n",
    "3. I also have a new mortgage application in progress for a second property - can you check the application status and show me what documents are still needed?\n",
    "4. Show me the 30-year fixed mortgage rate history for the past 45 days to compare with my current 8.5% rate\n",
    "5. Finally, I have some general questions: What are the key benefits of refinancing from a 30-year to a 15-year mortgage, and what factors should I consider when deciding if refinancing makes financial sense?\n",
    "\n",
    "Please provide a comprehensive analysis covering all these aspects.\"\"\""
   ]
  },
  {
   "cell_type": "code",
   "execution_count": 40,
   "id": "930928da",
   "metadata": {
    "execution": {
     "iopub.execute_input": "2025-08-05T23:19:44.049561Z",
     "iopub.status.busy": "2025-08-05T23:19:44.049281Z",
     "iopub.status.idle": "2025-08-05T23:20:09.954098Z",
     "shell.execute_reply": "2025-08-05T23:20:09.953230Z",
     "shell.execute_reply.started": "2025-08-05T23:19:44.049541Z"
    }
   },
   "outputs": [],
   "source": [
    "thread_id = {\"configurable\": {\"thread_id\": random.randint(1,10000)}}\n",
    "response = await app.ainvoke({\n",
    "    \"messages\": prompt}, config=thread_id)"
   ]
  },
  {
   "cell_type": "code",
   "execution_count": 41,
   "id": "7ad233a0",
   "metadata": {
    "execution": {
     "iopub.execute_input": "2025-08-05T23:20:10.864040Z",
     "iopub.status.busy": "2025-08-05T23:20:10.863765Z",
     "iopub.status.idle": "2025-08-05T23:20:10.869245Z",
     "shell.execute_reply": "2025-08-05T23:20:10.868327Z",
     "shell.execute_reply.started": "2025-08-05T23:20:10.864020Z"
    }
   },
   "outputs": [
    {
     "name": "stdout",
     "output_type": "stream",
     "text": [
      "================================\u001b[1m Human Message \u001b[0m=================================\n",
      "\n",
      "I need a complete mortgage portfolio analysis. Here's what I need:\n",
      "\n",
      "1. First, pull up my existing mortgage details for customer ID '1111' to see my current situation\n",
      "2. Check my credit score to understand my refinancing eligibility \n",
      "3. I also have a new mortgage application in progress for a second property - can you check the application status and show me what documents are still needed?\n",
      "4. Show me the 30-year fixed mortgage rate history for the past 45 days to compare with my current 8.5% rate\n",
      "5. Finally, I have some general questions: What are the key benefits of refinancing from a 30-year to a 15-year mortgage, and what factors should I consider when deciding if refinancing makes financial sense?\n",
      "\n",
      "Please provide a comprehensive analysis covering all these aspects.\n",
      "==================================\u001b[1m Ai Message \u001b[0m==================================\n",
      "Name: general_mortgage_agent\n",
      "\n",
      "[{'type': 'text', 'text': \"I'll help you go through each of these items systematically by transferring you to the appropriate agents and using our knowledge base.\\n\\n1. Existing Mortgage Details:\"}, {'type': 'tool_use', 'name': 'transfer_to_existing_mortgage_agent', 'input': {}, 'id': 'tooluse_HlgTIHhASjKa6Wb_e1PXPg'}]\n",
      "Tool Calls:\n",
      "  transfer_to_existing_mortgage_agent (tooluse_HlgTIHhASjKa6Wb_e1PXPg)\n",
      " Call ID: tooluse_HlgTIHhASjKa6Wb_e1PXPg\n",
      "  Args:\n",
      "=================================\u001b[1m Tool Message \u001b[0m=================================\n",
      "Name: transfer_to_existing_mortgage_agent\n",
      "\n",
      "Successfully transferred to existing_mortgage_agent\n",
      "==================================\u001b[1m Ai Message \u001b[0m==================================\n",
      "Name: existing_mortgage_agent\n",
      "\n",
      "[{'type': 'tool_use', 'name': 'get_mortgage_details', 'input': {'customer_id': '1111'}, 'id': 'tooluse_uEC2G6erR82ALWOKJq77FQ'}]\n",
      "Tool Calls:\n",
      "  get_mortgage_details (tooluse_uEC2G6erR82ALWOKJq77FQ)\n",
      " Call ID: tooluse_uEC2G6erR82ALWOKJq77FQ\n",
      "  Args:\n",
      "    customer_id: 1111\n",
      "=================================\u001b[1m Tool Message \u001b[0m=================================\n",
      "Name: get_mortgage_details\n",
      "\n",
      "{\"account_number\": \"1111\", \"outstanding_principal\": 150599.25, \"interest_rate\": 8.5, \"maturity_date\": \"2030-06-30\", \"original_issue_date\": \"2021-05-30\", \"payments_remaining\": 72, \"last_payment_date\": \"2025-07-22\", \"next_payment_due\": \"2025-08-19\", \"next_payment_amount\": 1579.63}\n",
      "==================================\u001b[1m Ai Message \u001b[0m==================================\n",
      "Name: existing_mortgage_agent\n",
      "\n",
      "[{'type': 'text', 'text': '2. Credit Score Check:'}, {'type': 'tool_use', 'name': 'transfer_to_credit_check_agent', 'input': {}, 'id': 'tooluse_0-RBXfyvR5SLgiffi1yX2g'}]\n",
      "Tool Calls:\n",
      "  transfer_to_credit_check_agent (tooluse_0-RBXfyvR5SLgiffi1yX2g)\n",
      " Call ID: tooluse_0-RBXfyvR5SLgiffi1yX2g\n",
      "  Args:\n",
      "=================================\u001b[1m Tool Message \u001b[0m=================================\n",
      "Name: transfer_to_credit_check_agent\n",
      "\n",
      "Successfully transferred to credit_check_agent\n",
      "==================================\u001b[1m Ai Message \u001b[0m==================================\n",
      "Name: credit_check_agent\n",
      "\n",
      "[{'type': 'tool_use', 'name': 'credit_check', 'input': {'customer_id': 1111}, 'id': 'tooluse_VVaNOhlCQjuDLbUOmtFW5Q'}]\n",
      "Tool Calls:\n",
      "  credit_check (tooluse_VVaNOhlCQjuDLbUOmtFW5Q)\n",
      " Call ID: tooluse_VVaNOhlCQjuDLbUOmtFW5Q\n",
      "  Args:\n",
      "    customer_id: 1111\n",
      "=================================\u001b[1m Tool Message \u001b[0m=================================\n",
      "Name: credit_check\n",
      "\n",
      "70\n",
      "==================================\u001b[1m Ai Message \u001b[0m==================================\n",
      "Name: credit_check_agent\n",
      "\n",
      "[{'type': 'text', 'text': '3. Mortgage Application Status:'}, {'type': 'tool_use', 'name': 'transfer_to_mortgage_application_agent', 'input': {}, 'id': 'tooluse_-8EGF5HKS4qY6QP3xrAdMA'}]\n",
      "Tool Calls:\n",
      "  transfer_to_mortgage_application_agent (tooluse_-8EGF5HKS4qY6QP3xrAdMA)\n",
      " Call ID: tooluse_-8EGF5HKS4qY6QP3xrAdMA\n",
      "  Args:\n",
      "=================================\u001b[1m Tool Message \u001b[0m=================================\n",
      "Name: transfer_to_mortgage_application_agent\n",
      "\n",
      "Successfully transferred to mortgage_application_agent\n",
      "==================================\u001b[1m Ai Message \u001b[0m==================================\n",
      "Name: mortgage_application_agent\n",
      "\n",
      "[{'type': 'tool_use', 'name': 'get_application_details', 'input': {'customer_id': '1111'}, 'id': 'tooluse_VHU0CgY7Q7C1V0_uzngTew'}]\n",
      "Tool Calls:\n",
      "  get_application_details (tooluse_VHU0CgY7Q7C1V0_uzngTew)\n",
      " Call ID: tooluse_VHU0CgY7Q7C1V0_uzngTew\n",
      "  Args:\n",
      "    customer_id: 1111\n",
      "=================================\u001b[1m Tool Message \u001b[0m=================================\n",
      "Name: get_application_details\n",
      "\n",
      "{'customer_id': '1111', 'application_id': '998776', 'application_date': datetime.datetime(2025, 7, 1, 23, 19, 53, 17500), 'application_status': 'IN_PROGRESS', 'application_type': 'NEW_MORTGAGE', 'application_amount': 750000, 'application_tentative_rate': 5.5, 'application_term_years': 30, 'application_rate_type': 'fixed'}\n",
      "==================================\u001b[1m Ai Message \u001b[0m==================================\n",
      "Name: mortgage_application_agent\n",
      "\n",
      "[{'type': 'tool_use', 'name': 'get_mortgage_app_doc_status', 'input': {'customer_id': '1111'}, 'id': 'tooluse_MB_lkUUfTrCFlwzR1Y0OKA'}]\n",
      "Tool Calls:\n",
      "  get_mortgage_app_doc_status (tooluse_MB_lkUUfTrCFlwzR1Y0OKA)\n",
      " Call ID: tooluse_MB_lkUUfTrCFlwzR1Y0OKA\n",
      "  Args:\n",
      "    customer_id: 1111\n",
      "=================================\u001b[1m Tool Message \u001b[0m=================================\n",
      "Name: get_mortgage_app_doc_status\n",
      "\n",
      "[{\"type\": \"proof_of_income\", \"status\": \"COMPLETED\"}, {\"type\": \"employment_information\", \"status\": \"MISSING\"}, {\"type\": \"proof_of_assets\", \"status\": \"COMPLETED\"}, {\"type\": \"credit_information\", \"status\": \"COMPLETED\"}]\n",
      "==================================\u001b[1m Ai Message \u001b[0m==================================\n",
      "Name: mortgage_application_agent\n",
      "\n",
      "[{'type': 'text', 'text': '4. Mortgage Rate History:'}, {'type': 'tool_use', 'name': 'get_mortgage_rate_history', 'input': {'day_count': 45, 'type': '30-year-fixed'}, 'id': 'tooluse_MwyHoblDSeeOmwzX_RUmdg'}]\n",
      "Tool Calls:\n",
      "  get_mortgage_rate_history (tooluse_MwyHoblDSeeOmwzX_RUmdg)\n",
      " Call ID: tooluse_MwyHoblDSeeOmwzX_RUmdg\n",
      "  Args:\n",
      "    day_count: 45\n",
      "    type: 30-year-fixed\n",
      "=================================\u001b[1m Tool Message \u001b[0m=================================\n",
      "Name: get_mortgage_rate_history\n",
      "\n",
      "[{\"date\": \"2025-08-04\", \"rate\": \"7.20\"}, {\"date\": \"2025-08-01\", \"rate\": \"7.27\"}, {\"date\": \"2025-07-31\", \"rate\": \"7.24\"}, {\"date\": \"2025-07-30\", \"rate\": \"7.18\"}, {\"date\": \"2025-07-29\", \"rate\": \"7.24\"}, {\"date\": \"2025-07-28\", \"rate\": \"7.23\"}, {\"date\": \"2025-07-25\", \"rate\": \"7.19\"}, {\"date\": \"2025-07-24\", \"rate\": \"7.19\"}, {\"date\": \"2025-07-23\", \"rate\": \"7.24\"}, {\"date\": \"2025-07-22\", \"rate\": \"7.23\"}, {\"date\": \"2025-07-21\", \"rate\": \"7.22\"}, {\"date\": \"2025-07-18\", \"rate\": \"7.20\"}, {\"date\": \"2025-07-17\", \"rate\": \"7.25\"}, {\"date\": \"2025-07-16\", \"rate\": \"7.25\"}, {\"date\": \"2025-07-15\", \"rate\": \"7.18\"}, {\"date\": \"2025-07-14\", \"rate\": \"7.19\"}, {\"date\": \"2025-07-11\", \"rate\": \"7.20\"}, {\"date\": \"2025-07-10\", \"rate\": \"7.20\"}, {\"date\": \"2025-07-09\", \"rate\": \"7.26\"}, {\"date\": \"2025-07-08\", \"rate\": \"7.25\"}, {\"date\": \"2025-07-07\", \"rate\": \"7.26\"}, {\"date\": \"2025-07-04\", \"rate\": \"7.21\"}, {\"date\": \"2025-07-03\", \"rate\": \"7.20\"}, {\"date\": \"2025-07-02\", \"rate\": \"7.26\"}, {\"date\": \"2025-07-01\", \"rate\": \"7.18\"}, {\"date\": \"2025-06-30\", \"rate\": \"7.24\"}, {\"date\": \"2025-06-27\", \"rate\": \"7.22\"}, {\"date\": \"2025-06-26\", \"rate\": \"7.26\"}, {\"date\": \"2025-06-25\", \"rate\": \"7.18\"}, {\"date\": \"2025-06-24\", \"rate\": \"7.19\"}, {\"date\": \"2025-06-23\", \"rate\": \"7.23\"}, {\"date\": \"2025-06-20\", \"rate\": \"7.24\"}, {\"date\": \"2025-06-19\", \"rate\": \"7.22\"}, {\"date\": \"2025-06-18\", \"rate\": \"7.20\"}, {\"date\": \"2025-06-17\", \"rate\": \"7.18\"}, {\"date\": \"2025-06-16\", \"rate\": \"7.23\"}, {\"date\": \"2025-06-13\", \"rate\": \"7.21\"}, {\"date\": \"2025-06-12\", \"rate\": \"7.27\"}, {\"date\": \"2025-06-11\", \"rate\": \"7.18\"}, {\"date\": \"2025-06-10\", \"rate\": \"7.25\"}, {\"date\": \"2025-06-09\", \"rate\": \"7.18\"}, {\"date\": \"2025-06-06\", \"rate\": \"7.18\"}, {\"date\": \"2025-06-05\", \"rate\": \"7.22\"}, {\"date\": \"2025-06-04\", \"rate\": \"7.22\"}]\n",
      "==================================\u001b[1m Ai Message \u001b[0m==================================\n",
      "Name: mortgage_application_agent\n",
      "\n",
      "[{'type': 'text', 'text': '5. General Refinancing Questions:'}, {'type': 'tool_use', 'name': 'transfer_to_general_mortgage_agent', 'input': {}, 'id': 'tooluse_HCkTI7eLQeK2qjXl1U54ew'}]\n",
      "Tool Calls:\n",
      "  transfer_to_general_mortgage_agent (tooluse_HCkTI7eLQeK2qjXl1U54ew)\n",
      " Call ID: tooluse_HCkTI7eLQeK2qjXl1U54ew\n",
      "  Args:\n",
      "=================================\u001b[1m Tool Message \u001b[0m=================================\n",
      "Name: transfer_to_general_mortgage_agent\n",
      "\n",
      "Successfully transferred to general_mortgage_agent\n",
      "==================================\u001b[1m Ai Message \u001b[0m==================================\n",
      "Name: general_mortgage_agent\n",
      "\n",
      "[{'type': 'tool_use', 'name': 'amazon_knowledge_base', 'input': {'__arg1': 'What are the key benefits of refinancing from a 30-year to a 15-year mortgage, and what factors should I consider?'}, 'id': 'tooluse_oeVnjiBXRa-rblIijfsv-A'}]\n",
      "Tool Calls:\n",
      "  amazon_knowledge_base (tooluse_oeVnjiBXRa-rblIijfsv-A)\n",
      " Call ID: tooluse_oeVnjiBXRa-rblIijfsv-A\n",
      "  Args:\n",
      "    __arg1: What are the key benefits of refinancing from a 30-year to a 15-year mortgage, and what factors should I consider?\n",
      "=================================\u001b[1m Tool Message \u001b[0m=================================\n",
      "Name: amazon_knowledge_base\n",
      "\n",
      "The better choice is the one that works best with your finances and long-term goals. ## Is It Better to Get a 15-Year Mortgage or Make Extra Payments on a 30-Year Mortgage? Applying extra payments toward your principal can help you pay down a 30-year mortgage faster without being locked in to a 15-year time frame. Run the numbers to decide whether the flexibility will be worth it, since 30-year loans often come with higher interest rates. ## Is It Worth It to Switch From a 30-Year Fixed-Rate Mortgage to a 15-Year? If you already have a 30-year fixed-rate mortgage and are interested in refinancing to a 15-year mortgage, there are a couple key points to keep in mind. First, consider whether your budget can accommodate the higher mortgage payment of a 15-year loan. Then, compare your existing interest rate with the rates you qualify for on a 15-year mortgage. If you can get a lower interest rate, that could save you money. But with a refinance, you also have to consider the costs of the new loan, which could include origination fees, closing costs, and other expenses. If you don't come out ahead after factoring in the new interest rate as well as the costs of the new loan, you might choose to make extra payments on your existing loan instead. ## The Bottom Line The decision between a 30-year or 15-year mortgage is one that will impact your finances for decades to come, so be sure to crunch the numbers before deciding which is best. If your aim is to pay off the mortgage sooner and you can afford higher monthly payments, a 15-year loan might be a better choice. The lower monthly payment of a 30-year loan, on the other hand, may allow you to buy more house or free up funds for other financial goals. Article Sources Investopedia requires writers to use primary sources to support their work. These include white papers, government data, original reporting, and interviews with industry experts. We also reference original research from other reputable publishers where appropriate. You can learn more about the standards we follow in producing accurate, unbiased content in our editorial policy. 1. Freddie Mac. \"Finding the Right Loan.\" 2. Quicken Loans. \"What Is A Mortgage?\" 3. Rocket Mortgage. \"15-Year vs. 30-Year Mortgages.\" 4. Fannie Mae. \"Loan-Level Price Adjustment Matrix.\" 5. Quicken Loans.\n",
      "\n",
      "15-Year vs. 30-Year Mortgage: What's the Difference? By clicking \"Accept All Cookies\", you agree to the storing of cookies on your device to enhance site navigation, analyze site usage, and assist in our marketing efforts. Cookies Settings Accept All Cookies Table of Contents Expand Table of Contents * An Overview * How Mortgage Terms Impact Cost * 30-Year Mortgage * 15-Year Mortgage * Special Considerations * A Best-of-Both-Worlds Option * FAQs * The Bottom Line * Personal Finance * Mortgage ## 15-Year vs. 30-Year Mortgage: An Overview Fifteen-year and 30-year mortgages are structurally similar---the main difference is the term. While a 30-year mortgage can make your monthly payments more affordable, a 15-year mortgage generally costs less in the long run. Most homebuyers choose a 30-year home loan. The 30-year fixed-rate mortgage is practically an American archetype, the apple pie of financial instruments. It is the path that generations of Americans have taken to first-time homeownership. But many of those buyers might have been better served if they had opted for a 15-year fixed-rate mortgage instead. Though the monthly payments might be higher, they could save thousands in interest. ### Key Takeaways * Most homebuyers choose a 30-year fixed-rate mortgage, but a 15-year mortgage can be a good choice for some. * A 30-year mortgage can make your monthly payments more affordable. * While monthly payments on a 15-year mortgage are higher, the cost of the loan is less in the long run. ## How Mortgage Terms Affect Cost A mortgage](https://www.investopedia.com/terms/m/mortgage.asp) is simply a particular type of term loan---one secured by real property. For a term loan, the borrower pays interest calculated on an annual basis against the outstanding balance of the loan. Both the [interest rate and monthly payment are fixed. Because the monthly payment is fixed, the portion going to pay interest and the portion going to pay principal change over time. In the beginning, because the loan balance is so high, most of the payment is interest. But as the balance gets smaller, the interest share of the payment declines, and the share going to principal increases. A shorter-term loan means a higher monthly payment, which makes the 15-year mortgage seem less affordable. But the shorter term makes the loan cheaper on several fronts.\n",
      "\n",
      "\"Currently there are no fixed-income investments that would yield a high enough return to make this work,\" says Shah. Rising mortgage rates can make this method even more difficult. The risk might not always pay off if it coincides with the kind of sharp stock market drops that occurred during the downturn of 2020. It also requires the discipline to systematically invest the equivalent of those monthly differentials and the time to focus on the investments, which, he adds, most people lack. ### Private mortgage insurance is required by lenders when you put a down payment that's less than 20% of the value of the home. ## A Best-of-Both-Worlds Option Most borrowers evidently also lack---or at least think they lack---the wherewithal to make the higher payments required by a 15-year mortgage. But there is a simple solution to capture much of the savings of the shorter mortgage: Simply make the larger payments of a 15-year schedule on your 30-year mortgage, assuming the mortgage has no prepayment penalty. A borrower is entitled to direct the extra payments to the principal, and if the payments are consistent, the mortgage will be paid off in 15 years. If times get tight, the borrower can always fall back to the normal, lower payments of the 30-year schedule. However, a borrower accelerating payments will also have their interest subject to the relatively higher 30-year rate when they may have been better off paying the mortgage off in 15 years anyhow at the lower rate offered on the shorter loan. ## Which Is Better, a 30-Year Mortgage or a 15-Year Mortgage? When deciding between a 30-year and a 15-year mortgage, consider your circumstances. Do you need the flexibility of smaller payments, such as what you'd get with a 30-year loan? Or are you focused on the bottom line, and the interest savings you could get with a 15-year loan? Can you afford to make bigger monthly payments, or do you need room in your budget for other goals? The better choice is the one that works best with your finances and long-term goals. ## Is It Better to Get a 15-Year Mortgage or Make Extra Payments on a 30-Year Mortgage? Applying extra payments toward your principal can help you pay down a 30-year mortgage faster without being locked in to a 15-year time frame.\n",
      "\n",
      "But as the balance gets smaller, the interest share of the payment declines, and the share going to principal increases. A shorter-term loan means a higher monthly payment, which makes the 15-year mortgage seem less affordable. But the shorter term makes the loan cheaper on several fronts. In fact, over the full life of a loan, a 30-year mortgage will end up costing more than double the 15-year option. ### Because 15-year loans are less risky for banks than 30-year loans---and because it costs banks less to make shorter-term loans than longer-term loans---a 30-year mortgage typically comes with a higher interest rate. ## 30-Year Mortgage In a 30-year mortgage, of course, that balance shrinks much more slowly---effectively, the homebuyer is borrowing the same amount of money for more than twice as long. In fact, it's more than twice as long rather than just twice as long because, for a 30-year mortgage, the principal balance does not decline as fast as it does for a 15-year loan. The higher the interest rate, the greater the gap between the two mortgages. When the interest rate is 4%, for example, the borrower actually pays almost 2.2 times more interest to borrow the same amount of principal over 30 years compared with a 15-year loan. The chief advantage of a 30-year mortgage is the relatively low monthly payment. And even if affordability isn't an issue, there are other advantages: * The lower payment may allow a borrower to buy more house than they would be able to afford with a 15-year loan since the same monthly payment would allow the borrower to take out a larger loan over 30 years. * The lower payment allows a borrower to build up savings. * The lower payment frees up funds for other goals. Comparison shopping among the best mortgage lenders can help you narrow your options. ## 15-Year Mortgage Consumers pay less on a 15-year mortgage---anywhere from a quarter of a percent to a full percent (or point) less, and over the decades that can really add up. The government-supported agencies that back most mortgages, such as Fannie Mae ](https://www.investopedia.com/mortgage/fannie-mae-loans/)and [Freddie Mac, impose additional fees, called loan-level price adjustments, which make 30-year mortgages more expensive.\n",
      "==================================\u001b[1m Ai Message \u001b[0m==================================\n",
      "Name: general_mortgage_agent\n",
      "\n",
      "Comprehensive Analysis Summary:\n",
      "\n",
      "1. Existing Mortgage Details:\n",
      "- Customer ID: 1111\n",
      "- Outstanding Principal: $150,599.25\n",
      "- Current Interest Rate: 8.5%\n",
      "- Maturity Date: June 30, 2030\n",
      "- Payments Remaining: 72\n",
      "- Next Payment: $1,579.63 due on August 19, 2025\n",
      "\n",
      "2. Credit Score:\n",
      "- Current Credit Score: 70 (This is considered low and may impact refinancing eligibility)\n",
      "\n",
      "3. New Mortgage Application Status:\n",
      "- Application ID: 998776\n",
      "- Status: IN PROGRESS\n",
      "- Loan Amount: $750,000\n",
      "- Tentative Rate: 5.5%\n",
      "- Term: 30 years\n",
      "- Missing Document: Employment Information\n",
      "\n",
      "4. 30-Year Fixed Mortgage Rate History:\n",
      "- Recent rates fluctuating between 7.18% and 7.27%\n",
      "- Your current rate (8.5%) is significantly higher than recent market rates\n",
      "\n",
      "5. Refinancing Insights:\n",
      "Key Considerations for 15-Year vs. 30-Year Mortgage:\n",
      "- 15-Year Benefits:\n",
      "  * Lower total interest paid\n",
      "  * Faster equity building\n",
      "  * Lower interest rate typically\n",
      "- Drawbacks:\n",
      "  * Higher monthly payments\n",
      "  * Less financial flexibility\n",
      "\n",
      "Recommendations:\n",
      "1. Complete the missing employment information for your new mortgage application\n",
      "2. Work on improving your credit score (currently 70 is quite low)\n",
      "3. Consider refinancing given your current high 8.5% rate compared to recent 7.18-7.27% rates\n",
      "4. Explore both 15-year and 30-year options, focusing on your budget and long-term financial goals\n",
      "\n",
      "Would you like me to help you dive deeper into any of these areas or provide more specific guidance on next steps?\n"
     ]
    }
   ],
   "source": [
    "for message in response['messages']:\n",
    "    message.pretty_print()"
   ]
  },
  {
   "cell_type": "markdown",
   "id": "9df5c006",
   "metadata": {},
   "source": [
    "Optionally, you could track the ai_messages and tool_messages separately\n",
    "\n",
    "```\n",
    "ai_messages = [msg for msg in response[\"messages\"] if isinstance(msg, AIMessage)]\n",
    "tool_messages = [msg for msg in response[\"messages\"] if isinstance(msg, ToolMessage)]\n",
    "\n",
    "for message in ai_messages:\n",
    "    message.pretty_print()\n",
    "```\n"
   ]
  },
  {
   "cell_type": "markdown",
   "id": "b901522e",
   "metadata": {},
   "source": [
    "## Summary\n",
    "\n",
    "In this lab, we covered\n",
    "- Introduction to Model Context Protocol as an open standard for connecting LLMs to tools and data sources\n",
    "- How to use MultiServerMCPClient to connect to MCP servers and retrieve tools\n",
    "- Showcased Config-driven approach to create specialized agents (existing mortgage, mortgage application, and general assistant)\n",
    "- Using LangGraph Swarm to coordinate between agents with handoff capabilities\n",
    "- Converting MCP tools to LangChain-compatible format for use in the agentic workflow"
   ]
  },
  {
   "cell_type": "code",
   "execution_count": null,
   "id": "42192da5-a499-4dbd-b616-da444014cf4c",
   "metadata": {},
   "outputs": [],
   "source": []
  }
 ],
 "metadata": {
  "kernelspec": {
   "display_name": "Python 3 (ipykernel)",
   "language": "python",
   "name": "python3"
  },
  "language_info": {
   "codemirror_mode": {
    "name": "ipython",
    "version": 3
   },
   "file_extension": ".py",
   "mimetype": "text/x-python",
   "name": "python",
   "nbconvert_exporter": "python",
   "pygments_lexer": "ipython3",
   "version": "3.12.9"
  }
 },
 "nbformat": 4,
 "nbformat_minor": 5
}
