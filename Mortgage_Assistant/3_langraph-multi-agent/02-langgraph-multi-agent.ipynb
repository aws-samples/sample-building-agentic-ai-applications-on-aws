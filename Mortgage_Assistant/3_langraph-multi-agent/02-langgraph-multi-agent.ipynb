{
 "cells": [
  {
   "cell_type": "markdown",
   "id": "04d8af4d",
   "metadata": {},
   "source": [
    "# Building a Multi Agent Collaboration - with LangGraph\n",
    "\n",
    "## Table of contents\n",
    "- [Introduction](#introduction)\n",
    "- [Prerequisites](#prerequisites)\n",
    "- [Specialized Agents](#specialized-agents)\n",
    "- [Summary](#summary)\n",
    "\n",
    "## Introduction\n",
    "\n",
    "In the previous lab we introduced the **LangGraph** framework, how to create agents and add memory to it. In this lab we will build on single agent and create multiple agents\n",
    "\n",
    "## Objectives\n",
    "\n",
    "By the end of this notebook, you will:\n",
    "1. Understand how to create and connect multiple agents using LangGraph\n",
    "2. Learn how to define agent roles and responsibilities\n",
    "3. Implement a multi-agent system that can handle account enquiries, process new applications and provide FAQ\n",
    "4. Demonstrate how inter agent communication and handover occurs\n",
    "\n",
    "\n",
    "## Prerequisites\n",
    "\n",
    "Before starting this notebook, ensure you have:\n",
    "- Familiarity with LangChain concepts (optional but helpful)\n",
    "- Basic understanding of Python and Jupyter notebooks\n",
    "- AWS account with access to Amazon Bedrock and SageMaker\n"
   ]
  },
  {
   "cell_type": "markdown",
   "id": "1bc1339d",
   "metadata": {},
   "source": [
    "## Setup\n",
    "Start by installing some of the required packages, including LangChain for pre-built tool components, LangGraph for agent workflows, and other necessary libraries."
   ]
  },
  {
   "cell_type": "code",
   "execution_count": null,
   "id": "d8a4f065",
   "metadata": {},
   "outputs": [],
   "source": [
    "%pip uninstall boto3 botocore awscli --yes"
   ]
  },
  {
   "cell_type": "code",
   "execution_count": null,
   "id": "4d969923",
   "metadata": {},
   "outputs": [],
   "source": [
    "%pip install -r requirements.txt -q --force-reinstall"
   ]
  },
  {
   "cell_type": "markdown",
   "id": "215b1184",
   "metadata": {},
   "source": [
    "<div class=\"alert alert-block alert-info\">\n",
    "<b>Important:</b> restart the kernel before proceeding with the next cells. You can use the restart icon on the top of this notebook or  uncomment below cell and execute\n",
    "</div>"
   ]
  },
  {
   "cell_type": "code",
   "execution_count": null,
   "id": "de84e84d",
   "metadata": {},
   "outputs": [],
   "source": [
    "# restart kernel for packages to take effect\n",
    "from IPython.core.display import HTML\n",
    "HTML(\"<script>Jupyter.notebook.kernel.restart()</script>\")"
   ]
  },
  {
   "cell_type": "markdown",
   "id": "53d532ab",
   "metadata": {},
   "source": [
    "Import the following modules"
   ]
  },
  {
   "cell_type": "code",
   "execution_count": null,
   "id": "09c001fb",
   "metadata": {},
   "outputs": [],
   "source": [
    "from typing import TypedDict, List, Annotated, Union\n",
    "from langchain_aws import ChatBedrock, ChatBedrockConverse\n",
    "from langchain.chat_models import init_chat_model\n",
    "from langgraph.prebuilt import create_react_agent, ToolNode,tools_condition\n",
    "from langchain_core.messages import BaseMessage, HumanMessage, AIMessage, AnyMessage, SystemMessage, ToolMessage\n",
    "from langgraph.graph.message import add_messages\n",
    "from langgraph.graph import MessagesState, StateGraph, START, END\n",
    "import os\n",
    "import boto3\n",
    "from IPython.display import display,Image\n",
    "import random\n",
    "from textwrap import dedent\n",
    "from datetime import datetime, timedelta\n",
    "from langgraph.checkpoint.memory import InMemorySaver\n",
    "from datetime import datetime, timedelta\n",
    "import certifi\n",
    " \n"
   ]
  },
  {
   "cell_type": "markdown",
   "id": "aafc393c",
   "metadata": {},
   "source": [
    "\n",
    "Next, we setup the LLMs to be used for this lab. Although you will use these specific models for this lab, LangChain also supports models from other [providers](https://python.langchain.com/docs/integrations/chat/#featured-providers)\n",
    "\n",
    "\n",
    "When setting up an LLM model, you can also set model parameters. In this case, we set `temperature` to 0.7 to balance creativity with accuracy. A higher temperature (closer to 1.0) would produce more creative but potentially less accurate responses, while a lower temperature (closer to 0) would produce more deterministic responses."
   ]
  },
  {
   "cell_type": "markdown",
   "id": "07138cab",
   "metadata": {},
   "source": [
    "If you're running this notebook locally, set the AWS_PROFILE"
   ]
  },
  {
   "cell_type": "code",
   "execution_count": null,
   "id": "ab62b8d9",
   "metadata": {},
   "outputs": [],
   "source": [
    "# os.environ['AWS_PROFILE']='stcgenai'\n"
   ]
  },
  {
   "cell_type": "markdown",
   "id": "e15c464f",
   "metadata": {},
   "source": [
    "If you are getting certificate errors, you can use the following code block to explicitly add the certificate path"
   ]
  },
  {
   "cell_type": "code",
   "execution_count": null,
   "id": "235f4290",
   "metadata": {},
   "outputs": [],
   "source": [
    "\n",
    "# # Get the path to the certificate bundle\n",
    "# cert_path = certifi.where()\n",
    "# print(f\"Using certificate bundle at: {cert_path}\")\n",
    "\n",
    "# # Set environment variable\n",
    "# os.environ['AWS_CA_BUNDLE'] = cert_path"
   ]
  },
  {
   "cell_type": "markdown",
   "id": "2d51833b",
   "metadata": {},
   "source": [
    "## Specialized Agents:\n",
    "\n",
    "\n",
    "#### 1. Existing Mortgage Assistant\n",
    "- **Role**: Manages existing customer mortgage accounts\n",
    "- **Tools**: `get_mortgage_status` function\n",
    "- **Expertise**: Account balances, interest rates, payment schedules, maturity dates\n",
    "\n",
    "#### 2. Mortgage Application Agent\n",
    "- **Role**: Handles new mortgage applications\n",
    "- **Tools**: \n",
    "  - `get_mortgage_app_doc_status`\n",
    "  - `get_application_details`\n",
    "  - `get_mortgage_rate_history`\n",
    "- **Expertise** : Tracks document submission status, retrieves application information with status, provide historical interest rates\n",
    "\n",
    "#### 3. General Mortgage Questions Agent\n",
    "- **Role**: Handles conceptual mortgage questions\n",
    "- **Tools**: Knowledge Base access\n",
    "- **Expertise**: Refinancing concepts, mortgage type comparisons (15-year vs 30-year)\n",
    "\n",
    "\n"
   ]
  },
  {
   "cell_type": "markdown",
   "id": "eea2c996",
   "metadata": {},
   "source": [
    "Here is the code we have built in the previous lab for creating the first agent `Existing Mortgage Assistant`.\n",
    "\n",
    "Depending on the model availability and the region  you are running this lab, change the agent_foundation_model[] and region_name before instantiating the boto client"
   ]
  },
  {
   "cell_type": "code",
   "execution_count": null,
   "id": "d2ea104c",
   "metadata": {},
   "outputs": [],
   "source": [
    "class AgentState(MessagesState):\n",
    "    pass\n",
    "\n",
    "\n",
    "agent_foundation_model = [\n",
    "    'us.anthropic.claude-3-5-haiku-20241022-v1:0'\n",
    "    ]\n",
    "\n",
    "# Create a session with your profile\n",
    "bedrock_client = boto3.client('bedrock-runtime')\n",
    "\n",
    "# bedrock_client = boto3.client('bedrock-runtime',region_name='us-west-2')\n",
    "\n",
    "model = init_chat_model(\n",
    "    agent_foundation_model[0],\n",
    "    model_provider=\"bedrock_converse\",\n",
    "    temperature=0.7,\n",
    "    client=bedrock_client\n",
    ")\n",
    "\n",
    "memory = InMemorySaver()\n",
    "\n",
    "\n"
   ]
  },
  {
   "cell_type": "markdown",
   "id": "bfc9b545",
   "metadata": {},
   "source": [
    "In addition to the existing mortgage tools we will add few more tools -\n"
   ]
  },
  {
   "cell_type": "code",
   "execution_count": null,
   "id": "ed8c9768",
   "metadata": {},
   "outputs": [],
   "source": [
    "def get_mortgage_details(customer_id: str) -> str:\n",
    "    \"\"\"\n",
    "Retrieves the mortgage status for a given customer ID. Returns an object containing \n",
    "details like the account number, \n",
    "outstanding principal, interest rate, maturity date, number of payments remaining, due date of next payment, \n",
    "and amount of next payment.\"\"\"\n",
    "    return {\n",
    "        \"account_number\": customer_id,\n",
    "        \"outstanding_principal\": 150599.25,\n",
    "        \"interest_rate\": 8.5,\n",
    "        \"maturity_date\": \"2030-06-30\",\n",
    "        \"original_issue_date\": \"2021-05-30\",\n",
    "        \"payments_remaining\": 72,\n",
    "        \"last_payment_date\": str(datetime.today() - timedelta(days=14)).split(' ')[0],\n",
    "        \"next_payment_due\": str(datetime.today() + timedelta(days=14)).split(' ')[0],\n",
    "        \"next_payment_amount\": 1579.63\n",
    "    }\n",
    "\n",
    "\n",
    "def get_application_details(customer_id: str) -> str:\n",
    "    \"\"\"Retrieves the details about an application for a new mortgage. The function takes a customer ID, but it is purely optional. \n",
    "    The function implementation can retrieve it from session state instead. \n",
    "    Details include the application ID, application date, application status, application type, application amount, application tentative rate, and application term in years.\"\"\"\n",
    "    return {\n",
    "        \"customer_id\": customer_id,\n",
    "        \"application_id\": \"998776\",\n",
    "        \"application_date\": datetime.today() - timedelta(days=35), # simulate app started 35 days ago\n",
    "        \"application_status\": \"IN_PROGRESS\",\n",
    "        \"application_type\": \"NEW_MORTGAGE\",\n",
    "        \"application_amount\": 750000,\n",
    "        \"application_tentative_rate\": 5.5,\n",
    "        \"application_term_years\": 30,\n",
    "        \"application_rate_type\": \"fixed\"\n",
    "    }\n",
    "\n",
    "\n",
    "def get_mortgage_rate_history(day_count: int=30, type: str=\"15-year-fixed\"):\n",
    "    \"\"\"Retrieves the history of mortgage interest rates going back a given number of days, defaults to 30. History is returned as a list of objects, where each object contains the date and the interest rate to 2 decimal places.\"\"\"\n",
    "    BASE_RATE=6.00\n",
    "\n",
    "    RATE_MIN_15=38\n",
    "    RATE_MAX_15=48\n",
    "\n",
    "    RATE_MIN_30=RATE_MIN_15 + 80\n",
    "    RATE_MAX_30=RATE_MAX_15 + 80\n",
    "    \n",
    "    # print(f\"getting rate history for: {day_count} days, for type: {type}...\")\n",
    "    # generate the last 7 working day dates starting with yesterday\n",
    "    today = datetime.today()\n",
    "    history_count = 0\n",
    "    rate_history = []\n",
    "\n",
    "    if type == \"30-year-fixed\":\n",
    "        RATE_MIN = RATE_MIN_30\n",
    "        RATE_MAX = RATE_MAX_30\n",
    "    else:\n",
    "        RATE_MIN = RATE_MIN_15\n",
    "        RATE_MAX = RATE_MAX_15\n",
    "\n",
    "    for i in range(int(day_count*1.4)):\n",
    "        if history_count >= day_count:\n",
    "            break\n",
    "        else:\n",
    "            day = today - timedelta(days=i+1)\n",
    "            which_day_of_week = day.weekday()\n",
    "            if which_day_of_week < 5:\n",
    "                history_count += 1\n",
    "                _date = str(day.strftime(\"%Y-%m-%d\"))\n",
    "                _rate = f\"{BASE_RATE + ((random.randrange(RATE_MIN, RATE_MAX))/100):.2f}\"\n",
    "                rate_history.append({\"date\": _date, \"rate\": _rate})\n",
    "\n",
    "    return rate_history\n",
    "\n",
    "\n",
    "def get_mortgage_app_doc_status(customer_id: str):\n",
    "    \"\"\"\n",
    "    Retrieves the list of required documents for a mortgage application in process, along with their respectiv statuses (COMPLETED or MISSING).\n",
    "    The function takes a customer ID, but it is purely optional. The funciton implementation can retrieve it from session state instead. \n",
    "    This function returns a list of objects, where each object represents a required document type. \n",
    "    The required document types for a mortgage application are: proof of income, employment information, proof of assets, and credit information. Each object in the returned list contains the type of the required document and its corresponding status.\"\"\"\n",
    "    return [\n",
    "        {\n",
    "            \"type\": \"proof_of_income\",\n",
    "            \"status\": \"COMPLETED\"\n",
    "        },\n",
    "        {\n",
    "            \"type\": \"employment_information\",\n",
    "            \"status\": \"MISSING\"\n",
    "        },\n",
    "        {\n",
    "            \"type\": \"proof_of_assets\",\n",
    "            \"status\": \"COMPLETED\"\n",
    "        },\n",
    "        {\n",
    "            \"type\": \"credit_information\",\n",
    "            \"status\": \"COMPLETED\"\n",
    "        }\n",
    "    ]"
   ]
  },
  {
   "cell_type": "markdown",
   "id": "82d12b9e",
   "metadata": {},
   "source": [
    "Before we create agents, we need to understand the multi agent collaboration concepts. \n",
    "\n",
    "\n",
    "For this lab, we will concentrate on SWARM architecture pattern. LangGraph has a built pattern to use the SWARM architecture\n",
    "\n",
    "\n"
   ]
  },
  {
   "cell_type": "code",
   "execution_count": null,
   "id": "aeb91b7b",
   "metadata": {},
   "outputs": [],
   "source": [
    "from langgraph_swarm import create_handoff_tool, create_swarm\n"
   ]
  },
  {
   "cell_type": "markdown",
   "id": "4cee13ac",
   "metadata": {},
   "source": [
    "we will create two hand off tools, each one takes the agent_name as input and provide the details of which agent to transfer to. We will use the pre-built `create_handoff_tool` for the lab. If you like to customize the swarm behaviour, you can customize the agent or create custom tool. Refer to this [link](https://github.com/langchain-ai/langgraph-swarm-py?tab=readme-ov-file#customizing-handoff-tools) for more details "
   ]
  },
  {
   "cell_type": "code",
   "execution_count": null,
   "id": "eda9086e",
   "metadata": {},
   "outputs": [],
   "source": [
    "transfer_to_existing_assistant = create_handoff_tool(\n",
    "    agent_name=\"existing_mortgage_agent\",\n",
    "    description=\"Transfer user to the existing mortgage agent to provide information about current mortgage  details including outstanding principal, interest rates, maturity dates, payment schedules, and upcoming payment information. Use this when the user is asking about their existing mortgage account, payment details, or loan status.\"\n",
    ")\n",
    "\n",
    "\n",
    "transfer_to_application_assistant = create_handoff_tool(\n",
    "    agent_name=\"mortgage_application_agent\",\n",
    "    description=\"Transfer user to the mortgage application agent to provide assistance with new mortgage applications, document status tracking, application details, and historical mortgage rate information. Use this when the user is asking about applying for a new mortgage, checking application status, or needs information about current mortgage rates.\"\n",
    ")"
   ]
  },
  {
   "cell_type": "markdown",
   "id": "ae8ecf80",
   "metadata": {},
   "source": [
    "For the multi agent architecture , we have seen different patterns already. Supervisor, "
   ]
  },
  {
   "cell_type": "code",
   "execution_count": null,
   "id": "e946469e",
   "metadata": {},
   "outputs": [],
   "source": [
    "def load_system_prompt(filename):\n",
    "    \"\"\"Load system prompt from markdown file\"\"\"\n",
    "    with open(f'config/{filename}', 'r') as f:\n",
    "        return f.read()"
   ]
  },
  {
   "cell_type": "code",
   "execution_count": null,
   "id": "9f169aa3",
   "metadata": {},
   "outputs": [],
   "source": [
    "# Define the Agent\n",
    "existing_mortgage_agent = create_react_agent(\n",
    "    model=model,\n",
    "    tools=[get_mortgage_details,transfer_to_application_assistant],\n",
    "    prompt=dedent(load_system_prompt(\"existing_mortgage_system.md\")),\n",
    "    name=\"existing_mortgage_agent\"\n",
    ")\n",
    "\n",
    "\n",
    "# Define the Agent\n",
    "mortgage_application_agent = create_react_agent(\n",
    "    model=model,\n",
    "    tools=[get_application_details,get_mortgage_rate_history,get_mortgage_app_doc_status,transfer_to_existing_assistant],\n",
    "    prompt=dedent(\"mortgage_application_system.md\"),\n",
    "    name=\"mortgage_application_agent\")"
   ]
  },
  {
   "cell_type": "code",
   "execution_count": null,
   "id": "b3ba596a",
   "metadata": {},
   "outputs": [],
   "source": [
    "graph = create_swarm([existing_mortgage_agent,mortgage_application_agent],default_active_agent=\"existing_mortgage_agent\")\n",
    "\n",
    "app = graph.compile(checkpointer=memory)\n",
    "config = {\"configurable\": {\"thread_id\": random.randint(1,10000)}}\n",
    "\n",
    "display(Image(app.get_graph().draw_mermaid_png()))"
   ]
  },
  {
   "cell_type": "code",
   "execution_count": null,
   "id": "09e10916",
   "metadata": {},
   "outputs": [],
   "source": [
    "response = app.invoke(\n",
    "    {\"messages\": \"Hey, I am would like to open a new mortgage application, but before that I am interested to know current mortgage rates. Here is my id: 123456\"},\n",
    "    config\n",
    ")\n",
    "\n",
    "for message in response[\"messages\"]:\n",
    "    # prettify the output by adding message type and message\n",
    "    message.pretty_print()\n",
    "    # print(f\"{message.type}: {message.content}\")\n"
   ]
  },
  {
   "cell_type": "code",
   "execution_count": null,
   "id": "d750bd90",
   "metadata": {},
   "outputs": [],
   "source": [
    "response = app.invoke(\n",
    "    {\"messages\": \"Hmm, probably what's 30 year fixed interest rate\"},\n",
    "    config\n",
    ")\n",
    "\n",
    "for message in response[\"messages\"]:\n",
    "    message.pretty_print()\n"
   ]
  },
  {
   "cell_type": "markdown",
   "id": "b3f3f8ce",
   "metadata": {},
   "source": [
    "Now that we created the agents with tool functions, lets add a RAG and add to the graph. We shall use Bedrock's Knowledge Base , the managed RAG offering. Replace the `knowledge_base_id` with the KB you created in the previous labs\n",
    "\n",
    "For this scenario we will use  `AmazonKnowledgeBasesRetriever` class from  the langchain_aws module. \n",
    "\n",
    "<div class=\"alert alert-block alert-info\">\n",
    "Replace the KB id from the Bedrock modules\n",
    "</div>"
   ]
  },
  {
   "cell_type": "code",
   "execution_count": null,
   "id": "b01ae608",
   "metadata": {},
   "outputs": [],
   "source": [
    "from langchain_aws.retrievers import AmazonKnowledgeBasesRetriever\n",
    "\n",
    "retriever = AmazonKnowledgeBasesRetriever(\n",
    "                knowledge_base_id=\"EVDPJLTSOH\",\n",
    "                retrieval_config={\n",
    "                    \"vectorSearchConfiguration\": {\n",
    "                        \"numberOfResults\": 4\n",
    "                    }\n",
    "                \n",
    "                },\n",
    "            )\n",
    "\n"
   ]
  },
  {
   "cell_type": "markdown",
   "id": "800f3934",
   "metadata": {},
   "source": [
    "Now, we test to see if the KB is working as expected"
   ]
  },
  {
   "cell_type": "code",
   "execution_count": null,
   "id": "378a73df",
   "metadata": {},
   "outputs": [],
   "source": [
    "retriever.invoke(\"What is the benefit of refinancing, if any?\")"
   ]
  },
  {
   "cell_type": "markdown",
   "id": "8bf879e5",
   "metadata": {},
   "source": [
    "Once we create the retriever, lets wrap it using the langchain `Tool`. This will help LangGraph to automatically present the KB as a tool"
   ]
  },
  {
   "cell_type": "code",
   "execution_count": null,
   "id": "de3f5a31",
   "metadata": {},
   "outputs": [],
   "source": [
    "from langchain.tools import Tool\n",
    "\n",
    "retriever_tool = Tool(\n",
    "    name=\"amazon_knowledge_base\",\n",
    "    description=\"Use this knowledge base to answer general questions about mortgages, like how to refinnance, or the difference between 15-year and 30-year mortgages.\",\n",
    "    func=lambda query: \"\\n\\n\".join([doc.page_content for doc in retriever.invoke(query)])\n",
    ")\n",
    "\n",
    "\n"
   ]
  },
  {
   "cell_type": "markdown",
   "id": "1bd09b2c",
   "metadata": {},
   "source": [
    "We add the 3rd handoff tool for the `general_mortgage_agent`"
   ]
  },
  {
   "cell_type": "code",
   "execution_count": null,
   "id": "40f4ada7",
   "metadata": {},
   "outputs": [],
   "source": [
    "transfer_to_existing_assistant = create_handoff_tool(\n",
    "    agent_name=\"existing_mortgage_agent\",\n",
    "    description=\"Transfer user to the existing mortgage agent to provide information about current mortgage  details including outstanding principal, interest rates, maturity dates, payment schedules, and upcoming payment information. Use this when the user is asking about their existing mortgage account, payment details, or loan status. \"\n",
    ")\n",
    "\n",
    "\n",
    "transfer_to_application_assistant = create_handoff_tool(\n",
    "    agent_name=\"mortgage_application_agent\",\n",
    "    description=\"Transfer user to the mortgage application agent to provide assistance with new mortgage applications, document status tracking, application details, and historical mortgage rate information. Use this when the user is asking about applying for a new mortgage, checking application status, or needs information about current mortgage rates.\"\n",
    ")\n",
    "\n",
    "transfer_to_general_mortgage_agent = create_handoff_tool(\n",
    "    agent_name=\"general_mortgage_agent\",\n",
    "    description=\"Transfer user to the general mortgage agent to use knowledge base to answer general questions about mortgages, like how to refinnance, or the difference between 15-year and 30-year mortgages.\"\n",
    "\n",
    ")"
   ]
  },
  {
   "cell_type": "markdown",
   "id": "e85bda8c",
   "metadata": {},
   "source": [
    "Once the tools are created, we create `general_mortgage_agent` and re-create the existing agents with the `transfer_to_general_mortgage_agent` tool"
   ]
  },
  {
   "cell_type": "code",
   "execution_count": null,
   "id": "19a75676",
   "metadata": {},
   "outputs": [],
   "source": [
    "# Define the Agent\n",
    "general_mortgage_agent = create_react_agent(\n",
    "    model=model,\n",
    "    tools=[retriever_tool,transfer_to_existing_assistant,transfer_to_application_assistant],\n",
    "    prompt=dedent(load_system_prompt(\"general_assistant_system.md\")),\n",
    "    name=\"general_mortgage_agent\")\n",
    "\n",
    "# Define the Agent\n",
    "existing_mortgage_agent = create_react_agent(\n",
    "    model=model,\n",
    "    tools=[get_mortgage_details,transfer_to_application_assistant, transfer_to_general_mortgage_agent],\n",
    "    prompt=dedent(load_system_prompt(\"existing_mortgage_system.md\")),\n",
    "    name=\"existing_mortgage_agent\"\n",
    ")\n",
    "\n",
    "# Define the Agent\n",
    "mortgage_application_agent = create_react_agent(\n",
    "    model=model,\n",
    "    tools=[get_application_details,get_mortgage_rate_history,get_mortgage_app_doc_status,transfer_to_existing_assistant,transfer_to_general_mortgage_agent],\n",
    "    prompt=dedent(\"mortgage_application_system.md\"),\n",
    "    name=\"mortgage_application_agent\")\n"
   ]
  },
  {
   "cell_type": "markdown",
   "id": "0a1c7e55",
   "metadata": {},
   "source": [
    "And we re-initiate the <b>swarm</b> multi agent setup"
   ]
  },
  {
   "cell_type": "code",
   "execution_count": null,
   "id": "df3afca5",
   "metadata": {},
   "outputs": [],
   "source": [
    "graph = create_swarm([existing_mortgage_agent,mortgage_application_agent,general_mortgage_agent],default_active_agent=\"general_mortgage_agent\")\n",
    "\n",
    "app = graph.compile(checkpointer=memory)\n",
    "config = {\"configurable\": {\"thread_id\": random.randint(1,10000)}}\n",
    "\n",
    "display(Image(app.get_graph().draw_mermaid_png()))"
   ]
  },
  {
   "cell_type": "code",
   "execution_count": null,
   "id": "26dbbdf1",
   "metadata": {},
   "outputs": [],
   "source": [
    "\n",
    "response = app.invoke(\n",
    "    {\"messages\": \"I need a complete mortgage consultation. First, I want to check my existing mortgage details for customer ID xyz to see my current situation. Then I need to understand the market by showing me the 30-year fixed mortgage rate history for the past 30 days to compare with my current rate. Finally, I have a general question about mortgage refinancing - what are the key factors I should consider when deciding whether to refinance my mortgage, and what's the difference between a 15-year and 30-year mortgage in terms of total cost\"},\n",
    "    config\n",
    ")\n",
    "\n",
    "for message in response[\"messages\"]:\n",
    "    message.pretty_print()"
   ]
  },
  {
   "cell_type": "markdown",
   "id": "dc9ff6fa",
   "metadata": {},
   "source": [
    "Optionally, you could track the ai_messages and tool_messages separately\n",
    "\n",
    "```\n",
    "ai_messages = [msg for msg in response[\"messages\"] if isinstance(msg, AIMessage)]\n",
    "tool_messages = [msg for msg in response[\"messages\"] if isinstance(msg, ToolMessage)]\n",
    "\n",
    "for message in ai_messages:\n",
    "    message.pretty_print()\n",
    "```"
   ]
  },
  {
   "cell_type": "markdown",
   "id": "c111e20e",
   "metadata": {},
   "source": [
    "## Summary\n",
    "\n",
    "In this lab, we explored how to build a multi-agent system using LangGraph to create a comprehensive mortgage assistance solution. We built upon the single-agent concepts from the previous lab and implemented a specialized agent network with distinct roles and responsibilities.\n",
    "\n",
    "   - Implemented three specialized agents with distinct roles and  established clear boundaries of responsibility between agents \n",
    "   - Connected agents to relevant tools based on their specialization\n",
    "   - Created  handoff mechanism between agents\n",
    "   - Demonstrated how specialized agents can provide more focused responses\n",
    "   - Showed how complex customer inquiries can be routed to the most appropriate agent\n",
    "   - Illustrated how multi-agent systems can handle a wider range of tasks than single agents\n",
    "\n"
   ]
  }
 ],
 "metadata": {
  "kernelspec": {
   "display_name": ".venv",
   "language": "python",
   "name": "python3"
  },
  "language_info": {
   "codemirror_mode": {
    "name": "ipython",
    "version": 3
   },
   "file_extension": ".py",
   "mimetype": "text/x-python",
   "name": "python",
   "nbconvert_exporter": "python",
   "pygments_lexer": "ipython3",
   "version": "3.12.4"
  }
 },
 "nbformat": 4,
 "nbformat_minor": 5
}
