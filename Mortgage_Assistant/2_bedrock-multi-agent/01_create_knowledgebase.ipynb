{
 "cells": [
  {
   "cell_type": "raw",
   "id": "47aaddce-1d67-407f-a360-9873be52d5a4",
   "metadata": {
    "vscode": {
     "languageId": "raw"
    }
   },
   "source": [
    "Lab 2 - part 1 - Create a Knowledge Base"
   ]
  },
  {
   "cell_type": "markdown",
   "id": "46f3175c",
   "metadata": {},
   "source": [
    "Let's start by creating a [Knowledge Base for Amazon Bedrock](https://aws.amazon.com/bedrock/knowledge-bases/) \n",
    "to provide knowledge about mortgages. In this notebook, we will create a knowledge base using the content available in the mortgage_dataset folder. This knowledge base will be used to answer general QnA.  As a challenge, see if you can include more data sources "
   ]
  },
  {
   "cell_type": "markdown",
   "id": "f10b7461",
   "metadata": {},
   "source": [
    "Step 1: Import libraries and helper functions"
   ]
  },
  {
   "cell_type": "code",
   "execution_count": 30,
   "id": "de079de3-efb6-43bf-beff-cea056850a97",
   "metadata": {},
   "outputs": [
    {
     "name": "stdout",
     "output_type": "stream",
     "text": [
      "The autoreload extension is already loaded. To reload it, use:\n",
      "  %reload_ext autoreload\n"
     ]
    }
   ],
   "source": [
    "import os\n",
    "import time\n",
    "import boto3\n",
    "import logging\n",
    "import botocore\n",
    "import json\n",
    "from textwrap import dedent\n",
    "\n",
    "%load_ext autoreload\n",
    "%autoreload 2"
   ]
  },
  {
   "cell_type": "markdown",
   "id": "20333837-76b5-4699-8fb3-260829df8098",
   "metadata": {},
   "source": [
    "In the following cell, we add `bedrock_agent_helper.py` and `knowledge_base_helper` on Python path.\n",
    "\n",
    "These file contain helper classes focused on making labs experience smooth. \n",
    "\n",
    "All interactions with Bedrock will be handled by these classes.\n",
    "\n",
    "Following methods will be used in this lab:\n",
    "\n",
    "On `agents.py`:\n",
    "- `create_agent`: Create a new agent and respective IAM roles\n",
    "- `add_action_group_with_lambda`: Create a lambda function and add it as an action group for a previous created agent\n",
    "- `create_agent_alias`: Create an alias for this agent\n",
    "- `invoke`: Execute agent\n",
    "\n",
    "On `knowledge_bases.py`:\n",
    "- `create_or_retrieve_knowledge_base`: Create Knowledge Base on Amazon Bedrock if it doesn't exist or get info about previous created.\n",
    "- `synchronize_data`: Read files on S3, convert text info into vectors and add that information on Vector Database."
   ]
  },
  {
   "cell_type": "code",
   "execution_count": 31,
   "id": "560e3292-1e89-4014-bcd4-29241b82c961",
   "metadata": {},
   "outputs": [],
   "source": [
    "import sys\n",
    "sys.path.insert(0, '..') \n",
    "\n",
    "from src.utils.bedrock_agent import AgentsForAmazonBedrock\n",
    "\n",
    "from src.utils.knowledge_base_helper import KnowledgeBasesForAmazonBedrock\n",
    "\n",
    "agents = AgentsForAmazonBedrock()\n",
    "kb = KnowledgeBasesForAmazonBedrock()"
   ]
  },
  {
   "cell_type": "markdown",
   "id": "ae64d94a",
   "metadata": {},
   "source": [
    "Create boto3 clients"
   ]
  },
  {
   "cell_type": "code",
   "execution_count": 32,
   "id": "02ad6143-fde8-4ecf-88a5-ba333d722b35",
   "metadata": {},
   "outputs": [],
   "source": [
    "s3_client = boto3.client('s3')\n",
    "sts_client = boto3.client('sts')\n",
    "bedrock_agent_runtime_client = boto3.client('bedrock-agent-runtime')"
   ]
  },
  {
   "cell_type": "markdown",
   "id": "a93fa5a8",
   "metadata": {},
   "source": [
    "Get the region and bucket name. The bucket will be created if its not present already."
   ]
  },
  {
   "cell_type": "code",
   "execution_count": 33,
   "id": "2e79386b-d639-4894-96d1-cb5180e2fc73",
   "metadata": {},
   "outputs": [],
   "source": [
    "region = boto3.session.Session().region_name\n",
    "account_id = sts_client.get_caller_identity()[\"Account\"]\n",
    "suffix = f\"{region}-{account_id}\"\n",
    "bucket_name = f'mac-workshop-{suffix}'"
   ]
  },
  {
   "cell_type": "code",
   "execution_count": null,
   "id": "24a281a6-d3b3-4cd4-8ddc-87b46225a8ef",
   "metadata": {},
   "outputs": [],
   "source": [
    "agent_foundation_model = [\"anthropic.claude-3-5-haiku-20241022-v1:0\"]"
   ]
  },
  {
   "cell_type": "markdown",
   "id": "8ec63db8-5b50-46e6-9ace-729b60d240f8",
   "metadata": {},
   "source": [
    "### Create Knowledge Base \n",
    " We will now create the knowledge base with Amazon OpenSearch Serverless as the vector store. To do so, we will use the helper class `KnowledgeBasesForAmazonBedrock` which creates the knowledge base and all of its prerequisites:\n",
    "1. IAM roles and policies\n",
    "2. S3 bucket\n",
    "3. Amazon OpenSearch Serverless encryption, network and data access policies\n",
    "4. Amazon OpenSearch Serverless collection\n",
    "5. Amazon OpenSearch Serverless vector index\n",
    "6. Knowledge Base\n",
    "7. Knowledge Base data source\n",
    "\n",
    "This might take a few minutes, so have a break!"
   ]
  },
  {
   "cell_type": "code",
   "execution_count": 35,
   "id": "efaeec57-ef8e-48f1-839e-922250db2f78",
   "metadata": {},
   "outputs": [],
   "source": [
    "knowledge_base_name = \"mortgage-agent-kb\"\n",
    "\n",
    "knowledge_base_description = \"KB containing information on mortgages\""
   ]
  },
  {
   "cell_type": "code",
   "execution_count": 36,
   "id": "037d2c4e-9906-4a4d-8188-d22c65448460",
   "metadata": {},
   "outputs": [
    {
     "name": "stdout",
     "output_type": "stream",
     "text": [
      "Creating KB mortgage-agent-kb\n",
      "========================================================================================\n",
      "Step 1 - Creating or retrieving mac-workshop-us-east-1-768823319428 S3 bucket for Knowledge Base documents\n",
      "Bucket mac-workshop-us-east-1-768823319428 already exists - retrieving it!\n",
      "========================================================================================\n",
      "Step 2 - Creating Knowledge Base Execution Role (AmazonBedrockExecutionRoleForKnowledgeBase_897) and Policies\n",
      "========================================================================================\n",
      "Step 3 - Creating OSS encryption, network and data access policies\n",
      "========================================================================================\n",
      "Step 4 - Creating OSS Collection (this step takes a couple of minutes to complete)\n",
      "{ 'ResponseMetadata': { 'HTTPHeaders': { 'connection': 'keep-alive',\n",
      "                                         'content-length': '313',\n",
      "                                         'content-type': 'application/x-amz-json-1.0',\n",
      "                                         'date': 'Fri, 04 Jul 2025 12:35:57 '\n",
      "                                                 'GMT',\n",
      "                                         'x-amzn-requestid': '3ed15a60-001a-4cf1-92e8-1270ba7110af'},\n",
      "                        'HTTPStatusCode': 200,\n",
      "                        'RequestId': '3ed15a60-001a-4cf1-92e8-1270ba7110af',\n",
      "                        'RetryAttempts': 0},\n",
      "  'createCollectionDetail': { 'arn': 'arn:aws:aoss:us-east-1:768823319428:collection/7pukpghoio3lk5oj38y0',\n",
      "                              'createdDate': 1751632557464,\n",
      "                              'id': '7pukpghoio3lk5oj38y0',\n",
      "                              'kmsKeyArn': 'auto',\n",
      "                              'lastModifiedDate': 1751632557464,\n",
      "                              'name': 'mortgage-agent-kb-897',\n",
      "                              'standbyReplicas': 'ENABLED',\n",
      "                              'status': 'CREATING',\n",
      "                              'type': 'VECTORSEARCH'}}\n",
      "7pukpghoio3lk5oj38y0.us-east-1.aoss.amazonaws.com\n",
      "Creating collection...\n",
      "Creating collection...........\n",
      "Creating collection...........\n",
      "Creating collection...........\n",
      "Creating collection...........\n",
      "Creating collection...........\n",
      "Creating collection...........\n",
      "..............................\n",
      "Collection successfully created:\n",
      "[ { 'arn': 'arn:aws:aoss:us-east-1:768823319428:collection/7pukpghoio3lk5oj38y0',\n",
      "    'collectionEndpoint': 'https://7pukpghoio3lk5oj38y0.us-east-1.aoss.amazonaws.com',\n",
      "    'createdDate': 1751632557464,\n",
      "    'dashboardEndpoint': 'https://7pukpghoio3lk5oj38y0.us-east-1.aoss.amazonaws.com/_dashboards',\n",
      "    'id': '7pukpghoio3lk5oj38y0',\n",
      "    'kmsKeyArn': 'auto',\n",
      "    'lastModifiedDate': 1751632762721,\n",
      "    'name': 'mortgage-agent-kb-897',\n",
      "    'standbyReplicas': 'ENABLED',\n",
      "    'status': 'ACTIVE',\n",
      "    'type': 'VECTORSEARCH'}]\n",
      "Opensearch serverless arn:  arn:aws:iam::768823319428:policy/AmazonBedrockOSSPolicyForKnowledgeBase_897\n",
      "Sleeping for a minute to ensure data access rules have been enforced\n",
      "========================================================================================\n",
      "Step 5 - Creating OSS Vector Index\n",
      "\n",
      "Creating index:\n",
      "{ 'acknowledged': True,\n",
      "  'index': 'mortgage-agent-kb-index-897',\n",
      "  'shards_acknowledged': True}\n",
      "========================================================================================\n",
      "Step 6 - Creating Knowledge Base\n",
      "{'type': 'VECTOR', 'vectorKnowledgeBaseConfiguration': {'embeddingModelArn': 'arn:aws:bedrock:us-east-1::foundation-model/amazon.titan-embed-text-v2:0'}}\n",
      "{ 'createdAt': datetime.datetime(2025, 7, 4, 12, 41, 36, 292561, tzinfo=tzutc()),\n",
      "  'description': 'KB containing information on mortgages',\n",
      "  'knowledgeBaseArn': 'arn:aws:bedrock:us-east-1:768823319428:knowledge-base/QJSWAYMHS5',\n",
      "  'knowledgeBaseConfiguration': { 'type': 'VECTOR',\n",
      "                                  'vectorKnowledgeBaseConfiguration': { 'embeddingModelArn': 'arn:aws:bedrock:us-east-1::foundation-model/amazon.titan-embed-text-v2:0'}},\n",
      "  'knowledgeBaseId': 'QJSWAYMHS5',\n",
      "  'name': 'mortgage-agent-kb',\n",
      "  'roleArn': 'arn:aws:iam::768823319428:role/AmazonBedrockExecutionRoleForKnowledgeBase_897',\n",
      "  'status': 'CREATING',\n",
      "  'storageConfiguration': { 'opensearchServerlessConfiguration': { 'collectionArn': 'arn:aws:aoss:us-east-1:768823319428:collection/7pukpghoio3lk5oj38y0',\n",
      "                                                                   'fieldMapping': { 'metadataField': 'text-metadata',\n",
      "                                                                                     'textField': 'text',\n",
      "                                                                                     'vectorField': 'vector'},\n",
      "                                                                   'vectorIndexName': 'mortgage-agent-kb-index-897'},\n",
      "                            'type': 'OPENSEARCH_SERVERLESS'},\n",
      "  'updatedAt': datetime.datetime(2025, 7, 4, 12, 41, 36, 292561, tzinfo=tzutc())}\n",
      "{ 'createdAt': datetime.datetime(2025, 7, 4, 12, 41, 37, 87522, tzinfo=tzutc()),\n",
      "  'dataDeletionPolicy': 'RETAIN',\n",
      "  'dataSourceConfiguration': { 's3Configuration': { 'bucketArn': 'arn:aws:s3:::mac-workshop-us-east-1-768823319428'},\n",
      "                               'type': 'S3'},\n",
      "  'dataSourceId': 'FG3MJGLTYX',\n",
      "  'description': 'KB containing information on mortgages',\n",
      "  'knowledgeBaseId': 'QJSWAYMHS5',\n",
      "  'name': 'mortgage-agent-kb',\n",
      "  'status': 'AVAILABLE',\n",
      "  'updatedAt': datetime.datetime(2025, 7, 4, 12, 41, 37, 87522, tzinfo=tzutc()),\n",
      "  'vectorIngestionConfiguration': { 'chunkingConfiguration': { 'chunkingStrategy': 'FIXED_SIZE',\n",
      "                                                               'fixedSizeChunkingConfiguration': { 'maxTokens': 512,\n",
      "                                                                                                   'overlapPercentage': 20}}}}\n",
      "========================================================================================\n",
      "Knowledge Base ID: QJSWAYMHS5\n",
      "Data Source ID: FG3MJGLTYX\n",
      "CPU times: user 981 ms, sys: 344 ms, total: 1.33 s\n",
      "Wall time: 6min 46s\n"
     ]
    }
   ],
   "source": [
    "%%time\n",
    "kb_id, ds_id = kb.create_or_retrieve_knowledge_base(\n",
    "    knowledge_base_name,\n",
    "    knowledge_base_description,\n",
    "    bucket_name\n",
    ")\n",
    "\n",
    "print(f\"Knowledge Base ID: {kb_id}\")\n",
    "print(f\"Data Source ID: {ds_id}\")\n"
   ]
  },
  {
   "cell_type": "code",
   "execution_count": null,
   "id": "4cfe1661-5d26-42fd-bae1-4878e03f33b0",
   "metadata": {},
   "outputs": [],
   "source": []
  },
  {
   "cell_type": "markdown",
   "id": "707b2060-eb80-477e-a274-3ac2578781cc",
   "metadata": {},
   "source": [
    "Now that we have created a knowledge base, let's populate it with some mortgage knowledge. For this workshop we have two comprehensive articles from Investopedia.com for illustrative purposes.\n",
    "\n",
    "The Knowledge Base data source expects the data to be available on the S3 bucket connected to it and changes on the data can be syncronized to the knowledge base using the Ingest API call.  Lets upload the files to the s3 bucket"
   ]
  },
  {
   "cell_type": "code",
   "execution_count": 37,
   "id": "b063a522",
   "metadata": {},
   "outputs": [],
   "source": [
    "# function to upload to S3 bucket\n",
    "import boto3\n",
    "\n",
    "def upload_file_to_s3(file_path, bucket_name, object_key=None):\n",
    "    \"\"\"Upload a file to S3 bucket\"\"\"\n",
    "    s3_client = boto3.client('s3')\n",
    "    \n",
    "    # Check if bucket exists, create if not\n",
    "    existing_buckets = [bucket['Name'] for bucket in s3_client.list_buckets()['Buckets']]\n",
    "    if bucket_name not in existing_buckets:\n",
    "        s3_client.create_bucket(Bucket=bucket_name)\n",
    "    \n",
    "    if object_key is None:\n",
    "        object_key = file_path.split('/')[-1]\n",
    "    \n",
    "    s3_client.upload_file(file_path, bucket_name, object_key)\n",
    "    return f\"s3://{bucket_name}/{object_key}\"\n"
   ]
  },
  {
   "cell_type": "code",
   "execution_count": 38,
   "id": "5b2d04e4-d95e-47d4-8be8-d7399c4d4bd7",
   "metadata": {},
   "outputs": [
    {
     "data": {
      "text/plain": [
       "\"s3://mac-workshop-us-east-1-768823319428/15-Year vs. 30-Year Mortgage What's the Difference .html\""
      ]
     },
     "execution_count": 38,
     "metadata": {},
     "output_type": "execute_result"
    }
   ],
   "source": [
    "upload_file_to_s3(\"mortgage_dataset/15-Year vs. 30-Year Mortgage What's the Difference .html\", bucket_name,\"15-Year vs. 30-Year Mortgage What's the Difference .html\")"
   ]
  },
  {
   "cell_type": "code",
   "execution_count": 39,
   "id": "16c89668-293c-4ddf-ac58-6c9c901c73a7",
   "metadata": {},
   "outputs": [
    {
     "data": {
      "text/plain": [
       "'s3://mac-workshop-us-east-1-768823319428/Mortgage Refinancing When Does It Make Sense .html'"
      ]
     },
     "execution_count": 39,
     "metadata": {},
     "output_type": "execute_result"
    }
   ],
   "source": [
    "upload_file_to_s3(\"mortgage_dataset/Mortgage Refinancing When Does It Make Sense .html\", bucket_name,\"Mortgage Refinancing When Does It Make Sense .html\")"
   ]
  },
  {
   "cell_type": "markdown",
   "id": "49496fd1-de36-431e-a7d5-12852844ba03",
   "metadata": {},
   "source": [
    "Now we ingest the documents, which chunks the source documents and stores an embedding for each chunk into the underying knowledge base vector store. For a simple example, this ingestion takes a couple minutes."
   ]
  },
  {
   "cell_type": "code",
   "execution_count": 40,
   "id": "870811ef-78f1-41f3-9e8e-0ac0c9462db8",
   "metadata": {},
   "outputs": [
    {
     "name": "stdout",
     "output_type": "stream",
     "text": [
      "{ 'dataSourceId': 'FG3MJGLTYX',\n",
      "  'ingestionJobId': 'ZJMABFWITH',\n",
      "  'knowledgeBaseId': 'QJSWAYMHS5',\n",
      "  'startedAt': datetime.datetime(2025, 7, 4, 12, 42, 44, 663642, tzinfo=tzutc()),\n",
      "  'statistics': { 'numberOfDocumentsDeleted': 0,\n",
      "                  'numberOfDocumentsFailed': 0,\n",
      "                  'numberOfDocumentsScanned': 0,\n",
      "                  'numberOfMetadataDocumentsModified': 0,\n",
      "                  'numberOfMetadataDocumentsScanned': 0,\n",
      "                  'numberOfModifiedDocumentsIndexed': 0,\n",
      "                  'numberOfNewDocumentsIndexed': 0},\n",
      "  'status': 'STARTING',\n",
      "  'updatedAt': datetime.datetime(2025, 7, 4, 12, 42, 44, 663642, tzinfo=tzutc())}\n",
      "{ 'dataSourceId': 'FG3MJGLTYX',\n",
      "  'ingestionJobId': 'ZJMABFWITH',\n",
      "  'knowledgeBaseId': 'QJSWAYMHS5',\n",
      "  'startedAt': datetime.datetime(2025, 7, 4, 12, 42, 44, 663642, tzinfo=tzutc()),\n",
      "  'statistics': { 'numberOfDocumentsDeleted': 0,\n",
      "                  'numberOfDocumentsFailed': 0,\n",
      "                  'numberOfDocumentsScanned': 3,\n",
      "                  'numberOfMetadataDocumentsModified': 0,\n",
      "                  'numberOfMetadataDocumentsScanned': 0,\n",
      "                  'numberOfModifiedDocumentsIndexed': 0,\n",
      "                  'numberOfNewDocumentsIndexed': 3},\n",
      "  'status': 'COMPLETE',\n",
      "  'updatedAt': datetime.datetime(2025, 7, 4, 12, 43, 3, 203177, tzinfo=tzutc())}\n",
      "KB synchronization completed\n",
      "\n",
      "CPU times: user 73.6 ms, sys: 20.2 ms, total: 93.7 ms\n",
      "Wall time: 28.7 s\n"
     ]
    }
   ],
   "source": [
    "%%time\n",
    "# Start an ingestion job to synchronize data\n",
    "kb.synchronize_data(kb_id, ds_id)\n",
    "print('KB synchronization completed\\n')"
   ]
  },
  {
   "cell_type": "markdown",
   "id": "05a1b88c-e49c-419f-adb9-945e9eb6f5f3",
   "metadata": {},
   "source": [
    "### Test the Knowledge Base\n",
    "Now the Knowledge Base is available we can test it out using the [**retrieve**](https://boto3.amazonaws.com/v1/documentation/api/latest/reference/services/bedrock-agent-runtime/client/retrieve.html) and [**retrieve_and_generate**](https://boto3.amazonaws.com/v1/documentation/api/latest/reference/services/bedrock-agent-runtime/client/retrieve_and_generate.html) functions. \n",
    "\n",
    "#### Testing Knowledge Base with Retrieve and Generate API\n",
    "\n",
    "Let's first test the knowledge base using the retrieve and generate API. With this API, Bedrock takes care of retrieving the necessary references from the knowledge base and generating the final answer using a Bedrock LLM."
   ]
  },
  {
   "cell_type": "code",
   "execution_count": 44,
   "id": "1c99ad63-2f09-46ff-9683-237fa7dffe4d",
   "metadata": {},
   "outputs": [
    {
     "name": "stdout",
     "output_type": "stream",
     "text": [
      "A 15-year and 30-year mortgage differ primarily in their loan term and monthly payment structure. Most homebuyers choose a 30-year mortgage, which offers lower monthly payments and makes homeownership more affordable. In contrast, a 15-year mortgage requires higher monthly payments but provides significant long-term financial advantages. With a 15-year mortgage, you'll pay substantially higher monthly payments - approximately 38% more than a 30-year mortgage. However, the trade-off is that you'll save thousands of dollars in interest over the life of the loan. For example, a 15-year loan might have a monthly payment of $2,108 compared to a 30-year loan's $1,432. The key differences are in how the payments are structured. In the early years of a mortgage, most of your payment goes toward interest. As the loan balance decreases, more of your payment goes toward the principal. A shorter-term loan like a 15-year mortgage accelerates this process, making the loan cheaper overall. Choosing between a 15-year and 30-year mortgage depends on your financial goals. If you can afford higher monthly payments and want to pay off your mortgage faster, a 15-year loan might be best. If you prefer lower monthly payments that provide more financial flexibility, a 30-year mortgage could be more suitable. Some financial experts recommend considering your proximity to retirement and ability to maintain a rainy day fund when making this decision.\n",
      "\n"
     ]
    }
   ],
   "source": [
    "response = bedrock_agent_runtime_client.retrieve_and_generate(\n",
    "    input={\n",
    "        \"text\": \"compare and contrast 15-year vs 30-year mortgage type\"\n",
    "    },\n",
    "    retrieveAndGenerateConfiguration={\n",
    "        \"type\": \"KNOWLEDGE_BASE\",\n",
    "        \"knowledgeBaseConfiguration\": {\n",
    "            'knowledgeBaseId': kb_id,\n",
    "            \"modelArn\": f\"arn:aws:bedrock:{region}:{account_id}:inference-profile/{agent_foundation_model[0]}\",\n",
    "            \"retrievalConfiguration\": {\n",
    "                \"vectorSearchConfiguration\": {\n",
    "                    \"numberOfResults\":5\n",
    "                } \n",
    "            }\n",
    "        }\n",
    "    }\n",
    ")\n",
    "\n",
    "print(response['output']['text'],end='\\n'*2)"
   ]
  },
  {
   "cell_type": "markdown",
   "id": "e22c732f-37ab-4bd7-92d3-34d01cdd848f",
   "metadata": {},
   "source": [
    "As you can see, with the retrieve and generate API we get the final response directly and we don't see the different sources used to generate this response. Let's now retrieve the source information from the knowledge base with the retrieve API.\n",
    "\n",
    "**Testing Knowledge Base with Retrieve API**\n",
    "\n",
    "If you need an extra layer of control, you can retrieve the chuncks that best match your query using the retrieve API. In this setup, we can configure the desired number of results and control the final answer with your own application logic. The API then provides you with the matching content, its S3 location, the similarity score and the chunk metadata."
   ]
  },
  {
   "cell_type": "code",
   "execution_count": 45,
   "id": "4c913eb6-4d29-4479-8426-4e45f1660fb9",
   "metadata": {},
   "outputs": [
    {
     "name": "stdout",
     "output_type": "stream",
     "text": [
      "-----------------------------------------------------------------------------------------\n",
      "Chunk 1:  The 15-Year vs. 30-Year Mortgage Dilemma Interest Rates and Payments - 15-year mortgages generally have lower interest rates compared to 30-year mortgages, but the monthly payments are higher due to the shorter loan term. - 30-year mortgages have higher interest rates but lower monthly payments, making them more accessible for some homeowners.  Total Interest Paid - Over the life of the loan, a 15-year mortgage will result in significantly less interest paid compared to a 30-year mortgage, even with a higher interest rate. - For example, on a $300,000 mortgage, a 15-year loan at 4.5% would result in $87,000 in total interest paid, while a 30-year loan at 5% would result in $215,000 in total interest paid.  Equity Building and Wealth Accumulation - 15-year mortgages allow homeowners to build equity in their homes at a faster rate, potentially leading to greater wealth accumulation over time. - 30-year mortgages, while offering lower monthly payments, result in a slower pace of equity buildup, potentially limiting the homeowner's ability to leverage their home's value for future financial goals.  Flexibility and Cash Flow - 30-year mortgages provide more flexibility in monthly cash flow, as the lower payments can free up funds for other financial priorities. - 15-year mortgages, with their higher monthly payments, may be more challenging for some homeowners to manage, particularly in the face of unexpected expenses or financial constraints.  Conclusion Refinancing a mortgage and choosing between a 15-year or 30-year mortgage are complex decisions that require careful consideration of your financial goals, risk tolerance, and long-term plans. By weighing the pros and cons of each option, homeowners can make an informed decision that aligns with their unique circumstances and financial objectives.\n",
      "\n",
      "Chunk 1 Location:  {'s3Location': {'uri': 's3://mac-workshop-us-east-1-768823319428/kb.txt'}, 'type': 'S3'}\n",
      "\n",
      "Chunk 1 Score:  0.62681514\n",
      "\n",
      "Chunk 1 Metadata:  {'x-amz-bedrock-kb-source-uri': 's3://mac-workshop-us-east-1-768823319428/kb.txt', 'x-amz-bedrock-kb-chunk-id': '1%3A0%3Acx121ZcB0Uex7aoNAa2O', 'x-amz-bedrock-kb-data-source-id': 'FG3MJGLTYX'}\n",
      "\n",
      "-----------------------------------------------------------------------------------------\n",
      "Chunk 2:  15-Year vs. 30-Year Mortgage: What's the Difference? By clicking \"Accept All Cookies\", you agree to the storing of cookies on your device to enhance site navigation, analyze site usage, and assist in our marketing efforts. Cookies Settings Accept All Cookies Table of Contents Expand Table of Contents * An Overview * How Mortgage Terms Impact Cost * 30-Year Mortgage * 15-Year Mortgage * Special Considerations * A Best-of-Both-Worlds Option * FAQs * The Bottom Line * Personal Finance * Mortgage ## 15-Year vs. 30-Year Mortgage: An Overview Fifteen-year and 30-year mortgages are structurally similar---the main difference is the term. While a 30-year mortgage can make your monthly payments more affordable, a 15-year mortgage generally costs less in the long run. Most homebuyers choose a 30-year home loan. The 30-year fixed-rate mortgage is practically an American archetype, the apple pie of financial instruments. It is the path that generations of Americans have taken to first-time homeownership. But many of those buyers might have been better served if they had opted for a 15-year fixed-rate mortgage instead. Though the monthly payments might be higher, they could save thousands in interest. ### Key Takeaways * Most homebuyers choose a 30-year fixed-rate mortgage, but a 15-year mortgage can be a good choice for some. * A 30-year mortgage can make your monthly payments more affordable. * While monthly payments on a 15-year mortgage are higher, the cost of the loan is less in the long run. ## How Mortgage Terms Affect Cost A mortgage](https://www.investopedia.com/terms/m/mortgage.asp) is simply a particular type of term loan---one secured by real property. For a term loan, the borrower pays interest calculated on an annual basis against the outstanding balance of the loan. Both the [interest rate and monthly payment are fixed. Because the monthly payment is fixed, the portion going to pay interest and the portion going to pay principal change over time. In the beginning, because the loan balance is so high, most of the payment is interest. But as the balance gets smaller, the interest share of the payment declines, and the share going to principal increases. A shorter-term loan means a higher monthly payment, which makes the 15-year mortgage seem less affordable. But the shorter term makes the loan cheaper on several fronts.\n",
      "\n",
      "Chunk 2 Location:  {'s3Location': {'uri': \"s3://mac-workshop-us-east-1-768823319428/15-Year vs. 30-Year Mortgage What's the Difference .html\"}, 'type': 'S3'}\n",
      "\n",
      "Chunk 2 Score:  0.61858475\n",
      "\n",
      "Chunk 2 Metadata:  {'x-amz-bedrock-kb-source-uri': \"s3://mac-workshop-us-east-1-768823319428/15-Year vs. 30-Year Mortgage What's the Difference .html\", 'x-amz-bedrock-kb-chunk-id': '1%3A0%3AdNJ21ZcBM_WkCer3Awek', 'x-amz-bedrock-kb-data-source-id': 'FG3MJGLTYX'}\n",
      "\n",
      "-----------------------------------------------------------------------------------------\n",
      "Chunk 3:  Refinancing a Mortgage: Exploring the 15-Year vs. 30-Year Dilemma  Introduction Refinancing a mortgage can be a strategic financial move, offering homeowners the opportunity to potentially lower their interest rates, adjust their loan terms, or access the equity in their homes. When considering a refinance, one of the critical decisions homeowners face is whether to opt for a 15-year or a 30-year mortgage. This document will explore the pros and cons of refinancing, as well as the key differences between these two mortgage options.  The Refinancing Decision Reasons to Refinance - Lower interest rates: If current market rates are lower than the rate on your existing mortgage, refinancing can result in significant interest savings over the life of the loan. - Shorten loan term: Refinancing can allow you to transition from a 30-year mortgage to a 15-year mortgage, potentially saving you thousands in interest payments. - Access home equity: Refinancing can enable you to tap into the equity you've built in your home, providing funds for home improvements, debt consolidation, or other financial goals. - Adjust loan type: Homeowners may choose to refinance from an adjustable-rate mortgage (ARM) to a fixed-rate mortgage, or vice versa, depending on their financial needs and market conditions.  Potential Drawbacks of Refinancing - Closing costs: Refinancing typically comes with closing costs, which can range from 2% to 5% of the loan amount. These upfront costs should be factored into the decision. - Resetting the loan term: When refinancing, the loan term is reset, meaning you'll be starting a new 15-year or 30-year mortgage. This can extend the overall time it takes to pay off the loan. - Potential for longer repayment: Refinancing from a 15-year mortgage to a 30-year mortgage can result in a lower monthly payment but a longer repayment period and more interest paid over the life of the loan.  The 15-Year vs. 30-Year Mortgage Dilemma Interest Rates and Payments - 15-year mortgages generally have lower interest rates compared to 30-year mortgages, but the monthly payments are higher due to the shorter loan term. - 30-year mortgages have higher interest rates but lower monthly payments, making them more accessible for some homeowners.\n",
      "\n",
      "Chunk 3 Location:  {'s3Location': {'uri': 's3://mac-workshop-us-east-1-768823319428/kb.txt'}, 'type': 'S3'}\n",
      "\n",
      "Chunk 3 Score:  0.571745\n",
      "\n",
      "Chunk 3 Metadata:  {'x-amz-bedrock-kb-source-uri': 's3://mac-workshop-us-east-1-768823319428/kb.txt', 'x-amz-bedrock-kb-chunk-id': '1%3A0%3Ach121ZcB0Uex7aoNAa2N', 'x-amz-bedrock-kb-data-source-id': 'FG3MJGLTYX'}\n",
      "\n"
     ]
    }
   ],
   "source": [
    " response_ret = bedrock_agent_runtime_client.retrieve(\n",
    "    knowledgeBaseId=kb_id, \n",
    "    nextToken='string',\n",
    "    retrievalConfiguration={\n",
    "        \"vectorSearchConfiguration\": {\n",
    "            \"numberOfResults\":3,\n",
    "        } \n",
    "    },\n",
    "    retrievalQuery={\n",
    "        'text': 'What are the cons of a 15-year mortgage?'\n",
    "    }\n",
    ")\n",
    "\n",
    "def response_print(retrieve_resp):\n",
    "    #structure 'retrievalResults': list of contents. Each list has content, location, score, metadata\n",
    "    for num,chunk in enumerate(response_ret['retrievalResults'],1):\n",
    "        print('-----------------------------------------------------------------------------------------')\n",
    "        print(f'Chunk {num}: ',chunk['content']['text'],end='\\n'*2)\n",
    "        print(f'Chunk {num} Location: ',chunk['location'],end='\\n'*2)\n",
    "        print(f'Chunk {num} Score: ',chunk['score'],end='\\n'*2)\n",
    "        print(f'Chunk {num} Metadata: ',chunk['metadata'],end='\\n'*2)\n",
    "\n",
    "response_print(response_ret)"
   ]
  },
  {
   "cell_type": "markdown",
   "id": "cad86a15-cae7-4e7e-88ec-709dbdb22331",
   "metadata": {},
   "source": [
    "Store knowledge base ID and name for subsequent labs"
   ]
  },
  {
   "cell_type": "code",
   "execution_count": 46,
   "id": "21df0402-27e0-490f-92fb-48e4e4fba39d",
   "metadata": {},
   "outputs": [
    {
     "name": "stdout",
     "output_type": "stream",
     "text": [
      "Stored 'kb_id' (str)\n",
      "Stored 'knowledge_base_name' (str)\n"
     ]
    }
   ],
   "source": [
    "%store kb_id\n",
    "%store knowledge_base_name"
   ]
  },
  {
   "cell_type": "code",
   "execution_count": null,
   "id": "57b43cf2-a65e-4f35-aea3-6d78068beb44",
   "metadata": {},
   "outputs": [],
   "source": []
  },
  {
   "cell_type": "markdown",
   "id": "9d2c515b",
   "metadata": {},
   "source": [
    "In this lab, we created a knowledge base that will be used by one of the agents to answers queries on mortgage. In the next lab, we will create two more agents that can achieve specific tasks. "
   ]
  },
  {
   "cell_type": "code",
   "execution_count": null,
   "id": "e2563a96-6a8f-468c-afd4-6ab1c8e0e52a",
   "metadata": {},
   "outputs": [],
   "source": []
  }
 ],
 "metadata": {
  "kernelspec": {
   "display_name": "Python 3 (ipykernel)",
   "language": "python",
   "name": "python3"
  },
  "language_info": {
   "codemirror_mode": {
    "name": "ipython",
    "version": 3
   },
   "file_extension": ".py",
   "mimetype": "text/x-python",
   "name": "python",
   "nbconvert_exporter": "python",
   "pygments_lexer": "ipython3",
   "version": "3.12.7"
  }
 },
 "nbformat": 4,
 "nbformat_minor": 5
}
