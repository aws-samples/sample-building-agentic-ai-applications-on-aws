{
 "cells": [
  {
   "cell_type": "markdown",
   "id": "813542ae-faa0-4b4e-9935-c09581810d2f",
   "metadata": {},
   "source": [
    "## Supervisor Agent"
   ]
  },
  {
   "cell_type": "markdown",
   "id": "47c8cea8-d35c-47db-8e5a-6149f105169d",
   "metadata": {},
   "source": [
    "In the previous notebooks you have created different worker agents that do specialised tasks such as opening a new loan application or answering questions on existing loan application. In this notebook, you will create a supervisor agent that can delegate a user question to the appropriate agent"
   ]
  },
  {
   "cell_type": "markdown",
   "id": "6d1f80a2",
   "metadata": {},
   "source": [
    "We begin by importing the libraries"
   ]
  },
  {
   "cell_type": "code",
   "execution_count": null,
   "id": "de079de3-efb6-43bf-beff-cea056850a97",
   "metadata": {},
   "outputs": [],
   "source": [
    "import os\n",
    "import time\n",
    "import boto3\n",
    "import logging\n",
    "import botocore\n",
    "import json\n",
    "from textwrap import dedent\n",
    "import sys\n",
    "\n",
    "sys.path.insert(0, '..') \n",
    "\n",
    "sts_client = boto3.client('sts')\n",
    "session = boto3.session.Session()\n",
    "\n",
    "account_id = sts_client.get_caller_identity()[\"Account\"]\n",
    "region = session.region_name\n",
    "\n",
    "from src.utils.secrets_helper import SecretsHelper\n",
    "secrets_helper = SecretsHelper(region_name=region)"
   ]
  },
  {
   "cell_type": "markdown",
   "id": "96018e53",
   "metadata": {},
   "source": [
    "We use Anthropic Claude 3.5 Haiku model for this lab"
   ]
  },
  {
   "cell_type": "code",
   "execution_count": null,
   "id": "2e79386b-d639-4894-96d1-cb5180e2fc73",
   "metadata": {},
   "outputs": [],
   "source": [
    "agent_foundation_model = [\"anthropic.claude-3-5-haiku-20241022-v1:0\"]"
   ]
  },
  {
   "cell_type": "code",
   "execution_count": null,
   "id": "bbc8eabc-65ef-4f3f-ab2c-56d6b92c964b",
   "metadata": {},
   "outputs": [],
   "source": [
    "#retrieve knowledgebase id and name\n",
    "%store -r kb_id\n",
    "%store -r knowledge_base_name"
   ]
  },
  {
   "cell_type": "markdown",
   "id": "056cef22-60fc-4fe0-96c8-ae81cbb4f66c",
   "metadata": {},
   "source": [
    "### Importing helper functions\n",
    "\n",
    "On following section, we're adding `bedrock_agent_helper.py` on Python path, so the files can be recognized and their functionalities can be invoked.\n",
    "\n",
    "Now, you're going to import from helper classes `bedrock_agent_helper.py`.\n",
    " \n",
    "Those files contain helper classes totally focused on make labs experience smoothly. \n",
    "\n",
    "All interactions with Bedrock will be handled by these classes.\n",
    "\n",
    "Following are methods that you're going to invoke on this lab:\n",
    "\n",
    "On `agents.py`:\n",
    "\n",
    "- `create_agent`: Create a new agent and respective IAM roles\n",
    "- `associate_agents`: Associate sub-agents with multi-agent collaborator"
   ]
  },
  {
   "cell_type": "code",
   "execution_count": null,
   "id": "76df046e-f424-4c2f-8241-2fd2528a857b",
   "metadata": {},
   "outputs": [],
   "source": [
    "from src.utils.bedrock_agent import AgentsForAmazonBedrock\n",
    "\n",
    "agents = AgentsForAmazonBedrock()"
   ]
  },
  {
   "cell_type": "code",
   "execution_count": null,
   "id": "8169e697-90f9-4500-bfe7-cfb44a7104a7",
   "metadata": {},
   "outputs": [],
   "source": [
    "mortgages_assistant_name = \"MortgagesAssistant\"\n",
    "\n",
    "agent_description = \"\"\"Provide a unified conversational experience for all things related to mortgages.\"\"\"\n",
    "\n",
    "agent_instruction = f\"\"\"\n",
    "Act as a helpful mortgages assistant, allowing seamless conversations across a few\n",
    "different domains: current mortgages, new mortgage applications, and general mortgage knowledge.\n",
    "For general mortgage knowledge, you use the {knowledge_base_name} knowledge base.\n",
    "If asked for a complicated calculation, use your code interpreter to be sure it's done accurately.\n",
    "Resist the temptation to ask the user for input. Only do so after you have exhausted available actions. \n",
    "Never ask the user for information that you already can retrieve yourself through available actions.\"\"\""
   ]
  },
  {
   "cell_type": "markdown",
   "id": "f0e17eb3-1253-4d95-b699-ddacab01cd34",
   "metadata": {},
   "source": [
    "To assign supervisor role to the agent we set the agent_collaboration paramter.\n",
    "\n",
    "Specify SUPERVISOR_ROUTER if you want supervisor agent to route information to the appropriate collaborator agent to send the final response.\n",
    "\n",
    "The Supervisor agent plays a crucial role in multi-agent collaboration systems. It acts as a central coordinator, overseeing the activities of other specialized agents and ensuring cohesive, goal-oriented outcomes. The Supervisor's primary function is to manage task allocation, monitor progress, and integrate results from various agents."
   ]
  },
  {
   "cell_type": "code",
   "execution_count": null,
   "id": "f5bf51ee-b859-4626-9be5-1b4664084c12",
   "metadata": {},
   "outputs": [],
   "source": [
    "agents = AgentsForAmazonBedrock()\n",
    "\n",
    "mortgages_assistant = agents.create_agent(\n",
    "    mortgages_assistant_name,\n",
    "    agent_description,\n",
    "    agent_instruction,\n",
    "    agent_foundation_model,\n",
    "    agent_collaboration='SUPERVISOR_ROUTER'\n",
    ")\n",
    "\n",
    "mortgages_assistant_agent_id = mortgages_assistant[0]\n",
    "\n",
    "print(\"Agent created with ID: \",mortgages_assistant_agent_id)"
   ]
  },
  {
   "cell_type": "markdown",
   "id": "86f1dbbb-7a28-4b2a-8b17-02bee306697e",
   "metadata": {},
   "source": [
    "### Associate Collaborators\n",
    "\n",
    "In this section, we're going to recover alias_id from previous agents (sub-agents) to add all of them to the multi-agent collaboration team."
   ]
  },
  {
   "cell_type": "code",
   "execution_count": null,
   "id": "5b03659d-5154-43cc-94bd-9cdcde6f4375",
   "metadata": {},
   "outputs": [],
   "source": [
    "%store -r\n",
    "mortgage_application_agent_alias_arn, general_mortgage_questions_agent_alias_arn, existing_mortgage_agent_alias_arn"
   ]
  },
  {
   "cell_type": "code",
   "execution_count": null,
   "id": "9c0aa618-d610-4099-8bb3-409508626a6c",
   "metadata": {},
   "outputs": [],
   "source": [
    "sub_agents_list = [\n",
    "    {\n",
    "        'sub_agent_alias_arn': mortgage_application_agent_alias_arn,\n",
    "        'sub_agent_instruction': \"\"\"use this collaborator for discussing the application process for new mortgages\n",
    "                and for getting the most recent interest rates available for new mortgages. Do not pick this collaborator for general mortgage knowledge like guidance about refinancing, \n",
    "                or tradeoffs between mortgage types. instead use the general-mortgage-kb knowledge base for those.\"\"\",\n",
    "        'sub_agent_association_name': 'MortgageApplicationAgent',\n",
    "        'relay_conversation_history': 'TO_COLLABORATOR'\n",
    "    },\n",
    "    {\n",
    "        'sub_agent_alias_arn': general_mortgage_questions_agent_alias_arn,\n",
    "        'sub_agent_instruction': \"\"\"Use this collaborator for discussing general mortgage questions.\"\"\",\n",
    "        'sub_agent_association_name': 'GeneralMortgageQuestionsAgent',\n",
    "        'relay_conversation_history': 'TO_COLLABORATOR'\n",
    "    },\n",
    "    {\n",
    "        'sub_agent_alias_arn': existing_mortgage_agent_alias_arn,\n",
    "        'sub_agent_instruction': \"\"\"Use this collaborator for discussing existing mortgages.\n",
    "                Do not pick this collaborator for general mortgage knowledge like guidance about refinancing, \n",
    "                or tradeoffs between mortgage types. instead use the general-mortgage-kb knowledge base for those.\"\"\",\n",
    "        'sub_agent_association_name': 'ExistingMortgageAgent',\n",
    "        'relay_conversation_history': 'TO_COLLABORATOR'\n",
    "    }\n",
    "]"
   ]
  },
  {
   "cell_type": "markdown",
   "id": "f4e852d2-0b83-4f81-8c0d-dabbb902ae1a",
   "metadata": {},
   "source": [
    "Associate all sub-agents with the supervisor agent"
   ]
  },
  {
   "cell_type": "code",
   "execution_count": null,
   "id": "99baaffc-6565-4aa5-b395-f7a6a36c9416",
   "metadata": {},
   "outputs": [],
   "source": [
    "mortgages_assistant_alias_id, mortgages_assistant_alias_arn = agents.associate_sub_agents(\n",
    "    mortgages_assistant_agent_id, sub_agents_list\n",
    ")\n",
    "mortgages_assistant_id = mortgages_assistant_alias_arn.split('/')[1]"
   ]
  },
  {
   "cell_type": "code",
   "execution_count": null,
   "id": "ed11fbdd-f6b8-4dc3-8af5-1ae5e37e004d",
   "metadata": {},
   "outputs": [],
   "source": [
    "mortgages_assistant_alias_id"
   ]
  },
  {
   "cell_type": "code",
   "execution_count": null,
   "id": "39785145-4eab-4f4a-bcea-ea4d3f55b347",
   "metadata": {},
   "outputs": [],
   "source": [
    "%store -r secret_name\n",
    "secrets_helper.manage_secret(\"mortgages_assistant_id\", mortgages_assistant_id,secret_name)\n",
    "secrets_helper.manage_secret(\"mortgages_assistant_alias\", mortgages_assistant_alias_id,secret_name)"
   ]
  },
  {
   "cell_type": "code",
   "execution_count": null,
   "id": "3cfaf8a4-cda8-4af6-a38a-96232d49346c",
   "metadata": {},
   "outputs": [],
   "source": []
  },
  {
   "cell_type": "code",
   "execution_count": null,
   "id": "1ba7f1ac-8ffe-4dbb-806e-7b5f8ac9a3d5",
   "metadata": {},
   "outputs": [],
   "source": [
    "#test the supervisor agent"
   ]
  },
  {
   "cell_type": "code",
   "execution_count": null,
   "id": "aa2cb68d-3bd0-4e3e-9fa4-2e9e794a38c7",
   "metadata": {},
   "outputs": [],
   "source": [
    "#test\n",
    "\n",
    "response = agents.invoke(\n",
    "    \"\"\"Hi, I am customer 3324, what’s my balance after that payment, and what rate am I paying?\"\"\", \n",
    "    mortgages_assistant_id, enable_trace=False\n",
    ")\n",
    "print(\"====================\")\n",
    "print(response)"
   ]
  },
  {
   "cell_type": "code",
   "execution_count": null,
   "id": "30b6e714-d7f6-4aaf-8894-63cde6aeeb32",
   "metadata": {},
   "outputs": [],
   "source": []
  }
 ],
 "metadata": {
  "kernelspec": {
   "display_name": "Python 3 (ipykernel)",
   "language": "python",
   "name": "python3"
  },
  "language_info": {
   "codemirror_mode": {
    "name": "ipython",
    "version": 3
   },
   "file_extension": ".py",
   "mimetype": "text/x-python",
   "name": "python",
   "nbconvert_exporter": "python",
   "pygments_lexer": "ipython3",
   "version": "3.12.7"
  }
 },
 "nbformat": 4,
 "nbformat_minor": 5
}
