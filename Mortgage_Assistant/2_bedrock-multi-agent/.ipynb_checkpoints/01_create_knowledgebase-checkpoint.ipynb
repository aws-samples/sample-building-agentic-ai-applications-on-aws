{
 "cells": [
  {
   "cell_type": "raw",
   "id": "47aaddce-1d67-407f-a360-9873be52d5a4",
   "metadata": {
    "vscode": {
     "languageId": "raw"
    }
   },
   "source": [
    "Lab 2 - part 1 - Create a Knowledge Base"
   ]
  },
  {
   "cell_type": "markdown",
   "id": "46f3175c",
   "metadata": {},
   "source": [
    "Let's start by creating a [Knowledge Base for Amazon Bedrock](https://aws.amazon.com/bedrock/knowledge-bases/) \n",
    "to provide knowledge about mortgages. In this notebook, we will create a knowledge base using the content available in the mortgage_dataset folder. This knowledge base will be used to answer general QnA.  As a challenge, see if you can include more data sources "
   ]
  },
  {
   "cell_type": "markdown",
   "id": "f10b7461",
   "metadata": {},
   "source": [
    "Step 1: Import libraries and helper functions"
   ]
  },
  {
   "cell_type": "code",
   "execution_count": null,
   "id": "de079de3-efb6-43bf-beff-cea056850a97",
   "metadata": {},
   "outputs": [],
   "source": [
    "import os\n",
    "import time\n",
    "import boto3\n",
    "import logging\n",
    "import botocore\n",
    "import json\n",
    "from textwrap import dedent\n",
    "\n",
    "%load_ext autoreload\n",
    "%autoreload 2"
   ]
  },
  {
   "cell_type": "markdown",
   "id": "20333837-76b5-4699-8fb3-260829df8098",
   "metadata": {},
   "source": [
    "In the following cell, we add `bedrock_agent_helper.py` and `knowledge_base_helper` on Python path.\n",
    "\n",
    "These file contain helper classes focused on making labs experience smooth. \n",
    "\n",
    "All interactions with Bedrock will be handled by these classes.\n",
    "\n",
    "Following methods will be used in this lab:\n",
    "\n",
    "On `agents.py`:\n",
    "- `create_agent`: Create a new agent and respective IAM roles\n",
    "- `add_action_group_with_lambda`: Create a lambda function and add it as an action group for a previous created agent\n",
    "- `create_agent_alias`: Create an alias for this agent\n",
    "- `invoke`: Execute agent\n",
    "\n",
    "On `knowledge_bases.py`:\n",
    "- `create_or_retrieve_knowledge_base`: Create Knowledge Base on Amazon Bedrock if it doesn't exist or get info about previous created.\n",
    "- `synchronize_data`: Read files on S3, convert text info into vectors and add that information on Vector Database."
   ]
  },
  {
   "cell_type": "code",
   "execution_count": null,
   "id": "560e3292-1e89-4014-bcd4-29241b82c961",
   "metadata": {},
   "outputs": [],
   "source": [
    "import sys\n",
    "sys.path.insert(0, '..') \n",
    "\n",
    "from src.utils.bedrock_agent import AgentsForAmazonBedrock\n",
    "\n",
    "from src.utils.knowledge_base_helper import KnowledgeBasesForAmazonBedrock\n",
    "\n",
    "agents = AgentsForAmazonBedrock()\n",
    "kb = KnowledgeBasesForAmazonBedrock()"
   ]
  },
  {
   "cell_type": "markdown",
   "id": "ae64d94a",
   "metadata": {},
   "source": [
    "Create boto3 clients"
   ]
  },
  {
   "cell_type": "code",
   "execution_count": null,
   "id": "02ad6143-fde8-4ecf-88a5-ba333d722b35",
   "metadata": {},
   "outputs": [],
   "source": [
    "s3_client = boto3.client('s3')\n",
    "sts_client = boto3.client('sts')\n",
    "bedrock_agent_runtime_client = boto3.client('bedrock-agent-runtime')"
   ]
  },
  {
   "cell_type": "markdown",
   "id": "a93fa5a8",
   "metadata": {},
   "source": [
    "Get the region and bucket name. The bucket will be created if its not present already."
   ]
  },
  {
   "cell_type": "code",
   "execution_count": null,
   "id": "2e79386b-d639-4894-96d1-cb5180e2fc73",
   "metadata": {},
   "outputs": [],
   "source": [
    "region = boto3.session.Session().region_name\n",
    "account_id = sts_client.get_caller_identity()[\"Account\"]\n",
    "suffix = f\"{region}-{account_id}\"\n",
    "bucket_name = f'mac-workshop-{suffix}'"
   ]
  },
  {
   "cell_type": "code",
   "execution_count": null,
   "id": "24a281a6-d3b3-4cd4-8ddc-87b46225a8ef",
   "metadata": {},
   "outputs": [],
   "source": [
    "agent_foundation_model = [\"anthropic.claude-3-5-haiku-20241022-v1:0\"]"
   ]
  },
  {
   "cell_type": "markdown",
   "id": "8ec63db8-5b50-46e6-9ace-729b60d240f8",
   "metadata": {},
   "source": [
    "### Create Knowledge Base \n",
    " We will now create the knowledge base with Amazon OpenSearch Serverless as the vector store. To do so, we will use the helper class `KnowledgeBasesForAmazonBedrock` which creates the knowledge base and all of its prerequisites:\n",
    "1. IAM roles and policies\n",
    "2. S3 bucket\n",
    "3. Amazon OpenSearch Serverless encryption, network and data access policies\n",
    "4. Amazon OpenSearch Serverless collection\n",
    "5. Amazon OpenSearch Serverless vector index\n",
    "6. Knowledge Base\n",
    "7. Knowledge Base data source\n",
    "\n",
    "This might take a few minutes, so have a break!"
   ]
  },
  {
   "cell_type": "code",
   "execution_count": null,
   "id": "efaeec57-ef8e-48f1-839e-922250db2f78",
   "metadata": {},
   "outputs": [],
   "source": [
    "knowledge_base_name = \"mortgage-agent-kb\"\n",
    "\n",
    "knowledge_base_description = \"KB containing information on mortgages\""
   ]
  },
  {
   "cell_type": "code",
   "execution_count": null,
   "id": "037d2c4e-9906-4a4d-8188-d22c65448460",
   "metadata": {},
   "outputs": [],
   "source": [
    "%%time\n",
    "kb_id, ds_id = kb.create_or_retrieve_knowledge_base(\n",
    "    knowledge_base_name,\n",
    "    knowledge_base_description,\n",
    "    bucket_name\n",
    ")\n",
    "\n",
    "print(f\"Knowledge Base ID: {kb_id}\")\n",
    "print(f\"Data Source ID: {ds_id}\")\n"
   ]
  },
  {
   "cell_type": "code",
   "execution_count": null,
   "id": "4cfe1661-5d26-42fd-bae1-4878e03f33b0",
   "metadata": {},
   "outputs": [],
   "source": []
  },
  {
   "cell_type": "markdown",
   "id": "707b2060-eb80-477e-a274-3ac2578781cc",
   "metadata": {},
   "source": [
    "Now that we have created a knowledge base, let's populate it with some mortgage knowledge. For this workshop we have two comprehensive articles from Investopedia.com for illustrative purposes.\n",
    "\n",
    "The Knowledge Base data source expects the data to be available on the S3 bucket connected to it and changes on the data can be syncronized to the knowledge base using the Ingest API call.  Lets upload the files to the s3 bucket"
   ]
  },
  {
   "cell_type": "code",
   "execution_count": null,
   "id": "b063a522",
   "metadata": {},
   "outputs": [],
   "source": [
    "# function to upload to S3 bucket\n",
    "import boto3\n",
    "\n",
    "def upload_file_to_s3(file_path, bucket_name, object_key=None):\n",
    "    \"\"\"Upload a file to S3 bucket\"\"\"\n",
    "    s3_client = boto3.client('s3')\n",
    "    \n",
    "    # Check if bucket exists, create if not\n",
    "    existing_buckets = [bucket['Name'] for bucket in s3_client.list_buckets()['Buckets']]\n",
    "    if bucket_name not in existing_buckets:\n",
    "        s3_client.create_bucket(Bucket=bucket_name)\n",
    "    \n",
    "    if object_key is None:\n",
    "        object_key = file_path.split('/')[-1]\n",
    "    \n",
    "    s3_client.upload_file(file_path, bucket_name, object_key)\n",
    "    return f\"s3://{bucket_name}/{object_key}\"\n"
   ]
  },
  {
   "cell_type": "code",
   "execution_count": null,
   "id": "5b2d04e4-d95e-47d4-8be8-d7399c4d4bd7",
   "metadata": {},
   "outputs": [],
   "source": [
    "upload_file_to_s3(\"mortgage_dataset/15-Year vs. 30-Year Mortgage What's the Difference .html\", bucket_name,\"15-Year vs. 30-Year Mortgage What's the Difference .html\")"
   ]
  },
  {
   "cell_type": "code",
   "execution_count": null,
   "id": "16c89668-293c-4ddf-ac58-6c9c901c73a7",
   "metadata": {},
   "outputs": [],
   "source": [
    "upload_file_to_s3(\"mortgage_dataset/Mortgage Refinancing When Does It Make Sense .html\", bucket_name,\"Mortgage Refinancing When Does It Make Sense .html\")"
   ]
  },
  {
   "cell_type": "markdown",
   "id": "49496fd1-de36-431e-a7d5-12852844ba03",
   "metadata": {},
   "source": [
    "Now we ingest the documents, which chunks the source documents and stores an embedding for each chunk into the underying knowledge base vector store. For a simple example, this ingestion takes a couple minutes."
   ]
  },
  {
   "cell_type": "code",
   "execution_count": null,
   "id": "870811ef-78f1-41f3-9e8e-0ac0c9462db8",
   "metadata": {},
   "outputs": [],
   "source": [
    "%%time\n",
    "# Start an ingestion job to synchronize data\n",
    "kb.synchronize_data(kb_id, ds_id)\n",
    "print('KB synchronization completed\\n')"
   ]
  },
  {
   "cell_type": "markdown",
   "id": "05a1b88c-e49c-419f-adb9-945e9eb6f5f3",
   "metadata": {},
   "source": [
    "### Test the Knowledge Base\n",
    "Now the Knowledge Base is available we can test it out using the [**retrieve**](https://boto3.amazonaws.com/v1/documentation/api/latest/reference/services/bedrock-agent-runtime/client/retrieve.html) and [**retrieve_and_generate**](https://boto3.amazonaws.com/v1/documentation/api/latest/reference/services/bedrock-agent-runtime/client/retrieve_and_generate.html) functions. \n",
    "\n",
    "#### Testing Knowledge Base with Retrieve and Generate API\n",
    "\n",
    "Let's first test the knowledge base using the retrieve and generate API. With this API, Bedrock takes care of retrieving the necessary references from the knowledge base and generating the final answer using a Bedrock LLM."
   ]
  },
  {
   "cell_type": "code",
   "execution_count": null,
   "id": "1c99ad63-2f09-46ff-9683-237fa7dffe4d",
   "metadata": {},
   "outputs": [],
   "source": [
    "response = bedrock_agent_runtime_client.retrieve_and_generate(\n",
    "    input={\n",
    "        \"text\": \"compare and contrast 15-year vs 30-year mortgage type\"\n",
    "    },\n",
    "    retrieveAndGenerateConfiguration={\n",
    "        \"type\": \"KNOWLEDGE_BASE\",\n",
    "        \"knowledgeBaseConfiguration\": {\n",
    "            'knowledgeBaseId': kb_id,\n",
    "            \"modelArn\": f\"arn:aws:bedrock:{region}::foundation-model/{agent_foundation_model[0]}\",\n",
    "            \"retrievalConfiguration\": {\n",
    "                \"vectorSearchConfiguration\": {\n",
    "                    \"numberOfResults\":5\n",
    "                } \n",
    "            }\n",
    "        }\n",
    "    }\n",
    ")\n",
    "\n",
    "print(response['output']['text'],end='\\n'*2)"
   ]
  },
  {
   "cell_type": "markdown",
   "id": "e22c732f-37ab-4bd7-92d3-34d01cdd848f",
   "metadata": {},
   "source": [
    "As you can see, with the retrieve and generate API we get the final response directly and we don't see the different sources used to generate this response. Let's now retrieve the source information from the knowledge base with the retrieve API.\n",
    "\n",
    "**Testing Knowledge Base with Retrieve API**\n",
    "\n",
    "If you need an extra layer of control, you can retrieve the chuncks that best match your query using the retrieve API. In this setup, we can configure the desired number of results and control the final answer with your own application logic. The API then provides you with the matching content, its S3 location, the similarity score and the chunk metadata."
   ]
  },
  {
   "cell_type": "code",
   "execution_count": null,
   "id": "4c913eb6-4d29-4479-8426-4e45f1660fb9",
   "metadata": {},
   "outputs": [],
   "source": [
    " response_ret = bedrock_agent_runtime_client.retrieve(\n",
    "    knowledgeBaseId=kb_id, \n",
    "    nextToken='string',\n",
    "    retrievalConfiguration={\n",
    "        \"vectorSearchConfiguration\": {\n",
    "            \"numberOfResults\":3,\n",
    "        } \n",
    "    },\n",
    "    retrievalQuery={\n",
    "        'text': 'What are the cons of a 15-year mortgage?'\n",
    "    }\n",
    ")\n",
    "\n",
    "def response_print(retrieve_resp):\n",
    "    #structure 'retrievalResults': list of contents. Each list has content, location, score, metadata\n",
    "    for num,chunk in enumerate(response_ret['retrievalResults'],1):\n",
    "        print('-----------------------------------------------------------------------------------------')\n",
    "        print(f'Chunk {num}: ',chunk['content']['text'],end='\\n'*2)\n",
    "        print(f'Chunk {num} Location: ',chunk['location'],end='\\n'*2)\n",
    "        print(f'Chunk {num} Score: ',chunk['score'],end='\\n'*2)\n",
    "        print(f'Chunk {num} Metadata: ',chunk['metadata'],end='\\n'*2)\n",
    "\n",
    "response_print(response_ret)"
   ]
  },
  {
   "cell_type": "markdown",
   "id": "cad86a15-cae7-4e7e-88ec-709dbdb22331",
   "metadata": {},
   "source": [
    "Store knowledge base ID and name for subsequent labs"
   ]
  },
  {
   "cell_type": "code",
   "execution_count": null,
   "id": "21df0402-27e0-490f-92fb-48e4e4fba39d",
   "metadata": {},
   "outputs": [],
   "source": [
    "%store kb_id\n",
    "%store knowledge_base_name"
   ]
  },
  {
   "cell_type": "markdown",
   "id": "9d2c515b",
   "metadata": {},
   "source": [
    "In this lab, we created a knowledge base that will be used by one of the agents to answers queries on mortgage. In the next lab, we will create two more agents that can achieve specific tasks. "
   ]
  }
 ],
 "metadata": {
  "kernelspec": {
   "display_name": "Python 3 (ipykernel)",
   "language": "python",
   "name": "python3"
  },
  "language_info": {
   "codemirror_mode": {
    "name": "ipython",
    "version": 3
   },
   "file_extension": ".py",
   "mimetype": "text/x-python",
   "name": "python",
   "nbconvert_exporter": "python",
   "pygments_lexer": "ipython3",
   "version": "3.12.7"
  }
 },
 "nbformat": 4,
 "nbformat_minor": 5
}
