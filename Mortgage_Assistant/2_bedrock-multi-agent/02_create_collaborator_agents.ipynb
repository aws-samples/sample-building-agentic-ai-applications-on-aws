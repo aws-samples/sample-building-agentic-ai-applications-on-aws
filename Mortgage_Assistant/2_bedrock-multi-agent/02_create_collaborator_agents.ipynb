{
 "cells": [
  {
   "cell_type": "markdown",
   "id": "f514d8cf-7525-4c73-b65a-9db5cf1c8ed4",
   "metadata": {},
   "source": [
    "In this lab we will be creating 2 additional agents. Similar to how we created a stand-alone agent in 1_bedrock-single-agent lab. \n",
    "\n",
    "**Collaborator agent 1** – Responsible for handling general mortgages.\n",
    "\n",
    "**Collaborator agent 2** – Responsible for handling existing questions."
   ]
  },
  {
   "cell_type": "markdown",
   "id": "c4c76f47",
   "metadata": {},
   "source": [
    "We start by importing the libraries  "
   ]
  },
  {
   "cell_type": "code",
   "execution_count": 81,
   "id": "de079de3-efb6-43bf-beff-cea056850a97",
   "metadata": {},
   "outputs": [],
   "source": [
    "import os\n",
    "import time\n",
    "import boto3\n",
    "import logging\n",
    "import botocore\n",
    "import json\n",
    "from textwrap import dedent\n",
    "import sys\n",
    "\n",
    "sys.path.insert(0, '..') \n",
    "\n",
    "sts_client = boto3.client('sts')\n",
    "session = boto3.session.Session()\n",
    "\n",
    "account_id = sts_client.get_caller_identity()[\"Account\"]\n",
    "region = session.region_name\n",
    "\n",
    "from src.utils.bedrock_agent import AgentsForAmazonBedrock\n",
    "from src.utils.secrets_helper import SecretsHelper\n",
    "secrets_helper = SecretsHelper(region_name=region)"
   ]
  },
  {
   "cell_type": "markdown",
   "id": "cb05d713",
   "metadata": {},
   "source": [
    "We use Anthropic Claude 3.5 Haiku model for this lab"
   ]
  },
  {
   "cell_type": "code",
   "execution_count": null,
   "id": "2e79386b-d639-4894-96d1-cb5180e2fc73",
   "metadata": {},
   "outputs": [],
   "source": [
    "agent_foundation_model = [\"anthropic.claude-3-5-haiku-20241022-v1:0\"]"
   ]
  },
  {
   "cell_type": "markdown",
   "id": "91bcba73",
   "metadata": {},
   "source": [
    "Get the knowledge base ID that we stored in the previous lab"
   ]
  },
  {
   "cell_type": "code",
   "execution_count": 83,
   "id": "79ca1809-e3c8-410f-be9f-3cf82ce73a6a",
   "metadata": {},
   "outputs": [
    {
     "name": "stdout",
     "output_type": "stream",
     "text": [
      "KnowledgeBase ID: QJSWAYMHS5, Name: general-mortgage-kb\n"
     ]
    }
   ],
   "source": [
    "%store -r kb_id\n",
    "%store -r kb_name\n",
    "print(f\"KnowledgeBase ID: {kb_id}, Name: {kb_name}\")"
   ]
  },
  {
   "cell_type": "markdown",
   "id": "beafeb16-fe5f-4250-ae61-9431e794ab94",
   "metadata": {},
   "source": [
    "### 1. Create the agent for general mortgage questions.\n",
    "\n",
    "We will use the helper Agent class which provides methods for creating, configuring, and invoking individual Agents, including\n",
    "associating them with Guardrails, Knowledge Bases, and Tools.\n",
    "\n",
    "For this Agent we will also associate our Knowledge base created earlier. "
   ]
  },
  {
   "cell_type": "code",
   "execution_count": 84,
   "id": "4b0fd7ec-b040-4621-b934-3d1f7dd20d2d",
   "metadata": {},
   "outputs": [],
   "source": [
    "general_mortgage_questions_agent_name = \"general_mortgage_questions_agent\"\n",
    "\n",
    "general_mortgage_questions_agent_role_name = f'AmazonBedrockExecutionRoleForAgents_{general_mortgage_questions_agent_name}'\n",
    "\n",
    "knowledge_base_name = kb_name"
   ]
  },
  {
   "cell_type": "code",
   "execution_count": 85,
   "id": "3e2905c0-4977-4189-b2b7-7fe677cd6aef",
   "metadata": {},
   "outputs": [],
   "source": [
    "agent_description = \"\"\"Handle conversations about general mortgage questions.\"\"\"\n",
    "\n",
    "agent_instruction = \"\"\"\n",
    "Instructions:\n",
    "You are a mortgage bot, and can answer questions about mortgage refinancing and tradeoffs of mortgage types.\n",
    "Handle conversations about general mortgage questions,like high level concepts of refinincing or tradeoffs of 15-year vs 30-year terms.\n",
    "Use this knowledge base to answer general questions about mortgages.\n",
    "\n",
    "Core behaviors:\n",
    "1. Always use available information systems before asking customers for additional details\n",
    "2. Maintain a professional yet conversational tone\n",
    "3. Provide clear, direct answers without referencing internal systems or data sources\n",
    "4. Present information in an easy-to-understand manner\n",
    "5. Use code generation and interpretation capabilities for any on the fly calculation. DO NOT try to calculate things by yourself\n",
    "6. Final response should not include your internal thought process\n",
    "\n",
    "Response style:\n",
    "- Be helpful and solution-oriented\n",
    "- Use clear, non-technical language\n",
    "- Focus on providing actionable insights\n",
    "- Maintain natural conversation flow\n",
    "- Be concise yet informative \n",
    "- do not add extra information not required by the user\"\"\""
   ]
  },
  {
   "cell_type": "code",
   "execution_count": 86,
   "id": "30d4b987-528a-4d24-bd24-74b27003c35b",
   "metadata": {},
   "outputs": [
    {
     "name": "stdout",
     "output_type": "stream",
     "text": [
      "Agent created with ID:  MKNBONLKO3\n"
     ]
    }
   ],
   "source": [
    "agents = AgentsForAmazonBedrock()\n",
    "\n",
    "general_mortgage_questions_agent = agents.create_agent(\n",
    "    general_mortgage_questions_agent_name,\n",
    "    agent_description,\n",
    "    agent_instruction,\n",
    "    agent_foundation_model\n",
    ")\n",
    "\n",
    "general_mortgage_questions_agent_id = general_mortgage_questions_agent[0]\n",
    "\n",
    "print(\"Agent created with ID: \",general_mortgage_questions_agent_id)"
   ]
  },
  {
   "cell_type": "markdown",
   "id": "d7c21d2d-f077-4dbf-b648-a0cb4bb95c36",
   "metadata": {},
   "source": [
    "**Associate knowledge base**\n",
    "\n",
    "Now that we've created the agent, let's associate the previously created knowledge base to it."
   ]
  },
  {
   "cell_type": "code",
   "execution_count": 87,
   "id": "b10552e1-6005-4ab4-b8dc-7eb9e8fcb753",
   "metadata": {},
   "outputs": [],
   "source": [
    "kb_config = {\n",
    "    'kb_id': kb_id,\n",
    "    'kb_instruction': \"\"\"Access this knowledge base to answer general questions about mortgages, like how to refinance, or the difference between 15-year and 30-year mortgages.\"\"\"\n",
    "}"
   ]
  },
  {
   "cell_type": "code",
   "execution_count": 88,
   "id": "fce7ecea-3c09-4528-943b-d4174cbf808e",
   "metadata": {},
   "outputs": [
    {
     "name": "stdout",
     "output_type": "stream",
     "text": [
      "Waiting for agent status to change. Current status CREATING\n",
      "Agent id MKNBONLKO3 current status: NOT_PREPARED\n"
     ]
    }
   ],
   "source": [
    "agents.associate_kb_with_agent(\n",
    "    general_mortgage_questions_agent_id,\n",
    "    kb_config['kb_instruction'],\n",
    "    kb_config['kb_id']\n",
    ")"
   ]
  },
  {
   "cell_type": "markdown",
   "id": "aec07509-2dc4-4607-8236-291967452cbc",
   "metadata": {},
   "source": [
    "#### Test the agent"
   ]
  },
  {
   "cell_type": "code",
   "execution_count": 89,
   "id": "727e0cdc-3acf-4f17-aa65-4a4289c8f1da",
   "metadata": {},
   "outputs": [
    {
     "name": "stdout",
     "output_type": "stream",
     "text": [
      "invokeAgent API request ID: 2ce68b0f-9d4c-4d41-8238-bb4a5d78d0b0\n",
      "invokeAgent API session ID: 13d67fe6-58b5-11f0-834f-1f337d4758b2\n",
      "\u001b[32m---- Step 1 ----\u001b[0m\n",
      "\u001b[33mTook 9.0s, using 3628 tokens (in: 3211, out: 417) to complete prior action, observe, orchestrate.\u001b[0m\n",
      "\u001b[36mFinal response:\n",
      "Refinancing can offer several key benefits. The primary reasons to refinance include lowering your interest rate, which can save you money and reduce your monthly mortgage payment. A good rule of thumb is to refinance if you can reduce your interest rate by at least 1-2%. For example, lowering a 5.5...\u001b[0m\n",
      "got 3 citations \n",
      "\n",
      "\u001b[33mAgent made a total of 1 LLM calls, using 3628 tokens (in: 3211, out: 417), and took 10.2 total seconds\u001b[0m\n",
      "====================\n",
      "Refinancing can offer several key benefits. The primary reasons to refinance include lowering your interest rate, which can save you money and reduce your monthly mortgage payment. A good rule of thumb is to refinance if you can reduce your interest rate by at least 1-2%. For example, lowering a 5.5% rate to 4.1% on a $100,000 home could reduce your monthly payment from $568 to $477. \n",
      "Another benefit is the ability to shorten your loan term without significantly increasing your monthly payment. In some cases, you can cut a 30-year mortgage to 15 years with only a minimal increase in monthly payments. Additionally, refinancing allows you to switch between adjustable-rate and fixed-rate mortgages, which can be advantageous depending on current interest rates and how long you plan to stay in your home. \n",
      "However, be cautious about refinancing to tap into home equity or consolidate debt. While it might seem attractive, this approach can lead to extended mortgage terms and potential financial risks. Refinancing comes with costs (3-6% of the loan's principal) and should only be done after carefully considering your long-term financial situation and goals [s3://mac-workshop-us-east-1-768823319428/Mortgage Refinancing When Does It Make Sense .html] . \n",
      "Another benefit is the ability to shorten your loan term without significantly increasing your monthly payment. In some cases, you can cut a 30-year mortgage to 15 years with only a minimal increase in monthly payments. Additionally, refinancing allows you to switch between adjustable-rate and fixed-rate mortgages, which can be advantageous depending on current interest rates and how long you plan to stay in your home. [s3://mac-workshop-us-east-1-768823319428/Mortgage Refinancing When Does It Make Sense .html] e. \n",
      "However, be cautious about refinancing to tap into home equity or consolidate debt. While it might seem attractive, this approach can lead to extended mortgage terms and potential financial risks. Refinancing comes with costs (3-6% of the loan's principal) and should only be done after carefully considering your long-term financial situation and goals [s3://mac-workshop-us-east-1-768823319428/Mortgage Refinancing When Does It Make Sense .html] \n"
     ]
    }
   ],
   "source": [
    "response = agents.invoke(\n",
    "    \"\"\"Hi, What is the benefit of refinancing, if any?\"\"\", \n",
    "    general_mortgage_questions_agent_id, enable_trace=True\n",
    ")\n",
    "print(\"====================\")\n",
    "print(response)"
   ]
  },
  {
   "cell_type": "markdown",
   "id": "21bf30f4-cacb-42a9-ad3f-27af0f599865",
   "metadata": {},
   "source": [
    "create Alias "
   ]
  },
  {
   "cell_type": "code",
   "execution_count": 90,
   "id": "20b9c2bd-eddd-4932-b64a-a06b99e0296e",
   "metadata": {},
   "outputs": [],
   "source": [
    "general_mortgage_questions_agent_alias_id, general_mortgage_questions_agent_alias_arn = agents.create_agent_alias(\n",
    "    general_mortgage_questions_agent_id, 'general_mortgage_questions_agent_a'\n",
    ")"
   ]
  },
  {
   "cell_type": "code",
   "execution_count": null,
   "id": "b2420cd5-b4f3-4413-a578-a9164c069630",
   "metadata": {},
   "outputs": [],
   "source": []
  },
  {
   "cell_type": "markdown",
   "id": "29dfc671-b48b-4871-b563-75f4904448fc",
   "metadata": {},
   "source": [
    "### 2. Create the agent for existing mortgage questions.\n",
    "\n",
    "In this section we will create an agent that answers questions on existing mortgage. In a real setting, the agent will make an API call to your mortgage application by passing in the customer id. For this lab, we will create a function but instead of making an API call, hard code the response.  \n",
    "\n",
    "\n",
    "These are the steps to complete:\n",
    "    \n",
    "1. Create the new agent (with the helper function taking care of IAM role creation)\n",
    "2. Add an action group backed by a new Lambda function (with the helper function handling IAM role creation, Lambda function creation, adding the action group to the agent, and preparing the agent)"
   ]
  },
  {
   "cell_type": "code",
   "execution_count": 91,
   "id": "303a2052-e534-4042-b7bb-c02edce3b9a5",
   "metadata": {},
   "outputs": [],
   "source": [
    "existing_mortgage_agent_name = \"existing_mortgage_agent\"\n",
    "\n",
    "existing_mortgage_agent_lambda_name = \"fn_existing_mortgage_agent\"\n",
    "\n",
    "existing_mortgage_agent_role_name = f'AmazonBedrockExecutionRoleForAgents_{existing_mortgage_agent_name}'"
   ]
  },
  {
   "cell_type": "code",
   "execution_count": 92,
   "id": "ed055214-6130-412a-8a30-72558d68ea52",
   "metadata": {},
   "outputs": [],
   "source": [
    "agent_description = \"\"\"Handle conversations about existing mortgage accounts.\"\"\"\n",
    "\n",
    "agent_instruction = \"\"\"\n",
    "Instructions: \n",
    "You are a mortgage bot, you greet the customer first and then you can retrieve the latest details about an existing mortgage on behalf of customers.\n",
    "When starting a new session, give them a friendly greeting using their preferred name if you already have it.\n",
    "never ask the user for information that you already can retrieve yourself through available actions. for example, you have actions to retrieve details about the \n",
    "existing mortgage (interest rate, balance, number of payments, mortgage maturity date, last payment date, next payment date, etc.). \n",
    "do not engage with users about topics other than an existing mortgage and greetings. \n",
    "leave those other topics for other experts to handle. \n",
    "for example, do not respond to general questions about mortgages. However, respond to the greeting by another greeting.\n",
    "\n",
    "Core behaviors:\n",
    "1. Always use available information systems before asking customers for additional details\n",
    "2. Maintain a professional yet conversational tone\n",
    "3. Provide clear, direct answers without referencing internal systems or data sources\n",
    "4. Present information in an easy-to-understand manner\n",
    "5. Use code generation and interpretation capabilities for any on the fly calculation. DO NOT try to calculate things by yourself\n",
    "6. Final response should not include your internal thought process\n",
    "\n",
    "\n",
    "Response style:\n",
    "- Be helpful and solution-oriented\n",
    "- Use clear, non-technical language\n",
    "- Focus on providing actionable insights\n",
    "- Maintain natural conversation flow\n",
    "- Be concise yet informative \n",
    "- do not add extra information not required by the user\"\"\""
   ]
  },
  {
   "cell_type": "code",
   "execution_count": 93,
   "id": "368e7578-019d-4ef0-ac13-aa280e30d3db",
   "metadata": {},
   "outputs": [
    {
     "name": "stdout",
     "output_type": "stream",
     "text": [
      "Waiting for agent status to change. Current status CREATING\n",
      "Agent id USRRXUFKZF current status: NOT_PREPARED\n",
      "Agent created with ID:  USRRXUFKZF\n"
     ]
    }
   ],
   "source": [
    "agents = AgentsForAmazonBedrock()\n",
    "\n",
    "existing_mortgage_agent = agents.create_agent(\n",
    "    existing_mortgage_agent_name,\n",
    "    agent_description,\n",
    "    agent_instruction,\n",
    "    agent_foundation_model,\n",
    "    code_interpretation=True\n",
    ")\n",
    "\n",
    "existing_mortgage_agent_id = existing_mortgage_agent[0]\n",
    "\n",
    "print(\"Agent created with ID: \",existing_mortgage_agent_id)"
   ]
  },
  {
   "cell_type": "code",
   "execution_count": null,
   "id": "fa64e436-42f7-4954-b88a-2e5b0260d134",
   "metadata": {},
   "outputs": [],
   "source": []
  },
  {
   "cell_type": "markdown",
   "id": "e48af584-57c5-4450-bb37-097823a37f12",
   "metadata": {},
   "source": [
    "#### Create the Lambda function code\n",
    "Here we create a source code file for a new Lambda function to implement the action group for our Existing Mortgage agent. Notice the **TODO** section in the code below. In this example we have hardcoded the response back from the agent but in your environment this is where your business logic would reside. "
   ]
  },
  {
   "cell_type": "code",
   "execution_count": 94,
   "id": "0707a3b5-94a9-43c3-ac0d-9385257b6d37",
   "metadata": {},
   "outputs": [
    {
     "name": "stdout",
     "output_type": "stream",
     "text": [
      "Overwriting existing_mortgage_agent_function.py\n"
     ]
    }
   ],
   "source": [
    "%%writefile existing_mortgage_agent_function.py\n",
    "import json\n",
    "\n",
    "def get_named_parameter(event, name):\n",
    "    return next(item for item in event['parameters'] if item['name'] == name)['value']\n",
    "    \n",
    "def populate_function_response(event, response_body):\n",
    "    return {'response': {'actionGroup': event['actionGroup'], 'function': event['function'],\n",
    "                'functionResponse': {'responseBody': {'TEXT': {'body': str(response_body)}}}}}\n",
    "\n",
    "def get_mortgage_details(customer_id):\n",
    "    # TODO: Implement real business logic to retrieve mortgage status\n",
    "    return {\n",
    "        \"account_number\": customer_id,\n",
    "        \"outstanding_principal\": 150000.0,\n",
    "        \"interest_rate\": 4.5,\n",
    "        \"maturity_date\": \"2030-06-30\",\n",
    "        \"payments_remaining\": 72,\n",
    "        \"last_payment_date\": \"2024-06-01\",\n",
    "        \"next_payment_due\": \"2024-07-01\",\n",
    "        \"next_payment_amount\": 1250.0\n",
    "    }\n",
    "\n",
    "def lambda_handler(event, context):\n",
    "    print(event)\n",
    "    function = event['function']\n",
    "    if function == 'get_mortgage_details':\n",
    "        customer_id = get_named_parameter(event, 'customer_id')\n",
    "        if not customer_id:\n",
    "            raise Exception(\"Missing mandatory parameter: customer_id\")\n",
    "        result = get_mortgage_details(customer_id)\n",
    "    else:\n",
    "        result = f\"Error, function '{function}' not recognized\"\n",
    "\n",
    "    response = populate_function_response(event, result)\n",
    "    print(response)\n",
    "    return response"
   ]
  },
  {
   "cell_type": "markdown",
   "id": "bcf3fe9b-bd44-4aba-8f37-20512c63f3af",
   "metadata": {},
   "source": [
    "Define available actions"
   ]
  },
  {
   "cell_type": "code",
   "execution_count": 95,
   "id": "f5d0896b-88e1-4c50-b42c-5bc7e7831b18",
   "metadata": {},
   "outputs": [],
   "source": [
    "functions_def=[\n",
    "        {\n",
    "            \"name\": \"get_mortgage_details\",\n",
    "            \"description\": dedent(\"\"\"\n",
    "Retrieves the mortgage status for a given customer ID. Returns an object containing \n",
    "details like the account number, \n",
    "outstanding principal, interest rate, maturity date, number of payments remaining, due date of next payment, \n",
    "and amount of next payment. If customer_id is not passed, function implementation\n",
    "can retrieve it from session state instead.\"\"\"),\n",
    "            \"parameters\": {\n",
    "                \"customer_id\": {\n",
    "                    \"description\": \"[optional] The unique identifier for the customer whose mortgage status is being requested.\",\n",
    "                    \"type\": \"string\",\n",
    "                    \"required\": False\n",
    "                }\n",
    "            }\n",
    "        }\n",
    "    ]"
   ]
  },
  {
   "cell_type": "markdown",
   "id": "b80d1c5e-5d44-4700-b71a-3746ec76142c",
   "metadata": {},
   "source": [
    "Add the Lambda function and the function details as an action group for this agent and prepare it."
   ]
  },
  {
   "cell_type": "code",
   "execution_count": 97,
   "id": "26c40d0a-5991-4da4-a7a9-5bb5603202e2",
   "metadata": {},
   "outputs": [],
   "source": [
    "agents.add_action_group_with_lambda(\n",
    "    agent_name=existing_mortgage_agent_name,\n",
    "    lambda_function_name=existing_mortgage_agent_lambda_name,\n",
    "    source_code_file=\"existing_mortgage_agent_function.py\",\n",
    "    agent_functions=functions_def,\n",
    "    agent_action_group_name=\"existing_mortgage_actions\",\n",
    "    agent_action_group_description=\"Function to manage existing applications for a user \"\n",
    ")"
   ]
  },
  {
   "cell_type": "code",
   "execution_count": null,
   "id": "13204caf-acfe-441c-b114-69112583e803",
   "metadata": {},
   "outputs": [],
   "source": [
    "#test\n",
    "\n",
    "response = agents.invoke(\n",
    "    \"\"\"Hi, I'm customer 98991. when's my next payment due?\"\"\", \n",
    "    existing_mortgage_agent_id, enable_trace=False\n",
    ")\n",
    "print(\"====================\")\n",
    "print(response)"
   ]
  },
  {
   "cell_type": "markdown",
   "id": "8f310b21-8b85-4a90-908c-89353c22e094",
   "metadata": {},
   "source": [
    "Create Alias"
   ]
  },
  {
   "cell_type": "code",
   "execution_count": 99,
   "id": "0d67d01f-2656-4d5f-8786-6341b07e0dea",
   "metadata": {},
   "outputs": [],
   "source": [
    "existing_mortgage_agent_alias_id, existing_mortgage_agent_alias_arn = agents.create_agent_alias(\n",
    "    existing_mortgage_agent_id, 'existing_mortgage_agent_a'\n",
    ")"
   ]
  },
  {
   "cell_type": "code",
   "execution_count": null,
   "id": "d440099b-783f-4cf5-befc-4ab52e5b85cc",
   "metadata": {},
   "outputs": [],
   "source": []
  },
  {
   "cell_type": "markdown",
   "id": "ab9a4753",
   "metadata": {},
   "source": [
    "Store the details of the two agents that we created"
   ]
  },
  {
   "cell_type": "code",
   "execution_count": 100,
   "id": "67eca37c-fca2-4cfa-a153-ddfea69cac7b",
   "metadata": {},
   "outputs": [
    {
     "name": "stdout",
     "output_type": "stream",
     "text": [
      "Existing secret key/value pairs:\n",
      "  mortgage_application_agent_id: PAOWUWJQ46\n",
      "  mortgage_application_agent_alias: PP9QKFOAV7\n",
      "  general_mortgage_questions_id: ['5N0YKUPWML', 'TSTALIASID', 'arn:aws:bedrock:us-east-1:768823319428:agent-alias/5N0YKUPWML/TSTALIASID']\n",
      "  general_mortgage_questions_alias: 4BLBUDVF4I\n",
      "  existing_mortgage_assistant_id: GD1QFSNHMX\n",
      "  existing_mortgage_assistant_alias: RIOBNCVHTN\n",
      "  mortgages_assistant_id: IWEQ9YNKRV\n",
      "  mortgages_assistant_alias: NKR2XOXBPT\n",
      "Updating existing key 'general_mortgage_questions_id' in the secret.\n",
      "Successfully added/updated key 'general_mortgage_questions_id' in secret 'UI_agents_ID_alias'\n",
      "Existing secret key/value pairs:\n",
      "  mortgage_application_agent_id: PAOWUWJQ46\n",
      "  mortgage_application_agent_alias: PP9QKFOAV7\n",
      "  general_mortgage_questions_id: MKNBONLKO3\n",
      "  general_mortgage_questions_alias: 4BLBUDVF4I\n",
      "  existing_mortgage_assistant_id: GD1QFSNHMX\n",
      "  existing_mortgage_assistant_alias: RIOBNCVHTN\n",
      "  mortgages_assistant_id: IWEQ9YNKRV\n",
      "  mortgages_assistant_alias: NKR2XOXBPT\n",
      "Updating existing key 'general_mortgage_questions_alias' in the secret.\n",
      "Successfully added/updated key 'general_mortgage_questions_alias' in secret 'UI_agents_ID_alias'\n",
      "Existing secret key/value pairs:\n",
      "  mortgage_application_agent_id: PAOWUWJQ46\n",
      "  mortgage_application_agent_alias: PP9QKFOAV7\n",
      "  general_mortgage_questions_id: MKNBONLKO3\n",
      "  general_mortgage_questions_alias: CJWBSBCXNT\n",
      "  existing_mortgage_assistant_id: GD1QFSNHMX\n",
      "  existing_mortgage_assistant_alias: RIOBNCVHTN\n",
      "  mortgages_assistant_id: IWEQ9YNKRV\n",
      "  mortgages_assistant_alias: NKR2XOXBPT\n",
      "Updating existing key 'existing_mortgage_assistant_id' in the secret.\n",
      "Successfully added/updated key 'existing_mortgage_assistant_id' in secret 'UI_agents_ID_alias'\n",
      "Existing secret key/value pairs:\n",
      "  mortgage_application_agent_id: PAOWUWJQ46\n",
      "  mortgage_application_agent_alias: PP9QKFOAV7\n",
      "  general_mortgage_questions_id: MKNBONLKO3\n",
      "  general_mortgage_questions_alias: CJWBSBCXNT\n",
      "  existing_mortgage_assistant_id: USRRXUFKZF\n",
      "  existing_mortgage_assistant_alias: RIOBNCVHTN\n",
      "  mortgages_assistant_id: IWEQ9YNKRV\n",
      "  mortgages_assistant_alias: NKR2XOXBPT\n",
      "Updating existing key 'existing_mortgage_assistant_alias' in the secret.\n",
      "Successfully added/updated key 'existing_mortgage_assistant_alias' in secret 'UI_agents_ID_alias'\n"
     ]
    },
    {
     "data": {
      "text/plain": [
       "True"
      ]
     },
     "execution_count": 100,
     "metadata": {},
     "output_type": "execute_result"
    }
   ],
   "source": [
    "%store -r secret_name\n",
    "\n",
    "secrets_helper.manage_secret(\"general_mortgage_questions_id\", general_mortgage_questions_agent_id,secret_name)\n",
    "secrets_helper.manage_secret(\"general_mortgage_questions_alias\", general_mortgage_questions_agent_alias_id,secret_name)\n",
    "\n",
    "secrets_helper.manage_secret(\"existing_mortgage_assistant_id\", existing_mortgage_agent_id,secret_name)\n",
    "secrets_helper.manage_secret(\"existing_mortgage_assistant_alias\", existing_mortgage_agent_alias_id,secret_name)"
   ]
  },
  {
   "cell_type": "code",
   "execution_count": 101,
   "id": "02f55a04-956e-4c34-b840-ab5a29f36575",
   "metadata": {},
   "outputs": [
    {
     "name": "stdout",
     "output_type": "stream",
     "text": [
      "Stored 'general_mortgage_questions_agent_alias_arn' (str)\n",
      "Stored 'existing_mortgage_agent_alias_arn' (str)\n"
     ]
    }
   ],
   "source": [
    "%store general_mortgage_questions_agent_alias_arn\n",
    "%store existing_mortgage_agent_alias_arn"
   ]
  },
  {
   "cell_type": "markdown",
   "id": "acccdcb4",
   "metadata": {},
   "source": [
    "In the next lab, we will create an orchestrator that can route the request to the appropriate agent"
   ]
  },
  {
   "cell_type": "code",
   "execution_count": null,
   "id": "b7d5159a-3799-4132-87df-f3fe9a6c1a19",
   "metadata": {},
   "outputs": [],
   "source": []
  }
 ],
 "metadata": {
  "kernelspec": {
   "display_name": "Python 3 (ipykernel)",
   "language": "python",
   "name": "python3"
  },
  "language_info": {
   "codemirror_mode": {
    "name": "ipython",
    "version": 3
   },
   "file_extension": ".py",
   "mimetype": "text/x-python",
   "name": "python",
   "nbconvert_exporter": "python",
   "pygments_lexer": "ipython3",
   "version": "3.12.7"
  }
 },
 "nbformat": 4,
 "nbformat_minor": 5
}
